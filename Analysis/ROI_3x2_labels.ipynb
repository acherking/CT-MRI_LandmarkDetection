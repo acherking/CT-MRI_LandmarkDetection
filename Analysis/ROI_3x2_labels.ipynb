{
 "cells": [
  {
   "cell_type": "markdown",
   "source": [
    "## Check the labels based on k-cross validation, folds = 20"
   ],
   "metadata": {
    "collapsed": false
   },
   "id": "86dde95e744450ce"
  },
  {
   "cell_type": "markdown",
   "source": [
    "[[9, 3, 13, 16, 18, 14, 1, 7, 4, 11, 8, 12, 19, 10, 15, 2, 5], [6, 17], [0]]\n",
    "[[5, 7, 17, 10, 16, 13, 9, 4, 2, 6, 0, 12, 14, 15, 18, 11, 8], [3, 19], [1]]\n",
    "[[19, 13, 0, 8, 3, 9, 16, 6, 5, 11, 15, 10, 12, 14, 17, 1, 4], [18, 7], [2]]\n",
    "[[10, 16, 8, 6, 14, 1, 9, 18, 19, 13, 17, 12, 7, 4, 11, 5, 15], [2, 0], [3]]\n",
    "[[10, 15, 9, 1, 19, 11, 5, 17, 8, 2, 13, 18, 0, 12, 7, 3, 16], [14, 6], [4]]\n",
    "[[16, 14, 18, 0, 1, 17, 11, 8, 4, 10, 3, 2, 7, 12, 13, 15, 6], [9, 19], [5]]\n",
    "[[7, 11, 8, 10, 0, 1, 19, 3, 9, 16, 14, 18, 4, 13, 5, 17, 15], [2, 12], [6]]\n",
    "[[9, 19, 15, 13, 18, 17, 11, 6, 2, 14, 16, 3, 4, 12, 8, 5, 1], [0, 10], [7]]\n",
    "[[9, 10, 2, 18, 11, 1, 16, 12, 17, 7, 5, 15, 0, 14, 3, 4, 19], [13, 6], [8]]\n",
    "[[17, 10, 11, 12, 16, 14, 18, 2, 7, 3, 5, 8, 6, 13, 4, 15, 1], [0, 19], [9]]\n",
    "[[4, 18, 17, 16, 9, 11, 15, 1, 14, 13, 8, 6, 0, 2, 12, 5, 3], [19, 7], [10]]\n",
    "[[12, 14, 4, 7, 6, 10, 13, 17, 3, 19, 15, 5, 8, 18, 9, 16, 0], [2, 1], [11]]\n",
    "[[19, 7, 4, 9, 1, 0, 3, 5, 13, 14, 6, 16, 17, 2, 15, 18, 11], [10, 8], [12]]\n",
    "[[17, 9, 16, 4, 3, 11, 15, 5, 1, 2, 18, 10, 8, 12, 6, 7, 19], [14, 0], [13]]\n",
    "[[6, 0, 18, 10, 19, 4, 8, 3, 16, 2, 12, 1, 13, 17, 7, 11, 9], [15, 5], [14]]\n",
    "[[17, 19, 6, 13, 0, 7, 8, 11, 9, 14, 10, 2, 4, 5, 16, 12, 3], [1, 18], [15]]\n",
    "[[9, 18, 13, 10, 1, 5, 8, 6, 15, 17, 4, 19, 7, 14, 2, 12, 0], [11, 3], [16]]\n",
    "[[18, 19, 10, 9, 12, 7, 1, 14, 8, 15, 4, 5, 13, 0, 16, 2, 11], [3, 6], [17]]\n",
    "[[7, 19, 16, 13, 10, 11, 2, 5, 9, 1, 12, 15, 17, 6, 4, 0, 8], [14, 3], [18]]\n",
    "[[5, 12, 2, 0, 18, 3, 13, 17, 9, 11, 7, 16, 8, 1, 14, 6, 15], [10, 4], [19]]"
   ],
   "metadata": {
    "collapsed": false
   },
   "id": "d152cfa40bf4a73c"
  },
  {
   "cell_type": "code",
   "execution_count": 7,
   "source": [
    "import numpy as np\n",
    "import Functions.MyDataset as MyDataset\n",
    "\n",
    "def check_results(y_test_gt, y_test_pr, name):\n",
    "    err_diff = y_test_pr - y_test_gt\n",
    "    err_dis = np.power(np.sum(np.power(err_diff, 2), axis=(1, 2)), 1 / 2) * 0.15\n",
    "    \n",
    "    print(f\"************** Patient {name} ******************\")\n",
    "    \n",
    "    min_err_idx = np.argmin(err_dis, axis=0)\n",
    "    max_err_idx = np.argmax(err_dis, axis=0)\n",
    "    print(f\"Min[{min_err_idx}]: {err_dis[min_err_idx]}\")\n",
    "    print(f\"Max[{max_err_idx}]: {err_dis[max_err_idx]}\")\n",
    "    \n",
    "    mean_pat = np.mean(err_dis)\n",
    "    std_pat = np.std(err_dis)\n",
    "    print(f\"Mean: {mean_pat}\")\n",
    "    print(f\"Std: {std_pat}\")\n",
    "    print(f\"95.44% in: ({mean_pat - 2 * std_pat}, {mean_pat + 2 * std_pat})\")\n",
    "    \n",
    "    return name, err_dis[min_err_idx], err_dis[max_err_idx], mean_pat, std_pat\n",
    "\n",
    "def load_model_result(crop_size, data_tag, model_name):\n",
    "    base_dir = \"/Users/achs/PhD/code/CT-MRI_LandmarkDetection/Spartan/trained_models\"\n",
    "\n",
    "    names = MyDataset.get_pat_names()\n",
    "    results = []\n",
    "    for i in range(len(names)):\n",
    "        y_test_gt = np.load(\n",
    "            f\"{base_dir}/cropped_dataset/{model_name}/one_landmark/{crop_size}/{data_tag}/{i}/y_test_gt.npy\")\n",
    "        y_test_pr = np.load(\n",
    "            f\"{base_dir}/cropped_dataset/{model_name}/one_landmark/{crop_size}/{data_tag}/{i}/bestVal_{model_name}_cropped_{crop_size}_y_test.npy\")\n",
    "    \n",
    "        print(\"* Folds \", i)\n",
    "        r = check_results(y_test_gt, y_test_pr, names[i])\n",
    "        results.append(r)\n",
    "        \n",
    "    return results"
   ],
   "metadata": {
    "collapsed": false,
    "ExecuteTime": {
     "end_time": "2023-12-06T04:37:05.241064Z",
     "start_time": "2023-12-06T04:37:05.230452Z"
    }
   },
   "id": "a719a5ff6061706d",
   "outputs": []
  },
  {
   "cell_type": "code",
   "execution_count": 3,
   "source": [
    "val_crop_size = \"100x100x100\"\n",
    "val_data_tag = \"no_trans_50aug_6medium/20_cross_val\"\n",
    "val_model_name = \"straight_model\"\n",
    "\n",
    "results_val = load_model_result(val_crop_size, val_data_tag, val_model_name)"
   ],
   "metadata": {
    "collapsed": false,
    "ExecuteTime": {
     "end_time": "2023-12-06T04:30:43.034750Z",
     "start_time": "2023-12-06T04:30:42.983912Z"
    }
   },
   "id": "fb5daf8ed3f2574b",
   "outputs": []
  },
  {
   "cell_type": "code",
   "execution_count": 4,
   "source": [
    "noval_crop_size = \"100x100x100\"\n",
    "noval_data_tag = \"no_trans_50aug_6medium/20_cross\"\n",
    "noval_model_name = \"straight_model\"\n",
    "\n",
    "results_noval = load_model_result(noval_crop_size, noval_data_tag, noval_model_name)"
   ],
   "metadata": {
    "collapsed": false,
    "ExecuteTime": {
     "end_time": "2023-12-06T04:32:51.773096Z",
     "start_time": "2023-12-06T04:32:51.697682Z"
    }
   },
   "id": "838ccceb79793a1d",
   "outputs": []
  },
  {
   "cell_type": "code",
   "execution_count": 5,
   "source": [
    "aug100_crop_size = \"100x100x100\"\n",
    "aug100_data_tag = \"no_trans_100aug_6medium/20_cross\"\n",
    "aug100_model_name = \"straight_model\"\n",
    "\n",
    "results_noval_aug100 = load_model_result(aug100_crop_size, aug100_data_tag, aug100_model_name)"
   ],
   "metadata": {
    "collapsed": false,
    "ExecuteTime": {
     "end_time": "2023-12-06T04:33:50.605509Z",
     "start_time": "2023-12-06T04:33:50.553349Z"
    }
   },
   "id": "624ccc495497e46f",
   "outputs": []
  },
  {
   "cell_type": "code",
   "execution_count": 8,
   "source": [
    "aug100_crop_size = \"100x100x100\"\n",
    "aug100_data_tag = \"no_trans_100aug_6medium/20_cross\"\n",
    "aug100_model_name = \"straight_model_short\"\n",
    "\n",
    "results_straight_model_short = load_model_result(aug100_crop_size, aug100_data_tag, aug100_model_name)"
   ],
   "metadata": {
    "collapsed": false,
    "ExecuteTime": {
     "end_time": "2023-12-06T04:37:11.477808Z",
     "start_time": "2023-12-06T04:37:11.431788Z"
    }
   },
   "id": "555ac2d71ff7f7b2",
   "outputs": []
  },
  {
   "cell_type": "code",
   "execution_count": 9,
   "source": [
    "def Sort_Tuple(tup, idx):\n",
    "    \n",
    "    # reverse = None (Sorts in Ascending order) \n",
    "    # key is set to sort using second element of \n",
    "    # sublist lambda has been used \n",
    "    tup.sort(key = lambda x: x[idx])\n",
    "    return tup "
   ],
   "metadata": {
    "collapsed": false,
    "ExecuteTime": {
     "end_time": "2023-12-06T04:41:44.321692Z",
     "start_time": "2023-12-06T04:41:44.308331Z"
    }
   },
   "id": "eb81422217e91676",
   "outputs": []
  },
  {
   "cell_type": "code",
   "execution_count": 13,
   "source": [
    "Sort_Tuple(results_noval_aug100, 3)\n",
    "print(\"1/2 * pixel distance: \", 0.15/2)\n",
    "for t in results_noval_aug100:\n",
    "    print(t[0], t[3], t[4], f\"[{t[1]}, {t[2]}]\", )"
   ],
   "metadata": {
    "collapsed": false,
    "ExecuteTime": {
     "end_time": "2023-12-06T04:43:16.144854Z",
     "start_time": "2023-12-06T04:43:16.134175Z"
    }
   },
   "id": "860fb9ac7511043",
   "outputs": []
  },
  {
   "cell_type": "code",
   "execution_count": 12,
   "source": [
    "Sort_Tuple(results_straight_model_short, 3)\n",
    "print(\"1/2 * pixel distance: \", 0.15/2)\n",
    "for t in results_straight_model_short:\n",
    "    print(t[0], t[3], t[4], f\"[{t[1]}, {t[2]}]\", )"
   ],
   "metadata": {
    "collapsed": false,
    "ExecuteTime": {
     "end_time": "2023-12-06T04:43:04.807038Z",
     "start_time": "2023-12-06T04:43:04.793346Z"
    }
   },
   "id": "780a8db068462f5d",
   "outputs": []
  },
  {
   "cell_type": "code",
   "execution_count": null,
   "source": [],
   "metadata": {
    "collapsed": false
   },
   "id": "b721e3ff90a86c6b",
   "outputs": []
  }
 ],
 "metadata": {
  "kernelspec": {
   "display_name": "Python 3",
   "language": "python",
   "name": "python3"
  },
  "language_info": {
   "codemirror_mode": {
    "name": "ipython",
    "version": 2
   },
   "file_extension": ".py",
   "mimetype": "text/x-python",
   "name": "python",
   "nbconvert_exporter": "python",
   "pygments_lexer": "ipython2",
   "version": "2.7.6"
  }
 },
 "nbformat": 4,
 "nbformat_minor": 5
}
