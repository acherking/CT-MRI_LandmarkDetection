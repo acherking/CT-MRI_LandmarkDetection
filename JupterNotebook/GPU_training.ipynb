{
 "cells": [
  {
   "cell_type": "markdown",
   "source": [
    "# Try to use GPU to improve performance"
   ],
   "metadata": {
    "collapsed": false
   }
  },
  {
   "cell_type": "code",
   "execution_count": 1,
   "outputs": [
    {
     "name": "stdout",
     "output_type": "stream",
     "text": [
      "Num GPUs Available:  0\n"
     ]
    }
   ],
   "source": [
    "import tensorflow as tf\n",
    "\n",
    "print(\"Num GPUs Available: \", len(tf.config.list_physical_devices('GPU')))"
   ],
   "metadata": {
    "collapsed": false
   }
  },
  {
   "cell_type": "markdown",
   "source": [
    "## Load Data"
   ],
   "metadata": {
    "collapsed": false
   }
  },
  {
   "cell_type": "code",
   "execution_count": null,
   "outputs": [],
   "source": [
    "from os import listdir\n",
    "from os.path import isfile, join\n",
    "import numpy as np\n",
    "import h5py\n",
    "\n",
    "def load_mat_data(x_base_path, y_base_path):\n",
    "    # e.g. AZ_17017030_AugVol_1.mat\n",
    "    # x_base_path = \"/Volumes/Shawn_SSD/PhD/Project/Date/augmentation_from_matlab/Train/Input/\"\n",
    "    # e.g. AZ_17017030_AugPts_1.mat\n",
    "    # y_base_path = \"/Volumes/Shawn_SSD/PhD/Project/Date/augmentation_from_matlab/Train/Output/\"\n",
    "\n",
    "    x_files = [f for f in listdir(x_base_path) if isfile(join(x_base_path, f))]\n",
    "\n",
    "    x_dataset = []\n",
    "    y_dataset = []\n",
    "    for x_file in x_files:\n",
    "        x_file_path = join(x_base_path, x_file)\n",
    "        y_file_path = join(y_base_path, x_file.replace(\"AugVol\", \"AugPts\"))\n",
    "        file_vol = h5py.File(x_file_path, 'r')\n",
    "        file_pts = h5py.File(y_file_path, 'r')\n",
    "        load_mat_vol = file_vol.get('rescaled_aug_vol')\n",
    "        load_mat_pts = file_pts.get('rescaled_aug_pts')\n",
    "        x_dataset.append(np.array(load_mat_vol).T)\n",
    "        y_dataset.append(np.array(load_mat_pts).reshape(3,4).T)\n",
    "        file_vol.close()\n",
    "        file_pts.close()\n",
    "\n",
    "    return x_dataset, y_dataset"
   ],
   "metadata": {
    "collapsed": false
   }
  },
  {
   "cell_type": "code",
   "execution_count": null,
   "outputs": [],
   "source": [
    "# Set Data Path\n",
    "X_train_base_path = \"/data/gpfs/projects/punim1836/Data/augmentation_from_matlab/Train/Input/\"\n",
    "Y_train_base_path = \"/data/gpfs/projects/punim1836/Data/augmentation_from_matlab/Train/Output/\"\n",
    "X_val_base_path = \"/data/gpfs/projects/punim1836/Data/augmentation_from_matlab/Val/Input/\"\n",
    "Y_val_base_path = \"/data/gpfs/projects/punim1836/Data/augmentation_from_matlab/Val/Output/\"\n",
    "X_test_base_path = \"/data/gpfs/projects/punim1836/Data/augmentation_from_matlab/Test/Input/\"\n",
    "Y_test_base_path = \"/data/gpfs/projects/punim1836/Data/augmentation_from_matlab/Test/Output/\"\n",
    "\n",
    "X_train, Y_train = load_mat_data(X_train_base_path, Y_train_base_path)\n",
    "X_val, Y_val = load_mat_data(X_val_base_path, Y_val_base_path)\n",
    "X_test, Y_test = load_mat_data(X_test_base_path, Y_test_base_path)\n",
    "\n",
    "# Data shape validation\n",
    "print(\"X_train Shape: \", np.shape(X_train))\n",
    "print(\"Y_train Shape: \", np.shape(Y_train))\n",
    "\n",
    "print(\"X_val Shape: \", np.shape(X_val))\n",
    "print(\"Y_val Shape: \", np.shape(Y_val))\n",
    "\n",
    "print(\"X_test Shape: \", np.shape(X_test))\n",
    "print(\"Y_test Shape: \", np.shape(Y_test))\n",
    "\n",
    "# Reshape the data (data-size, row-size?, column-size?, slice-size, channel-size)\n",
    "X_train_reshape = np.asarray(X_train).reshape(650, 170, 170, 30, 1)\n",
    "Y_train_one = np.asarray(Y_train)[:, 0, :]\n",
    "\n",
    "X_val_reshape = np.asarray(X_val).reshape(100, 170, 170, 30, 1)\n",
    "Y_val_one = np.asarray(Y_val)[:, 0, :]\n",
    "\n",
    "X_test_reshape = np.asarray(X_test).reshape(200, 170, 170, 30, 1)\n",
    "Y_test_one = np.asarray(Y_test)[:, 0, :]\n",
    "\n",
    "print(\"X_train_reshape Shape: \", np.shape(X_train))\n",
    "print(\"Y_train_one Shape: \", np.shape(Y_train))\n",
    "\n",
    "print(\"X_val_reshape Shape: \", np.shape(X_val))\n",
    "print(\"Y_val_one Shape: \", np.shape(Y_val))\n",
    "\n",
    "print(\"X_test_reshape Shape: \", np.shape(X_test))\n",
    "print(\"Y_test_one Shape: \", np.shape(Y_test))"
   ],
   "metadata": {
    "collapsed": false
   }
  },
  {
   "cell_type": "code",
   "execution_count": null,
   "outputs": [],
   "source": [
    "import tensorflow as tf\n",
    "from tensorflow import keras\n",
    "\n",
    "train_dataset = tf.data.Dataset.from_tensor_slices((X_train_reshape, Y_train))\n",
    "train_dataset = train_dataset.shuffle(buffer_size=1400).batch(2)\n",
    "\n",
    "val_dataset = tf.data.Dataset.from_tensor_slices((X_val_reshape, Y_val))\n",
    "val_dataset = val_dataset.shuffle(buffer_size=200).batch(2)"
   ],
   "metadata": {
    "collapsed": false
   }
  }
 ],
 "metadata": {
  "kernelspec": {
   "display_name": "Python 3",
   "language": "python",
   "name": "python3"
  },
  "language_info": {
   "codemirror_mode": {
    "name": "ipython",
    "version": 2
   },
   "file_extension": ".py",
   "mimetype": "text/x-python",
   "name": "python",
   "nbconvert_exporter": "python",
   "pygments_lexer": "ipython2",
   "version": "2.7.6"
  }
 },
 "nbformat": 4,
 "nbformat_minor": 0
}
