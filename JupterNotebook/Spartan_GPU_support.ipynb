{
 "cells": [
  {
   "cell_type": "markdown",
   "source": [
    "# Process the data (combine them together)"
   ],
   "metadata": {
    "collapsed": false
   }
  },
  {
   "cell_type": "markdown",
   "source": [
    "## Check JH's augmentation data"
   ],
   "metadata": {
    "collapsed": false
   }
  },
  {
   "cell_type": "code",
   "execution_count": null,
   "outputs": [],
   "source": [
    "import importlib\n",
    "import functions\n",
    "\n",
    "JH_aug_mat_path = \"/Volumes/Shawn_SSD/PhD/Project/Date/Tmp/JH_Pre_Augmentation/original_augmentation_data/JH_aug_2.mat\"\n",
    "JH_reshape_vol_mat_path = \"/Volumes/Shawn_SSD/PhD/Project/Date/Tmp/JH_Pre_Augmentation/Train/Input/JH_17017030_AugVol_2.mat\"\n",
    "JH_reshape_pts_mat_path = \"/Volumes/Shawn_SSD/PhD/Project/Date/Tmp/JH_Pre_Augmentation/Train/Output/JH_17017030_AugPts_2.mat\"\n",
    "\n",
    "pixel_space = [0.15, 0.15, 0.15]\n",
    "\n",
    "importlib.reload(functions)\n",
    "\n",
    "JH_aug_volume, JH_aug_pts = functions.load_mat_data(JH_aug_mat_path)\n",
    "functions.show_pts(JH_aug_volume, JH_aug_pts, pixel_space)\n",
    "\n",
    "JH_aug_zoomed_volume, JH_aug_zoomed_pts = functions.load_mat_data(JH_reshape_vol_mat_path, JH_reshape_pts_mat_path)\n",
    "functions.show_pts(JH_aug_zoomed_volume, JH_aug_zoomed_pts, pixel_space)\n",
    "\n"
   ],
   "metadata": {
    "collapsed": false,
    "pycharm": {
     "is_executing": true
    }
   }
  },
  {
   "cell_type": "markdown",
   "source": [
    "## Combination"
   ],
   "metadata": {
    "collapsed": false
   }
  },
  {
   "cell_type": "code",
   "execution_count": null,
   "outputs": [],
   "source": [],
   "metadata": {
    "collapsed": false
   }
  }
 ],
 "metadata": {
  "kernelspec": {
   "display_name": "Python 3",
   "language": "python",
   "name": "python3"
  },
  "language_info": {
   "codemirror_mode": {
    "name": "ipython",
    "version": 2
   },
   "file_extension": ".py",
   "mimetype": "text/x-python",
   "name": "python",
   "nbconvert_exporter": "python",
   "pygments_lexer": "ipython2",
   "version": "2.7.6"
  }
 },
 "nbformat": 4,
 "nbformat_minor": 0
}
