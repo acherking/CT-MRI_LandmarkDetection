{
 "cells": [
  {
   "cell_type": "markdown",
   "source": [
    "# Process the data (combine them together)"
   ],
   "metadata": {
    "collapsed": false
   }
  },
  {
   "cell_type": "markdown",
   "source": [
    "## Check JH's augmentation data"
   ],
   "metadata": {
    "collapsed": false
   }
  },
  {
   "cell_type": "code",
   "execution_count": null,
   "outputs": [],
   "source": [
    "import importlib\n",
    "import functions\n",
    "\n",
    "JH_aug_mat_path = \"/Volumes/Shawn_SSD/PhD/Project/Date/Tmp/JH_Pre_Augmentation/original_augmentation_data/JH_aug_2.mat\"\n",
    "JH_reshape_vol_mat_path = \"/Volumes/Shawn_SSD/PhD/Project/Date/augmentation_from_matlab/Val/Input/FA_17017030_AugVol_2.mat\"\n",
    "JH_reshape_pts_mat_path = \"/Volumes/Shawn_SSD/PhD/Project/Date/augmentation_from_matlab/Val/Output/FA_17017030_AugPts_2.mat\"\n",
    "\n",
    "pixel_space = [0.15, 0.15, 0.15]\n",
    "\n",
    "importlib.reload(functions)\n",
    "\n",
    "# JH_aug_volume, JH_aug_pts = functions.load_mat_data(JH_aug_mat_path)\n",
    "# functions.show_pts(JH_aug_volume, JH_aug_pts, pixel_space)\n",
    "\n",
    "JH_aug_zoomed_volume, JH_aug_zoomed_pts = functions.load_mat_data(JH_reshape_vol_mat_path, JH_reshape_pts_mat_path)\n",
    "functions.show_pts(JH_aug_zoomed_volume, JH_aug_zoomed_pts, pixel_space)\n",
    "\n"
   ],
   "metadata": {
    "collapsed": false,
    "pycharm": {
     "is_executing": true
    }
   }
  },
  {
   "cell_type": "markdown",
   "source": [
    "## Combination"
   ],
   "metadata": {
    "collapsed": false
   }
  },
  {
   "cell_type": "code",
   "execution_count": null,
   "outputs": [],
   "source": [
    "import tensorflow as tf\n",
    "\n",
    "from os import listdir\n",
    "from os.path import isfile, join\n",
    "import numpy as np\n",
    "import h5py\n",
    "\n",
    "\n",
    "def load_mat_data(x_base_path, y_base_path):\n",
    "    # e.g. AZ_17017030_AugVol_1.mat\n",
    "    # x_base_path = \"/Volumes/Shawn_SSD/PhD/Project/Date/augmentation_from_matlab/Train/Input/\"\n",
    "    # e.g. AZ_17017030_AugPts_1.mat\n",
    "    # y_base_path = \"/Volumes/Shawn_SSD/PhD/Project/Date/augmentation_from_matlab/Train/Output/\"\n",
    "\n",
    "    x_files = [f for f in listdir(x_base_path) if isfile(join(x_base_path, f))]\n",
    "\n",
    "    x_dataset = []\n",
    "    y_dataset = []\n",
    "    for x_file in x_files:\n",
    "        x_file_path = join(x_base_path, x_file)\n",
    "        y_file_path = join(y_base_path, x_file.replace(\"AugVol\", \"AugPts\"))\n",
    "        file_vol = h5py.File(x_file_path, 'r')\n",
    "        file_pts = h5py.File(y_file_path, 'r')\n",
    "        load_mat_vol = file_vol.get('rescaled_aug_vol')\n",
    "        load_mat_pts = file_pts.get('rescaled_aug_pts')\n",
    "        x_dataset.append(np.array(load_mat_vol).T)\n",
    "        y_dataset.append(np.array(load_mat_pts).reshape(3, 4).T)\n",
    "        file_vol.close()\n",
    "        file_pts.close()\n",
    "\n",
    "    return x_dataset, y_dataset"
   ],
   "metadata": {
    "collapsed": false
   }
  },
  {
   "cell_type": "code",
   "execution_count": null,
   "outputs": [],
   "source": [
    "X_val_base_path = \"/Volumes/Shawn_SSD/PhD/Project/Date/augmentation_from_matlab/Val/Input\"\n",
    "Y_val_base_path = \"/Volumes/Shawn_SSD/PhD/Project/Date/augmentation_from_matlab/Val/Output\"\n",
    "\n",
    "X_val, Y_val = load_mat_data(X_val_base_path, Y_val_base_path)\n",
    "\n",
    "print(np.shape(X_val), (np.shape(Y_val)))"
   ],
   "metadata": {
    "collapsed": false
   }
  },
  {
   "cell_type": "code",
   "execution_count": null,
   "outputs": [],
   "source": [
    "X_val_save = np.asarray(X_val)\n",
    "Y_val_save = np.asarray(Y_val)\n",
    "\n",
    "X_val_file_path = \"X_val_data\"\n",
    "Y_val_file_path = \"Y_val_data\"\n",
    "\n",
    "np.save(X_val_file_path, X_val_save)\n",
    "np.save(Y_val_file_path, Y_val_save)\n"
   ],
   "metadata": {
    "collapsed": false
   }
  },
  {
   "cell_type": "code",
   "execution_count": null,
   "outputs": [],
   "source": [
    "X_val_file_path = \"X_val_data.npy\"\n",
    "Y_val_file_path = \"Y_val_data.npy\"\n",
    "\n",
    "X_val_load = np.load(X_val_file_path, allow_pickle=True)\n",
    "Y_val_load = np.load(Y_val_file_path, allow_pickle=True)\n",
    "\n",
    "functions.show_pts(X_val_load[1, :, :, :], Y_val_load[1, :, :], [0.15, 0.15, 0.15])"
   ],
   "metadata": {
    "collapsed": false
   }
  },
  {
   "cell_type": "code",
   "execution_count": null,
   "outputs": [],
   "source": [
    "print(np.shape(X_val_load[1, :, :, :]), np.shape(Y_val_load[1, :, :]))"
   ],
   "metadata": {
    "collapsed": false
   }
  },
  {
   "cell_type": "code",
   "execution_count": null,
   "outputs": [],
   "source": [],
   "metadata": {
    "collapsed": false
   }
  }
 ],
 "metadata": {
  "kernelspec": {
   "display_name": "Python 3",
   "language": "python",
   "name": "python3"
  },
  "language_info": {
   "codemirror_mode": {
    "name": "ipython",
    "version": 2
   },
   "file_extension": ".py",
   "mimetype": "text/x-python",
   "name": "python",
   "nbconvert_exporter": "python",
   "pygments_lexer": "ipython2",
   "version": "2.7.6"
  }
 },
 "nbformat": 4,
 "nbformat_minor": 0
}
