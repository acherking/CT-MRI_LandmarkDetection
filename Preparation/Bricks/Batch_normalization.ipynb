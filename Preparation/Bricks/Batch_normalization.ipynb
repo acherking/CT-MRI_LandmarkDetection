{
 "cells": [
  {
   "cell_type": "code",
   "execution_count": 28,
   "metadata": {
    "collapsed": true,
    "ExecuteTime": {
     "start_time": "2023-05-29T15:00:58.534017Z",
     "end_time": "2023-05-29T15:00:58.552235Z"
    }
   },
   "outputs": [],
   "source": [
    "import tensorflow as tf\n",
    "\n",
    "model = tf.keras.Sequential()\n",
    "#model.add(tf.keras.layers.Dense(16))\n",
    "model.add(tf.keras.layers.BatchNormalization())\n",
    "\n",
    "input_shape = (2,3,2)\n",
    "model_build = model.build(input_shape)"
   ]
  },
  {
   "cell_type": "code",
   "execution_count": 29,
   "outputs": [
    {
     "name": "stdout",
     "output_type": "stream",
     "text": [
      "Model: \"sequential_1\"\n",
      "_________________________________________________________________\n",
      " Layer (type)                Output Shape              Param #   \n",
      "=================================================================\n",
      " batch_normalization_1 (Batc  (2, 3, 2)                8         \n",
      " hNormalization)                                                 \n",
      "                                                                 \n",
      "=================================================================\n",
      "Total params: 8\n",
      "Trainable params: 4\n",
      "Non-trainable params: 4\n",
      "_________________________________________________________________\n"
     ]
    }
   ],
   "source": [
    "model.summary()"
   ],
   "metadata": {
    "collapsed": false,
    "ExecuteTime": {
     "start_time": "2023-05-29T15:00:59.573252Z",
     "end_time": "2023-05-29T15:00:59.582840Z"
    }
   }
  },
  {
   "cell_type": "code",
   "execution_count": 30,
   "outputs": [
    {
     "data": {
      "text/plain": "[<tf.Variable 'batch_normalization_1/gamma:0' shape=(2,) dtype=float32, numpy=array([1., 1.], dtype=float32)>,\n <tf.Variable 'batch_normalization_1/beta:0' shape=(2,) dtype=float32, numpy=array([0., 0.], dtype=float32)>,\n <tf.Variable 'batch_normalization_1/moving_mean:0' shape=(2,) dtype=float32, numpy=array([0., 0.], dtype=float32)>,\n <tf.Variable 'batch_normalization_1/moving_variance:0' shape=(2,) dtype=float32, numpy=array([1., 1.], dtype=float32)>]"
     },
     "execution_count": 30,
     "metadata": {},
     "output_type": "execute_result"
    }
   ],
   "source": [
    "model.weights"
   ],
   "metadata": {
    "collapsed": false,
    "ExecuteTime": {
     "start_time": "2023-05-29T15:01:01.162331Z",
     "end_time": "2023-05-29T15:01:01.168326Z"
    }
   }
  },
  {
   "cell_type": "code",
   "execution_count": 31,
   "outputs": [],
   "source": [
    "import numpy as np\n",
    "\n",
    "a2 = np.arange(2*3*2).reshape(2,3,2)\n",
    "\n",
    "b2= model(a2, training=True)"
   ],
   "metadata": {
    "collapsed": false,
    "ExecuteTime": {
     "start_time": "2023-05-29T15:02:41.925066Z",
     "end_time": "2023-05-29T15:02:41.933177Z"
    }
   }
  },
  {
   "cell_type": "code",
   "execution_count": 32,
   "outputs": [
    {
     "data": {
      "text/plain": "[<tf.Variable 'batch_normalization_1/gamma:0' shape=(2,) dtype=float32, numpy=array([1., 1.], dtype=float32)>,\n <tf.Variable 'batch_normalization_1/beta:0' shape=(2,) dtype=float32, numpy=array([0., 0.], dtype=float32)>,\n <tf.Variable 'batch_normalization_1/moving_mean:0' shape=(2,) dtype=float32, numpy=array([0.05, 0.06], dtype=float32)>,\n <tf.Variable 'batch_normalization_1/moving_variance:0' shape=(2,) dtype=float32, numpy=array([1.1066667, 1.1066667], dtype=float32)>]"
     },
     "execution_count": 32,
     "metadata": {},
     "output_type": "execute_result"
    }
   ],
   "source": [
    "model.weights"
   ],
   "metadata": {
    "collapsed": false,
    "ExecuteTime": {
     "start_time": "2023-05-29T15:02:44.138011Z",
     "end_time": "2023-05-29T15:02:44.142511Z"
    }
   }
  },
  {
   "cell_type": "code",
   "execution_count": 33,
   "outputs": [
    {
     "name": "stdout",
     "output_type": "stream",
     "text": [
      "[[[ 0  1]\n",
      "  [ 2  3]\n",
      "  [ 4  5]]\n",
      "\n",
      " [[ 6  7]\n",
      "  [ 8  9]\n",
      "  [10 11]]]\n",
      "tf.Tensor(\n",
      "[[[-1.4637873  -1.4637873 ]\n",
      "  [-0.8782724  -0.87827235]\n",
      "  [-0.2927575  -0.2927574 ]]\n",
      "\n",
      " [[ 0.2927574   0.2927574 ]\n",
      "  [ 0.8782723   0.8782724 ]\n",
      "  [ 1.4637873   1.4637872 ]]], shape=(2, 3, 2), dtype=float32)\n",
      "tf.Tensor(\n",
      "[[[-0.04750786  0.8931477 ]\n",
      "  [ 1.8528064   2.793462  ]\n",
      "  [ 3.753121    4.6937766 ]]\n",
      "\n",
      " [[ 5.653435    6.594091  ]\n",
      "  [ 7.5537496   8.494405  ]\n",
      "  [ 9.454063   10.394719  ]]], shape=(2, 3, 2), dtype=float32)\n"
     ]
    }
   ],
   "source": [
    "c2 = model(a2, training=False)\n",
    "print(a2)\n",
    "print(b2)\n",
    "print(c2)"
   ],
   "metadata": {
    "collapsed": false,
    "ExecuteTime": {
     "start_time": "2023-05-29T15:02:51.771954Z",
     "end_time": "2023-05-29T15:02:51.777054Z"
    }
   }
  },
  {
   "cell_type": "code",
   "execution_count": 6,
   "outputs": [
    {
     "name": "stdout",
     "output_type": "stream",
     "text": [
      "WARNING:tensorflow:No training configuration found in save file, so the model was *not* compiled. Compile it manually.\n"
     ]
    }
   ],
   "source": [
    "from tensorflow import keras\n",
    "\n",
    "model_path = \"/Users/achs/PhD/code/CT-MRI_LandmarkDetection/Spartan/trained_models/cropped_dataset/straight_model/one_landmark_res/bestVal_straight_model_cropped_150x150x100\"\n",
    "\n",
    "trained_model = keras.models.load_model(model_path)"
   ],
   "metadata": {
    "collapsed": false,
    "ExecuteTime": {
     "start_time": "2023-05-29T13:14:01.973451Z",
     "end_time": "2023-05-29T13:14:03.536840Z"
    }
   }
  },
  {
   "cell_type": "code",
   "execution_count": 8,
   "outputs": [
    {
     "name": "stdout",
     "output_type": "stream",
     "text": [
      "Model: \"straight-3d-cnn\"\n",
      "_________________________________________________________________\n",
      " Layer (type)                Output Shape              Param #   \n",
      "=================================================================\n",
      " input_1 (InputLayer)        [(None, 150, 150, 100, 1  0         \n",
      "                             )]                                  \n",
      "                                                                 \n",
      " conv3d (Conv3D)             (None, 150, 150, 100, 32  896       \n",
      "                             )                                   \n",
      "                                                                 \n",
      " batch_normalization (BatchN  (None, 150, 150, 100, 32  128      \n",
      " ormalization)               )                                   \n",
      "                                                                 \n",
      " re_lu (ReLU)                (None, 150, 150, 100, 32  0         \n",
      "                             )                                   \n",
      "                                                                 \n",
      " max_pooling3d (MaxPooling3D  (None, 75, 75, 50, 32)   0         \n",
      " )                                                               \n",
      "                                                                 \n",
      " conv3d_1 (Conv3D)           (None, 75, 75, 50, 64)    55360     \n",
      "                                                                 \n",
      " batch_normalization_1 (Batc  (None, 75, 75, 50, 64)   256       \n",
      " hNormalization)                                                 \n",
      "                                                                 \n",
      " re_lu_1 (ReLU)              (None, 75, 75, 50, 64)    0         \n",
      "                                                                 \n",
      " max_pooling3d_1 (MaxPooling  (None, 37, 37, 25, 64)   0         \n",
      " 3D)                                                             \n",
      "                                                                 \n",
      " conv3d_2 (Conv3D)           (None, 37, 37, 25, 128)   221312    \n",
      "                                                                 \n",
      " batch_normalization_2 (Batc  (None, 37, 37, 25, 128)  512       \n",
      " hNormalization)                                                 \n",
      "                                                                 \n",
      " re_lu_2 (ReLU)              (None, 37, 37, 25, 128)   0         \n",
      "                                                                 \n",
      " conv3d_3 (Conv3D)           (None, 37, 37, 25, 64)    221248    \n",
      "                                                                 \n",
      " batch_normalization_3 (Batc  (None, 37, 37, 25, 64)   256       \n",
      " hNormalization)                                                 \n",
      "                                                                 \n",
      " re_lu_3 (ReLU)              (None, 37, 37, 25, 64)    0         \n",
      "                                                                 \n",
      " conv3d_4 (Conv3D)           (None, 37, 37, 25, 128)   221312    \n",
      "                                                                 \n",
      " batch_normalization_4 (Batc  (None, 37, 37, 25, 128)  512       \n",
      " hNormalization)                                                 \n",
      "                                                                 \n",
      " re_lu_4 (ReLU)              (None, 37, 37, 25, 128)   0         \n",
      "                                                                 \n",
      " max_pooling3d_2 (MaxPooling  (None, 18, 18, 12, 128)  0         \n",
      " 3D)                                                             \n",
      "                                                                 \n",
      " conv3d_5 (Conv3D)           (None, 18, 18, 12, 256)   884992    \n",
      "                                                                 \n",
      " batch_normalization_5 (Batc  (None, 18, 18, 12, 256)  1024      \n",
      " hNormalization)                                                 \n",
      "                                                                 \n",
      " re_lu_5 (ReLU)              (None, 18, 18, 12, 256)   0         \n",
      "                                                                 \n",
      " conv3d_6 (Conv3D)           (None, 18, 18, 12, 128)   884864    \n",
      "                                                                 \n",
      " batch_normalization_6 (Batc  (None, 18, 18, 12, 128)  512       \n",
      " hNormalization)                                                 \n",
      "                                                                 \n",
      " re_lu_6 (ReLU)              (None, 18, 18, 12, 128)   0         \n",
      "                                                                 \n",
      " conv3d_7 (Conv3D)           (None, 18, 18, 12, 256)   884992    \n",
      "                                                                 \n",
      " batch_normalization_7 (Batc  (None, 18, 18, 12, 256)  1024      \n",
      " hNormalization)                                                 \n",
      "                                                                 \n",
      " re_lu_7 (ReLU)              (None, 18, 18, 12, 256)   0         \n",
      "                                                                 \n",
      " max_pooling3d_3 (MaxPooling  (None, 9, 9, 6, 256)     0         \n",
      " 3D)                                                             \n",
      "                                                                 \n",
      " conv3d_8 (Conv3D)           (None, 9, 9, 6, 512)      3539456   \n",
      "                                                                 \n",
      " batch_normalization_8 (Batc  (None, 9, 9, 6, 512)     2048      \n",
      " hNormalization)                                                 \n",
      "                                                                 \n",
      " re_lu_8 (ReLU)              (None, 9, 9, 6, 512)      0         \n",
      "                                                                 \n",
      " conv3d_9 (Conv3D)           (None, 9, 9, 6, 256)      3539200   \n",
      "                                                                 \n",
      " batch_normalization_9 (Batc  (None, 9, 9, 6, 256)     1024      \n",
      " hNormalization)                                                 \n",
      "                                                                 \n",
      " re_lu_9 (ReLU)              (None, 9, 9, 6, 256)      0         \n",
      "                                                                 \n",
      " conv3d_10 (Conv3D)          (None, 9, 9, 6, 512)      3539456   \n",
      "                                                                 \n",
      " batch_normalization_10 (Bat  (None, 9, 9, 6, 512)     2048      \n",
      " chNormalization)                                                \n",
      "                                                                 \n",
      " re_lu_10 (ReLU)             (None, 9, 9, 6, 512)      0         \n",
      "                                                                 \n",
      " conv3d_11 (Conv3D)          (None, 9, 9, 6, 256)      3539200   \n",
      "                                                                 \n",
      " batch_normalization_11 (Bat  (None, 9, 9, 6, 256)     1024      \n",
      " chNormalization)                                                \n",
      "                                                                 \n",
      " re_lu_11 (ReLU)             (None, 9, 9, 6, 256)      0         \n",
      "                                                                 \n",
      " dropout (Dropout)           (None, 9, 9, 6, 256)      0         \n",
      "                                                                 \n",
      " flatten (Flatten)           (None, 124416)            0         \n",
      "                                                                 \n",
      " dense (Dense)               (None, 3)                 373251    \n",
      "                                                                 \n",
      " reshape (Reshape)           (None, 1, 3)              0         \n",
      "                                                                 \n",
      "=================================================================\n",
      "Total params: 17,915,907\n",
      "Trainable params: 17,910,723\n",
      "Non-trainable params: 5,184\n",
      "_________________________________________________________________\n"
     ]
    }
   ],
   "source": [
    "trained_model.summary()"
   ],
   "metadata": {
    "collapsed": false,
    "ExecuteTime": {
     "start_time": "2023-05-29T13:15:02.800743Z",
     "end_time": "2023-05-29T13:15:02.874801Z"
    }
   }
  },
  {
   "cell_type": "code",
   "execution_count": 10,
   "outputs": [],
   "source": [
    "layers = trained_model.layers\n",
    "weights = trained_model.weights"
   ],
   "metadata": {
    "collapsed": false,
    "ExecuteTime": {
     "start_time": "2023-05-29T13:18:39.516053Z",
     "end_time": "2023-05-29T13:18:39.521726Z"
    }
   }
  },
  {
   "cell_type": "code",
   "execution_count": 14,
   "outputs": [
    {
     "data": {
      "text/plain": "{'name': 'batch_normalization',\n 'trainable': True,\n 'dtype': 'float32',\n 'axis': ListWrapper([4]),\n 'momentum': 0.99,\n 'epsilon': 0.001,\n 'center': True,\n 'scale': True,\n 'beta_initializer': {'class_name': 'Zeros', 'config': {}},\n 'gamma_initializer': {'class_name': 'Ones', 'config': {}},\n 'moving_mean_initializer': {'class_name': 'Zeros', 'config': {}},\n 'moving_variance_initializer': {'class_name': 'Ones', 'config': {}},\n 'beta_regularizer': None,\n 'gamma_regularizer': None,\n 'beta_constraint': None,\n 'gamma_constraint': None}"
     },
     "execution_count": 14,
     "metadata": {},
     "output_type": "execute_result"
    }
   ],
   "source": [
    "layers[2].get_config()"
   ],
   "metadata": {
    "collapsed": false,
    "ExecuteTime": {
     "start_time": "2023-05-29T13:23:46.204808Z",
     "end_time": "2023-05-29T13:23:46.209680Z"
    }
   }
  },
  {
   "cell_type": "code",
   "execution_count": 19,
   "outputs": [
    {
     "data": {
      "text/plain": "[<tf.Variable 'batch_normalization/gamma:0' shape=(32,) dtype=float32, numpy=\n array([1.0017833 , 0.99791384, 1.0022452 , 1.0005289 , 1.0004532 ,\n        1.0164363 , 0.99942285, 0.99703526, 1.0014154 , 1.0006273 ,\n        0.9989771 , 0.9973664 , 0.9983925 , 0.996177  , 0.99530715,\n        0.995015  , 0.9985827 , 0.99801785, 0.9939523 , 0.9989443 ,\n        1.0111473 , 1.0013007 , 0.99996483, 0.99831975, 1.0019885 ,\n        0.9835751 , 0.9930419 , 1.0005544 , 0.9944062 , 1.0004566 ,\n        1.0073248 , 1.0071582 ], dtype=float32)>,\n <tf.Variable 'batch_normalization/beta:0' shape=(32,) dtype=float32, numpy=\n array([-1.5805269e-03, -3.0286511e-04, -1.1041384e-02, -7.6116635e-03,\n        -1.0530146e-02, -4.3934416e-03, -1.2578647e-02,  6.7152258e-04,\n        -7.1763610e-03,  2.1894912e-03, -5.0182804e-03, -4.6163015e-03,\n        -3.2768322e-03, -7.9420051e-03, -1.1459227e-02, -1.8927818e-02,\n         2.9145291e-03, -9.1901198e-03, -5.7523628e-03, -1.2546073e-02,\n        -7.2146364e-04, -6.6961036e-03, -5.2175396e-03, -8.9530889e-03,\n        -3.8278447e-03, -2.0324115e-02, -4.8981899e-05, -7.2749157e-04,\n        -2.0074942e-05, -1.1932737e-02, -4.3675257e-03, -1.0672812e-02],\n       dtype=float32)>,\n <tf.Variable 'batch_normalization/moving_mean:0' shape=(32,) dtype=float32, numpy=\n array([-0.07193781, -0.0845954 , -0.00500663, -0.00776035,  0.10571925,\n        -0.00761451,  0.06475312, -0.05472992,  0.08045343, -0.11005319,\n         0.19406243, -0.09459575, -0.00876765,  0.02663187,  0.15324083,\n         0.2008625 , -0.26354793,  0.063328  , -0.07980704,  0.16825226,\n        -0.01316672,  0.04854714, -0.18425502,  0.11171412, -0.1528985 ,\n         0.01770352, -0.06227754, -0.04832957, -0.07088711,  0.17262812,\n        -0.0240239 ,  0.07759765], dtype=float32)>,\n <tf.Variable 'batch_normalization/moving_variance:0' shape=(32,) dtype=float32, numpy=\n array([1.5692171e-03, 2.1733143e-03, 1.1526797e-04, 1.5901450e-04,\n        2.8147784e-03, 3.2816519e-04, 1.3762988e-03, 1.0806815e-03,\n        1.7396640e-03, 3.2769816e-03, 9.8678218e-03, 2.6337642e-03,\n        6.9482681e-05, 4.6723505e-04, 6.2939250e-03, 1.1080924e-02,\n        1.8006889e-02, 1.0665320e-03, 1.7772948e-03, 8.3657997e-03,\n        3.4769831e-04, 7.4952992e-04, 9.7021163e-03, 3.2623438e-03,\n        5.6603416e-03, 6.3371837e-05, 1.0289062e-03, 8.1673235e-04,\n        2.0125823e-03, 8.2435170e-03, 7.1463879e-04, 1.7483952e-03],\n       dtype=float32)>]"
     },
     "execution_count": 19,
     "metadata": {},
     "output_type": "execute_result"
    }
   ],
   "source": [
    "weights[2:6]"
   ],
   "metadata": {
    "collapsed": false,
    "ExecuteTime": {
     "start_time": "2023-05-29T13:27:01.955268Z",
     "end_time": "2023-05-29T13:27:01.961405Z"
    }
   }
  },
  {
   "cell_type": "code",
   "execution_count": 17,
   "outputs": [
    {
     "data": {
      "text/plain": "[array([1.0017833 , 0.99791384, 1.0022452 , 1.0005289 , 1.0004532 ,\n        1.0164363 , 0.99942285, 0.99703526, 1.0014154 , 1.0006273 ,\n        0.9989771 , 0.9973664 , 0.9983925 , 0.996177  , 0.99530715,\n        0.995015  , 0.9985827 , 0.99801785, 0.9939523 , 0.9989443 ,\n        1.0111473 , 1.0013007 , 0.99996483, 0.99831975, 1.0019885 ,\n        0.9835751 , 0.9930419 , 1.0005544 , 0.9944062 , 1.0004566 ,\n        1.0073248 , 1.0071582 ], dtype=float32),\n array([-1.5805269e-03, -3.0286511e-04, -1.1041384e-02, -7.6116635e-03,\n        -1.0530146e-02, -4.3934416e-03, -1.2578647e-02,  6.7152258e-04,\n        -7.1763610e-03,  2.1894912e-03, -5.0182804e-03, -4.6163015e-03,\n        -3.2768322e-03, -7.9420051e-03, -1.1459227e-02, -1.8927818e-02,\n         2.9145291e-03, -9.1901198e-03, -5.7523628e-03, -1.2546073e-02,\n        -7.2146364e-04, -6.6961036e-03, -5.2175396e-03, -8.9530889e-03,\n        -3.8278447e-03, -2.0324115e-02, -4.8981899e-05, -7.2749157e-04,\n        -2.0074942e-05, -1.1932737e-02, -4.3675257e-03, -1.0672812e-02],\n       dtype=float32),\n array([-0.07193781, -0.0845954 , -0.00500663, -0.00776035,  0.10571925,\n        -0.00761451,  0.06475312, -0.05472992,  0.08045343, -0.11005319,\n         0.19406243, -0.09459575, -0.00876765,  0.02663187,  0.15324083,\n         0.2008625 , -0.26354793,  0.063328  , -0.07980704,  0.16825226,\n        -0.01316672,  0.04854714, -0.18425502,  0.11171412, -0.1528985 ,\n         0.01770352, -0.06227754, -0.04832957, -0.07088711,  0.17262812,\n        -0.0240239 ,  0.07759765], dtype=float32),\n array([1.5692171e-03, 2.1733143e-03, 1.1526797e-04, 1.5901450e-04,\n        2.8147784e-03, 3.2816519e-04, 1.3762988e-03, 1.0806815e-03,\n        1.7396640e-03, 3.2769816e-03, 9.8678218e-03, 2.6337642e-03,\n        6.9482681e-05, 4.6723505e-04, 6.2939250e-03, 1.1080924e-02,\n        1.8006889e-02, 1.0665320e-03, 1.7772948e-03, 8.3657997e-03,\n        3.4769831e-04, 7.4952992e-04, 9.7021163e-03, 3.2623438e-03,\n        5.6603416e-03, 6.3371837e-05, 1.0289062e-03, 8.1673235e-04,\n        2.0125823e-03, 8.2435170e-03, 7.1463879e-04, 1.7483952e-03],\n       dtype=float32)]"
     },
     "execution_count": 17,
     "metadata": {},
     "output_type": "execute_result"
    }
   ],
   "source": [
    "layers[2].get_weights()"
   ],
   "metadata": {
    "collapsed": false,
    "ExecuteTime": {
     "start_time": "2023-05-29T13:24:57.751402Z",
     "end_time": "2023-05-29T13:24:57.760666Z"
    }
   }
  },
  {
   "cell_type": "code",
   "execution_count": null,
   "outputs": [],
   "source": [],
   "metadata": {
    "collapsed": false
   }
  }
 ],
 "metadata": {
  "kernelspec": {
   "display_name": "Python 3",
   "language": "python",
   "name": "python3"
  },
  "language_info": {
   "codemirror_mode": {
    "name": "ipython",
    "version": 2
   },
   "file_extension": ".py",
   "mimetype": "text/x-python",
   "name": "python",
   "nbconvert_exporter": "python",
   "pygments_lexer": "ipython2",
   "version": "2.7.6"
  }
 },
 "nbformat": 4,
 "nbformat_minor": 0
}
