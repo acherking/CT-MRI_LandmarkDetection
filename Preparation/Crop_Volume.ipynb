{
 "cells": [
  {
   "cell_type": "markdown",
   "source": [
    "# Crop the 3D Volume based on some points"
   ],
   "metadata": {
    "collapsed": false
   }
  },
  {
   "cell_type": "code",
   "execution_count": 3,
   "outputs": [],
   "source": [
    "import os\n",
    "import sys\n",
    "module_path = os.path.abspath(os.path.join('..'))\n",
    "\n",
    "if module_path not in sys.path:\n",
    "    sys.path.append(module_path)"
   ],
   "metadata": {
    "collapsed": false
   }
  },
  {
   "cell_type": "code",
   "execution_count": 9,
   "outputs": [],
   "source": [
    "## To find out the suitable crop size.\n",
    "## based on ROI points\n",
    "import Functions.MyDataset as MyDataset\n",
    "import importlib\n",
    "\n",
    "importlib.reload(MyDataset)\n",
    "\n",
    "name_list, pts = MyDataset.load_data_dir(\"/Volumes/Shawn_HDD/PhD/Project/Date/augmentation_from_matlab/original_augmentation_data/\")"
   ],
   "metadata": {
    "collapsed": false
   }
  },
  {
   "cell_type": "code",
   "execution_count": 15,
   "outputs": [],
   "source": [
    "max_diff_x = 0\n",
    "max_diff_y = 0\n",
    "max_diff_z = 0\n",
    "\n",
    "for patient in range(pts.shape[0]):\n",
    "    diff_x = max([abs(pts[patient, 0, 0]-pts[patient, 1, 0]), abs(pts[patient, 0, 0]-pts[patient, 2, 0]),\n",
    "                  abs(pts[patient, 0, 0]-pts[patient, 3, 0])])\n",
    "    max_diff_x = max([max_diff_x, diff_x])\n",
    "    diff_y = max([abs(pts[patient, 0, 1]-pts[patient, 1, 1]), abs(pts[patient, 0, 1]-pts[patient, 2, 1]),\n",
    "                  abs(pts[patient, 0, 1]-pts[patient, 3, 1])])\n",
    "    max_diff_y = max([max_diff_y, diff_y])\n",
    "    diff_z = max([abs(pts[patient, 0, 2]-pts[patient, 1, 2]), abs(pts[patient, 0, 2]-pts[patient, 2, 2]),\n",
    "                  abs(pts[patient, 0, 2]-pts[patient, 3, 2])])\n",
    "    max_diff_z = max([max_diff_z, diff_z])"
   ],
   "metadata": {
    "collapsed": false
   }
  },
  {
   "cell_type": "code",
   "execution_count": 1,
   "outputs": [],
   "source": [
    "## make up some 3D volumes\n",
    "import numpy as np\n",
    "\n",
    "def make_up_3d_volume(row, column, slize):\n",
    "    return np.arange(row*column*slize).reshape((row, column, slize))"
   ],
   "metadata": {
    "collapsed": false
   }
  },
  {
   "cell_type": "code",
   "execution_count": 5,
   "outputs": [
    {
     "data": {
      "text/plain": "array([[[ 15],\n        [ 27]],\n\n       [[279],\n        [291]]])"
     },
     "execution_count": 5,
     "metadata": {},
     "output_type": "execute_result"
    }
   ],
   "source": [
    "fake_volume = make_up_3d_volume(25, 22, 12)\n",
    "fake_volume[0:2, 1:3, 3:4]"
   ],
   "metadata": {
    "collapsed": false
   }
  },
  {
   "cell_type": "code",
   "execution_count": null,
   "outputs": [],
   "source": [
    "import numpy as np\n",
    "\n",
    "def crop_volume(org_volume, points, crop_size):\n",
    "    \"\"\"\n",
    "    This function will crop the 3D Volume according to the given points (The centre of the cropped volume is the Middle of these points).\n",
    "    The output is a rectangle volume with the input size.\n",
    "    Input:  1. Volume: the original volume\n",
    "            2. Points: LLSCC ant/post, RLSCC ant/post; 4*3, (x, y, z) represent (Column, Row, Slice)\n",
    "            3. (row, column, slice): The size of the cropped volume\n",
    "\n",
    "    Output: 1. Cropped Volume 2. Corresponding Points\n",
    "    \"\"\"\n",
    "    volume_size = org_volume.size\n",
    "    fill_value = np.min(org_volume)\n",
    "    points = points[:, [1, 0, 2]]   # change (x, y, z) to (row, column, slice)\n",
    "    centre = np.around(np.average(points, axis=0))\n",
    "\n",
    "    small_corner = np.zeros(3)      # the corner points with the smallest indexes\n",
    "    big_corner = np.zeros(3)        # the corner points with the biggest indexesß\n",
    "    extract_size = crop_size        # the size used to extract from the original volume\n",
    "\n",
    "    # store the padding size, (before, after) of a dimension\n",
    "    padding_row = (0, 0)\n",
    "    small_corner[0] = centre[0] - crop_size[0] / 2\n",
    "    if small_corner[0] < 0:\n",
    "        padding_row[0] = abs(small_corner[0])\n",
    "        extract_size[0] = extract_size[0] - padding_row[0]\n",
    "        small_corner[0] = 0\n",
    "    else:\n",
    "        ;   # do nothing\n",
    "    big_corner[0] = centre[0] + crop_size[0] / 2\n",
    "    if big_corner[0] >= volume_size[0]:\n",
    "        padding_row[1] = big_corner[0] - (volume_size[0] - 1)\n",
    "        extract_size[0] = extract_size[0] - padding_row[1]\n",
    "        big_corner[0] = volume_size[0] - 1\n",
    "    else:\n",
    "        ;   # do nothing\n",
    "\n",
    "    padding_column = (0, 0)\n",
    "    padding_slice = (0, 0)\n",
    "\n",
    "\n",
    "\n",
    "    return\n",
    "\n",
    "def plot_cropped_volume():\n",
    "\n",
    "    return\n",
    "\n",
    "def plot_points_on_cropped_volume():\n",
    "\n",
    "    return"
   ],
   "metadata": {
    "collapsed": false
   }
  },
  {
   "cell_type": "code",
   "execution_count": null,
   "outputs": [],
   "source": [],
   "metadata": {
    "collapsed": false
   }
  },
  {
   "cell_type": "markdown",
   "source": [
    "## Visualize the Prediction Results"
   ],
   "metadata": {
    "collapsed": false
   }
  },
  {
   "cell_type": "code",
   "execution_count": null,
   "outputs": [],
   "source": [],
   "metadata": {
    "collapsed": false
   }
  }
 ],
 "metadata": {
  "kernelspec": {
   "display_name": "Python 3",
   "language": "python",
   "name": "python3"
  },
  "language_info": {
   "codemirror_mode": {
    "name": "ipython",
    "version": 2
   },
   "file_extension": ".py",
   "mimetype": "text/x-python",
   "name": "python",
   "nbconvert_exporter": "python",
   "pygments_lexer": "ipython2",
   "version": "2.7.6"
  }
 },
 "nbformat": 4,
 "nbformat_minor": 0
}
