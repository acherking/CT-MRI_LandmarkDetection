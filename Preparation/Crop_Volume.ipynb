{
 "cells": [
  {
   "cell_type": "markdown",
   "source": [
    "# Crop the 3D Volume based on some points"
   ],
   "metadata": {
    "collapsed": false
   }
  },
  {
   "cell_type": "code",
   "execution_count": null,
   "outputs": [],
   "source": [
    "import os\n",
    "import sys\n",
    "module_path = os.path.abspath(os.path.join('..'))\n",
    "\n",
    "if module_path not in sys.path:\n",
    "    sys.path.append(module_path)"
   ],
   "metadata": {
    "collapsed": false
   }
  },
  {
   "cell_type": "code",
   "execution_count": null,
   "outputs": [],
   "source": [
    "## To find out the suitable crop size.\n",
    "## based on ROI points\n",
    "import Functions.MyDataset as MyDataset\n",
    "import importlib\n",
    "\n",
    "importlib.reload(MyDataset)\n",
    "\n",
    "name_list, pts = MyDataset.load_data_dir(\"/Volumes/Shawn_HDD/PhD/Project/Date/augmentation_from_matlab/original_augmentation_data/\")"
   ],
   "metadata": {
    "collapsed": false
   }
  },
  {
   "cell_type": "code",
   "execution_count": null,
   "outputs": [],
   "source": [
    "max_diff_x = 0\n",
    "max_diff_y = 0\n",
    "max_diff_z = 0\n",
    "\n",
    "for patient in range(pts.shape[0]):\n",
    "    diff_x = max([abs(pts[patient, 0, 0]-pts[patient, 1, 0]), abs(pts[patient, 0, 0]-pts[patient, 2, 0]),\n",
    "                  abs(pts[patient, 0, 0]-pts[patient, 3, 0])])\n",
    "    max_diff_x = max([max_diff_x, diff_x])\n",
    "    diff_y = max([abs(pts[patient, 0, 1]-pts[patient, 1, 1]), abs(pts[patient, 0, 1]-pts[patient, 2, 1]),\n",
    "                  abs(pts[patient, 0, 1]-pts[patient, 3, 1])])\n",
    "    max_diff_y = max([max_diff_y, diff_y])\n",
    "    diff_z = max([abs(pts[patient, 0, 2]-pts[patient, 1, 2]), abs(pts[patient, 0, 2]-pts[patient, 2, 2]),\n",
    "                  abs(pts[patient, 0, 2]-pts[patient, 3, 2])])\n",
    "    max_diff_z = max([max_diff_z, diff_z])"
   ],
   "metadata": {
    "collapsed": false
   }
  },
  {
   "cell_type": "code",
   "execution_count": null,
   "outputs": [],
   "source": [
    "print(\"max_diff_x: \", max_diff_x)\n",
    "print(\"max_diff_y: \", max_diff_y)\n",
    "print(\"max_diff_z: \", max_diff_z)"
   ],
   "metadata": {
    "collapsed": false
   }
  },
  {
   "cell_type": "markdown",
   "source": [
    "## Looks like the area is still too big (598, 188, 169)\n",
    "So, we think we can focus on the left and right landmark area separately"
   ],
   "metadata": {
    "collapsed": false
   }
  },
  {
   "cell_type": "code",
   "execution_count": null,
   "outputs": [],
   "source": [
    "## Check the cropped results\n",
    "import numpy as np\n",
    "import importlib\n",
    "import Functions.MyDataset as MyDataset\n",
    "import Functions.Visualization as Visualization\n",
    "\n",
    "JH_aug_mat_path = \"/Volumes/Shawn_HDD/PhD/Project/Date/augmentation_from_matlab/original_augmentation_data/AZ_aug_10.mat\"\n",
    "# JH_reshape_vol_mat_path = \"/Volumes/Shawn_SSD/PhD/Project/Date/augmentation_from_matlab/Val/Input/FA_17017030_AugVol_2.mat\"\n",
    "# JH_reshape_pts_mat_path = \"/Volumes/Shawn_SSD/PhD/Project/Date/augmentation_from_matlab/Val/Output/FA_17017030_AugPts_2.mat\"\n",
    "\n",
    "pixel_space = [0.15, 0.15, 0.15]\n",
    "\n",
    "importlib.reload(MyDataset)\n",
    "\n",
    "JH_aug_volume, JH_aug_pts, _ = MyDataset.load_mat_data(JH_aug_mat_path)\n",
    "\n",
    "Visualization.show_pts(JH_aug_volume, JH_aug_pts, pixel_space)"
   ],
   "metadata": {
    "collapsed": false,
    "ExecuteTime": {
     "start_time": "2023-05-02T11:25:27.233225Z",
     "end_time": "2023-05-02T11:26:10.468482Z"
    }
   }
  },
  {
   "cell_type": "code",
   "execution_count": null,
   "outputs": [],
   "source": [
    "import Functions.MyCrop as MyCrop\n",
    "\n",
    "crop_s = ((50, 50), (50, 50), (50, 50))\n",
    "left_volume, left_points, left_length, right_volume, right_points, right_length = MyCrop.crop_volume(JH_aug_volume, JH_aug_pts, crop_s)\n",
    "flip_right_volume, flip_right_points = MyCrop.flip_volume(right_volume, right_points)"
   ],
   "metadata": {
    "collapsed": false
   }
  },
  {
   "cell_type": "code",
   "execution_count": null,
   "outputs": [],
   "source": [
    "print(\"Original Points: \", JH_aug_pts)\n",
    "print(\"Locate back: \", np.append(left_points + left_length, right_points + right_length, axis=0))"
   ],
   "metadata": {
    "collapsed": false
   }
  },
  {
   "cell_type": "code",
   "execution_count": null,
   "outputs": [],
   "source": [
    "importlib.reload(Visualization)\n",
    "import time\n",
    "from IPython.display import display, clear_output\n",
    "\n",
    "pixel_space = [0.15, 0.15, 0.15]\n",
    "\n",
    "Visualization.show_two_landmarks(left_volume, left_points, flip_right_volume, flip_right_points, pixel_space)\n",
    "\n",
    "# for i in range(100):\n",
    "#     left_points[0][2] = i\n",
    "#     left_points[1][2] = i\n",
    "#     flip_right_points[0][2] = i\n",
    "#     flip_right_points[1][2] = i\n",
    "#     Visualization.show_two_landmarks(left_volume, left_points, flip_right_volume, flip_right_points, pixel_space)\n",
    "#     time.sleep(1)\n",
    "#     clear_output(wait=True)"
   ],
   "metadata": {
    "collapsed": false
   }
  },
  {
   "cell_type": "markdown",
   "source": [
    "## Crop the augmented volumes"
   ],
   "metadata": {
    "collapsed": false
   }
  },
  {
   "cell_type": "code",
   "execution_count": 91,
   "outputs": [],
   "source": [
    "import numpy as np\n",
    "import Functions.MyDataset as MyDataset\n",
    "\n",
    "# store cropped volumes into one arrays, and points to another\n",
    "pixel_space = [0.15, 0.15, 0.15]\n",
    "# for Windows\n",
    "# dir_path = \"F:/Data/original_augmentation_data/\"\n",
    "# save_volumes_dir = \"F:/Data/cropped/x5050y5050z5050/volumes/\"\n",
    "# save_points_dir = \"F:/Data/cropped/x5050y5050z5050/points/\"\n",
    "# save_length_dir = \"F:/Data/cropped/x5050y5050z5050/length/\"\n",
    "# for Mac\n",
    "dir_path = \"/Volumes/Shawn_HDD/PhD/Project/Date/augmentation_from_matlab/original_augmentation_data/\"\n",
    "save_volumes_dir = \"/Volumes/Shawn_HDD/PhD/Project/Date/augmentation_from_matlab/Cropped/based_on_pred/volumes/\"\n",
    "save_points_dir = \"/Volumes/Shawn_HDD/PhD/Project/Date/augmentation_from_matlab/Cropped/based_on_pred/points/\"\n",
    "save_length_dir = \"/Volumes/Shawn_HDD/PhD/Project/Date/augmentation_from_matlab/Cropped/based_on_pred/length/\"\n",
    "pat_names = MyDataset.get_pat_names()"
   ],
   "metadata": {
    "collapsed": false,
    "ExecuteTime": {
     "start_time": "2023-05-09T17:06:46.947271Z",
     "end_time": "2023-05-09T17:06:46.955735Z"
    }
   }
  },
  {
   "cell_type": "code",
   "execution_count": 92,
   "outputs": [],
   "source": [
    "# Prepare reading Test Dataset, and prediction centres\n",
    "pat_splits = MyDataset.get_pat_splits(static=True)\n",
    "pat_names_test = [pat_names[idx] for idx in pat_splits[2]] # idx: 0 train, 1 val, 2 test"
   ],
   "metadata": {
    "collapsed": false,
    "ExecuteTime": {
     "start_time": "2023-05-09T17:06:48.258791Z",
     "end_time": "2023-05-09T17:06:48.272947Z"
    }
   }
  },
  {
   "cell_type": "code",
   "execution_count": 93,
   "outputs": [],
   "source": [
    "landmarks_centres = np.load(\"/Volumes/Shawn_HDD/PhD/Project/Date/trained_models/bestVal_straight_model_divided_176_88_48_mean_two_landmarks_MTL_pred_org.npy\")"
   ],
   "metadata": {
    "collapsed": false,
    "ExecuteTime": {
     "start_time": "2023-05-09T17:06:49.988430Z",
     "end_time": "2023-05-09T17:06:49.996714Z"
    }
   }
  },
  {
   "cell_type": "code",
   "execution_count": 98,
   "outputs": [
    {
     "name": "stdout",
     "output_type": "stream",
     "text": [
      "crop volume for:  /Volumes/Shawn_HDD/PhD/Project/Date/augmentation_from_matlab/original_augmentation_data/LP_aug_50.mat\n"
     ]
    },
    {
     "data": {
      "text/plain": "<Figure size 1920x1440 with 4 Axes>",
      "image/png": "[encoded data removed]"
     },
     "metadata": {},
     "output_type": "display_data"
    },
    {
     "name": "stdout",
     "output_type": "stream",
     "text": [
      "save the cropped volumes\n",
      "Finish cropping: /Volumes/Shawn_HDD/PhD/Project/Date/augmentation_from_matlab/original_augmentation_data/LP_aug_50.mat\n"
     ]
    }
   ],
   "source": [
    "from IPython.display import display, clear_output\n",
    "import importlib\n",
    "\n",
    "import Functions.MyCrop as MyCrop\n",
    "import Functions.Visualization as Visualization\n",
    "\n",
    "importlib.reload(MyCrop)\n",
    "\n",
    "for pat_name in pat_names_test:\n",
    "    pat_id = pat_names_test.index(pat_name)\n",
    "    for aug_id in range(1, 51):\n",
    "        # such as: \"/Volumes/Shawn_HDD/PhD/Project/Date/augmentation_from_matlab/original_augmentation_data/AH_aug_1.mat\"\n",
    "        file_path = dir_path + pat_name + \"_aug_\" + str(aug_id) + \".mat\"\n",
    "        print(\"load file: \", file_path)\n",
    "        aug_volume, aug_pts, _ = MyDataset.load_mat_data(file_path)\n",
    "        clear_output(wait=True)\n",
    "        print(\"crop volume for: \", file_path)\n",
    "        llscc_centre_idx = pat_id * 100 + (aug_id - 1) * 2\n",
    "        anchors = landmarks_centres[[llscc_centre_idx, llscc_centre_idx+1], 0, :]\n",
    "        left_volume, left_points, left_length, right_volume, right_points, right_length = MyCrop.crop_volume_anchor(aug_volume, aug_pts,anchors)\n",
    "        flip_right_volume, flip_right_points = MyCrop.flip_volume(right_volume, right_points)\n",
    "        Visualization.show_two_landmarks(left_volume, left_points, flip_right_volume, flip_right_points, pixel_space)\n",
    "        print(\"save the cropped volumes\")\n",
    "        np.save(save_volumes_dir + pat_name + \"_augVolume_\"+str(aug_id)+\"_cropped_left.npy\", left_volume)\n",
    "        np.save(save_volumes_dir + pat_name + \"_augVolume_\"+str(aug_id)+\"_cropped_right.npy\", flip_right_volume)\n",
    "        np.save(save_points_dir + pat_name + \"_augPoints_\"+str(aug_id)+\"_cropped_left.npy\", left_points)\n",
    "        np.save(save_length_dir + pat_name + \"_augLength_\"+str(aug_id)+\"_cropped_left.npy\", left_length)\n",
    "        np.save(save_points_dir + pat_name + \"_augPoints_\"+str(aug_id)+\"_cropped_right.npy\", flip_right_points)\n",
    "        np.save(save_length_dir + pat_name + \"_augLength_\"+str(aug_id)+\"_cropped_right.npy\", right_length)\n",
    "        print(\"Finish cropping: \" + file_path)"
   ],
   "metadata": {
    "collapsed": false,
    "ExecuteTime": {
     "start_time": "2023-05-09T17:17:50.842800Z",
     "end_time": "2023-05-09T19:42:45.522999Z"
    }
   }
  },
  {
   "cell_type": "code",
   "execution_count": 99,
   "outputs": [
    {
     "name": "stdout",
     "output_type": "stream",
     "text": [
      "**************GM__1***************\n",
      "**************GM__2***************\n",
      "**************GM__3***************\n",
      "**************GM__4***************\n",
      "**************GM__5***************\n",
      "**************GM__6***************\n",
      "**************GM__7***************\n",
      "**************GM__8***************\n",
      "**************GM__9***************\n",
      "**************GM__10***************\n",
      "**************GM__11***************\n",
      "**************GM__12***************\n",
      "**************GM__13***************\n",
      "**************GM__14***************\n",
      "**************GM__15***************\n",
      "**************GM__16***************\n",
      "**************GM__17***************\n",
      "**************GM__18***************\n",
      "**************GM__19***************\n",
      "**************GM__20***************\n",
      "**************GM__21***************\n",
      "**************GM__22***************\n",
      "**************GM__23***************\n",
      "**************GM__24***************\n",
      "**************GM__25***************\n",
      "**************GM__26***************\n",
      "**************GM__27***************\n",
      "**************GM__28***************\n",
      "**************GM__29***************\n",
      "**************GM__30***************\n",
      "**************GM__31***************\n",
      "**************GM__32***************\n",
      "**************GM__33***************\n",
      "**************GM__34***************\n",
      "**************GM__35***************\n",
      "**************GM__36***************\n",
      "**************GM__37***************\n",
      "**************GM__38***************\n",
      "**************GM__39***************\n",
      "**************GM__40***************\n",
      "**************GM__41***************\n",
      "**************GM__42***************\n",
      "**************GM__43***************\n",
      "**************GM__44***************\n",
      "**************GM__45***************\n",
      "**************GM__46***************\n",
      "**************GM__47***************\n",
      "**************GM__48***************\n",
      "**************GM__49***************\n",
      "**************GM__50***************\n",
      "**************GE__1***************\n",
      "**************GE__2***************\n",
      "**************GE__3***************\n",
      "**************GE__4***************\n",
      "**************GE__5***************\n",
      "**************GE__6***************\n",
      "**************GE__7***************\n",
      "**************GE__8***************\n",
      "**************GE__9***************\n",
      "**************GE__10***************\n",
      "**************GE__11***************\n",
      "**************GE__12***************\n",
      "**************GE__13***************\n",
      "**************GE__14***************\n",
      "**************GE__15***************\n",
      "**************GE__16***************\n",
      "**************GE__17***************\n",
      "**************GE__18***************\n",
      "**************GE__19***************\n",
      "**************GE__20***************\n",
      "**************GE__21***************\n",
      "**************GE__22***************\n",
      "**************GE__23***************\n",
      "**************GE__24***************\n",
      "**************GE__25***************\n",
      "**************GE__26***************\n",
      "**************GE__27***************\n",
      "**************GE__28***************\n",
      "**************GE__29***************\n",
      "**************GE__30***************\n",
      "**************GE__31***************\n",
      "**************GE__32***************\n",
      "**************GE__33***************\n",
      "**************GE__34***************\n",
      "**************GE__35***************\n",
      "**************GE__36***************\n",
      "**************GE__37***************\n",
      "**************GE__38***************\n",
      "**************GE__39***************\n",
      "**************GE__40***************\n",
      "**************GE__41***************\n",
      "**************GE__42***************\n",
      "**************GE__43***************\n",
      "**************GE__44***************\n",
      "**************GE__45***************\n",
      "**************GE__46***************\n",
      "**************GE__47***************\n",
      "**************GE__48***************\n",
      "**************GE__49***************\n",
      "**************GE__50***************\n",
      "**************AZ__1***************\n",
      "**************AZ__2***************\n",
      "**************AZ__3***************\n",
      "**************AZ__4***************\n",
      "**************AZ__5***************\n",
      "**************AZ__6***************\n",
      "**************AZ__7***************\n",
      "**************AZ__8***************\n",
      "**************AZ__9***************\n",
      "**************AZ__10***************\n",
      "**************AZ__11***************\n",
      "**************AZ__12***************\n",
      "**************AZ__13***************\n",
      "**************AZ__14***************\n",
      "**************AZ__15***************\n",
      "**************AZ__16***************\n",
      "**************AZ__17***************\n",
      "**************AZ__18***************\n",
      "**************AZ__19***************\n",
      "**************AZ__20***************\n",
      "**************AZ__21***************\n",
      "**************AZ__22***************\n",
      "**************AZ__23***************\n",
      "**************AZ__24***************\n",
      "**************AZ__25***************\n",
      "**************AZ__26***************\n",
      "**************AZ__27***************\n",
      "**************AZ__28***************\n",
      "**************AZ__29***************\n",
      "**************AZ__30***************\n",
      "**************AZ__31***************\n",
      "**************AZ__32***************\n",
      "**************AZ__33***************\n",
      "**************AZ__34***************\n",
      "**************AZ__35***************\n",
      "**************AZ__36***************\n",
      "**************AZ__37***************\n",
      "**************AZ__38***************\n",
      "**************AZ__39***************\n",
      "**************AZ__40***************\n",
      "**************AZ__41***************\n",
      "**************AZ__42***************\n",
      "**************AZ__43***************\n",
      "**************AZ__44***************\n",
      "**************AZ__45***************\n",
      "**************AZ__46***************\n",
      "**************AZ__47***************\n",
      "**************AZ__48***************\n",
      "**************AZ__49***************\n",
      "**************AZ__50***************\n",
      "**************LP__1***************\n",
      "**************LP__2***************\n",
      "**************LP__3***************\n",
      "**************LP__4***************\n",
      "**************LP__5***************\n",
      "**************LP__6***************\n",
      "**************LP__7***************\n",
      "**************LP__8***************\n",
      "**************LP__9***************\n",
      "**************LP__10***************\n",
      "**************LP__11***************\n",
      "**************LP__12***************\n",
      "**************LP__13***************\n",
      "**************LP__14***************\n",
      "**************LP__15***************\n",
      "**************LP__16***************\n",
      "**************LP__17***************\n",
      "**************LP__18***************\n",
      "**************LP__19***************\n",
      "**************LP__20***************\n",
      "**************LP__21***************\n",
      "**************LP__22***************\n",
      "**************LP__23***************\n",
      "**************LP__24***************\n",
      "**************LP__25***************\n",
      "**************LP__26***************\n",
      "**************LP__27***************\n",
      "**************LP__28***************\n",
      "**************LP__29***************\n",
      "**************LP__30***************\n",
      "**************LP__31***************\n",
      "**************LP__32***************\n",
      "**************LP__33***************\n",
      "**************LP__34***************\n",
      "**************LP__35***************\n",
      "**************LP__36***************\n",
      "**************LP__37***************\n",
      "**************LP__38***************\n",
      "**************LP__39***************\n",
      "**************LP__40***************\n",
      "**************LP__41***************\n",
      "**************LP__42***************\n",
      "**************LP__43***************\n",
      "**************LP__44***************\n",
      "**************LP__45***************\n",
      "**************LP__46***************\n",
      "**************LP__47***************\n",
      "**************LP__48***************\n",
      "**************LP__49***************\n",
      "**************LP__50***************\n",
      "400\n",
      "400\n",
      "400\n"
     ]
    }
   ],
   "source": [
    "# Combine cropped volumes\n",
    "cropped_volumes = []\n",
    "cropped_points = []\n",
    "cropped_length = []\n",
    "\n",
    "for pat_name in pat_names_test:\n",
    "    for aug_id in range(1, 51):\n",
    "        # such as: \"F:/Data/cropped/x5050y5050z5050/volumes/AH_augVolume_1_cropped_left_100x100x100.npy\"\n",
    "        #          \"F:/Data/cropped/x5050y5050z5050/volumes/AH_augVolume_1_cropped_right_100x100x100.npy\"\n",
    "        #          \"F:/Data/cropped/x5050y5050z5050/points/AH_augPoints_1_cropped_left_100x100x100.npy\"\n",
    "        #          \"F:/Data/cropped/x5050y5050z5050/points/AH_augPoints_1_cropped_right_100x100x100.npy\"\n",
    "        print(\"**************\" + pat_name + \"__\" + str(aug_id) + \"***************\")\n",
    "        cropped_volume_left_path = save_volumes_dir + pat_name + \"_augVolume_\" + str(aug_id) + \"_cropped_left.npy\"\n",
    "        cropped_volume_right_path = save_volumes_dir + pat_name + \"_augVolume_\" + str(aug_id) + \"_cropped_right.npy\"\n",
    "        cropped_points_left_path = save_points_dir + pat_name + \"_augPoints_\" + str(aug_id) + \"_cropped_left.npy\"\n",
    "        cropped_length_left_path = save_length_dir + pat_name + \"_augLength_\" + str(aug_id) + \"_cropped_left.npy\"\n",
    "        cropped_points_right_path = save_points_dir + pat_name + \"_augPoints_\" + str(aug_id) + \"_cropped_right.npy\"\n",
    "        cropped_length_right_path = save_length_dir + pat_name + \"_augLength_\" + str(aug_id) + \"_cropped_right.npy\"\n",
    "        cropped_volume_left = np.load(cropped_volume_left_path)\n",
    "        cropped_volume_right = np.load(cropped_volume_right_path)\n",
    "        cropped_points_left = np.load(cropped_points_left_path)\n",
    "        cropped_length_left = np.load(cropped_length_left_path)\n",
    "        cropped_points_right = np.load(cropped_points_right_path)\n",
    "        cropped_length_right = np.load(cropped_length_right_path)\n",
    "        cropped_volumes.append(cropped_volume_left)\n",
    "        cropped_volumes.append(cropped_volume_right)\n",
    "        cropped_points.append(cropped_points_left)\n",
    "        cropped_points.append(cropped_points_right)\n",
    "        cropped_length.append(cropped_length_left)\n",
    "        cropped_length.append(cropped_length_right)\n",
    "\n",
    "print(len(cropped_volumes))\n",
    "print(len(cropped_points))\n",
    "print(len(cropped_length))"
   ],
   "metadata": {
    "collapsed": false,
    "ExecuteTime": {
     "start_time": "2023-05-10T11:19:15.059101Z",
     "end_time": "2023-05-10T11:20:18.768430Z"
    }
   }
  },
  {
   "cell_type": "code",
   "execution_count": 100,
   "outputs": [],
   "source": [
    "cropped_volumes = np.asarray(cropped_volumes).reshape((400, 100, 100, 100, 1))\n",
    "cropped_points = np.asarray(cropped_points).reshape((400, 2, 3))\n",
    "cropped_length = np.asarray(cropped_length).reshape((400, 2, 3))\n",
    "\n",
    "# save_comb_dir = \"F:/Data/cropped/cropped_volumes_x5050y5050z5050.npy\"\n",
    "save_comb_dir = \"/Volumes/Shawn_HDD/PhD/Project/Date/augmentation_from_matlab/Cropped/based_on_pred\"\n",
    "comb_tag = \"x5050y5050z5050_pred\"\n",
    "np.save(f\"{save_comb_dir}/cropped_volumes_{comb_tag}.npy\", cropped_volumes)\n",
    "np.save(f\"{save_comb_dir}/cropped_points_{comb_tag}.npy\", cropped_points)\n",
    "np.save(f\"{save_comb_dir}/cropped_length_{comb_tag}.npy\", cropped_length)"
   ],
   "metadata": {
    "collapsed": false,
    "ExecuteTime": {
     "start_time": "2023-05-10T11:20:31.173371Z",
     "end_time": "2023-05-10T11:21:25.797063Z"
    }
   }
  },
  {
   "cell_type": "code",
   "execution_count": 101,
   "outputs": [
    {
     "name": "stdout",
     "output_type": "stream",
     "text": [
      "cropped_volumes shape:  (400, 100, 100, 100, 1)\n",
      "cropped_points shape:  (400, 2, 3)\n",
      "cropped_length shape:  (400, 2, 3)\n"
     ]
    }
   ],
   "source": [
    "print(\"cropped_volumes shape: \", cropped_volumes.shape)\n",
    "print(\"cropped_points shape: \", cropped_points.shape)\n",
    "print(\"cropped_length shape: \", cropped_length.shape)"
   ],
   "metadata": {
    "collapsed": false,
    "ExecuteTime": {
     "start_time": "2023-05-11T16:19:51.035883Z",
     "end_time": "2023-05-11T16:19:51.043178Z"
    }
   }
  },
  {
   "cell_type": "markdown",
   "source": [
    "## Check the sub cropped dataset"
   ],
   "metadata": {
    "collapsed": false
   }
  },
  {
   "cell_type": "code",
   "execution_count": null,
   "outputs": [],
   "source": [
    "import Spartan.support_modules as supporter\n",
    "import Functions.MyDataset as MyDataset\n",
    "\n",
    "import importlib\n",
    "\n",
    "importlib.reload(supporter)\n",
    "\n",
    "# crop_layers = np.asarray([[20, 10], [0, 20], [25, 18]])\n",
    "crop_layers = np.asarray([[0, 0], [0, 0], [0, 0]])\n",
    "crop_size = (100-crop_layers[0, 0]-crop_layers[0, 1],\n",
    "             100-crop_layers[1, 0]-crop_layers[1, 1],\n",
    "             100-crop_layers[2, 0]-crop_layers[2, 1])\n",
    "\n",
    "X_path = \"/Volumes/Shawn_HDD/PhD/Project/Date/augmentation_from_matlab/Cropped/based_on_truth/cropped_volumes_x5050y5050z5050.npy\"\n",
    "Y_path = \"/Volumes/Shawn_HDD/PhD/Project/Date/augmentation_from_matlab/Cropped/based_on_truth/cropped_points_x5050y5050z5050.npy\"\n",
    "Cropped_length_path = \"/Volumes/Shawn_HDD/PhD/Project/Date/augmentation_from_matlab/Cropped/based_on_truth/cropped_length_x5050y5050z5050.npy\"\n",
    "pat_splits = MyDataset.get_pat_splits(static=True)\n",
    "X_train, Y_train, length_train, X_val, Y_val, length_val, X_test, Y_test, length_test = \\\n",
    "    supporter.load_dataset_crop(X_path, Y_path, Cropped_length_path, pat_splits, crop_layers)"
   ],
   "metadata": {
    "collapsed": false,
    "ExecuteTime": {
     "start_time": "2023-05-15T15:18:53.015088Z",
     "end_time": "2023-05-15T15:23:14.353036Z"
    },
    "pycharm": {
     "is_executing": true
    }
   }
  },
  {
   "cell_type": "code",
   "execution_count": 52,
   "outputs": [
    {
     "name": "stdout",
     "output_type": "stream",
     "text": [
      "Check name:GM, aug_id:2\n"
     ]
    }
   ],
   "source": [
    "import Functions.MyDataset as MyDataset\n",
    "\n",
    "check_id = 2\n",
    "pt_name, pt_aug_id = MyDataset.get_pat_from_test_idx(check_id, split=True)\n",
    "print(f\"Check name:{pt_name}, aug_id:{pt_aug_id}\")\n",
    "\n",
    "aug_dir = \"/Volumes/Shawn_HDD/PhD/Project/Date/augmentation_from_matlab/original_augmentation_data/\"\n",
    "pt_aug_path = aug_dir + pt_name + \"_aug_\" + str(pt_aug_id) + \".mat\"\n",
    "\n",
    "pixel_space = [0.15, 0.15, 0.15]\n",
    "\n",
    "pt_aug_volume, pt_aug_pts, _ = MyDataset.load_mat_data(pt_aug_path)"
   ],
   "metadata": {
    "collapsed": false,
    "ExecuteTime": {
     "start_time": "2023-05-15T14:50:40.955188Z",
     "end_time": "2023-05-15T14:51:10.879360Z"
    }
   }
  },
  {
   "cell_type": "code",
   "execution_count": null,
   "outputs": [],
   "source": [
    "import Functions.MyCrop as MyCrop\n",
    "\n",
    "left_volume_check = X_test[check_id,:,:,:,0]\n",
    "left_landmarks_check = Y_test[check_id, :, :]\n",
    "left_length_check = length_test[check_id]\n",
    "right_volume_check = X_test[check_id+1,:,:,:,0]\n",
    "right_landmarks_check = Y_test[check_id+1]\n",
    "right_length_check = length_test[check_id+1]\n",
    "\n",
    "right_landmarks_check_flip = MyCrop.flip_volume_shape(crop_size, right_landmarks_check)"
   ],
   "metadata": {
    "collapsed": false,
    "ExecuteTime": {
     "start_time": "2023-05-15T15:23:14.387834Z",
     "end_time": "2023-05-15T15:23:14.405274Z"
    },
    "pycharm": {
     "is_executing": true
    }
   }
  },
  {
   "cell_type": "code",
   "execution_count": null,
   "outputs": [],
   "source": [
    "length_test[check_id:(check_id+4)]"
   ],
   "metadata": {
    "collapsed": false,
    "ExecuteTime": {
     "start_time": "2023-05-15T15:23:14.392159Z",
     "end_time": "2023-05-15T15:23:14.407606Z"
    },
    "pycharm": {
     "is_executing": true
    }
   }
  },
  {
   "cell_type": "code",
   "execution_count": null,
   "outputs": [],
   "source": [
    "import Functions.Visualization as Visualization\n",
    "\n",
    "importlib.reload(Visualization)\n",
    "\n",
    "print(\"Original landmarks: \", pt_aug_pts)\n",
    "print(\"Check left landmarks: \", left_landmarks_check + left_length_check)\n",
    "print(\"Check right landmarks: \", right_landmarks_check_flip + right_length_check)\n",
    "\n",
    "Visualization.show_two_landmarks(left_volume_check, left_landmarks_check, right_volume_check, right_landmarks_check, pixel_space)"
   ],
   "metadata": {
    "collapsed": false,
    "ExecuteTime": {
     "start_time": "2023-05-15T15:30:28.763730Z",
     "end_time": "2023-05-15T15:30:29.469840Z"
    },
    "pycharm": {
     "is_executing": true
    }
   }
  },
  {
   "cell_type": "markdown",
   "source": [
    "## Calculate the cropped_length"
   ],
   "metadata": {
    "collapsed": false
   }
  },
  {
   "cell_type": "code",
   "execution_count": 45,
   "outputs": [],
   "source": [
    "import h5py\n",
    "import numpy as np\n",
    "\n",
    "landmarks_path = \"/Volumes/Shawn_HDD/PhD/Project/Date/augmentation_from_matlab/original_augmentation_data/AH_aug_2.mat\"\n",
    "volume_size_path = \"/Volumes/Shawn_HDD/PhD/Project/Date/augmentation_from_matlab/original_augmentation_volume_size/AH_augSize_2.mat\"\n",
    "\n",
    "landmarks_file = h5py.File(landmarks_path, 'r')\n",
    "volume_size_file= h5py.File(volume_size_path, 'r')\n",
    "\n",
    "landmarks_cropped_check = np.load(\"/Volumes/Shawn_HDD/PhD/Project/Date/augmentation_from_matlab/Cropped/cropped_points_x5050y5050z5050.npy\")"
   ],
   "metadata": {
    "collapsed": false,
    "ExecuteTime": {
     "start_time": "2023-05-02T12:31:12.160944Z",
     "end_time": "2023-05-02T12:31:12.177264Z"
    }
   }
  },
  {
   "cell_type": "code",
   "execution_count": 46,
   "outputs": [],
   "source": [
    "landmarks = np.asarray(landmarks_file.get('augPts')).reshape(3, 4).T\n",
    "volume_size = np.asarray(volume_size_file.get('volumeSize'))"
   ],
   "metadata": {
    "collapsed": false,
    "ExecuteTime": {
     "start_time": "2023-05-02T12:31:15.319685Z",
     "end_time": "2023-05-02T12:31:15.329316Z"
    }
   }
  },
  {
   "cell_type": "code",
   "execution_count": 53,
   "outputs": [],
   "source": [
    "import Functions.MyCrop as MyCrop\n",
    "\n",
    "importlib.reload(MyCrop)\n",
    "\n",
    "left_landmarks, left_cropped_length, right_landmarks, right_cropped_length = MyCrop.crop_volume_shape(volume_size, landmarks)\n",
    "\n",
    "right_landmarks_flipped = MyCrop.flip_volume_shape((100, 100, 100), right_landmarks)"
   ],
   "metadata": {
    "collapsed": false,
    "ExecuteTime": {
     "start_time": "2023-05-02T12:39:23.026918Z",
     "end_time": "2023-05-02T12:39:23.039214Z"
    }
   }
  },
  {
   "cell_type": "code",
   "execution_count": 54,
   "outputs": [],
   "source": [
    "\n",
    "left_landmarks_check = landmarks_cropped_check[2]\n",
    "right_landmarks_check = landmarks_cropped_check[3]"
   ],
   "metadata": {
    "collapsed": false,
    "ExecuteTime": {
     "start_time": "2023-05-02T12:39:24.415127Z",
     "end_time": "2023-05-02T12:39:24.431750Z"
    }
   }
  },
  {
   "cell_type": "code",
   "execution_count": 56,
   "outputs": [
    {
     "name": "stdout",
     "output_type": "stream",
     "text": [
      "left_landmarks cropped: [[51.15975662 34.59953945 50.23935345]\n",
      " [47.58622571 64.19868863 47.97655764]]\n",
      "left_landmarks check: [[52.15975662 35.59953945 51.23935345]\n",
      " [48.58622571 65.19868863 48.97655764]]\n",
      "right_landmarks cropped: [[57.42920872 36.96424741 52.87746313]\n",
      " [41.3167736  62.23752452 46.90662578]]\n",
      "right_landmarks check: [[56.42920872 37.96424741 53.87746313]\n",
      " [40.3167736  63.23752452 47.90662578]]\n"
     ]
    }
   ],
   "source": [
    "print(\"left_landmarks cropped:\", left_landmarks)\n",
    "print(\"left_landmarks check:\", left_landmarks_check)\n",
    "print(\"right_landmarks cropped:\", right_landmarks_flipped)\n",
    "print(\"right_landmarks check:\", right_landmarks_check)"
   ],
   "metadata": {
    "collapsed": false,
    "ExecuteTime": {
     "start_time": "2023-05-02T12:39:39.961043Z",
     "end_time": "2023-05-02T12:39:39.973321Z"
    }
   }
  },
  {
   "cell_type": "code",
   "execution_count": 59,
   "outputs": [
    {
     "name": "stdout",
     "output_type": "stream",
     "text": [
      "[[786.15975662 501.59953945 226.23935345]\n",
      " [782.58622571 531.19868863 223.97655764]\n",
      " [277.57079128 586.96424741 225.87746313]\n",
      " [293.6832264  612.23752452 219.90662578]]\n"
     ]
    }
   ],
   "source": [
    "print(landmarks)"
   ],
   "metadata": {
    "collapsed": false,
    "ExecuteTime": {
     "start_time": "2023-05-02T12:46:32.883033Z",
     "end_time": "2023-05-02T12:46:32.895494Z"
    }
   }
  },
  {
   "cell_type": "code",
   "execution_count": 67,
   "outputs": [
    {
     "name": "stdout",
     "output_type": "stream",
     "text": [
      "[[786.15975662 501.59953945 226.23935345]\n",
      " [782.58622571 531.19868863 223.97655764]]\n",
      "[[277.57079128 586.96424741 225.87746313]\n",
      " [293.6832264  612.23752452 219.90662578]]\n"
     ]
    }
   ],
   "source": [
    "print(left_landmarks_check+left_cropped_length-1)\n",
    "\n",
    "right_landmarks_check_flipped = MyCrop.flip_volume_shape((100, 100, 100), right_landmarks_check)\n",
    "print(right_landmarks_check_flipped+right_cropped_length-1)"
   ],
   "metadata": {
    "collapsed": false,
    "ExecuteTime": {
     "start_time": "2023-05-02T12:49:57.552789Z",
     "end_time": "2023-05-02T12:49:57.578168Z"
    }
   }
  },
  {
   "cell_type": "code",
   "execution_count": 71,
   "outputs": [],
   "source": [
    "aug_dir = \"/Volumes/Shawn_HDD/PhD/Project/Date/augmentation_from_matlab/original_augmentation_data/\"\n",
    "size_dir = \"/Volumes/Shawn_HDD/PhD/Project/Date/augmentation_from_matlab/original_augmentation_volume_size/\"\n",
    "\n",
    "pat_names = MyDataset.get_pat_names()\n",
    "\n",
    "cropped_length = None\n",
    "for pat_name in pat_names:\n",
    "    for aug_id in range(1, 51):\n",
    "        aug_file_path = f\"{aug_dir}{pat_name}_aug_{aug_id}.mat\"\n",
    "        size_file_path = f\"{size_dir}{pat_name}_augSize_{aug_id}.mat\"\n",
    "        aug_file = h5py.File(aug_file_path, 'r')\n",
    "        size_file = h5py.File(size_file_path, 'r')\n",
    "        landmarks = np.asarray(aug_file.get('augPts')).reshape(3, 4).T\n",
    "        volume_size = np.asarray(size_file.get('volumeSize'))\n",
    "        left_landmarks, left_cropped_length, right_landmarks, right_cropped_length = \\\n",
    "            MyCrop.crop_volume_shape(volume_size, landmarks)\n",
    "        c_length = np.concatenate((left_cropped_length, right_cropped_length), axis=0)\n",
    "        # combine the cropped length\n",
    "        if cropped_length is None:\n",
    "            cropped_length = c_length\n",
    "        else:\n",
    "            cropped_length = np.concatenate((cropped_length, c_length), axis=0)\n"
   ],
   "metadata": {
    "collapsed": false,
    "ExecuteTime": {
     "start_time": "2023-05-02T13:41:06.233006Z",
     "end_time": "2023-05-02T13:42:08.397700Z"
    }
   }
  },
  {
   "cell_type": "code",
   "execution_count": 72,
   "outputs": [],
   "source": [
    "cropped_length = cropped_length.reshape((2000, 2, 3))"
   ],
   "metadata": {
    "collapsed": false,
    "ExecuteTime": {
     "start_time": "2023-05-02T13:43:06.851278Z",
     "end_time": "2023-05-02T13:43:06.879661Z"
    }
   }
  },
  {
   "cell_type": "code",
   "execution_count": 76,
   "outputs": [
    {
     "name": "stdout",
     "output_type": "stream",
     "text": [
      "[[786.15975662 501.59953945 226.23935345]\n",
      " [782.58622571 531.19868863 223.97655764]]\n",
      "[[277.57079128 586.96424741 225.87746313]\n",
      " [293.6832264  612.23752452 219.90662578]]\n"
     ]
    }
   ],
   "source": [
    "print(left_landmarks_check+cropped_length[2]-1)\n",
    "\n",
    "right_landmarks_check_flipped = MyCrop.flip_volume_shape((100, 100, 100), right_landmarks_check)\n",
    "print(right_landmarks_check_flipped+cropped_length[3]-1)"
   ],
   "metadata": {
    "collapsed": false,
    "ExecuteTime": {
     "start_time": "2023-05-02T13:43:53.627918Z",
     "end_time": "2023-05-02T13:43:53.636604Z"
    }
   }
  },
  {
   "cell_type": "code",
   "execution_count": 79,
   "outputs": [],
   "source": [
    "np.save(\"/Volumes/Shawn_HDD/PhD/Project/Date/augmentation_from_matlab/Cropped/cropped_length_x5050y5050z5050.npy\", cropped_length)"
   ],
   "metadata": {
    "collapsed": false,
    "ExecuteTime": {
     "start_time": "2023-05-02T13:55:11.208314Z",
     "end_time": "2023-05-02T13:55:11.243647Z"
    }
   }
  },
  {
   "cell_type": "code",
   "execution_count": 5,
   "outputs": [],
   "source": [
    "import numpy as np\n",
    "\n",
    "length_array = np.load(\"/Volumes/Shawn_HDD/PhD/Project/Date/augmentation_from_matlab/Cropped/based_on_truth/cropped_length_x5050y5050z5050.npy\")"
   ],
   "metadata": {
    "collapsed": false,
    "ExecuteTime": {
     "start_time": "2023-05-15T12:42:24.778892Z",
     "end_time": "2023-05-15T12:42:24.791299Z"
    }
   }
  },
  {
   "cell_type": "code",
   "execution_count": 6,
   "outputs": [
    {
     "data": {
      "text/plain": "array([[[704., 413., 156.],\n        [704., 413., 156.]],\n\n       [[199., 438., 161.],\n        [199., 438., 161.]],\n\n       [[734., 466., 175.],\n        [734., 466., 175.]],\n\n       [[235., 549., 172.],\n        [235., 549., 172.]],\n\n       [[780., 488., 290.],\n        [780., 488., 290.]]])"
     },
     "execution_count": 6,
     "metadata": {},
     "output_type": "execute_result"
    }
   ],
   "source": [
    "length_array[0:5]"
   ],
   "metadata": {
    "collapsed": false,
    "ExecuteTime": {
     "start_time": "2023-05-15T12:42:25.412327Z",
     "end_time": "2023-05-15T12:42:25.417283Z"
    }
   }
  },
  {
   "cell_type": "code",
   "execution_count": 3,
   "outputs": [
    {
     "data": {
      "text/plain": "array([[[704., 413., 156.],\n        [704., 413., 156.]],\n\n       [[199., 438., 161.],\n        [199., 438., 161.]],\n\n       [[734., 466., 175.],\n        [734., 466., 175.]],\n\n       [[235., 549., 172.],\n        [235., 549., 172.]],\n\n       [[780., 488., 290.],\n        [780., 488., 290.]]])"
     },
     "execution_count": 3,
     "metadata": {},
     "output_type": "execute_result"
    }
   ],
   "source": [
    "length_array = length_array - 1\n",
    "length_array[0:5]"
   ],
   "metadata": {
    "collapsed": false,
    "ExecuteTime": {
     "start_time": "2023-05-15T12:41:52.134907Z",
     "end_time": "2023-05-15T12:41:52.165516Z"
    }
   }
  },
  {
   "cell_type": "code",
   "execution_count": 4,
   "outputs": [],
   "source": [
    "np.save(\"/Volumes/Shawn_HDD/PhD/Project/Date/augmentation_from_matlab/Cropped/based_on_truth/cropped_length_x5050y5050z5050.npy\", length_array)"
   ],
   "metadata": {
    "collapsed": false,
    "ExecuteTime": {
     "start_time": "2023-05-15T12:42:17.698260Z",
     "end_time": "2023-05-15T12:42:17.727903Z"
    }
   }
  },
  {
   "cell_type": "code",
   "execution_count": null,
   "outputs": [],
   "source": [],
   "metadata": {
    "collapsed": false
   }
  }
 ],
 "metadata": {
  "kernelspec": {
   "display_name": "Python 3",
   "language": "python",
   "name": "python3"
  },
  "language_info": {
   "codemirror_mode": {
    "name": "ipython",
    "version": 2
   },
   "file_extension": ".py",
   "mimetype": "text/x-python",
   "name": "python",
   "nbconvert_exporter": "python",
   "pygments_lexer": "ipython2",
   "version": "2.7.6"
  }
 },
 "nbformat": 4,
 "nbformat_minor": 0
}
