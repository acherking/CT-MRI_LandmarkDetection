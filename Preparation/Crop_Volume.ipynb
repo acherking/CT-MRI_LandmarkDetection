{
 "cells": [
  {
   "cell_type": "markdown",
   "source": [
    "# Crop the 3D Volume based on some points"
   ],
   "metadata": {
    "collapsed": false
   }
  },
  {
   "cell_type": "code",
   "execution_count": null,
   "outputs": [],
   "source": [
    "import os\n",
    "import sys\n",
    "module_path = os.path.abspath(os.path.join('..'))\n",
    "\n",
    "if module_path not in sys.path:\n",
    "    sys.path.append(module_path)"
   ],
   "metadata": {
    "collapsed": false
   }
  },
  {
   "cell_type": "code",
   "execution_count": null,
   "outputs": [],
   "source": [
    "## To find out the suitable crop size.\n",
    "## based on ROI points\n",
    "import Functions.MyDataset as MyDataset\n",
    "import importlib\n",
    "\n",
    "importlib.reload(MyDataset)\n",
    "\n",
    "name_list, pts = MyDataset.load_data_dir(\"/Volumes/Shawn_HDD/PhD/Project/Date/augmentation_from_matlab/original_augmentation_data/\")"
   ],
   "metadata": {
    "collapsed": false
   }
  },
  {
   "cell_type": "code",
   "execution_count": null,
   "outputs": [],
   "source": [
    "max_diff_x = 0\n",
    "max_diff_y = 0\n",
    "max_diff_z = 0\n",
    "\n",
    "for patient in range(pts.shape[0]):\n",
    "    diff_x = max([abs(pts[patient, 0, 0]-pts[patient, 1, 0]), abs(pts[patient, 0, 0]-pts[patient, 2, 0]),\n",
    "                  abs(pts[patient, 0, 0]-pts[patient, 3, 0])])\n",
    "    max_diff_x = max([max_diff_x, diff_x])\n",
    "    diff_y = max([abs(pts[patient, 0, 1]-pts[patient, 1, 1]), abs(pts[patient, 0, 1]-pts[patient, 2, 1]),\n",
    "                  abs(pts[patient, 0, 1]-pts[patient, 3, 1])])\n",
    "    max_diff_y = max([max_diff_y, diff_y])\n",
    "    diff_z = max([abs(pts[patient, 0, 2]-pts[patient, 1, 2]), abs(pts[patient, 0, 2]-pts[patient, 2, 2]),\n",
    "                  abs(pts[patient, 0, 2]-pts[patient, 3, 2])])\n",
    "    max_diff_z = max([max_diff_z, diff_z])"
   ],
   "metadata": {
    "collapsed": false
   }
  },
  {
   "cell_type": "code",
   "execution_count": null,
   "outputs": [],
   "source": [
    "print(\"max_diff_x: \", max_diff_x)\n",
    "print(\"max_diff_y: \", max_diff_y)\n",
    "print(\"max_diff_z: \", max_diff_z)"
   ],
   "metadata": {
    "collapsed": false
   }
  },
  {
   "cell_type": "markdown",
   "source": [
    "## Looks like the area is still too big (598, 188, 169)\n",
    "So, we think we can focus on the left and right landmark area separately"
   ],
   "metadata": {
    "collapsed": false
   }
  },
  {
   "cell_type": "code",
   "execution_count": null,
   "outputs": [],
   "source": [
    "import numpy as np\n",
    "\n",
    "def crop(volume, points, crop_size):\n",
    "    \"\"\"\n",
    "    crop_size: ((x_d, x_a), (y_d, y_a), (z_d, z_a))\n",
    "        x_d is the length from the centre of the given points to the descending direction of axis x\n",
    "        x_a is the length from the centre of the given points to the ascending direction of axis x\n",
    "        ...\n",
    "    \"\"\"\n",
    "    fill_value = np.min(volume)\n",
    "    ((x_d, x_a), (y_d, y_a), (z_d, z_a)) = crop_size\n",
    "    # initialize the cropped_volume with the minimal value in the volume\n",
    "    cropped_volume = np.ones((x_d+x_a, y_d+y_a, z_d+z_a)) * fill_value\n",
    "\n",
    "    centre = np.average(points, axis=0).astype(int)\n",
    "\n",
    "    # find the border on axis x\n",
    "    x_start = 0\n",
    "    x_idx_min = centre[0] - x_d\n",
    "    x_length = x_d + x_a\n",
    "    if x_idx_min < 0:\n",
    "        x_length = x_length - abs(x_idx_min)\n",
    "        x_start = abs(x_idx_min)\n",
    "        x_idx_min = 0\n",
    "    x_idx_max = centre[0] + x_a\n",
    "    if x_idx_max > (volume.shape[0]-1):\n",
    "        x_length = x_length - (x_idx_max - (volume.shape[0] - 1))\n",
    "        x_idx_max = volume.shape[0] - 1\n",
    "\n",
    "    # find the border on axis y\n",
    "    y_start = 0\n",
    "    y_idx_min = centre[1] - y_d\n",
    "    y_length = y_d + y_a\n",
    "    if y_idx_min < 0:\n",
    "        y_length = y_length - abs(y_idx_min)\n",
    "        y_start = abs(y_idx_min)\n",
    "        y_idx_min = 0\n",
    "    y_idx_max = centre[1] + y_a\n",
    "    if y_idx_max > (volume.shape[1]-1):\n",
    "        y_length = y_length - (y_idx_max - (volume.shape[1] - 1))\n",
    "        y_idx_max = volume.shape[1] - 1\n",
    "\n",
    "    # find the border on axis z\n",
    "    z_start = 0\n",
    "    z_idx_min = centre[2] - z_d\n",
    "    z_length = z_d + z_a\n",
    "    if z_idx_min < 0:\n",
    "        z_length = z_length - abs(z_idx_min)\n",
    "        z_start = abs(z_idx_min)\n",
    "        z_idx_min = 0\n",
    "    z_idx_max = centre[2] + z_a\n",
    "    if z_idx_max > (volume.shape[2]-1):\n",
    "        z_length = z_length - (z_idx_max - (volume.shape[2] - 1))\n",
    "        z_idx_max = volume.shape[2] - 1\n",
    "\n",
    "    # crop the volume\n",
    "    cropped_volume[x_start:(x_start+x_length), y_start:(y_start+y_length), z_start:(z_start+z_length)] = \\\n",
    "        volume[x_idx_min:(x_idx_min+x_length), y_idx_min:(y_idx_min+y_length), z_idx_min:(z_idx_min+z_length)]\n",
    "    # relocate the points\n",
    "    cropped_points =  points - np.ones(points.shape) * np.array([x_idx_min, y_idx_min, z_idx_min]) + \\\n",
    "                     np.ones(points.shape) * np.array([x_start, y_start, z_start])\n",
    "\n",
    "    return cropped_volume, cropped_points\n",
    "\n",
    "def crop_volume(volume, points):\n",
    "    \"\"\"\n",
    "    Crop the landmark areas for left and right ears separately\n",
    "    The outputs are two cubic volume 100*100*100 (may change in the future).\n",
    "    Input:  1. Volume: the original volume\n",
    "            2. Points: LLSCC ant/post, RLSCC ant/post\n",
    "\n",
    "    Output: 1. (left_area_volume, landmark_points)\n",
    "            2. (right_area_volume, landmark_points)\n",
    "    \"\"\"\n",
    "    crop_size = ((50, 50), (50, 50), (50, 50))\n",
    "    # points coordinate is (x, y, z), swap to (y, x, z) to cooperate the volume (row, clown, slice)\n",
    "    points = points[:, [1, 0, 2]]\n",
    "    left_area, left_landmarks = crop(volume, points[0:2], crop_size)\n",
    "    left_landmarks = left_landmarks[:, [1, 0, 2]]\n",
    "    right_area, right_landmarks = crop(volume, points[2:4], crop_size)\n",
    "    right_landmarks = right_landmarks[:, [1, 0, 2]]\n",
    "    flip_right_area = np.fliplr(right_area)\n",
    "    flip_right_landmarks = np.copy(right_landmarks)\n",
    "    flip_right_landmarks[:, [0]] = \\\n",
    "        np.ones(flip_right_landmarks[:, [0]].shape) * (crop_size[0][0] + crop_size[0][1] - 1) - flip_right_landmarks[:, [0]]\n",
    "\n",
    "    return left_area, left_landmarks, flip_right_area, flip_right_landmarks"
   ],
   "metadata": {
    "collapsed": false
   }
  },
  {
   "cell_type": "code",
   "execution_count": null,
   "outputs": [],
   "source": [
    "## Check the cropped results\n",
    "\n",
    "import importlib\n",
    "import Functions.MyDataset as MyDataset\n",
    "import Functions.Visualization as Visualization\n",
    "\n",
    "JH_aug_mat_path = \"/Volumes/Shawn_HDD/PhD/Project/Date/augmentation_from_matlab/original_augmentation_data/AH_aug_1.mat\"\n",
    "# JH_reshape_vol_mat_path = \"/Volumes/Shawn_SSD/PhD/Project/Date/augmentation_from_matlab/Val/Input/FA_17017030_AugVol_2.mat\"\n",
    "# JH_reshape_pts_mat_path = \"/Volumes/Shawn_SSD/PhD/Project/Date/augmentation_from_matlab/Val/Output/FA_17017030_AugPts_2.mat\"\n",
    "\n",
    "pixel_space = [0.15, 0.15, 0.15]\n",
    "\n",
    "importlib.reload(MyDataset)\n",
    "\n",
    "JH_aug_volume, JH_aug_pts, _ = MyDataset.load_mat_data(JH_aug_mat_path)\n",
    "\n",
    "# JH_aug_zoomed_volume, JH_aug_zoomed_pts = MyDataset.load_mat_data(JH_reshape_vol_mat_path, JH_reshape_pts_mat_path)\n",
    "Visualization.show_pts(JH_aug_volume, JH_aug_pts, pixel_space)"
   ],
   "metadata": {
    "collapsed": false,
    "pycharm": {
     "is_executing": true
    }
   }
  },
  {
   "cell_type": "code",
   "execution_count": null,
   "outputs": [],
   "source": [
    "left_volume, left_points, flip_right_volume, flip_right_points = crop_volume(JH_aug_volume, JH_aug_pts)"
   ],
   "metadata": {
    "collapsed": false
   }
  },
  {
   "cell_type": "code",
   "execution_count": null,
   "outputs": [],
   "source": [
    "print(\"left_points: \", left_points)\n",
    "print(\"flip_right_points: \", flip_right_points)"
   ],
   "metadata": {
    "collapsed": false
   }
  },
  {
   "cell_type": "code",
   "execution_count": null,
   "outputs": [],
   "source": [
    "importlib.reload(Visualization)\n",
    "import time\n",
    "from IPython.display import display, clear_output\n",
    "\n",
    "pixel_space = [0.15, 0.15, 0.15]\n",
    "\n",
    "Visualization.show_two_landmarks(left_volume, left_points, flip_right_volume, flip_right_points, pixel_space)\n",
    "\n",
    "# for i in range(100):\n",
    "#     left_points[0][2] = i\n",
    "#     left_points[1][2] = i\n",
    "#     flip_right_points[0][2] = i\n",
    "#     flip_right_points[1][2] = i\n",
    "#     Visualization.show_two_landmarks(left_volume, left_points, flip_right_volume, flip_right_points, pixel_space)\n",
    "#     time.sleep(1)\n",
    "#     clear_output(wait=True)"
   ],
   "metadata": {
    "collapsed": false
   }
  },
  {
   "cell_type": "markdown",
   "source": [
    "## Crop the augmented volumes"
   ],
   "metadata": {
    "collapsed": false
   }
  },
  {
   "cell_type": "code",
   "execution_count": null,
   "outputs": [],
   "source": [
    "import numpy as np\n",
    "import Functions.MyDataset as MyDataset\n",
    "\n",
    "# store cropped volumes into one arrays, and points to another\n",
    "pixel_space = [0.15, 0.15, 0.15]\n",
    "dir_path = \"F:/Data/original_augmentation_data/\"\n",
    "save_volumes_dir = \"F:/Data/cropped/volumes/\"\n",
    "save_points_dir = \"F:/Data/cropped/points/\"\n",
    "pat_names = ['AH', 'AZ', 'DE', 'DM', 'DM2', 'DGL', 'FA', 'GE', 'GM', 'GP', 'HB', 'HH',\n",
    "             'JH', 'JM', 'LG', 'LP', 'MJ', 'NV', 'PH', 'SM']\n",
    "\n",
    "cropped_volumes = []\n",
    "cropped_points = []\n",
    "for pat_name in pat_names:\n",
    "    for aug_id in range(1, 51):\n",
    "        # such as: \"/Volumes/Shawn_HDD/PhD/Project/Date/augmentation_from_matlab/original_augmentation_data/AH_aug_1.mat\"\n",
    "        file_path = dir_path + pat_name + \"_aug_\" + str(aug_id) + \".mat\"\n",
    "        print(\"load file: \", file_path)\n",
    "        aug_volume, aug_pts, _ = MyDataset.load_mat_data(file_path)\n",
    "        clear_output(wait=True)\n",
    "        print(\"crop volume for: \", file_path)\n",
    "        left_volume, left_points, flip_right_volume, flip_right_points = crop_volume(aug_volume, aug_pts)\n",
    "        Visualization.show_two_landmarks(left_volume, left_points, flip_right_volume, flip_right_points, pixel_space)\n",
    "        print(\"save the cropped volumes\")\n",
    "        np.save(save_volumes_dir + pat_name + \"_augVolume_\"+str(aug_id)+\"_cropped_left_100x100x100.npy\", left_volume)\n",
    "        np.save(save_volumes_dir + pat_name + \"_augVolume_\"+str(aug_id)+\"_cropped_right_100x100x100.npy\", flip_right_volume)\n",
    "        np.save(save_points_dir + pat_name + \"_augPoints_\"+str(aug_id)+\"_cropped_left_100x100x100.npy\", left_points)\n",
    "        np.save(save_points_dir + pat_name + \"_augPoints_\"+str(aug_id)+\"_cropped_right_100x100x100.npy\", flip_right_points)\n",
    "        cropped_volumes.append(left_volume)\n",
    "        cropped_volumes.append(flip_right_volume)\n",
    "        cropped_points.append(left_points)\n",
    "        cropped_points.append(flip_right_points)\n",
    "        print(\"Finish cropping: \" + file_path)"
   ],
   "metadata": {
    "collapsed": false,
    "pycharm": {
     "is_executing": true
    }
   }
  },
  {
   "cell_type": "code",
   "execution_count": null,
   "outputs": [],
   "source": [
    "print(len(cropped_volumes))\n",
    "print(len(cropped_points))"
   ],
   "metadata": {
    "collapsed": false
   }
  },
  {
   "cell_type": "markdown",
   "source": [
    "## Visualize the Prediction Results"
   ],
   "metadata": {
    "collapsed": false
   }
  },
  {
   "cell_type": "code",
   "execution_count": null,
   "outputs": [],
   "source": [],
   "metadata": {
    "collapsed": false
   }
  },
  {
   "cell_type": "code",
   "execution_count": null,
   "outputs": [],
   "source": [],
   "metadata": {
    "collapsed": false
   }
  }
 ],
 "metadata": {
  "kernelspec": {
   "display_name": "Python 3",
   "language": "python",
   "name": "python3"
  },
  "language_info": {
   "codemirror_mode": {
    "name": "ipython",
    "version": 2
   },
   "file_extension": ".py",
   "mimetype": "text/x-python",
   "name": "python",
   "nbconvert_exporter": "python",
   "pygments_lexer": "ipython2",
   "version": "2.7.6"
  }
 },
 "nbformat": 4,
 "nbformat_minor": 0
}
