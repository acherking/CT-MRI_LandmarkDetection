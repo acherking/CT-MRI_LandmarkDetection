{
 "cells": [
  {
   "cell_type": "markdown",
   "source": [
    "# Process the data (combine them together)"
   ],
   "metadata": {
    "collapsed": false
   }
  },
  {
   "cell_type": "markdown",
   "source": [
    "## Check JH's augmentation data"
   ],
   "metadata": {
    "collapsed": false
   }
  },
  {
   "cell_type": "code",
   "execution_count": 8,
   "outputs": [
    {
     "ename": "ModuleNotFoundError",
     "evalue": "No module named 'Functions'",
     "output_type": "error",
     "traceback": [
      "\u001B[0;31m---------------------------------------------------------------------------\u001B[0m",
      "\u001B[0;31mModuleNotFoundError\u001B[0m                       Traceback (most recent call last)",
      "Input \u001B[0;32mIn [8]\u001B[0m, in \u001B[0;36m<cell line: 2>\u001B[0;34m()\u001B[0m\n\u001B[1;32m      1\u001B[0m \u001B[38;5;28;01mimport\u001B[39;00m \u001B[38;5;21;01mimportlib\u001B[39;00m\n\u001B[0;32m----> 2\u001B[0m \u001B[38;5;28;01mimport\u001B[39;00m \u001B[38;5;21;01mFunctions\u001B[39;00m\u001B[38;5;21;01m.\u001B[39;00m\u001B[38;5;21;01mMyDataset\u001B[39;00m \u001B[38;5;28;01mas\u001B[39;00m \u001B[38;5;21;01mMyDataset\u001B[39;00m\n\u001B[1;32m      3\u001B[0m \u001B[38;5;28;01mimport\u001B[39;00m \u001B[38;5;21;01mFunctions\u001B[39;00m\u001B[38;5;21;01m.\u001B[39;00m\u001B[38;5;21;01mVisualization\u001B[39;00m \u001B[38;5;28;01mas\u001B[39;00m \u001B[38;5;21;01mVisualization\u001B[39;00m\n\u001B[1;32m      5\u001B[0m JH_aug_mat_path \u001B[38;5;241m=\u001B[39m \u001B[38;5;124m\"\u001B[39m\u001B[38;5;124m/Volumes/Shawn_HDD/PhD/Project/Date/augmentation_from_matlab/original_augmentation_data/AH_aug_1.mat\u001B[39m\u001B[38;5;124m\"\u001B[39m\n",
      "\u001B[0;31mModuleNotFoundError\u001B[0m: No module named 'Functions'"
     ]
    }
   ],
   "source": [
    "import importlib\n",
    "import Functions.MyDataset as MyDataset\n",
    "import Functions.Visualization as Visualization\n",
    "\n",
    "JH_aug_mat_path = \"/Volumes/Shawn_HDD/PhD/Project/Date/augmentation_from_matlab/original_augmentation_data/AH_aug_1.mat\"\n",
    "# JH_reshape_vol_mat_path = \"/Volumes/Shawn_SSD/PhD/Project/Date/augmentation_from_matlab/Val/Input/FA_17017030_AugVol_2.mat\"\n",
    "# JH_reshape_pts_mat_path = \"/Volumes/Shawn_SSD/PhD/Project/Date/augmentation_from_matlab/Val/Output/FA_17017030_AugPts_2.mat\"\n",
    "\n",
    "pixel_space = [0.15, 0.15, 0.15]\n",
    "\n",
    "importlib.reload(MyDataset)\n",
    "\n",
    "JH_aug_volume, JH_aug_pts = MyDataset.load_mat_data(JH_aug_mat_path)\n",
    "MyDataset.show_pts(JH_aug_volume, JH_aug_pts, pixel_space)\n",
    "\n",
    "# JH_aug_zoomed_volume, JH_aug_zoomed_pts = MyDataset.load_mat_data(JH_reshape_vol_mat_path, JH_reshape_pts_mat_path)\n",
    "Visualization.show_pts(JH_aug_volume, JH_aug_pts, pixel_space)\n"
   ],
   "metadata": {
    "collapsed": false
   }
  },
  {
   "cell_type": "code",
   "execution_count": null,
   "outputs": [],
   "source": [
    "# Try up_sampling method\n",
    "\n",
    "# up_sampling_JH = MyDataset.rescale_3d_volume(JH_aug_zoomed_volume, (512, 512, 90))\n",
    "# Visualization.show_pts(up_sampling_JH, JH_aug_zoomed_pts, pixel_space)"
   ],
   "metadata": {
    "collapsed": false
   }
  },
  {
   "cell_type": "markdown",
   "source": [
    "## Check rescaled data"
   ],
   "metadata": {
    "collapsed": false
   }
  },
  {
   "cell_type": "code",
   "execution_count": null,
   "outputs": [],
   "source": [
    "import importlib\n",
    "import Functions\n",
    "\n",
    "# data_path = \"/Volumes/Shawn_SSD/PhD/Project/Date/augmentation_rescaled_data/176_176_48/AH_17617648_VolPts_3.mat\"\n",
    "# data_path = \"/Volumes/Shawn_SSD/PhD/Project/Date/augmentation_rescaled_data/240_240_64/AH_24024064_VolPts_3.mat\"\n",
    "# data_path = \"/Volumes/Shawn_SSD/PhD/Project/Date/augmentation_rescaled_data/320_320_96/AH_32032096_VolPts_3.mat\"\n",
    "# data_path = \"/Volumes/Shawn_SSD/PhD/Project/Date/augmentation_rescaled_data/480_480_128/AH_480480128_VolPts_3.mat\"\n",
    "data_path = \"/Volumes/Shawn_SSD/PhD/Project/Date/augmentation_rescaled_data/560_560_160/AH_560560160_VolPts_3.mat\"\n",
    "\n",
    "aug_rescaled_volume, aug_rescaled_pts = MyDataset.load_mat_data(data_path)\n",
    "\n",
    "pixel_space = [0.15, 0.15, 0.15]\n",
    "Visualization.show_pts(aug_rescaled_volume, aug_rescaled_pts, pixel_space)"
   ],
   "metadata": {
    "collapsed": false
   }
  },
  {
   "cell_type": "markdown",
   "source": [
    "## Combination"
   ],
   "metadata": {
    "collapsed": false
   }
  },
  {
   "cell_type": "code",
   "execution_count": null,
   "outputs": [],
   "source": [
    "import numpy as np\n",
    "import importlib\n",
    "import Functions\n",
    "\n",
    "def combine_data(x_base_path, y_base_path, store_base_path, data_tag):\n",
    "    importlib.reload(MyDataset)\n",
    "\n",
    "    # X_val_base_path = \"/Volumes/Shawn_SSD/PhD/Project/Date/augmentation_from_matlab/Val/Input\"\n",
    "    # Y_val_base_path = \"/Volumes/Shawn_SSD/PhD/Project/Date/augmentation_from_matlab/Val/Output\"\n",
    "\n",
    "    x_dataset, y_dataset = MyDataset.load_mat_data_dir(x_base_path, y_base_path)\n",
    "\n",
    "    x_dataset = np.asarray(x_dataset)\n",
    "    y_dataset = np.asarray(y_dataset)\n",
    "\n",
    "    x_dataset_path = store_base_path + \"X_\" + data_tag + \"_data\"\n",
    "    y_dataset_path = store_base_path + \"Y_\" + data_tag + \"_data\"\n",
    "\n",
    "    np.save(x_dataset_path, x_dataset)\n",
    "    np.save(y_dataset_path, y_dataset)\n"
   ],
   "metadata": {
    "collapsed": false
   }
  },
  {
   "cell_type": "code",
   "execution_count": null,
   "outputs": [],
   "source": [
    "X_train_base_path = \"/Volumes/Shawn_SSD/PhD/Project/Date/augmentation_from_matlab/Train/Input\"\n",
    "Y_train_base_path = \"/Volumes/Shawn_SSD/PhD/Project/Date/augmentation_from_matlab/Train/Output\"\n",
    "X_val_base_path = \"/Volumes/Shawn_SSD/PhD/Project/Date/augmentation_from_matlab/Val/Input\"\n",
    "Y_val_base_path = \"/Volumes/Shawn_SSD/PhD/Project/Date/augmentation_from_matlab/Val/Output\"\n",
    "X_test_base_path = \"/Volumes/Shawn_SSD/PhD/Project/Date/augmentation_from_matlab/Test/Input\"\n",
    "Y_test_base_path = \"/Volumes/Shawn_SSD/PhD/Project/Date/augmentation_from_matlab/Test/Output\"\n",
    "store_base_path = \"data/\"\n",
    "\n",
    "combine_data(X_train_base_path, Y_train_base_path, store_base_path, \"train\")\n",
    "combine_data(X_val_base_path, Y_val_base_path, store_base_path, \"val\")\n",
    "combine_data(X_test_base_path, Y_test_base_path, store_base_path, \"test\")"
   ],
   "metadata": {
    "collapsed": false
   }
  },
  {
   "cell_type": "code",
   "execution_count": null,
   "outputs": [],
   "source": [
    "import numpy as np\n",
    "import Functions\n",
    "\n",
    "# Inspect Loaded Data\n",
    "\n",
    "X_file_path = \"data/X_train_data.npy\"\n",
    "Y_file_path = \"data/Y_train_data.npy\"\n",
    "\n",
    "X_load = np.load(X_file_path, allow_pickle=True)\n",
    "Y_load = np.load(Y_file_path, allow_pickle=True)\n",
    "\n",
    "print(np.shape(X_load), np.shape(Y_load))\n",
    "print(np.shape(X_load[1, :, :, :]), np.shape(Y_load[1, :, :]))\n",
    "\n",
    "# functions.show_pts(X_load[1, :, :, :], Y_load[1, :, :], [0.15, 0.15, 0.15])\n",
    "# functions.show_pts(X_load[2, :, :, :], Y_load[2, :, :], [0.15, 0.15, 0.15])\n",
    "# functions.show_pts(X_load[3, :, :, :], Y_load[3, :, :], [0.15, 0.15, 0.15])\n",
    "# functions.show_pts(X_load[4, :, :, :], Y_load[4, :, :], [0.15, 0.15, 0.15])"
   ],
   "metadata": {
    "collapsed": false
   }
  },
  {
   "cell_type": "markdown",
   "source": [
    "## Check slr model"
   ],
   "metadata": {
    "collapsed": false
   }
  },
  {
   "cell_type": "code",
   "execution_count": null,
   "outputs": [],
   "source": [
    "import Spartan.models as models\n",
    "import importlib\n",
    "\n",
    "importlib.reload(models)\n",
    "\n",
    "model = models.spine_lateral_radiograph_model(width=48, height=48, depth=32)\n",
    "model.summary()"
   ],
   "metadata": {
    "collapsed": false
   }
  },
  {
   "cell_type": "code",
   "execution_count": null,
   "outputs": [],
   "source": [
    "import numpy as np\n",
    "\n",
    "importlib.reload(models)\n",
    "\n",
    "# check the pre-defined coordinate matrix\n",
    "batch_base_cor_xyz = models.coordinate_3d(2,2,3,4)\n",
    "\n",
    "# test base coordinate matrix\n",
    "print(\"batch_base_cor_xyz shape: \", np.shape(batch_base_cor_xyz))\n",
    "print(batch_base_cor_xyz[0, :, :, 3, 1, 2])"
   ],
   "metadata": {
    "collapsed": false
   }
  },
  {
   "cell_type": "code",
   "execution_count": null,
   "outputs": [],
   "source": [
    "from tensorflow import keras\n",
    "\n",
    "# draw a graph for the model's\n",
    "keras.utils.plot_model(model, \"slr_model.png\", show_shapes=True)"
   ],
   "metadata": {
    "collapsed": false
   }
  },
  {
   "cell_type": "code",
   "execution_count": null,
   "outputs": [],
   "source": [
    "import tensorflow as tf\n",
    "\n",
    "# check tf.repeat\n",
    "pro_matricx = np.arange(2*3*4*5*4).reshape(2,3,4,5,4)\n",
    "dup_pro_matricx = tf.repeat(pro_matricx, 3, axis=-1)\n",
    "\n",
    "#print(pro_matricx)\n",
    "\n",
    "# print(np.shape(dup_pro_matricx))\n",
    "dup_pro_matricx = np.reshape(dup_pro_matricx, (2,3,4,5,4,3))\n",
    "print(dup_pro_matricx[:,:,:,:,:,2])"
   ],
   "metadata": {
    "collapsed": false
   }
  },
  {
   "cell_type": "code",
   "execution_count": null,
   "outputs": [],
   "source": [
    "import numpy as np\n",
    "\n",
    "# check output of the model\n",
    "input = np.arange(2*48*48*32*1).reshape(2,48,48,32,1)\n",
    "base_cor_xyz = models.coordinate_3d(2,48,48,32)\n",
    "\n",
    "[output_s1, output_s2] = model([input, base_cor_xyz])\n",
    "\n",
    "print(np.shape(output_s1))\n",
    "print(np.shape(output_s2))\n"
   ],
   "metadata": {
    "collapsed": false
   }
  },
  {
   "cell_type": "code",
   "execution_count": null,
   "outputs": [],
   "source": [
    "importlib.reload(models)\n",
    "\n",
    "# check loss function\n",
    "y_true = np.asarray([[[1,2,3],[2,3,4],[6,7,8],[7,8,9]], [[1.5,2.5,3.5],[2.5,3.5,4.5],[6.5,7.5,8.5],[7.5,8.5,9.5]]])\n",
    "\n",
    "y_pred1 = np.asarray([[[1,2,3],[2,3,4],[6,7,8],[7,8,9]], [[1.5,2.5,3.5],[2.5,3.5,4.5],[6.5,7.5,8.5],[7.5,8.5,9.5]]])\n",
    "y_pred2 = np.asarray([[[1,2,3],[2,3,4],[6,7,8],[7,8,9]], [[1.5,2.5,3.5],[2.5,3.5,4.5],[6.5,7.5,8.5],[7.5,8.5,9.5]]])\n",
    "\n",
    "loss = models.two_stage_wing_loss(y_true, [output_s1, output_s2])\n",
    "\n",
    "print(loss)"
   ],
   "metadata": {
    "collapsed": false
   }
  },
  {
   "cell_type": "markdown",
   "source": [
    "## Simple slr model"
   ],
   "metadata": {
    "collapsed": false
   }
  },
  {
   "cell_type": "code",
   "execution_count": null,
   "outputs": [],
   "source": [
    "import os\n",
    "import sys\n",
    "module_path = os.path.abspath(os.path.join('..'))\n",
    "\n",
    "if module_path not in sys.path:\n",
    "    sys.path.append(module_path)"
   ],
   "metadata": {
    "collapsed": false,
    "pycharm": {
     "is_executing": true
    }
   }
  },
  {
   "cell_type": "code",
   "execution_count": 15,
   "outputs": [
    {
     "name": "stdout",
     "output_type": "stream",
     "text": [
      "Model: \"slr_stage1\"\n",
      "__________________________________________________________________________________________________\n",
      " Layer (type)                   Output Shape         Param #     Connected to                     \n",
      "==================================================================================================\n",
      " input_3 (InputLayer)           [(None, 176, 176, 4  0           []                               \n",
      "                                8, 1)]                                                            \n",
      "                                                                                                  \n",
      " batch_normalization_33 (BatchN  (None, 176, 176, 48  4          ['input_3[0][0]']                \n",
      " ormalization)                  , 1)                                                              \n",
      "                                                                                                  \n",
      " re_lu_33 (ReLU)                (None, 176, 176, 48  0           ['batch_normalization_33[0][0]'] \n",
      "                                , 1)                                                              \n",
      "                                                                                                  \n",
      " conv3d_48 (Conv3D)             (None, 88, 88, 24,   1792        ['re_lu_33[0][0]']               \n",
      "                                64)                                                               \n",
      "                                                                                                  \n",
      " re_lu_34 (ReLU)                (None, 88, 88, 24,   0           ['conv3d_48[0][0]']              \n",
      "                                64)                                                               \n",
      "                                                                                                  \n",
      " batch_normalization_34 (BatchN  (None, 88, 88, 24,   256        ['re_lu_34[0][0]']               \n",
      " ormalization)                  64)                                                               \n",
      "                                                                                                  \n",
      " conv3d_50 (Conv3D)             (None, 88, 88, 24,   128         ['re_lu_33[0][0]']               \n",
      "                                64)                                                               \n",
      "                                                                                                  \n",
      " conv3d_49 (Conv3D)             (None, 88, 88, 24,   110656      ['batch_normalization_34[0][0]'] \n",
      "                                64)                                                               \n",
      "                                                                                                  \n",
      " add_19 (Add)                   (None, 88, 88, 24,   0           ['conv3d_50[0][0]',              \n",
      "                                64)                               'conv3d_49[0][0]']              \n",
      "                                                                                                  \n",
      " re_lu_35 (ReLU)                (None, 88, 88, 24,   0           ['add_19[0][0]']                 \n",
      "                                64)                                                               \n",
      "                                                                                                  \n",
      " batch_normalization_35 (BatchN  (None, 88, 88, 24,   256        ['re_lu_35[0][0]']               \n",
      " ormalization)                  64)                                                               \n",
      "                                                                                                  \n",
      " conv3d_51 (Conv3D)             (None, 88, 88, 24,   110656      ['batch_normalization_35[0][0]'] \n",
      "                                64)                                                               \n",
      "                                                                                                  \n",
      " re_lu_36 (ReLU)                (None, 88, 88, 24,   0           ['conv3d_51[0][0]']              \n",
      "                                64)                                                               \n",
      "                                                                                                  \n",
      " batch_normalization_36 (BatchN  (None, 88, 88, 24,   256        ['re_lu_36[0][0]']               \n",
      " ormalization)                  64)                                                               \n",
      "                                                                                                  \n",
      " conv3d_53 (Conv3D)             (None, 88, 88, 24,   4160        ['batch_normalization_35[0][0]'] \n",
      "                                64)                                                               \n",
      "                                                                                                  \n",
      " conv3d_52 (Conv3D)             (None, 88, 88, 24,   110656      ['batch_normalization_36[0][0]'] \n",
      "                                64)                                                               \n",
      "                                                                                                  \n",
      " add_20 (Add)                   (None, 88, 88, 24,   0           ['conv3d_53[0][0]',              \n",
      "                                64)                               'conv3d_52[0][0]']              \n",
      "                                                                                                  \n",
      " re_lu_37 (ReLU)                (None, 88, 88, 24,   0           ['add_20[0][0]']                 \n",
      "                                64)                                                               \n",
      "                                                                                                  \n",
      " batch_normalization_37 (BatchN  (None, 88, 88, 24,   256        ['re_lu_37[0][0]']               \n",
      " ormalization)                  64)                                                               \n",
      "                                                                                                  \n",
      " conv3d_54 (Conv3D)             (None, 44, 44, 12,   221312      ['batch_normalization_37[0][0]'] \n",
      "                                128)                                                              \n",
      "                                                                                                  \n",
      " re_lu_38 (ReLU)                (None, 44, 44, 12,   0           ['conv3d_54[0][0]']              \n",
      "                                128)                                                              \n",
      "                                                                                                  \n",
      " batch_normalization_38 (BatchN  (None, 44, 44, 12,   512        ['re_lu_38[0][0]']               \n",
      " ormalization)                  128)                                                              \n",
      "                                                                                                  \n",
      " conv3d_56 (Conv3D)             (None, 44, 44, 12,   8320        ['batch_normalization_37[0][0]'] \n",
      "                                128)                                                              \n",
      "                                                                                                  \n",
      " conv3d_55 (Conv3D)             (None, 44, 44, 12,   442496      ['batch_normalization_38[0][0]'] \n",
      "                                128)                                                              \n",
      "                                                                                                  \n",
      " add_21 (Add)                   (None, 44, 44, 12,   0           ['conv3d_56[0][0]',              \n",
      "                                128)                              'conv3d_55[0][0]']              \n",
      "                                                                                                  \n",
      " re_lu_39 (ReLU)                (None, 44, 44, 12,   0           ['add_21[0][0]']                 \n",
      "                                128)                                                              \n",
      "                                                                                                  \n",
      " batch_normalization_39 (BatchN  (None, 44, 44, 12,   512        ['re_lu_39[0][0]']               \n",
      " ormalization)                  128)                                                              \n",
      "                                                                                                  \n",
      " conv3d_57 (Conv3D)             (None, 44, 44, 12,   442496      ['batch_normalization_39[0][0]'] \n",
      "                                128)                                                              \n",
      "                                                                                                  \n",
      " re_lu_40 (ReLU)                (None, 44, 44, 12,   0           ['conv3d_57[0][0]']              \n",
      "                                128)                                                              \n",
      "                                                                                                  \n",
      " batch_normalization_40 (BatchN  (None, 44, 44, 12,   512        ['re_lu_40[0][0]']               \n",
      " ormalization)                  128)                                                              \n",
      "                                                                                                  \n",
      " conv3d_59 (Conv3D)             (None, 44, 44, 12,   16512       ['batch_normalization_39[0][0]'] \n",
      "                                128)                                                              \n",
      "                                                                                                  \n",
      " conv3d_58 (Conv3D)             (None, 44, 44, 12,   442496      ['batch_normalization_40[0][0]'] \n",
      "                                128)                                                              \n",
      "                                                                                                  \n",
      " add_22 (Add)                   (None, 44, 44, 12,   0           ['conv3d_59[0][0]',              \n",
      "                                128)                              'conv3d_58[0][0]']              \n",
      "                                                                                                  \n",
      " re_lu_41 (ReLU)                (None, 44, 44, 12,   0           ['add_22[0][0]']                 \n",
      "                                128)                                                              \n",
      "                                                                                                  \n",
      " batch_normalization_41 (BatchN  (None, 44, 44, 12,   512        ['re_lu_41[0][0]']               \n",
      " ormalization)                  128)                                                              \n",
      "                                                                                                  \n",
      " conv3d_60 (Conv3D)             (None, 22, 22, 6, 2  884992      ['batch_normalization_41[0][0]'] \n",
      "                                56)                                                               \n",
      "                                                                                                  \n",
      " re_lu_42 (ReLU)                (None, 22, 22, 6, 2  0           ['conv3d_60[0][0]']              \n",
      "                                56)                                                               \n",
      "                                                                                                  \n",
      " batch_normalization_42 (BatchN  (None, 22, 22, 6, 2  1024       ['re_lu_42[0][0]']               \n",
      " ormalization)                  56)                                                               \n",
      "                                                                                                  \n",
      " conv3d_62 (Conv3D)             (None, 22, 22, 6, 2  33024       ['batch_normalization_41[0][0]'] \n",
      "                                56)                                                               \n",
      "                                                                                                  \n",
      " conv3d_61 (Conv3D)             (None, 22, 22, 6, 2  1769728     ['batch_normalization_42[0][0]'] \n",
      "                                56)                                                               \n",
      "                                                                                                  \n",
      " add_23 (Add)                   (None, 22, 22, 6, 2  0           ['conv3d_62[0][0]',              \n",
      "                                56)                               'conv3d_61[0][0]']              \n",
      "                                                                                                  \n",
      " re_lu_43 (ReLU)                (None, 22, 22, 6, 2  0           ['add_23[0][0]']                 \n",
      "                                56)                                                               \n",
      "                                                                                                  \n",
      " batch_normalization_43 (BatchN  (None, 22, 22, 6, 2  1024       ['re_lu_43[0][0]']               \n",
      " ormalization)                  56)                                                               \n",
      "                                                                                                  \n",
      " conv3d_63 (Conv3D)             (None, 22, 22, 6, 2  1769728     ['batch_normalization_43[0][0]'] \n",
      "                                56)                                                               \n",
      "                                                                                                  \n",
      " re_lu_44 (ReLU)                (None, 22, 22, 6, 2  0           ['conv3d_63[0][0]']              \n",
      "                                56)                                                               \n",
      "                                                                                                  \n",
      " batch_normalization_44 (BatchN  (None, 22, 22, 6, 2  1024       ['re_lu_44[0][0]']               \n",
      " ormalization)                  56)                                                               \n",
      "                                                                                                  \n",
      " conv3d_65 (Conv3D)             (None, 22, 22, 6, 2  65792       ['batch_normalization_43[0][0]'] \n",
      "                                56)                                                               \n",
      "                                                                                                  \n",
      " conv3d_64 (Conv3D)             (None, 22, 22, 6, 2  1769728     ['batch_normalization_44[0][0]'] \n",
      "                                56)                                                               \n",
      "                                                                                                  \n",
      " add_24 (Add)                   (None, 22, 22, 6, 2  0           ['conv3d_65[0][0]',              \n",
      "                                56)                               'conv3d_64[0][0]']              \n",
      "                                                                                                  \n",
      " re_lu_45 (ReLU)                (None, 22, 22, 6, 2  0           ['add_24[0][0]']                 \n",
      "                                56)                                                               \n",
      "                                                                                                  \n",
      " batch_normalization_45 (BatchN  (None, 22, 22, 6, 2  1024       ['re_lu_45[0][0]']               \n",
      " ormalization)                  56)                                                               \n",
      "                                                                                                  \n",
      " conv3d_66 (Conv3D)             (None, 11, 11, 3, 5  3539456     ['batch_normalization_45[0][0]'] \n",
      "                                12)                                                               \n",
      "                                                                                                  \n",
      " re_lu_46 (ReLU)                (None, 11, 11, 3, 5  0           ['conv3d_66[0][0]']              \n",
      "                                12)                                                               \n",
      "                                                                                                  \n",
      " batch_normalization_46 (BatchN  (None, 11, 11, 3, 5  2048       ['re_lu_46[0][0]']               \n",
      " ormalization)                  12)                                                               \n",
      "                                                                                                  \n",
      " conv3d_68 (Conv3D)             (None, 11, 11, 3, 5  131584      ['batch_normalization_45[0][0]'] \n",
      "                                12)                                                               \n",
      "                                                                                                  \n",
      " conv3d_67 (Conv3D)             (None, 11, 11, 3, 5  7078400     ['batch_normalization_46[0][0]'] \n",
      "                                12)                                                               \n",
      "                                                                                                  \n",
      " add_25 (Add)                   (None, 11, 11, 3, 5  0           ['conv3d_68[0][0]',              \n",
      "                                12)                               'conv3d_67[0][0]']              \n",
      "                                                                                                  \n",
      " re_lu_47 (ReLU)                (None, 11, 11, 3, 5  0           ['add_25[0][0]']                 \n",
      "                                12)                                                               \n",
      "                                                                                                  \n",
      " batch_normalization_47 (BatchN  (None, 11, 11, 3, 5  2048       ['re_lu_47[0][0]']               \n",
      " ormalization)                  12)                                                               \n",
      "                                                                                                  \n",
      " conv3d_69 (Conv3D)             (None, 11, 11, 3, 5  7078400     ['batch_normalization_47[0][0]'] \n",
      "                                12)                                                               \n",
      "                                                                                                  \n",
      " re_lu_48 (ReLU)                (None, 11, 11, 3, 5  0           ['conv3d_69[0][0]']              \n",
      "                                12)                                                               \n",
      "                                                                                                  \n",
      " batch_normalization_48 (BatchN  (None, 11, 11, 3, 5  2048       ['re_lu_48[0][0]']               \n",
      " ormalization)                  12)                                                               \n",
      "                                                                                                  \n",
      " conv3d_71 (Conv3D)             (None, 11, 11, 3, 5  262656      ['batch_normalization_47[0][0]'] \n",
      "                                12)                                                               \n",
      "                                                                                                  \n",
      " conv3d_70 (Conv3D)             (None, 11, 11, 3, 5  7078400     ['batch_normalization_48[0][0]'] \n",
      "                                12)                                                               \n",
      "                                                                                                  \n",
      " add_26 (Add)                   (None, 11, 11, 3, 5  0           ['conv3d_71[0][0]',              \n",
      "                                12)                               'conv3d_70[0][0]']              \n",
      "                                                                                                  \n",
      " re_lu_49 (ReLU)                (None, 11, 11, 3, 5  0           ['add_26[0][0]']                 \n",
      "                                12)                                                               \n",
      "                                                                                                  \n",
      " batch_normalization_49 (BatchN  (None, 11, 11, 3, 5  2048       ['re_lu_49[0][0]']               \n",
      " ormalization)                  12)                                                               \n",
      "                                                                                                  \n",
      " conv3d_72 (Conv3D)             (None, 11, 11, 3, 5  7078400     ['batch_normalization_49[0][0]'] \n",
      "                                12)                                                               \n",
      "                                                                                                  \n",
      " re_lu_50 (ReLU)                (None, 11, 11, 3, 5  0           ['conv3d_72[0][0]']              \n",
      "                                12)                                                               \n",
      "                                                                                                  \n",
      " batch_normalization_50 (BatchN  (None, 11, 11, 3, 5  2048       ['re_lu_50[0][0]']               \n",
      " ormalization)                  12)                                                               \n",
      "                                                                                                  \n",
      " conv3d_74 (Conv3D)             (None, 11, 11, 3, 5  262656      ['batch_normalization_49[0][0]'] \n",
      "                                12)                                                               \n",
      "                                                                                                  \n",
      " conv3d_73 (Conv3D)             (None, 11, 11, 3, 5  7078400     ['batch_normalization_50[0][0]'] \n",
      "                                12)                                                               \n",
      "                                                                                                  \n",
      " add_27 (Add)                   (None, 11, 11, 3, 5  0           ['conv3d_74[0][0]',              \n",
      "                                12)                               'conv3d_73[0][0]']              \n",
      "                                                                                                  \n",
      " re_lu_51 (ReLU)                (None, 11, 11, 3, 5  0           ['add_27[0][0]']                 \n",
      "                                12)                                                               \n",
      "                                                                                                  \n",
      " batch_normalization_51 (BatchN  (None, 11, 11, 3, 5  2048       ['re_lu_51[0][0]']               \n",
      " ormalization)                  12)                                                               \n",
      "                                                                                                  \n",
      " conv3d_75 (Conv3D)             (None, 11, 11, 3, 2  3539200     ['batch_normalization_51[0][0]'] \n",
      "                                56)                                                               \n",
      "                                                                                                  \n",
      " re_lu_52 (ReLU)                (None, 11, 11, 3, 2  0           ['conv3d_75[0][0]']              \n",
      "                                56)                                                               \n",
      "                                                                                                  \n",
      " batch_normalization_52 (BatchN  (None, 11, 11, 3, 2  1024       ['re_lu_52[0][0]']               \n",
      " ormalization)                  56)                                                               \n",
      "                                                                                                  \n",
      " conv3d_77 (Conv3D)             (None, 11, 11, 3, 2  131328      ['batch_normalization_51[0][0]'] \n",
      "                                56)                                                               \n",
      "                                                                                                  \n",
      " conv3d_76 (Conv3D)             (None, 11, 11, 3, 2  1769728     ['batch_normalization_52[0][0]'] \n",
      "                                56)                                                               \n",
      "                                                                                                  \n",
      " add_28 (Add)                   (None, 11, 11, 3, 2  0           ['conv3d_77[0][0]',              \n",
      "                                56)                               'conv3d_76[0][0]']              \n",
      "                                                                                                  \n",
      " re_lu_53 (ReLU)                (None, 11, 11, 3, 2  0           ['add_28[0][0]']                 \n",
      "                                56)                                                               \n",
      "                                                                                                  \n",
      " batch_normalization_53 (BatchN  (None, 11, 11, 3, 2  1024       ['re_lu_53[0][0]']               \n",
      " ormalization)                  56)                                                               \n",
      "                                                                                                  \n",
      " up_sampling3d_4 (UpSampling3D)  (None, 22, 22, 6, 2  0          ['batch_normalization_53[0][0]'] \n",
      "                                56)                                                               \n",
      "                                                                                                  \n",
      " add_29 (Add)                   (None, 22, 22, 6, 2  0           ['up_sampling3d_4[0][0]',        \n",
      "                                56)                               'batch_normalization_45[0][0]'] \n",
      "                                                                                                  \n",
      " conv3d_78 (Conv3D)             (None, 22, 22, 6, 1  884864      ['add_29[0][0]']                 \n",
      "                                28)                                                               \n",
      "                                                                                                  \n",
      " re_lu_54 (ReLU)                (None, 22, 22, 6, 1  0           ['conv3d_78[0][0]']              \n",
      "                                28)                                                               \n",
      "                                                                                                  \n",
      " batch_normalization_54 (BatchN  (None, 22, 22, 6, 1  512        ['re_lu_54[0][0]']               \n",
      " ormalization)                  28)                                                               \n",
      "                                                                                                  \n",
      " conv3d_80 (Conv3D)             (None, 22, 22, 6, 1  32896       ['add_29[0][0]']                 \n",
      "                                28)                                                               \n",
      "                                                                                                  \n",
      " conv3d_79 (Conv3D)             (None, 22, 22, 6, 1  442496      ['batch_normalization_54[0][0]'] \n",
      "                                28)                                                               \n",
      "                                                                                                  \n",
      " add_30 (Add)                   (None, 22, 22, 6, 1  0           ['conv3d_80[0][0]',              \n",
      "                                28)                               'conv3d_79[0][0]']              \n",
      "                                                                                                  \n",
      " re_lu_55 (ReLU)                (None, 22, 22, 6, 1  0           ['add_30[0][0]']                 \n",
      "                                28)                                                               \n",
      "                                                                                                  \n",
      " batch_normalization_55 (BatchN  (None, 22, 22, 6, 1  512        ['re_lu_55[0][0]']               \n",
      " ormalization)                  28)                                                               \n",
      "                                                                                                  \n",
      " up_sampling3d_5 (UpSampling3D)  (None, 44, 44, 12,   0          ['batch_normalization_55[0][0]'] \n",
      "                                128)                                                              \n",
      "                                                                                                  \n",
      " add_31 (Add)                   (None, 44, 44, 12,   0           ['up_sampling3d_5[0][0]',        \n",
      "                                128)                              'batch_normalization_41[0][0]'] \n",
      "                                                                                                  \n",
      " conv3d_81 (Conv3D)             (None, 44, 44, 12,   221248      ['add_31[0][0]']                 \n",
      "                                64)                                                               \n",
      "                                                                                                  \n",
      " re_lu_56 (ReLU)                (None, 44, 44, 12,   0           ['conv3d_81[0][0]']              \n",
      "                                64)                                                               \n",
      "                                                                                                  \n",
      " batch_normalization_56 (BatchN  (None, 44, 44, 12,   256        ['re_lu_56[0][0]']               \n",
      " ormalization)                  64)                                                               \n",
      "                                                                                                  \n",
      " conv3d_83 (Conv3D)             (None, 44, 44, 12,   8256        ['add_31[0][0]']                 \n",
      "                                64)                                                               \n",
      "                                                                                                  \n",
      " conv3d_82 (Conv3D)             (None, 44, 44, 12,   110656      ['batch_normalization_56[0][0]'] \n",
      "                                64)                                                               \n",
      "                                                                                                  \n",
      " add_32 (Add)                   (None, 44, 44, 12,   0           ['conv3d_83[0][0]',              \n",
      "                                64)                               'conv3d_82[0][0]']              \n",
      "                                                                                                  \n",
      " re_lu_57 (ReLU)                (None, 44, 44, 12,   0           ['add_32[0][0]']                 \n",
      "                                64)                                                               \n",
      "                                                                                                  \n",
      " batch_normalization_57 (BatchN  (None, 44, 44, 12,   256        ['re_lu_57[0][0]']               \n",
      " ormalization)                  64)                                                               \n",
      "                                                                                                  \n",
      " up_sampling3d_6 (UpSampling3D)  (None, 88, 88, 24,   0          ['batch_normalization_57[0][0]'] \n",
      "                                64)                                                               \n",
      "                                                                                                  \n",
      " add_33 (Add)                   (None, 88, 88, 24,   0           ['up_sampling3d_6[0][0]',        \n",
      "                                64)                               'batch_normalization_37[0][0]'] \n",
      "                                                                                                  \n",
      " conv3d_84 (Conv3D)             (None, 88, 88, 24,   110656      ['add_33[0][0]']                 \n",
      "                                64)                                                               \n",
      "                                                                                                  \n",
      " re_lu_58 (ReLU)                (None, 88, 88, 24,   0           ['conv3d_84[0][0]']              \n",
      "                                64)                                                               \n",
      "                                                                                                  \n",
      " batch_normalization_58 (BatchN  (None, 88, 88, 24,   256        ['re_lu_58[0][0]']               \n",
      " ormalization)                  64)                                                               \n",
      "                                                                                                  \n",
      " conv3d_86 (Conv3D)             (None, 88, 88, 24,   4160        ['add_33[0][0]']                 \n",
      "                                64)                                                               \n",
      "                                                                                                  \n",
      " conv3d_85 (Conv3D)             (None, 88, 88, 24,   110656      ['batch_normalization_58[0][0]'] \n",
      "                                64)                                                               \n",
      "                                                                                                  \n",
      " add_34 (Add)                   (None, 88, 88, 24,   0           ['conv3d_86[0][0]',              \n",
      "                                64)                               'conv3d_85[0][0]']              \n",
      "                                                                                                  \n",
      " re_lu_59 (ReLU)                (None, 88, 88, 24,   0           ['add_34[0][0]']                 \n",
      "                                64)                                                               \n",
      "                                                                                                  \n",
      " batch_normalization_59 (BatchN  (None, 88, 88, 24,   256        ['re_lu_59[0][0]']               \n",
      " ormalization)                  64)                                                               \n",
      "                                                                                                  \n",
      " up_sampling3d_7 (UpSampling3D)  (None, 176, 176, 48  0          ['batch_normalization_59[0][0]'] \n",
      "                                , 64)                                                             \n",
      "                                                                                                  \n",
      " global_average_pooling3d (Glob  (None, 64)          0           ['up_sampling3d_7[0][0]']        \n",
      " alAveragePooling3D)                                                                              \n",
      "                                                                                                  \n",
      " dense (Dense)                  (None, 128)          8320        ['global_average_pooling3d[0][0]'\n",
      "                                                                 ]                                \n",
      "                                                                                                  \n",
      " dropout (Dropout)              (None, 128)          0           ['dense[0][0]']                  \n",
      "                                                                                                  \n",
      " dense_1 (Dense)                (None, 3)            387         ['dropout[0][0]']                \n",
      "                                                                                                  \n",
      " reshape_1 (Reshape)            (None, 1, 3)         0           ['dense_1[0][0]']                \n",
      "                                                                                                  \n",
      "==================================================================================================\n",
      "Total params: 55,191,431\n",
      "Trainable params: 55,179,653\n",
      "Non-trainable params: 11,778\n",
      "__________________________________________________________________________________________________\n"
     ]
    }
   ],
   "source": [
    "import Spartan.models as models\n",
    "import importlib\n",
    "\n",
    "importlib.reload(models)\n",
    "\n",
    "s_slr_model = models.simple_slr_model()\n",
    "s_slr_model.summary()"
   ],
   "metadata": {
    "collapsed": false
   }
  },
  {
   "cell_type": "markdown",
   "source": [
    "## Straight 3d CNN"
   ],
   "metadata": {
    "collapsed": false
   }
  },
  {
   "cell_type": "code",
   "execution_count": null,
   "outputs": [],
   "source": [
    "import Spartan.models as models\n",
    "import importlib\n",
    "\n",
    "importlib.reload(models)\n",
    "\n",
    "s_model = models.straight_model()\n",
    "s_model.summary()"
   ],
   "metadata": {
    "collapsed": false
   }
  },
  {
   "cell_type": "markdown",
   "source": [
    "## check MSE with Resolution"
   ],
   "metadata": {
    "collapsed": false
   }
  },
  {
   "cell_type": "code",
   "execution_count": 57,
   "outputs": [],
   "source": [
    "import Spartan.models as models\n",
    "import Functions.MyDataset as md\n",
    "\n",
    "volume_path = \"/Volumes/Shawn_HDD/PhD/Project/Date/augmentation_from_matlab/Rescaled/AH_17617648_VolPts_2.mat\"\n",
    "\n",
    "model = models.first_model(width=176, height=176, depth=48)\n",
    "volume, pts, res = md.load_mat_data(volume_path, \"None\", with_res=True)\n",
    "\n",
    "res[:, [0, 1]] = res[:, [1, 0]]\n",
    "res = res.astype(\"float32\")"
   ],
   "metadata": {
    "collapsed": false
   }
  },
  {
   "cell_type": "code",
   "execution_count": 58,
   "outputs": [
    {
     "name": "stdout",
     "output_type": "stream",
     "text": [
      "volume shape:  (176, 176, 48)\n",
      "pts shape:  (4, 3)\n",
      "res shape:  (1, 3)\n",
      "res:  [[0.9690341  0.97073865 1.13125   ]]\n"
     ]
    }
   ],
   "source": [
    "print(\"volume shape: \", volume.shape)\n",
    "print(\"pts shape: \", pts.shape)\n",
    "print(\"res shape: \", res.shape)\n",
    "print(\"res: \", res)"
   ],
   "metadata": {
    "collapsed": false
   }
  },
  {
   "cell_type": "code",
   "execution_count": 59,
   "outputs": [],
   "source": [
    "volume = volume.reshape((1, 176, 176, 48, 1))\n",
    "one_pts = pts[0, :].reshape((1, 1, 3))\n",
    "res = res.reshape((1, 1, 3))"
   ],
   "metadata": {
    "collapsed": false
   }
  },
  {
   "cell_type": "code",
   "execution_count": 60,
   "outputs": [
    {
     "name": "stdout",
     "output_type": "stream",
     "text": [
      "volume shape:  (1, 176, 176, 48, 1)\n",
      "one_pts shape:  (1, 1, 3)\n",
      "res shape:  (1, 1, 3)\n"
     ]
    }
   ],
   "source": [
    "print(\"volume shape: \", volume.shape)\n",
    "print(\"one_pts shape: \", one_pts.shape)\n",
    "print(\"res shape: \", res.shape)"
   ],
   "metadata": {
    "collapsed": false
   }
  },
  {
   "cell_type": "code",
   "execution_count": 55,
   "outputs": [
    {
     "name": "stdout",
     "output_type": "stream",
     "text": [
      "tf.Tensor(\n",
      "[[[0.9690341  0.97073865 1.13125   ]\n",
      "  [0.9690341  0.97073865 1.13125   ]\n",
      "  [0.9690341  0.97073865 1.13125   ]\n",
      "  [0.9690341  0.97073865 1.13125   ]]], shape=(1, 4, 3), dtype=float32)\n"
     ]
    }
   ],
   "source": [
    "import tensorflow as tf\n",
    "\n",
    "rep_res = tf.repeat(res, 4, axis=1)\n",
    "print(rep_res)"
   ],
   "metadata": {
    "collapsed": false
   }
  },
  {
   "cell_type": "code",
   "execution_count": 61,
   "outputs": [
    {
     "name": "stdout",
     "output_type": "stream",
     "text": [
      "y shape:  (1, 1, 3)\n"
     ]
    }
   ],
   "source": [
    "y = model(volume)\n",
    "print(\"y shape: \", y.shape)"
   ],
   "metadata": {
    "collapsed": false
   }
  },
  {
   "cell_type": "code",
   "execution_count": 62,
   "outputs": [
    {
     "data": {
      "text/plain": "<tf.Tensor: shape=(), dtype=float32, numpy=20871.295>"
     },
     "execution_count": 62,
     "metadata": {},
     "output_type": "execute_result"
    }
   ],
   "source": [
    "import importlib\n",
    "\n",
    "importlib.reload(models)\n",
    "\n",
    "models.mse_with_res(one_pts, y, res)"
   ],
   "metadata": {
    "collapsed": false
   }
  },
  {
   "cell_type": "code",
   "execution_count": null,
   "outputs": [],
   "source": [],
   "metadata": {
    "collapsed": false
   }
  }
 ],
 "metadata": {
  "kernelspec": {
   "display_name": "Python 3",
   "language": "python",
   "name": "python3"
  },
  "language_info": {
   "codemirror_mode": {
    "name": "ipython",
    "version": 2
   },
   "file_extension": ".py",
   "mimetype": "text/x-python",
   "name": "python",
   "nbconvert_exporter": "python",
   "pygments_lexer": "ipython2",
   "version": "2.7.6"
  }
 },
 "nbformat": 4,
 "nbformat_minor": 0
}
