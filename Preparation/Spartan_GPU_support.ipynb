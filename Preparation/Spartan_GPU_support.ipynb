{
 "cells": [
  {
   "cell_type": "markdown",
   "source": [
    "# Process the data (combine them together)"
   ],
   "metadata": {
    "collapsed": false
   }
  },
  {
   "cell_type": "markdown",
   "source": [
    "## Check JH's augmentation data"
   ],
   "metadata": {
    "collapsed": false
   }
  },
  {
   "cell_type": "code",
   "execution_count": 8,
   "outputs": [
    {
     "ename": "ModuleNotFoundError",
     "evalue": "No module named 'Functions'",
     "output_type": "error",
     "traceback": [
      "\u001B[0;31m---------------------------------------------------------------------------\u001B[0m",
      "\u001B[0;31mModuleNotFoundError\u001B[0m                       Traceback (most recent call last)",
      "Input \u001B[0;32mIn [8]\u001B[0m, in \u001B[0;36m<cell line: 2>\u001B[0;34m()\u001B[0m\n\u001B[1;32m      1\u001B[0m \u001B[38;5;28;01mimport\u001B[39;00m \u001B[38;5;21;01mimportlib\u001B[39;00m\n\u001B[0;32m----> 2\u001B[0m \u001B[38;5;28;01mimport\u001B[39;00m \u001B[38;5;21;01mFunctions\u001B[39;00m\u001B[38;5;21;01m.\u001B[39;00m\u001B[38;5;21;01mMyDataset\u001B[39;00m \u001B[38;5;28;01mas\u001B[39;00m \u001B[38;5;21;01mMyDataset\u001B[39;00m\n\u001B[1;32m      3\u001B[0m \u001B[38;5;28;01mimport\u001B[39;00m \u001B[38;5;21;01mFunctions\u001B[39;00m\u001B[38;5;21;01m.\u001B[39;00m\u001B[38;5;21;01mVisualization\u001B[39;00m \u001B[38;5;28;01mas\u001B[39;00m \u001B[38;5;21;01mVisualization\u001B[39;00m\n\u001B[1;32m      5\u001B[0m JH_aug_mat_path \u001B[38;5;241m=\u001B[39m \u001B[38;5;124m\"\u001B[39m\u001B[38;5;124m/Volumes/Shawn_HDD/PhD/Project/Date/augmentation_from_matlab/original_augmentation_data/AH_aug_1.mat\u001B[39m\u001B[38;5;124m\"\u001B[39m\n",
      "\u001B[0;31mModuleNotFoundError\u001B[0m: No module named 'Functions'"
     ]
    }
   ],
   "source": [
    "import importlib\n",
    "import Functions.MyDataset as MyDataset\n",
    "import Functions.Visualization as Visualization\n",
    "\n",
    "JH_aug_mat_path = \"/Volumes/Shawn_HDD/PhD/Project/Date/augmentation_from_matlab/original_augmentation_data/AH_aug_1.mat\"\n",
    "# JH_reshape_vol_mat_path = \"/Volumes/Shawn_SSD/PhD/Project/Date/augmentation_from_matlab/Val/Input/FA_17017030_AugVol_2.mat\"\n",
    "# JH_reshape_pts_mat_path = \"/Volumes/Shawn_SSD/PhD/Project/Date/augmentation_from_matlab/Val/Output/FA_17017030_AugPts_2.mat\"\n",
    "\n",
    "pixel_space = [0.15, 0.15, 0.15]\n",
    "\n",
    "importlib.reload(MyDataset)\n",
    "\n",
    "JH_aug_volume, JH_aug_pts = MyDataset.load_mat_data(JH_aug_mat_path)\n",
    "MyDataset.show_pts(JH_aug_volume, JH_aug_pts, pixel_space)\n",
    "\n",
    "# JH_aug_zoomed_volume, JH_aug_zoomed_pts = MyDataset.load_mat_data(JH_reshape_vol_mat_path, JH_reshape_pts_mat_path)\n",
    "Visualization.show_pts(JH_aug_volume, JH_aug_pts, pixel_space)\n"
   ],
   "metadata": {
    "collapsed": false
   }
  },
  {
   "cell_type": "code",
   "execution_count": null,
   "outputs": [],
   "source": [
    "# Try up_sampling method\n",
    "\n",
    "# up_sampling_JH = MyDataset.rescale_3d_volume(JH_aug_zoomed_volume, (512, 512, 90))\n",
    "# Visualization.show_pts(up_sampling_JH, JH_aug_zoomed_pts, pixel_space)"
   ],
   "metadata": {
    "collapsed": false
   }
  },
  {
   "cell_type": "markdown",
   "source": [
    "## Check rescaled data"
   ],
   "metadata": {
    "collapsed": false
   }
  },
  {
   "cell_type": "code",
   "execution_count": null,
   "outputs": [],
   "source": [
    "import importlib\n",
    "import Functions\n",
    "\n",
    "# data_path = \"/Volumes/Shawn_SSD/PhD/Project/Date/augmentation_rescaled_data/176_176_48/AH_17617648_VolPts_3.mat\"\n",
    "# data_path = \"/Volumes/Shawn_SSD/PhD/Project/Date/augmentation_rescaled_data/240_240_64/AH_24024064_VolPts_3.mat\"\n",
    "# data_path = \"/Volumes/Shawn_SSD/PhD/Project/Date/augmentation_rescaled_data/320_320_96/AH_32032096_VolPts_3.mat\"\n",
    "# data_path = \"/Volumes/Shawn_SSD/PhD/Project/Date/augmentation_rescaled_data/480_480_128/AH_480480128_VolPts_3.mat\"\n",
    "data_path = \"/Volumes/Shawn_SSD/PhD/Project/Date/augmentation_rescaled_data/560_560_160/AH_560560160_VolPts_3.mat\"\n",
    "\n",
    "aug_rescaled_volume, aug_rescaled_pts = MyDataset.load_mat_data(data_path)\n",
    "\n",
    "pixel_space = [0.15, 0.15, 0.15]\n",
    "Visualization.show_pts(aug_rescaled_volume, aug_rescaled_pts, pixel_space)"
   ],
   "metadata": {
    "collapsed": false
   }
  },
  {
   "cell_type": "markdown",
   "source": [
    "## Combination"
   ],
   "metadata": {
    "collapsed": false
   }
  },
  {
   "cell_type": "code",
   "execution_count": null,
   "outputs": [],
   "source": [
    "import numpy as np\n",
    "import importlib\n",
    "import Functions\n",
    "\n",
    "def combine_data(x_base_path, y_base_path, store_base_path, data_tag):\n",
    "    importlib.reload(MyDataset)\n",
    "\n",
    "    # X_val_base_path = \"/Volumes/Shawn_SSD/PhD/Project/Date/augmentation_from_matlab/Val/Input\"\n",
    "    # Y_val_base_path = \"/Volumes/Shawn_SSD/PhD/Project/Date/augmentation_from_matlab/Val/Output\"\n",
    "\n",
    "    x_dataset, y_dataset = MyDataset.load_mat_data_dir(x_base_path, y_base_path)\n",
    "\n",
    "    x_dataset = np.asarray(x_dataset)\n",
    "    y_dataset = np.asarray(y_dataset)\n",
    "\n",
    "    x_dataset_path = store_base_path + \"X_\" + data_tag + \"_data\"\n",
    "    y_dataset_path = store_base_path + \"Y_\" + data_tag + \"_data\"\n",
    "\n",
    "    np.save(x_dataset_path, x_dataset)\n",
    "    np.save(y_dataset_path, y_dataset)\n"
   ],
   "metadata": {
    "collapsed": false
   }
  },
  {
   "cell_type": "code",
   "execution_count": null,
   "outputs": [],
   "source": [
    "X_train_base_path = \"/Volumes/Shawn_SSD/PhD/Project/Date/augmentation_from_matlab/Train/Input\"\n",
    "Y_train_base_path = \"/Volumes/Shawn_SSD/PhD/Project/Date/augmentation_from_matlab/Train/Output\"\n",
    "X_val_base_path = \"/Volumes/Shawn_SSD/PhD/Project/Date/augmentation_from_matlab/Val/Input\"\n",
    "Y_val_base_path = \"/Volumes/Shawn_SSD/PhD/Project/Date/augmentation_from_matlab/Val/Output\"\n",
    "X_test_base_path = \"/Volumes/Shawn_SSD/PhD/Project/Date/augmentation_from_matlab/Test/Input\"\n",
    "Y_test_base_path = \"/Volumes/Shawn_SSD/PhD/Project/Date/augmentation_from_matlab/Test/Output\"\n",
    "store_base_path = \"data/\"\n",
    "\n",
    "combine_data(X_train_base_path, Y_train_base_path, store_base_path, \"train\")\n",
    "combine_data(X_val_base_path, Y_val_base_path, store_base_path, \"val\")\n",
    "combine_data(X_test_base_path, Y_test_base_path, store_base_path, \"test\")"
   ],
   "metadata": {
    "collapsed": false
   }
  },
  {
   "cell_type": "code",
   "execution_count": null,
   "outputs": [],
   "source": [
    "import numpy as np\n",
    "import Functions\n",
    "\n",
    "# Inspect Loaded Data\n",
    "\n",
    "X_file_path = \"data/X_train_data.npy\"\n",
    "Y_file_path = \"data/Y_train_data.npy\"\n",
    "\n",
    "X_load = np.load(X_file_path, allow_pickle=True)\n",
    "Y_load = np.load(Y_file_path, allow_pickle=True)\n",
    "\n",
    "print(np.shape(X_load), np.shape(Y_load))\n",
    "print(np.shape(X_load[1, :, :, :]), np.shape(Y_load[1, :, :]))\n",
    "\n",
    "# functions.show_pts(X_load[1, :, :, :], Y_load[1, :, :], [0.15, 0.15, 0.15])\n",
    "# functions.show_pts(X_load[2, :, :, :], Y_load[2, :, :], [0.15, 0.15, 0.15])\n",
    "# functions.show_pts(X_load[3, :, :, :], Y_load[3, :, :], [0.15, 0.15, 0.15])\n",
    "# functions.show_pts(X_load[4, :, :, :], Y_load[4, :, :], [0.15, 0.15, 0.15])"
   ],
   "metadata": {
    "collapsed": false
   }
  },
  {
   "cell_type": "markdown",
   "source": [
    "## Check slr model"
   ],
   "metadata": {
    "collapsed": false
   }
  },
  {
   "cell_type": "code",
   "execution_count": null,
   "outputs": [],
   "source": [
    "import Spartan.models as models\n",
    "import importlib\n",
    "\n",
    "importlib.reload(models)\n",
    "\n",
    "model = models.spine_lateral_radiograph_model(width=48, height=48, depth=32)\n",
    "model.summary()"
   ],
   "metadata": {
    "collapsed": false
   }
  },
  {
   "cell_type": "code",
   "execution_count": null,
   "outputs": [],
   "source": [
    "import numpy as np\n",
    "\n",
    "importlib.reload(models)\n",
    "\n",
    "# check the pre-defined coordinate matrix\n",
    "batch_base_cor_xyz = models.coordinate_3d(2,2,3,4)\n",
    "\n",
    "# test base coordinate matrix\n",
    "print(\"batch_base_cor_xyz shape: \", np.shape(batch_base_cor_xyz))\n",
    "print(batch_base_cor_xyz[0, :, :, 3, 1, 2])"
   ],
   "metadata": {
    "collapsed": false
   }
  },
  {
   "cell_type": "code",
   "execution_count": null,
   "outputs": [],
   "source": [
    "from tensorflow import keras\n",
    "\n",
    "# draw a graph for the model's\n",
    "keras.utils.plot_model(model, \"slr_model.png\", show_shapes=True)"
   ],
   "metadata": {
    "collapsed": false
   }
  },
  {
   "cell_type": "code",
   "execution_count": null,
   "outputs": [],
   "source": [
    "import tensorflow as tf\n",
    "\n",
    "# check tf.repeat\n",
    "pro_matricx = np.arange(2*3*4*5*4).reshape(2,3,4,5,4)\n",
    "dup_pro_matricx = tf.repeat(pro_matricx, 3, axis=-1)\n",
    "\n",
    "#print(pro_matricx)\n",
    "\n",
    "# print(np.shape(dup_pro_matricx))\n",
    "dup_pro_matricx = np.reshape(dup_pro_matricx, (2,3,4,5,4,3))\n",
    "print(dup_pro_matricx[:,:,:,:,:,2])"
   ],
   "metadata": {
    "collapsed": false
   }
  },
  {
   "cell_type": "code",
   "execution_count": null,
   "outputs": [],
   "source": [
    "import numpy as np\n",
    "\n",
    "# check output of the model\n",
    "input = np.arange(2*48*48*32*1).reshape(2,48,48,32,1)\n",
    "base_cor_xyz = models.coordinate_3d(2,48,48,32)\n",
    "\n",
    "[output_s1, output_s2] = model([input, base_cor_xyz])\n",
    "\n",
    "print(np.shape(output_s1))\n",
    "print(np.shape(output_s2))\n"
   ],
   "metadata": {
    "collapsed": false
   }
  },
  {
   "cell_type": "code",
   "execution_count": null,
   "outputs": [],
   "source": [
    "importlib.reload(models)\n",
    "\n",
    "# check loss function\n",
    "y_true = np.asarray([[[1,2,3],[2,3,4],[6,7,8],[7,8,9]], [[1.5,2.5,3.5],[2.5,3.5,4.5],[6.5,7.5,8.5],[7.5,8.5,9.5]]])\n",
    "\n",
    "y_pred1 = np.asarray([[[1,2,3],[2,3,4],[6,7,8],[7,8,9]], [[1.5,2.5,3.5],[2.5,3.5,4.5],[6.5,7.5,8.5],[7.5,8.5,9.5]]])\n",
    "y_pred2 = np.asarray([[[1,2,3],[2,3,4],[6,7,8],[7,8,9]], [[1.5,2.5,3.5],[2.5,3.5,4.5],[6.5,7.5,8.5],[7.5,8.5,9.5]]])\n",
    "\n",
    "loss = models.two_stage_wing_loss(y_true, [output_s1, output_s2])\n",
    "\n",
    "print(loss)"
   ],
   "metadata": {
    "collapsed": false
   }
  },
  {
   "cell_type": "markdown",
   "source": [
    "## Simple slr model"
   ],
   "metadata": {
    "collapsed": false
   }
  },
  {
   "cell_type": "code",
   "execution_count": 2,
   "outputs": [],
   "source": [
    "import os\n",
    "import sys\n",
    "module_path = os.path.abspath(os.path.join('..'))\n",
    "\n",
    "if module_path not in sys.path:\n",
    "    sys.path.append(module_path)"
   ],
   "metadata": {
    "collapsed": false
   }
  },
  {
   "cell_type": "code",
   "execution_count": 3,
   "outputs": [
    {
     "name": "stderr",
     "output_type": "stream",
     "text": [
      "2023-01-13 13:20:57.642841: I tensorflow/core/platform/cpu_feature_guard.cc:193] This TensorFlow binary is optimized with oneAPI Deep Neural Network Library (oneDNN) to use the following CPU instructions in performance-critical operations:  SSE4.1 SSE4.2 AVX AVX2 FMA\n",
      "To enable them in other operations, rebuild TensorFlow with the appropriate compiler flags.\n"
     ]
    },
    {
     "name": "stdout",
     "output_type": "stream",
     "text": [
      "Model: \"slr_stage1\"\n",
      "__________________________________________________________________________________________________\n",
      " Layer (type)                   Output Shape         Param #     Connected to                     \n",
      "==================================================================================================\n",
      " input_1 (InputLayer)           [(None, 176, 176, 4  0           []                               \n",
      "                                8, 1)]                                                            \n",
      "                                                                                                  \n",
      " batch_normalization (BatchNorm  (None, 176, 176, 48  4          ['input_1[0][0]']                \n",
      " alization)                     , 1)                                                              \n",
      "                                                                                                  \n",
      " re_lu (ReLU)                   (None, 176, 176, 48  0           ['batch_normalization[0][0]']    \n",
      "                                , 1)                                                              \n",
      "                                                                                                  \n",
      " conv3d (Conv3D)                (None, 88, 88, 24,   1792        ['re_lu[0][0]']                  \n",
      "                                64)                                                               \n",
      "                                                                                                  \n",
      " re_lu_1 (ReLU)                 (None, 88, 88, 24,   0           ['conv3d[0][0]']                 \n",
      "                                64)                                                               \n",
      "                                                                                                  \n",
      " batch_normalization_1 (BatchNo  (None, 88, 88, 24,   256        ['re_lu_1[0][0]']                \n",
      " rmalization)                   64)                                                               \n",
      "                                                                                                  \n",
      " conv3d_2 (Conv3D)              (None, 88, 88, 24,   128         ['re_lu[0][0]']                  \n",
      "                                64)                                                               \n",
      "                                                                                                  \n",
      " conv3d_1 (Conv3D)              (None, 88, 88, 24,   110656      ['batch_normalization_1[0][0]']  \n",
      "                                64)                                                               \n",
      "                                                                                                  \n",
      " add (Add)                      (None, 88, 88, 24,   0           ['conv3d_2[0][0]',               \n",
      "                                64)                               'conv3d_1[0][0]']               \n",
      "                                                                                                  \n",
      " re_lu_2 (ReLU)                 (None, 88, 88, 24,   0           ['add[0][0]']                    \n",
      "                                64)                                                               \n",
      "                                                                                                  \n",
      " batch_normalization_2 (BatchNo  (None, 88, 88, 24,   256        ['re_lu_2[0][0]']                \n",
      " rmalization)                   64)                                                               \n",
      "                                                                                                  \n",
      " conv3d_3 (Conv3D)              (None, 88, 88, 24,   110656      ['batch_normalization_2[0][0]']  \n",
      "                                64)                                                               \n",
      "                                                                                                  \n",
      " re_lu_3 (ReLU)                 (None, 88, 88, 24,   0           ['conv3d_3[0][0]']               \n",
      "                                64)                                                               \n",
      "                                                                                                  \n",
      " batch_normalization_3 (BatchNo  (None, 88, 88, 24,   256        ['re_lu_3[0][0]']                \n",
      " rmalization)                   64)                                                               \n",
      "                                                                                                  \n",
      " conv3d_5 (Conv3D)              (None, 88, 88, 24,   4160        ['batch_normalization_2[0][0]']  \n",
      "                                64)                                                               \n",
      "                                                                                                  \n",
      " conv3d_4 (Conv3D)              (None, 88, 88, 24,   110656      ['batch_normalization_3[0][0]']  \n",
      "                                64)                                                               \n",
      "                                                                                                  \n",
      " add_1 (Add)                    (None, 88, 88, 24,   0           ['conv3d_5[0][0]',               \n",
      "                                64)                               'conv3d_4[0][0]']               \n",
      "                                                                                                  \n",
      " re_lu_4 (ReLU)                 (None, 88, 88, 24,   0           ['add_1[0][0]']                  \n",
      "                                64)                                                               \n",
      "                                                                                                  \n",
      " batch_normalization_4 (BatchNo  (None, 88, 88, 24,   256        ['re_lu_4[0][0]']                \n",
      " rmalization)                   64)                                                               \n",
      "                                                                                                  \n",
      " conv3d_6 (Conv3D)              (None, 44, 44, 12,   221312      ['batch_normalization_4[0][0]']  \n",
      "                                128)                                                              \n",
      "                                                                                                  \n",
      " re_lu_5 (ReLU)                 (None, 44, 44, 12,   0           ['conv3d_6[0][0]']               \n",
      "                                128)                                                              \n",
      "                                                                                                  \n",
      " batch_normalization_5 (BatchNo  (None, 44, 44, 12,   512        ['re_lu_5[0][0]']                \n",
      " rmalization)                   128)                                                              \n",
      "                                                                                                  \n",
      " conv3d_8 (Conv3D)              (None, 44, 44, 12,   8320        ['batch_normalization_4[0][0]']  \n",
      "                                128)                                                              \n",
      "                                                                                                  \n",
      " conv3d_7 (Conv3D)              (None, 44, 44, 12,   442496      ['batch_normalization_5[0][0]']  \n",
      "                                128)                                                              \n",
      "                                                                                                  \n",
      " add_2 (Add)                    (None, 44, 44, 12,   0           ['conv3d_8[0][0]',               \n",
      "                                128)                              'conv3d_7[0][0]']               \n",
      "                                                                                                  \n",
      " re_lu_6 (ReLU)                 (None, 44, 44, 12,   0           ['add_2[0][0]']                  \n",
      "                                128)                                                              \n",
      "                                                                                                  \n",
      " batch_normalization_6 (BatchNo  (None, 44, 44, 12,   512        ['re_lu_6[0][0]']                \n",
      " rmalization)                   128)                                                              \n",
      "                                                                                                  \n",
      " conv3d_9 (Conv3D)              (None, 44, 44, 12,   442496      ['batch_normalization_6[0][0]']  \n",
      "                                128)                                                              \n",
      "                                                                                                  \n",
      " re_lu_7 (ReLU)                 (None, 44, 44, 12,   0           ['conv3d_9[0][0]']               \n",
      "                                128)                                                              \n",
      "                                                                                                  \n",
      " batch_normalization_7 (BatchNo  (None, 44, 44, 12,   512        ['re_lu_7[0][0]']                \n",
      " rmalization)                   128)                                                              \n",
      "                                                                                                  \n",
      " conv3d_11 (Conv3D)             (None, 44, 44, 12,   16512       ['batch_normalization_6[0][0]']  \n",
      "                                128)                                                              \n",
      "                                                                                                  \n",
      " conv3d_10 (Conv3D)             (None, 44, 44, 12,   442496      ['batch_normalization_7[0][0]']  \n",
      "                                128)                                                              \n",
      "                                                                                                  \n",
      " add_3 (Add)                    (None, 44, 44, 12,   0           ['conv3d_11[0][0]',              \n",
      "                                128)                              'conv3d_10[0][0]']              \n",
      "                                                                                                  \n",
      " re_lu_8 (ReLU)                 (None, 44, 44, 12,   0           ['add_3[0][0]']                  \n",
      "                                128)                                                              \n",
      "                                                                                                  \n",
      " batch_normalization_8 (BatchNo  (None, 44, 44, 12,   512        ['re_lu_8[0][0]']                \n",
      " rmalization)                   128)                                                              \n",
      "                                                                                                  \n",
      " conv3d_12 (Conv3D)             (None, 22, 22, 6, 2  884992      ['batch_normalization_8[0][0]']  \n",
      "                                56)                                                               \n",
      "                                                                                                  \n",
      " re_lu_9 (ReLU)                 (None, 22, 22, 6, 2  0           ['conv3d_12[0][0]']              \n",
      "                                56)                                                               \n",
      "                                                                                                  \n",
      " batch_normalization_9 (BatchNo  (None, 22, 22, 6, 2  1024       ['re_lu_9[0][0]']                \n",
      " rmalization)                   56)                                                               \n",
      "                                                                                                  \n",
      " conv3d_14 (Conv3D)             (None, 22, 22, 6, 2  33024       ['batch_normalization_8[0][0]']  \n",
      "                                56)                                                               \n",
      "                                                                                                  \n",
      " conv3d_13 (Conv3D)             (None, 22, 22, 6, 2  1769728     ['batch_normalization_9[0][0]']  \n",
      "                                56)                                                               \n",
      "                                                                                                  \n",
      " add_4 (Add)                    (None, 22, 22, 6, 2  0           ['conv3d_14[0][0]',              \n",
      "                                56)                               'conv3d_13[0][0]']              \n",
      "                                                                                                  \n",
      " re_lu_10 (ReLU)                (None, 22, 22, 6, 2  0           ['add_4[0][0]']                  \n",
      "                                56)                                                               \n",
      "                                                                                                  \n",
      " batch_normalization_10 (BatchN  (None, 22, 22, 6, 2  1024       ['re_lu_10[0][0]']               \n",
      " ormalization)                  56)                                                               \n",
      "                                                                                                  \n",
      " conv3d_15 (Conv3D)             (None, 22, 22, 6, 2  1769728     ['batch_normalization_10[0][0]'] \n",
      "                                56)                                                               \n",
      "                                                                                                  \n",
      " re_lu_11 (ReLU)                (None, 22, 22, 6, 2  0           ['conv3d_15[0][0]']              \n",
      "                                56)                                                               \n",
      "                                                                                                  \n",
      " batch_normalization_11 (BatchN  (None, 22, 22, 6, 2  1024       ['re_lu_11[0][0]']               \n",
      " ormalization)                  56)                                                               \n",
      "                                                                                                  \n",
      " conv3d_17 (Conv3D)             (None, 22, 22, 6, 2  65792       ['batch_normalization_10[0][0]'] \n",
      "                                56)                                                               \n",
      "                                                                                                  \n",
      " conv3d_16 (Conv3D)             (None, 22, 22, 6, 2  1769728     ['batch_normalization_11[0][0]'] \n",
      "                                56)                                                               \n",
      "                                                                                                  \n",
      " add_5 (Add)                    (None, 22, 22, 6, 2  0           ['conv3d_17[0][0]',              \n",
      "                                56)                               'conv3d_16[0][0]']              \n",
      "                                                                                                  \n",
      " re_lu_12 (ReLU)                (None, 22, 22, 6, 2  0           ['add_5[0][0]']                  \n",
      "                                56)                                                               \n",
      "                                                                                                  \n",
      " batch_normalization_12 (BatchN  (None, 22, 22, 6, 2  1024       ['re_lu_12[0][0]']               \n",
      " ormalization)                  56)                                                               \n",
      "                                                                                                  \n",
      " conv3d_18 (Conv3D)             (None, 11, 11, 3, 5  3539456     ['batch_normalization_12[0][0]'] \n",
      "                                12)                                                               \n",
      "                                                                                                  \n",
      " re_lu_13 (ReLU)                (None, 11, 11, 3, 5  0           ['conv3d_18[0][0]']              \n",
      "                                12)                                                               \n",
      "                                                                                                  \n",
      " batch_normalization_13 (BatchN  (None, 11, 11, 3, 5  2048       ['re_lu_13[0][0]']               \n",
      " ormalization)                  12)                                                               \n",
      "                                                                                                  \n",
      " conv3d_20 (Conv3D)             (None, 11, 11, 3, 5  131584      ['batch_normalization_12[0][0]'] \n",
      "                                12)                                                               \n",
      "                                                                                                  \n",
      " conv3d_19 (Conv3D)             (None, 11, 11, 3, 5  7078400     ['batch_normalization_13[0][0]'] \n",
      "                                12)                                                               \n",
      "                                                                                                  \n",
      " add_6 (Add)                    (None, 11, 11, 3, 5  0           ['conv3d_20[0][0]',              \n",
      "                                12)                               'conv3d_19[0][0]']              \n",
      "                                                                                                  \n",
      " re_lu_14 (ReLU)                (None, 11, 11, 3, 5  0           ['add_6[0][0]']                  \n",
      "                                12)                                                               \n",
      "                                                                                                  \n",
      " batch_normalization_14 (BatchN  (None, 11, 11, 3, 5  2048       ['re_lu_14[0][0]']               \n",
      " ormalization)                  12)                                                               \n",
      "                                                                                                  \n",
      " conv3d_21 (Conv3D)             (None, 11, 11, 3, 5  7078400     ['batch_normalization_14[0][0]'] \n",
      "                                12)                                                               \n",
      "                                                                                                  \n",
      " re_lu_15 (ReLU)                (None, 11, 11, 3, 5  0           ['conv3d_21[0][0]']              \n",
      "                                12)                                                               \n",
      "                                                                                                  \n",
      " batch_normalization_15 (BatchN  (None, 11, 11, 3, 5  2048       ['re_lu_15[0][0]']               \n",
      " ormalization)                  12)                                                               \n",
      "                                                                                                  \n",
      " conv3d_23 (Conv3D)             (None, 11, 11, 3, 5  262656      ['batch_normalization_14[0][0]'] \n",
      "                                12)                                                               \n",
      "                                                                                                  \n",
      " conv3d_22 (Conv3D)             (None, 11, 11, 3, 5  7078400     ['batch_normalization_15[0][0]'] \n",
      "                                12)                                                               \n",
      "                                                                                                  \n",
      " add_7 (Add)                    (None, 11, 11, 3, 5  0           ['conv3d_23[0][0]',              \n",
      "                                12)                               'conv3d_22[0][0]']              \n",
      "                                                                                                  \n",
      " re_lu_16 (ReLU)                (None, 11, 11, 3, 5  0           ['add_7[0][0]']                  \n",
      "                                12)                                                               \n",
      "                                                                                                  \n",
      " batch_normalization_16 (BatchN  (None, 11, 11, 3, 5  2048       ['re_lu_16[0][0]']               \n",
      " ormalization)                  12)                                                               \n",
      "                                                                                                  \n",
      " conv3d_24 (Conv3D)             (None, 11, 11, 3, 5  7078400     ['batch_normalization_16[0][0]'] \n",
      "                                12)                                                               \n",
      "                                                                                                  \n",
      " re_lu_17 (ReLU)                (None, 11, 11, 3, 5  0           ['conv3d_24[0][0]']              \n",
      "                                12)                                                               \n",
      "                                                                                                  \n",
      " batch_normalization_17 (BatchN  (None, 11, 11, 3, 5  2048       ['re_lu_17[0][0]']               \n",
      " ormalization)                  12)                                                               \n",
      "                                                                                                  \n",
      " conv3d_26 (Conv3D)             (None, 11, 11, 3, 5  262656      ['batch_normalization_16[0][0]'] \n",
      "                                12)                                                               \n",
      "                                                                                                  \n",
      " conv3d_25 (Conv3D)             (None, 11, 11, 3, 5  7078400     ['batch_normalization_17[0][0]'] \n",
      "                                12)                                                               \n",
      "                                                                                                  \n",
      " add_8 (Add)                    (None, 11, 11, 3, 5  0           ['conv3d_26[0][0]',              \n",
      "                                12)                               'conv3d_25[0][0]']              \n",
      "                                                                                                  \n",
      " re_lu_18 (ReLU)                (None, 11, 11, 3, 5  0           ['add_8[0][0]']                  \n",
      "                                12)                                                               \n",
      "                                                                                                  \n",
      " batch_normalization_18 (BatchN  (None, 11, 11, 3, 5  2048       ['re_lu_18[0][0]']               \n",
      " ormalization)                  12)                                                               \n",
      "                                                                                                  \n",
      " conv3d_27 (Conv3D)             (None, 11, 11, 3, 2  3539200     ['batch_normalization_18[0][0]'] \n",
      "                                56)                                                               \n",
      "                                                                                                  \n",
      " re_lu_19 (ReLU)                (None, 11, 11, 3, 2  0           ['conv3d_27[0][0]']              \n",
      "                                56)                                                               \n",
      "                                                                                                  \n",
      " batch_normalization_19 (BatchN  (None, 11, 11, 3, 2  1024       ['re_lu_19[0][0]']               \n",
      " ormalization)                  56)                                                               \n",
      "                                                                                                  \n",
      " conv3d_29 (Conv3D)             (None, 11, 11, 3, 2  131328      ['batch_normalization_18[0][0]'] \n",
      "                                56)                                                               \n",
      "                                                                                                  \n",
      " conv3d_28 (Conv3D)             (None, 11, 11, 3, 2  1769728     ['batch_normalization_19[0][0]'] \n",
      "                                56)                                                               \n",
      "                                                                                                  \n",
      " add_9 (Add)                    (None, 11, 11, 3, 2  0           ['conv3d_29[0][0]',              \n",
      "                                56)                               'conv3d_28[0][0]']              \n",
      "                                                                                                  \n",
      " re_lu_20 (ReLU)                (None, 11, 11, 3, 2  0           ['add_9[0][0]']                  \n",
      "                                56)                                                               \n",
      "                                                                                                  \n",
      " batch_normalization_20 (BatchN  (None, 11, 11, 3, 2  1024       ['re_lu_20[0][0]']               \n",
      " ormalization)                  56)                                                               \n",
      "                                                                                                  \n",
      " up_sampling3d (UpSampling3D)   (None, 22, 22, 6, 2  0           ['batch_normalization_20[0][0]'] \n",
      "                                56)                                                               \n",
      "                                                                                                  \n",
      " add_10 (Add)                   (None, 22, 22, 6, 2  0           ['up_sampling3d[0][0]',          \n",
      "                                56)                               'batch_normalization_12[0][0]'] \n",
      "                                                                                                  \n",
      " conv3d_30 (Conv3D)             (None, 22, 22, 6, 1  884864      ['add_10[0][0]']                 \n",
      "                                28)                                                               \n",
      "                                                                                                  \n",
      " re_lu_21 (ReLU)                (None, 22, 22, 6, 1  0           ['conv3d_30[0][0]']              \n",
      "                                28)                                                               \n",
      "                                                                                                  \n",
      " batch_normalization_21 (BatchN  (None, 22, 22, 6, 1  512        ['re_lu_21[0][0]']               \n",
      " ormalization)                  28)                                                               \n",
      "                                                                                                  \n",
      " conv3d_32 (Conv3D)             (None, 22, 22, 6, 1  32896       ['add_10[0][0]']                 \n",
      "                                28)                                                               \n",
      "                                                                                                  \n",
      " conv3d_31 (Conv3D)             (None, 22, 22, 6, 1  442496      ['batch_normalization_21[0][0]'] \n",
      "                                28)                                                               \n",
      "                                                                                                  \n",
      " add_11 (Add)                   (None, 22, 22, 6, 1  0           ['conv3d_32[0][0]',              \n",
      "                                28)                               'conv3d_31[0][0]']              \n",
      "                                                                                                  \n",
      " re_lu_22 (ReLU)                (None, 22, 22, 6, 1  0           ['add_11[0][0]']                 \n",
      "                                28)                                                               \n",
      "                                                                                                  \n",
      " batch_normalization_22 (BatchN  (None, 22, 22, 6, 1  512        ['re_lu_22[0][0]']               \n",
      " ormalization)                  28)                                                               \n",
      "                                                                                                  \n",
      " up_sampling3d_1 (UpSampling3D)  (None, 44, 44, 12,   0          ['batch_normalization_22[0][0]'] \n",
      "                                128)                                                              \n",
      "                                                                                                  \n",
      " add_12 (Add)                   (None, 44, 44, 12,   0           ['up_sampling3d_1[0][0]',        \n",
      "                                128)                              'batch_normalization_8[0][0]']  \n",
      "                                                                                                  \n",
      " conv3d_33 (Conv3D)             (None, 44, 44, 12,   221248      ['add_12[0][0]']                 \n",
      "                                64)                                                               \n",
      "                                                                                                  \n",
      " re_lu_23 (ReLU)                (None, 44, 44, 12,   0           ['conv3d_33[0][0]']              \n",
      "                                64)                                                               \n",
      "                                                                                                  \n",
      " batch_normalization_23 (BatchN  (None, 44, 44, 12,   256        ['re_lu_23[0][0]']               \n",
      " ormalization)                  64)                                                               \n",
      "                                                                                                  \n",
      " conv3d_35 (Conv3D)             (None, 44, 44, 12,   8256        ['add_12[0][0]']                 \n",
      "                                64)                                                               \n",
      "                                                                                                  \n",
      " conv3d_34 (Conv3D)             (None, 44, 44, 12,   110656      ['batch_normalization_23[0][0]'] \n",
      "                                64)                                                               \n",
      "                                                                                                  \n",
      " add_13 (Add)                   (None, 44, 44, 12,   0           ['conv3d_35[0][0]',              \n",
      "                                64)                               'conv3d_34[0][0]']              \n",
      "                                                                                                  \n",
      " re_lu_24 (ReLU)                (None, 44, 44, 12,   0           ['add_13[0][0]']                 \n",
      "                                64)                                                               \n",
      "                                                                                                  \n",
      " batch_normalization_24 (BatchN  (None, 44, 44, 12,   256        ['re_lu_24[0][0]']               \n",
      " ormalization)                  64)                                                               \n",
      "                                                                                                  \n",
      " up_sampling3d_2 (UpSampling3D)  (None, 88, 88, 24,   0          ['batch_normalization_24[0][0]'] \n",
      "                                64)                                                               \n",
      "                                                                                                  \n",
      " add_14 (Add)                   (None, 88, 88, 24,   0           ['up_sampling3d_2[0][0]',        \n",
      "                                64)                               'batch_normalization_4[0][0]']  \n",
      "                                                                                                  \n",
      " conv3d_36 (Conv3D)             (None, 88, 88, 24,   110656      ['add_14[0][0]']                 \n",
      "                                64)                                                               \n",
      "                                                                                                  \n",
      " re_lu_25 (ReLU)                (None, 88, 88, 24,   0           ['conv3d_36[0][0]']              \n",
      "                                64)                                                               \n",
      "                                                                                                  \n",
      " batch_normalization_25 (BatchN  (None, 88, 88, 24,   256        ['re_lu_25[0][0]']               \n",
      " ormalization)                  64)                                                               \n",
      "                                                                                                  \n",
      " conv3d_38 (Conv3D)             (None, 88, 88, 24,   4160        ['add_14[0][0]']                 \n",
      "                                64)                                                               \n",
      "                                                                                                  \n",
      " conv3d_37 (Conv3D)             (None, 88, 88, 24,   110656      ['batch_normalization_25[0][0]'] \n",
      "                                64)                                                               \n",
      "                                                                                                  \n",
      " add_15 (Add)                   (None, 88, 88, 24,   0           ['conv3d_38[0][0]',              \n",
      "                                64)                               'conv3d_37[0][0]']              \n",
      "                                                                                                  \n",
      " re_lu_26 (ReLU)                (None, 88, 88, 24,   0           ['add_15[0][0]']                 \n",
      "                                64)                                                               \n",
      "                                                                                                  \n",
      " batch_normalization_26 (BatchN  (None, 88, 88, 24,   256        ['re_lu_26[0][0]']               \n",
      " ormalization)                  64)                                                               \n",
      "                                                                                                  \n",
      " up_sampling3d_3 (UpSampling3D)  (None, 176, 176, 48  0          ['batch_normalization_26[0][0]'] \n",
      "                                , 64)                                                             \n",
      "                                                                                                  \n",
      " global_average_pooling3d (Glob  (None, 64)          0           ['up_sampling3d_3[0][0]']        \n",
      " alAveragePooling3D)                                                                              \n",
      "                                                                                                  \n",
      " dense (Dense)                  (None, 128)          8320        ['global_average_pooling3d[0][0]'\n",
      "                                                                 ]                                \n",
      "                                                                                                  \n",
      " dropout (Dropout)              (None, 128)          0           ['dense[0][0]']                  \n",
      "                                                                                                  \n",
      " dense_1 (Dense)                (None, 3)            387         ['dropout[0][0]']                \n",
      "                                                                                                  \n",
      " reshape (Reshape)              (None, 1, 3)         0           ['dense_1[0][0]']                \n",
      "                                                                                                  \n",
      "==================================================================================================\n",
      "Total params: 55,191,431\n",
      "Trainable params: 55,179,653\n",
      "Non-trainable params: 11,778\n",
      "__________________________________________________________________________________________________\n"
     ]
    }
   ],
   "source": [
    "import Spartan.models as models\n",
    "import importlib\n",
    "\n",
    "importlib.reload(models)\n",
    "\n",
    "s_slr_model = models.simple_slr_model()\n",
    "s_slr_model.summary()"
   ],
   "metadata": {
    "collapsed": false
   }
  },
  {
   "cell_type": "markdown",
   "source": [
    "## Straight 3d CNN"
   ],
   "metadata": {
    "collapsed": false
   }
  },
  {
   "cell_type": "code",
   "execution_count": 63,
   "outputs": [
    {
     "name": "stdout",
     "output_type": "stream",
     "text": [
      "Model: \"straight-3d-cnn\"\n",
      "_________________________________________________________________\n",
      " Layer (type)                Output Shape              Param #   \n",
      "=================================================================\n",
      " input_9 (InputLayer)        [(None, 176, 176, 48, 1)  0         \n",
      "                             ]                                   \n",
      "                                                                 \n",
      " conv3d_107 (Conv3D)         (None, 176, 176, 48, 32)  896       \n",
      "                                                                 \n",
      " batch_normalization_80 (Bat  (None, 176, 176, 48, 32)  128      \n",
      " chNormalization)                                                \n",
      "                                                                 \n",
      " re_lu_60 (ReLU)             (None, 176, 176, 48, 32)  0         \n",
      "                                                                 \n",
      " max_pooling3d_10 (MaxPoolin  (None, 88, 88, 24, 32)   0         \n",
      " g3D)                                                            \n",
      "                                                                 \n",
      " conv3d_108 (Conv3D)         (None, 88, 88, 24, 64)    55360     \n",
      "                                                                 \n",
      " batch_normalization_81 (Bat  (None, 88, 88, 24, 64)   256       \n",
      " chNormalization)                                                \n",
      "                                                                 \n",
      " re_lu_61 (ReLU)             (None, 88, 88, 24, 64)    0         \n",
      "                                                                 \n",
      " max_pooling3d_11 (MaxPoolin  (None, 44, 44, 12, 64)   0         \n",
      " g3D)                                                            \n",
      "                                                                 \n",
      " conv3d_109 (Conv3D)         (None, 44, 44, 12, 128)   221312    \n",
      "                                                                 \n",
      " batch_normalization_82 (Bat  (None, 44, 44, 12, 128)  512       \n",
      " chNormalization)                                                \n",
      "                                                                 \n",
      " re_lu_62 (ReLU)             (None, 44, 44, 12, 128)   0         \n",
      "                                                                 \n",
      " conv3d_110 (Conv3D)         (None, 44, 44, 12, 64)    221248    \n",
      "                                                                 \n",
      " batch_normalization_83 (Bat  (None, 44, 44, 12, 64)   256       \n",
      " chNormalization)                                                \n",
      "                                                                 \n",
      " re_lu_63 (ReLU)             (None, 44, 44, 12, 64)    0         \n",
      "                                                                 \n",
      " conv3d_111 (Conv3D)         (None, 44, 44, 12, 128)   221312    \n",
      "                                                                 \n",
      " batch_normalization_84 (Bat  (None, 44, 44, 12, 128)  512       \n",
      " chNormalization)                                                \n",
      "                                                                 \n",
      " re_lu_64 (ReLU)             (None, 44, 44, 12, 128)   0         \n",
      "                                                                 \n",
      " max_pooling3d_12 (MaxPoolin  (None, 22, 22, 6, 128)   0         \n",
      " g3D)                                                            \n",
      "                                                                 \n",
      " conv3d_112 (Conv3D)         (None, 22, 22, 6, 256)    884992    \n",
      "                                                                 \n",
      " batch_normalization_85 (Bat  (None, 22, 22, 6, 256)   1024      \n",
      " chNormalization)                                                \n",
      "                                                                 \n",
      " re_lu_65 (ReLU)             (None, 22, 22, 6, 256)    0         \n",
      "                                                                 \n",
      " conv3d_113 (Conv3D)         (None, 22, 22, 6, 128)    884864    \n",
      "                                                                 \n",
      " batch_normalization_86 (Bat  (None, 22, 22, 6, 128)   512       \n",
      " chNormalization)                                                \n",
      "                                                                 \n",
      " re_lu_66 (ReLU)             (None, 22, 22, 6, 128)    0         \n",
      "                                                                 \n",
      " conv3d_114 (Conv3D)         (None, 22, 22, 6, 256)    884992    \n",
      "                                                                 \n",
      " batch_normalization_87 (Bat  (None, 22, 22, 6, 256)   1024      \n",
      " chNormalization)                                                \n",
      "                                                                 \n",
      " re_lu_67 (ReLU)             (None, 22, 22, 6, 256)    0         \n",
      "                                                                 \n",
      " max_pooling3d_13 (MaxPoolin  (None, 11, 11, 3, 256)   0         \n",
      " g3D)                                                            \n",
      "                                                                 \n",
      " conv3d_115 (Conv3D)         (None, 11, 11, 3, 512)    3539456   \n",
      "                                                                 \n",
      " batch_normalization_88 (Bat  (None, 11, 11, 3, 512)   2048      \n",
      " chNormalization)                                                \n",
      "                                                                 \n",
      " re_lu_68 (ReLU)             (None, 11, 11, 3, 512)    0         \n",
      "                                                                 \n",
      " conv3d_116 (Conv3D)         (None, 11, 11, 3, 256)    3539200   \n",
      "                                                                 \n",
      " batch_normalization_89 (Bat  (None, 11, 11, 3, 256)   1024      \n",
      " chNormalization)                                                \n",
      "                                                                 \n",
      " re_lu_69 (ReLU)             (None, 11, 11, 3, 256)    0         \n",
      "                                                                 \n",
      " conv3d_117 (Conv3D)         (None, 11, 11, 3, 512)    3539456   \n",
      "                                                                 \n",
      " batch_normalization_90 (Bat  (None, 11, 11, 3, 512)   2048      \n",
      " chNormalization)                                                \n",
      "                                                                 \n",
      " re_lu_70 (ReLU)             (None, 11, 11, 3, 512)    0         \n",
      "                                                                 \n",
      " conv3d_118 (Conv3D)         (None, 11, 11, 3, 256)    3539200   \n",
      "                                                                 \n",
      " batch_normalization_91 (Bat  (None, 11, 11, 3, 256)   1024      \n",
      " chNormalization)                                                \n",
      "                                                                 \n",
      " re_lu_71 (ReLU)             (None, 11, 11, 3, 256)    0         \n",
      "                                                                 \n",
      " dropout_6 (Dropout)         (None, 11, 11, 3, 256)    0         \n",
      "                                                                 \n",
      " flatten (Flatten)           (None, 92928)             0         \n",
      "                                                                 \n",
      " dense_12 (Dense)            (None, 3)                 278787    \n",
      "                                                                 \n",
      " reshape_7 (Reshape)         (None, 1, 3)              0         \n",
      "                                                                 \n",
      "=================================================================\n",
      "Total params: 17,821,443\n",
      "Trainable params: 17,816,259\n",
      "Non-trainable params: 5,184\n",
      "_________________________________________________________________\n"
     ]
    }
   ],
   "source": [
    "import Spartan.models as models\n",
    "import importlib\n",
    "\n",
    "importlib.reload(models)\n",
    "\n",
    "s_model = models.straight_model()\n",
    "s_model.summary()"
   ],
   "metadata": {
    "collapsed": false
   }
  },
  {
   "cell_type": "markdown",
   "source": [
    "## check MSE with Resolution"
   ],
   "metadata": {
    "collapsed": false
   }
  },
  {
   "cell_type": "code",
   "execution_count": 57,
   "outputs": [],
   "source": [
    "import Spartan.models as models\n",
    "import Functions.MyDataset as md\n",
    "\n",
    "volume_path = \"/Volumes/Shawn_HDD/PhD/Project/Date/augmentation_from_matlab/Rescaled/AH_17617648_VolPts_2.mat\"\n",
    "\n",
    "model = models.first_model(width=176, height=176, depth=48)\n",
    "volume, pts, res = md.load_mat_data(volume_path, \"None\", with_res=True)\n",
    "\n",
    "res[:, [0, 1]] = res[:, [1, 0]]\n",
    "res = res.astype(\"float32\")"
   ],
   "metadata": {
    "collapsed": false
   }
  },
  {
   "cell_type": "code",
   "execution_count": 58,
   "outputs": [
    {
     "name": "stdout",
     "output_type": "stream",
     "text": [
      "volume shape:  (176, 176, 48)\n",
      "pts shape:  (4, 3)\n",
      "res shape:  (1, 3)\n",
      "res:  [[0.9690341  0.97073865 1.13125   ]]\n"
     ]
    }
   ],
   "source": [
    "print(\"volume shape: \", volume.shape)\n",
    "print(\"pts shape: \", pts.shape)\n",
    "print(\"res shape: \", res.shape)\n",
    "print(\"res: \", res)"
   ],
   "metadata": {
    "collapsed": false
   }
  },
  {
   "cell_type": "code",
   "execution_count": 59,
   "outputs": [],
   "source": [
    "volume = volume.reshape((1, 176, 176, 48, 1))\n",
    "one_pts = pts[0, :].reshape((1, 1, 3))\n",
    "res = res.reshape((1, 1, 3))"
   ],
   "metadata": {
    "collapsed": false
   }
  },
  {
   "cell_type": "code",
   "execution_count": 60,
   "outputs": [
    {
     "name": "stdout",
     "output_type": "stream",
     "text": [
      "volume shape:  (1, 176, 176, 48, 1)\n",
      "one_pts shape:  (1, 1, 3)\n",
      "res shape:  (1, 1, 3)\n"
     ]
    }
   ],
   "source": [
    "print(\"volume shape: \", volume.shape)\n",
    "print(\"one_pts shape: \", one_pts.shape)\n",
    "print(\"res shape: \", res.shape)"
   ],
   "metadata": {
    "collapsed": false
   }
  },
  {
   "cell_type": "code",
   "execution_count": 55,
   "outputs": [
    {
     "name": "stdout",
     "output_type": "stream",
     "text": [
      "tf.Tensor(\n",
      "[[[0.9690341  0.97073865 1.13125   ]\n",
      "  [0.9690341  0.97073865 1.13125   ]\n",
      "  [0.9690341  0.97073865 1.13125   ]\n",
      "  [0.9690341  0.97073865 1.13125   ]]], shape=(1, 4, 3), dtype=float32)\n"
     ]
    }
   ],
   "source": [
    "import tensorflow as tf\n",
    "\n",
    "rep_res = tf.repeat(res, 4, axis=1)\n",
    "print(rep_res)"
   ],
   "metadata": {
    "collapsed": false
   }
  },
  {
   "cell_type": "code",
   "execution_count": 61,
   "outputs": [
    {
     "name": "stdout",
     "output_type": "stream",
     "text": [
      "y shape:  (1, 1, 3)\n"
     ]
    }
   ],
   "source": [
    "y = model(volume)\n",
    "print(\"y shape: \", y.shape)"
   ],
   "metadata": {
    "collapsed": false
   }
  },
  {
   "cell_type": "code",
   "execution_count": 62,
   "outputs": [
    {
     "data": {
      "text/plain": "<tf.Tensor: shape=(), dtype=float32, numpy=20871.295>"
     },
     "execution_count": 62,
     "metadata": {},
     "output_type": "execute_result"
    }
   ],
   "source": [
    "import importlib\n",
    "\n",
    "importlib.reload(models)\n",
    "\n",
    "models.mse_with_res(one_pts, y, res)"
   ],
   "metadata": {
    "collapsed": false
   }
  },
  {
   "cell_type": "markdown",
   "source": [
    "## Experiment: how to use keras application\n",
    "\n",
    "Can not use it directly, because it not supports 3d images."
   ],
   "metadata": {
    "collapsed": false
   }
  },
  {
   "cell_type": "code",
   "execution_count": 65,
   "outputs": [
    {
     "ename": "ValueError",
     "evalue": "`input_shape` must be a tuple of three integers.",
     "output_type": "error",
     "traceback": [
      "\u001B[0;31m---------------------------------------------------------------------------\u001B[0m",
      "\u001B[0;31mValueError\u001B[0m                                Traceback (most recent call last)",
      "Input \u001B[0;32mIn [65]\u001B[0m, in \u001B[0;36m<cell line: 3>\u001B[0;34m()\u001B[0m\n\u001B[1;32m      1\u001B[0m \u001B[38;5;28;01mimport\u001B[39;00m \u001B[38;5;21;01mtensorflow\u001B[39;00m \u001B[38;5;28;01mas\u001B[39;00m \u001B[38;5;21;01mtf\u001B[39;00m\n\u001B[0;32m----> 3\u001B[0m pretrained_model_for_demo\u001B[38;5;241m=\u001B[39m \u001B[43mtf\u001B[49m\u001B[38;5;241;43m.\u001B[39;49m\u001B[43mkeras\u001B[49m\u001B[38;5;241;43m.\u001B[39;49m\u001B[43mapplications\u001B[49m\u001B[38;5;241;43m.\u001B[39;49m\u001B[43m\\\u001B[49m\n\u001B[1;32m      4\u001B[0m \u001B[43m    \u001B[49m\u001B[43mResNet50\u001B[49m\u001B[43m(\u001B[49m\u001B[43minclude_top\u001B[49m\u001B[38;5;241;43m=\u001B[39;49m\u001B[38;5;28;43;01mFalse\u001B[39;49;00m\u001B[43m,\u001B[49m\u001B[43m \u001B[49m\u001B[43minput_shape\u001B[49m\u001B[38;5;241;43m=\u001B[39;49m\u001B[43m(\u001B[49m\u001B[38;5;241;43m176\u001B[39;49m\u001B[43m,\u001B[49m\u001B[38;5;241;43m176\u001B[39;49m\u001B[43m,\u001B[49m\u001B[38;5;241;43m48\u001B[39;49m\u001B[43m,\u001B[49m\u001B[38;5;241;43m1\u001B[39;49m\u001B[43m)\u001B[49m\u001B[43m,\u001B[49m\u001B[43m \u001B[49m\u001B[43mpooling\u001B[49m\u001B[38;5;241;43m=\u001B[39;49m\u001B[38;5;124;43m'\u001B[39;49m\u001B[38;5;124;43mavg\u001B[39;49m\u001B[38;5;124;43m'\u001B[39;49m\u001B[43m,\u001B[49m\u001B[43mclasses\u001B[49m\u001B[38;5;241;43m=\u001B[39;49m\u001B[38;5;241;43m5\u001B[39;49m\u001B[43m,\u001B[49m\u001B[43m \u001B[49m\u001B[43mweights\u001B[49m\u001B[38;5;241;43m=\u001B[39;49m\u001B[38;5;124;43m'\u001B[39;49m\u001B[38;5;124;43mimagenet\u001B[39;49m\u001B[38;5;124;43m'\u001B[39;49m\u001B[43m)\u001B[49m\n\u001B[1;32m      6\u001B[0m pretrained_model_for_demo\u001B[38;5;241m.\u001B[39msummary()\n",
      "File \u001B[0;32m~/opt/anaconda3/envs/test/lib/python3.9/site-packages/keras/applications/resnet.py:458\u001B[0m, in \u001B[0;36mResNet50\u001B[0;34m(include_top, weights, input_tensor, input_shape, pooling, classes, **kwargs)\u001B[0m\n\u001B[1;32m    455\u001B[0m   x \u001B[38;5;241m=\u001B[39m stack1(x, \u001B[38;5;241m256\u001B[39m, \u001B[38;5;241m6\u001B[39m, name\u001B[38;5;241m=\u001B[39m\u001B[38;5;124m'\u001B[39m\u001B[38;5;124mconv4\u001B[39m\u001B[38;5;124m'\u001B[39m)\n\u001B[1;32m    456\u001B[0m   \u001B[38;5;28;01mreturn\u001B[39;00m stack1(x, \u001B[38;5;241m512\u001B[39m, \u001B[38;5;241m3\u001B[39m, name\u001B[38;5;241m=\u001B[39m\u001B[38;5;124m'\u001B[39m\u001B[38;5;124mconv5\u001B[39m\u001B[38;5;124m'\u001B[39m)\n\u001B[0;32m--> 458\u001B[0m \u001B[38;5;28;01mreturn\u001B[39;00m \u001B[43mResNet\u001B[49m\u001B[43m(\u001B[49m\u001B[43mstack_fn\u001B[49m\u001B[43m,\u001B[49m\u001B[43m \u001B[49m\u001B[38;5;28;43;01mFalse\u001B[39;49;00m\u001B[43m,\u001B[49m\u001B[43m \u001B[49m\u001B[38;5;28;43;01mTrue\u001B[39;49;00m\u001B[43m,\u001B[49m\u001B[43m \u001B[49m\u001B[38;5;124;43m'\u001B[39;49m\u001B[38;5;124;43mresnet50\u001B[39;49m\u001B[38;5;124;43m'\u001B[39;49m\u001B[43m,\u001B[49m\u001B[43m \u001B[49m\u001B[43minclude_top\u001B[49m\u001B[43m,\u001B[49m\u001B[43m \u001B[49m\u001B[43mweights\u001B[49m\u001B[43m,\u001B[49m\n\u001B[1;32m    459\u001B[0m \u001B[43m              \u001B[49m\u001B[43minput_tensor\u001B[49m\u001B[43m,\u001B[49m\u001B[43m \u001B[49m\u001B[43minput_shape\u001B[49m\u001B[43m,\u001B[49m\u001B[43m \u001B[49m\u001B[43mpooling\u001B[49m\u001B[43m,\u001B[49m\u001B[43m \u001B[49m\u001B[43mclasses\u001B[49m\u001B[43m,\u001B[49m\u001B[43m \u001B[49m\u001B[38;5;241;43m*\u001B[39;49m\u001B[38;5;241;43m*\u001B[39;49m\u001B[43mkwargs\u001B[49m\u001B[43m)\u001B[49m\n",
      "File \u001B[0;32m~/opt/anaconda3/envs/test/lib/python3.9/site-packages/keras/applications/resnet.py:135\u001B[0m, in \u001B[0;36mResNet\u001B[0;34m(stack_fn, preact, use_bias, model_name, include_top, weights, input_tensor, input_shape, pooling, classes, classifier_activation, **kwargs)\u001B[0m\n\u001B[1;32m    131\u001B[0m   \u001B[38;5;28;01mraise\u001B[39;00m \u001B[38;5;167;01mValueError\u001B[39;00m(\u001B[38;5;124m'\u001B[39m\u001B[38;5;124mIf using `weights` as `\u001B[39m\u001B[38;5;124m\"\u001B[39m\u001B[38;5;124mimagenet\u001B[39m\u001B[38;5;124m\"\u001B[39m\u001B[38;5;124m` with `include_top`\u001B[39m\u001B[38;5;124m'\u001B[39m\n\u001B[1;32m    132\u001B[0m                    \u001B[38;5;124m'\u001B[39m\u001B[38;5;124m as true, `classes` should be 1000\u001B[39m\u001B[38;5;124m'\u001B[39m)\n\u001B[1;32m    134\u001B[0m \u001B[38;5;66;03m# Determine proper input shape\u001B[39;00m\n\u001B[0;32m--> 135\u001B[0m input_shape \u001B[38;5;241m=\u001B[39m \u001B[43mimagenet_utils\u001B[49m\u001B[38;5;241;43m.\u001B[39;49m\u001B[43mobtain_input_shape\u001B[49m\u001B[43m(\u001B[49m\n\u001B[1;32m    136\u001B[0m \u001B[43m    \u001B[49m\u001B[43minput_shape\u001B[49m\u001B[43m,\u001B[49m\n\u001B[1;32m    137\u001B[0m \u001B[43m    \u001B[49m\u001B[43mdefault_size\u001B[49m\u001B[38;5;241;43m=\u001B[39;49m\u001B[38;5;241;43m224\u001B[39;49m\u001B[43m,\u001B[49m\n\u001B[1;32m    138\u001B[0m \u001B[43m    \u001B[49m\u001B[43mmin_size\u001B[49m\u001B[38;5;241;43m=\u001B[39;49m\u001B[38;5;241;43m32\u001B[39;49m\u001B[43m,\u001B[49m\n\u001B[1;32m    139\u001B[0m \u001B[43m    \u001B[49m\u001B[43mdata_format\u001B[49m\u001B[38;5;241;43m=\u001B[39;49m\u001B[43mbackend\u001B[49m\u001B[38;5;241;43m.\u001B[39;49m\u001B[43mimage_data_format\u001B[49m\u001B[43m(\u001B[49m\u001B[43m)\u001B[49m\u001B[43m,\u001B[49m\n\u001B[1;32m    140\u001B[0m \u001B[43m    \u001B[49m\u001B[43mrequire_flatten\u001B[49m\u001B[38;5;241;43m=\u001B[39;49m\u001B[43minclude_top\u001B[49m\u001B[43m,\u001B[49m\n\u001B[1;32m    141\u001B[0m \u001B[43m    \u001B[49m\u001B[43mweights\u001B[49m\u001B[38;5;241;43m=\u001B[39;49m\u001B[43mweights\u001B[49m\u001B[43m)\u001B[49m\n\u001B[1;32m    143\u001B[0m \u001B[38;5;28;01mif\u001B[39;00m input_tensor \u001B[38;5;129;01mis\u001B[39;00m \u001B[38;5;28;01mNone\u001B[39;00m:\n\u001B[1;32m    144\u001B[0m   img_input \u001B[38;5;241m=\u001B[39m layers\u001B[38;5;241m.\u001B[39mInput(shape\u001B[38;5;241m=\u001B[39minput_shape)\n",
      "File \u001B[0;32m~/opt/anaconda3/envs/test/lib/python3.9/site-packages/keras/applications/imagenet_utils.py:370\u001B[0m, in \u001B[0;36mobtain_input_shape\u001B[0;34m(input_shape, default_size, min_size, data_format, require_flatten, weights)\u001B[0m\n\u001B[1;32m    368\u001B[0m \u001B[38;5;28;01mif\u001B[39;00m input_shape \u001B[38;5;129;01mis\u001B[39;00m \u001B[38;5;129;01mnot\u001B[39;00m \u001B[38;5;28;01mNone\u001B[39;00m:\n\u001B[1;32m    369\u001B[0m   \u001B[38;5;28;01mif\u001B[39;00m \u001B[38;5;28mlen\u001B[39m(input_shape) \u001B[38;5;241m!=\u001B[39m \u001B[38;5;241m3\u001B[39m:\n\u001B[0;32m--> 370\u001B[0m     \u001B[38;5;28;01mraise\u001B[39;00m \u001B[38;5;167;01mValueError\u001B[39;00m(\u001B[38;5;124m'\u001B[39m\u001B[38;5;124m`input_shape` must be a tuple of three integers.\u001B[39m\u001B[38;5;124m'\u001B[39m)\n\u001B[1;32m    371\u001B[0m   \u001B[38;5;28;01mif\u001B[39;00m input_shape[\u001B[38;5;241m-\u001B[39m\u001B[38;5;241m1\u001B[39m] \u001B[38;5;241m!=\u001B[39m \u001B[38;5;241m3\u001B[39m \u001B[38;5;129;01mand\u001B[39;00m weights \u001B[38;5;241m==\u001B[39m \u001B[38;5;124m'\u001B[39m\u001B[38;5;124mimagenet\u001B[39m\u001B[38;5;124m'\u001B[39m:\n\u001B[1;32m    372\u001B[0m     \u001B[38;5;28;01mraise\u001B[39;00m \u001B[38;5;167;01mValueError\u001B[39;00m(\u001B[38;5;124m'\u001B[39m\u001B[38;5;124mThe input must have 3 channels; Received \u001B[39m\u001B[38;5;124m'\u001B[39m\n\u001B[1;32m    373\u001B[0m                      \u001B[38;5;124mf\u001B[39m\u001B[38;5;124m'\u001B[39m\u001B[38;5;124m`input_shape=\u001B[39m\u001B[38;5;132;01m{\u001B[39;00minput_shape\u001B[38;5;132;01m}\u001B[39;00m\u001B[38;5;124m`\u001B[39m\u001B[38;5;124m'\u001B[39m)\n",
      "\u001B[0;31mValueError\u001B[0m: `input_shape` must be a tuple of three integers."
     ]
    }
   ],
   "source": [
    "import tensorflow as tf\n",
    "\n",
    "pretrained_model_for_demo= tf.keras.applications.\\\n",
    "    ResNet50(include_top=False, input_shape=(176,176,48,1), pooling='avg',classes=5, weights='imagenet')\n",
    "\n",
    "pretrained_model_for_demo.summary()"
   ],
   "metadata": {
    "collapsed": false
   }
  },
  {
   "cell_type": "markdown",
   "source": [
    "## DSNT model"
   ],
   "metadata": {
    "collapsed": false
   }
  },
  {
   "cell_type": "code",
   "execution_count": 6,
   "outputs": [
    {
     "name": "stdout",
     "output_type": "stream",
     "text": [
      "Model: \"dsnt_model\"\n",
      "__________________________________________________________________________________________________\n",
      " Layer (type)                   Output Shape         Param #     Connected to                     \n",
      "==================================================================================================\n",
      " input_6 (InputLayer)           [(None, 176, 176, 4  0           []                               \n",
      "                                8, 1)]                                                            \n",
      "                                                                                                  \n",
      " conv3d_57 (Conv3D)             (None, 176, 176, 48  1792        ['input_6[0][0]']                \n",
      "                                , 64)                                                             \n",
      "                                                                                                  \n",
      " max_pooling3d_7 (MaxPooling3D)  (None, 88, 88, 24,   0          ['conv3d_57[0][0]']              \n",
      "                                64)                                                               \n",
      "                                                                                                  \n",
      " batch_normalization_45 (BatchN  (None, 88, 88, 24,   256        ['max_pooling3d_7[0][0]']        \n",
      " ormalization)                  64)                                                               \n",
      "                                                                                                  \n",
      " conv3d_58 (Conv3D)             (None, 88, 88, 24,   110656      ['batch_normalization_45[0][0]'] \n",
      "                                64)                                                               \n",
      "                                                                                                  \n",
      " max_pooling3d_8 (MaxPooling3D)  (None, 44, 44, 12,   0          ['conv3d_58[0][0]']              \n",
      "                                64)                                                               \n",
      "                                                                                                  \n",
      " batch_normalization_46 (BatchN  (None, 44, 44, 12,   256        ['max_pooling3d_8[0][0]']        \n",
      " ormalization)                  64)                                                               \n",
      "                                                                                                  \n",
      " conv3d_59 (Conv3D)             (None, 44, 44, 12,   221312      ['batch_normalization_46[0][0]'] \n",
      "                                128)                                                              \n",
      "                                                                                                  \n",
      " max_pooling3d_9 (MaxPooling3D)  (None, 22, 22, 6, 1  0          ['conv3d_59[0][0]']              \n",
      "                                28)                                                               \n",
      "                                                                                                  \n",
      " batch_normalization_47 (BatchN  (None, 22, 22, 6, 1  512        ['max_pooling3d_9[0][0]']        \n",
      " ormalization)                  28)                                                               \n",
      "                                                                                                  \n",
      " conv3d_60 (Conv3D)             (None, 22, 22, 6, 2  884992      ['batch_normalization_47[0][0]'] \n",
      "                                56)                                                               \n",
      "                                                                                                  \n",
      " batch_normalization_48 (BatchN  (None, 22, 22, 6, 2  1024       ['conv3d_60[0][0]']              \n",
      " ormalization)                  56)                                                               \n",
      "                                                                                                  \n",
      " conv3d_61 (Conv3D)             (None, 22, 22, 6, 1  884864      ['batch_normalization_48[0][0]'] \n",
      "                                28)                                                               \n",
      "                                                                                                  \n",
      " batch_normalization_49 (BatchN  (None, 22, 22, 6, 1  512        ['conv3d_61[0][0]']              \n",
      " ormalization)                  28)                                                               \n",
      "                                                                                                  \n",
      " conv3d_62 (Conv3D)             (None, 22, 22, 6, 6  221248      ['batch_normalization_49[0][0]'] \n",
      "                                4)                                                                \n",
      "                                                                                                  \n",
      " batch_normalization_50 (BatchN  (None, 22, 22, 6, 6  256        ['conv3d_62[0][0]']              \n",
      " ormalization)                  4)                                                                \n",
      "                                                                                                  \n",
      " up_sampling3d_6 (UpSampling3D)  (None, 176, 176, 48  0          ['batch_normalization_50[0][0]'] \n",
      "                                , 64)                                                             \n",
      "                                                                                                  \n",
      " up_sampling3d_5 (UpSampling3D)  (None, 176, 176, 48  0          ['batch_normalization_45[0][0]'] \n",
      "                                , 64)                                                             \n",
      "                                                                                                  \n",
      " add_17 (Add)                   (None, 176, 176, 48  0           ['up_sampling3d_6[0][0]',        \n",
      "                                , 64)                             'up_sampling3d_5[0][0]']        \n",
      "                                                                                                  \n",
      " conv3d_63 (Conv3D)             (None, 176, 176, 48  55328       ['add_17[0][0]']                 \n",
      "                                , 32)                                                             \n",
      "                                                                                                  \n",
      " batch_normalization_51 (BatchN  (None, 176, 176, 48  128        ['conv3d_63[0][0]']              \n",
      " ormalization)                  , 32)                                                             \n",
      "                                                                                                  \n",
      " conv3d_64 (Conv3D)             (None, 176, 176, 48  865         ['batch_normalization_51[0][0]'] \n",
      "                                , 1)                                                              \n",
      "                                                                                                  \n",
      " batch_normalization_52 (BatchN  (None, 176, 176, 48  4          ['conv3d_64[0][0]']              \n",
      " ormalization)                  , 1)                                                              \n",
      "                                                                                                  \n",
      " softmax (Softmax)              (None, 176, 176, 48  0           ['batch_normalization_52[0][0]'] \n",
      "                                , 1)                                                              \n",
      "                                                                                                  \n",
      " tf.repeat (TFOpLambda)         (None, 176, 176, 48  0           ['softmax[0][0]']                \n",
      "                                , 3)                                                              \n",
      "                                                                                                  \n",
      " input_7 (InputLayer)           [(None, 176, 176, 4  0           []                               \n",
      "                                8, 1, 3)]                                                         \n",
      "                                                                                                  \n",
      " reshape_2 (Reshape)            (None, 176, 176, 48  0           ['tf.repeat[0][0]']              \n",
      "                                , 1, 3)                                                           \n",
      "                                                                                                  \n",
      " multiply (Multiply)            (None, 176, 176, 48  0           ['input_7[0][0]',                \n",
      "                                , 1, 3)                           'reshape_2[0][0]']              \n",
      "                                                                                                  \n",
      " tf.math.reduce_sum (TFOpLambda  (None, 1, 3)        0           ['multiply[0][0]']               \n",
      " )                                                                                                \n",
      "                                                                                                  \n",
      "==================================================================================================\n",
      "Total params: 2,384,005\n",
      "Trainable params: 2,382,531\n",
      "Non-trainable params: 1,474\n",
      "__________________________________________________________________________________________________\n"
     ]
    }
   ],
   "source": [
    "import Spartan.models as modes\n",
    "import importlib\n",
    "\n",
    "importlib.reload(models)\n",
    "\n",
    "dsnt_model = models.dsnt_model(176, 176, 48)\n",
    "dsnt_model.summary()"
   ],
   "metadata": {
    "collapsed": false
   }
  },
  {
   "cell_type": "code",
   "execution_count": null,
   "outputs": [],
   "source": [],
   "metadata": {
    "collapsed": false
   }
  }
 ],
 "metadata": {
  "kernelspec": {
   "display_name": "Python 3",
   "language": "python",
   "name": "python3"
  },
  "language_info": {
   "codemirror_mode": {
    "name": "ipython",
    "version": 2
   },
   "file_extension": ".py",
   "mimetype": "text/x-python",
   "name": "python",
   "nbconvert_exporter": "python",
   "pygments_lexer": "ipython2",
   "version": "2.7.6"
  }
 },
 "nbformat": 4,
 "nbformat_minor": 0
}
