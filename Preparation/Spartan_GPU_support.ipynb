{
 "cells": [
  {
   "cell_type": "markdown",
   "source": [
    "# Process the data (combine them together)"
   ],
   "metadata": {
    "collapsed": false
   }
  },
  {
   "cell_type": "markdown",
   "source": [
    "## Check JH's augmentation data"
   ],
   "metadata": {
    "collapsed": false
   }
  },
  {
   "cell_type": "code",
   "execution_count": null,
   "outputs": [],
   "source": [
    "import importlib\n",
    "import functions\n",
    "\n",
    "JH_aug_mat_path = \"/Volumes/Shawn_SSD/PhD/Project/Date/Tmp/JH_Pre_Augmentation/original_augmentation_data/JH_aug_2.mat\"\n",
    "JH_reshape_vol_mat_path = \"/Volumes/Shawn_SSD/PhD/Project/Date/augmentation_from_matlab/Val/Input/FA_17017030_AugVol_2.mat\"\n",
    "JH_reshape_pts_mat_path = \"/Volumes/Shawn_SSD/PhD/Project/Date/augmentation_from_matlab/Val/Output/FA_17017030_AugPts_2.mat\"\n",
    "\n",
    "pixel_space = [0.15, 0.15, 0.15]\n",
    "\n",
    "importlib.reload(functions)\n",
    "\n",
    "# JH_aug_volume, JH_aug_pts = functions.load_mat_data(JH_aug_mat_path)\n",
    "# functions.show_pts(JH_aug_volume, JH_aug_pts, pixel_space)\n",
    "\n",
    "JH_aug_zoomed_volume, JH_aug_zoomed_pts = functions.load_mat_data(JH_reshape_vol_mat_path, JH_reshape_pts_mat_path)\n",
    "functions.show_pts(JH_aug_zoomed_volume, JH_aug_zoomed_pts, pixel_space)\n"
   ],
   "metadata": {
    "collapsed": false
   }
  },
  {
   "cell_type": "code",
   "execution_count": null,
   "outputs": [],
   "source": [
    "# Try up_sampling method\n",
    "\n",
    "up_sampling_JH = functions.rescale_3d_volume(JH_aug_zoomed_volume, (512, 512, 90))\n",
    "functions.show_pts(up_sampling_JH, JH_aug_zoomed_pts, pixel_space)"
   ],
   "metadata": {
    "collapsed": false
   }
  },
  {
   "cell_type": "markdown",
   "source": [
    "## Check rescaled data"
   ],
   "metadata": {
    "collapsed": false
   }
  },
  {
   "cell_type": "code",
   "execution_count": null,
   "outputs": [],
   "source": [
    "import importlib\n",
    "import functions\n",
    "\n",
    "# data_path = \"/Volumes/Shawn_SSD/PhD/Project/Date/augmentation_rescaled_data/176_176_48/AH_17617648_VolPts_3.mat\"\n",
    "# data_path = \"/Volumes/Shawn_SSD/PhD/Project/Date/augmentation_rescaled_data/240_240_64/AH_24024064_VolPts_3.mat\"\n",
    "# data_path = \"/Volumes/Shawn_SSD/PhD/Project/Date/augmentation_rescaled_data/320_320_96/AH_32032096_VolPts_3.mat\"\n",
    "# data_path = \"/Volumes/Shawn_SSD/PhD/Project/Date/augmentation_rescaled_data/480_480_128/AH_480480128_VolPts_3.mat\"\n",
    "data_path = \"/Volumes/Shawn_SSD/PhD/Project/Date/augmentation_rescaled_data/560_560_160/AH_560560160_VolPts_3.mat\"\n",
    "\n",
    "aug_rescaled_volume, aug_rescaled_pts = functions.load_mat_data(data_path)\n",
    "\n",
    "pixel_space = [0.15, 0.15, 0.15]\n",
    "functions.show_pts(aug_rescaled_volume, aug_rescaled_pts, pixel_space)"
   ],
   "metadata": {
    "collapsed": false,
    "pycharm": {
     "is_executing": true
    }
   }
  },
  {
   "cell_type": "markdown",
   "source": [
    "## Combination"
   ],
   "metadata": {
    "collapsed": false
   }
  },
  {
   "cell_type": "code",
   "execution_count": null,
   "outputs": [],
   "source": [
    "import numpy as np\n",
    "import importlib\n",
    "import functions\n",
    "\n",
    "def combine_data(x_base_path, y_base_path, store_base_path, data_tag):\n",
    "    importlib.reload(functions)\n",
    "\n",
    "    # X_val_base_path = \"/Volumes/Shawn_SSD/PhD/Project/Date/augmentation_from_matlab/Val/Input\"\n",
    "    # Y_val_base_path = \"/Volumes/Shawn_SSD/PhD/Project/Date/augmentation_from_matlab/Val/Output\"\n",
    "\n",
    "    x_dataset, y_dataset = functions.load_mat_data_dir(x_base_path, y_base_path)\n",
    "\n",
    "    x_dataset = np.asarray(x_dataset)\n",
    "    y_dataset = np.asarray(y_dataset)\n",
    "\n",
    "    x_dataset_path = store_base_path + \"X_\" + data_tag + \"_data\"\n",
    "    y_dataset_path = store_base_path + \"Y_\" + data_tag + \"_data\"\n",
    "\n",
    "    np.save(x_dataset_path, x_dataset)\n",
    "    np.save(y_dataset_path, y_dataset)\n"
   ],
   "metadata": {
    "collapsed": false
   }
  },
  {
   "cell_type": "code",
   "execution_count": null,
   "outputs": [],
   "source": [
    "X_train_base_path = \"/Volumes/Shawn_SSD/PhD/Project/Date/augmentation_from_matlab/Train/Input\"\n",
    "Y_train_base_path = \"/Volumes/Shawn_SSD/PhD/Project/Date/augmentation_from_matlab/Train/Output\"\n",
    "X_val_base_path = \"/Volumes/Shawn_SSD/PhD/Project/Date/augmentation_from_matlab/Val/Input\"\n",
    "Y_val_base_path = \"/Volumes/Shawn_SSD/PhD/Project/Date/augmentation_from_matlab/Val/Output\"\n",
    "X_test_base_path = \"/Volumes/Shawn_SSD/PhD/Project/Date/augmentation_from_matlab/Test/Input\"\n",
    "Y_test_base_path = \"/Volumes/Shawn_SSD/PhD/Project/Date/augmentation_from_matlab/Test/Output\"\n",
    "store_base_path = \"data/\"\n",
    "\n",
    "combine_data(X_train_base_path, Y_train_base_path, store_base_path, \"train\")\n",
    "combine_data(X_val_base_path, Y_val_base_path, store_base_path, \"val\")\n",
    "combine_data(X_test_base_path, Y_test_base_path, store_base_path, \"test\")"
   ],
   "metadata": {
    "collapsed": false
   }
  },
  {
   "cell_type": "code",
   "execution_count": null,
   "outputs": [],
   "source": [
    "import numpy as np\n",
    "import functions\n",
    "\n",
    "# Inspect Loaded Data\n",
    "\n",
    "X_file_path = \"data/X_train_data.npy\"\n",
    "Y_file_path = \"data/Y_train_data.npy\"\n",
    "\n",
    "X_load = np.load(X_file_path, allow_pickle=True)\n",
    "Y_load = np.load(Y_file_path, allow_pickle=True)\n",
    "\n",
    "print(np.shape(X_load), np.shape(Y_load))\n",
    "print(np.shape(X_load[1, :, :, :]), np.shape(Y_load[1, :, :]))\n",
    "\n",
    "# functions.show_pts(X_load[1, :, :, :], Y_load[1, :, :], [0.15, 0.15, 0.15])\n",
    "# functions.show_pts(X_load[2, :, :, :], Y_load[2, :, :], [0.15, 0.15, 0.15])\n",
    "# functions.show_pts(X_load[3, :, :, :], Y_load[3, :, :], [0.15, 0.15, 0.15])\n",
    "# functions.show_pts(X_load[4, :, :, :], Y_load[4, :, :], [0.15, 0.15, 0.15])"
   ],
   "metadata": {
    "collapsed": false
   }
  },
  {
   "cell_type": "code",
   "execution_count": null,
   "outputs": [],
   "source": [
    "import Spartan.models as models\n",
    "import importlib\n",
    "\n",
    "importlib.reload(models)\n",
    "\n",
    "# model_s1, model_s2 = models.spine_lateral_radiograph(width=32, height=32, depth=16)\n",
    "# model_s1.summary()\n",
    "# model_s2.summary()\n",
    "\n",
    "model = models.spine_lateral_radiograph(width=172, height=172, depth=48)\n",
    "model.summary()"
   ],
   "metadata": {
    "collapsed": false,
    "pycharm": {
     "is_executing": true
    }
   }
  },
  {
   "cell_type": "code",
   "execution_count": 6,
   "outputs": [],
   "source": [
    "importlib.reload(models)\n",
    "\n",
    "batch_base_cor_xyz = models.coordinate_3d(2,3,4,2)\n",
    "\n",
    "# test base coordinate matrix\n",
    "print(\"batch_base_cor_xyz shape: \", np.shape(batch_base_cor_xyz))\n",
    "print(batch_base_cor_xyz[0, :, :, 1, 0, 1])"
   ],
   "metadata": {
    "collapsed": false
   }
  },
  {
   "cell_type": "code",
   "execution_count": null,
   "outputs": [],
   "source": [
    "from tensorflow import keras\n",
    "\n",
    "# keras.utils.plot_model(model_s1, \"my_first_model.png\")"
   ],
   "metadata": {
    "collapsed": false
   }
  },
  {
   "cell_type": "code",
   "execution_count": 38,
   "outputs": [
    {
     "name": "stdout",
     "output_type": "stream",
     "text": [
      "(2, 4, 3)\n",
      "(2, 4, 3)\n"
     ]
    }
   ],
   "source": [
    "import numpy as np\n",
    "\n",
    "input = np.arange(2*32*32*16*1).reshape(2,32,32,16,1)\n",
    "base_cor_xyz = np.arange(2*32*32*16*4*3).reshape(2,32,32,16,4,3)\n",
    "\n",
    "[output_s1, output_s2] = model([input, base_cor_xyz])\n",
    "\n",
    "print(np.shape(output_s1))\n",
    "print(np.shape(output_s2))"
   ],
   "metadata": {
    "collapsed": false
   }
  },
  {
   "cell_type": "code",
   "execution_count": null,
   "outputs": [],
   "source": [],
   "metadata": {
    "collapsed": false
   }
  }
 ],
 "metadata": {
  "kernelspec": {
   "display_name": "Python 3",
   "language": "python",
   "name": "python3"
  },
  "language_info": {
   "codemirror_mode": {
    "name": "ipython",
    "version": 2
   },
   "file_extension": ".py",
   "mimetype": "text/x-python",
   "name": "python",
   "nbconvert_exporter": "python",
   "pygments_lexer": "ipython2",
   "version": "2.7.6"
  }
 },
 "nbformat": 4,
 "nbformat_minor": 0
}
