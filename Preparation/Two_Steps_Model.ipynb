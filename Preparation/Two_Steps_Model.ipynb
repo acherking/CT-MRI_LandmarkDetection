{
 "cells": [
  {
   "cell_type": "markdown",
   "source": [
    "## Static Train/Val/Test division"
   ],
   "metadata": {
    "collapsed": false
   }
  },
  {
   "cell_type": "code",
   "execution_count": 40,
   "outputs": [],
   "source": [
    "# Check the Division Configuration Parameters\n",
    "import numpy as np\n",
    "import Functions.MyDataset as MyDataset\n",
    "import Spartan.support_modules as MySupport\n"
   ],
   "metadata": {
    "collapsed": false
   }
  },
  {
   "cell_type": "code",
   "execution_count": 6,
   "outputs": [
    {
     "data": {
      "text/plain": "[array([ 2,  4, 18, 17, 12, 10,  6,  0, 11, 16,  9, 14,  5]),\n array([ 3, 13]),\n array([ 8,  7,  1, 15])]"
     },
     "execution_count": 6,
     "metadata": {},
     "output_type": "execute_result"
    }
   ],
   "source": [
    "MyDataset.get_pat_splits(static=True)"
   ],
   "metadata": {
    "collapsed": false
   }
  },
  {
   "cell_type": "code",
   "execution_count": 17,
   "outputs": [
    {
     "name": "stdout",
     "output_type": "stream",
     "text": [
      "[array(['SM', 'GP', 'PH', 'DE', 'JH', 'DGL', 'FA', 'LP', 'JM', 'AZ', 'MJ',\n",
      "       'HB', 'LG', 'GM'], dtype='<U3'), array(['DM2', 'NV'], dtype='<U3'), array(['DM', 'AH', 'HH', 'GE'], dtype='<U3')]\n"
     ]
    }
   ],
   "source": [
    "# file name format: {name}_{size}_VolPts_{id}.mat (AH_17617648_VolPts.mat)\n",
    "pat_names = ['AH', 'AZ', 'DE', 'DM', 'DM2', 'DGL', 'FA', 'GE', 'GM', 'GP', 'HB', 'HH',\n",
    "             'JH', 'JM', 'LG', 'LP', 'MJ', 'NV', 'PH', 'SM']\n",
    "\n",
    "# pat_splits = MyDataset.get_pat_splits(static=True)\n",
    "pat_splits = []\n",
    "\n",
    "if not pat_splits:\n",
    "    np.random.shuffle(pat_names)\n",
    "    name_splits = np.split(pat_names, [int(.7 * len(pat_names)), int(.8 * len(pat_names))])\n",
    "else:\n",
    "    name_splits = [[pat_names[i] for i in pat_splits[0]],\n",
    "                   [pat_names[i] for i in pat_splits[1]], [pat_names[i] for i in pat_splits[2]]]\n",
    "\n",
    "print(name_splits)"
   ],
   "metadata": {
    "collapsed": false
   }
  },
  {
   "cell_type": "code",
   "execution_count": null,
   "outputs": [],
   "source": [
    "import importlib\n",
    "\n",
    "importlib.reload(MyDataset)\n",
    "\n",
    "#pat_splits = MyDataset.get_pat_splits(static=True)\n",
    "pat_splits = []\n",
    "\n",
    "if not pat_splits:\n",
    "    # attention: this division is based on augmentation, no on patients (not sure if it will cause issues)\n",
    "    idx_list = np.arange(0, 2000, 2)\n",
    "    np.random.shuffle(idx_list)\n",
    "    idx_splits = np.split(idx_list, [int(.7 * len(idx_list)), int(.8 * len(idx_list))])\n",
    "else:\n",
    "    idx_splits = [[list(range(i*100, i*100+100, 2)) for i in j] for j in pat_splits]\n",
    "    for i in range(0, 3):\n",
    "        idx_splits[i] = [num for sublist in idx_splits[i] for num in sublist]\n",
    "        np.random.shuffle(idx_splits[i])\n",
    "\n",
    "print(idx_splits)"
   ],
   "metadata": {
    "collapsed": false
   }
  },
  {
   "cell_type": "markdown",
   "source": [
    "## Check Test Dataset prediction results"
   ],
   "metadata": {
    "collapsed": false
   }
  },
  {
   "cell_type": "code",
   "execution_count": null,
   "outputs": [],
   "source": [
    "import numpy as np"
   ],
   "metadata": {
    "collapsed": false,
    "pycharm": {
     "is_executing": true
    }
   }
  },
  {
   "cell_type": "code",
   "execution_count": 58,
   "outputs": [],
   "source": [
    "res_dir = \"/Users/achs/PhD/code/CT-MRI_LandmarkDetection/Spartan/Output/y_test_pred/\"\n",
    "\n",
    "test_y_pred_file = \"final_first_model_y_test.npy\"\n",
    "# test_y_pred_file = \"bestVal_first_model_y_test.npy\"\n",
    "\n",
    "test_y_pred_path = res_dir + test_y_pred_file\n",
    "test_y_pred = np.load(test_y_pred_path)\n"
   ],
   "metadata": {
    "collapsed": false
   }
  },
  {
   "cell_type": "code",
   "execution_count": null,
   "outputs": [],
   "source": [],
   "metadata": {
    "collapsed": false
   }
  }
 ],
 "metadata": {
  "kernelspec": {
   "display_name": "Python 3",
   "language": "python",
   "name": "python3"
  },
  "language_info": {
   "codemirror_mode": {
    "name": "ipython",
    "version": 2
   },
   "file_extension": ".py",
   "mimetype": "text/x-python",
   "name": "python",
   "nbconvert_exporter": "python",
   "pygments_lexer": "ipython2",
   "version": "2.7.6"
  }
 },
 "nbformat": 4,
 "nbformat_minor": 0
}
