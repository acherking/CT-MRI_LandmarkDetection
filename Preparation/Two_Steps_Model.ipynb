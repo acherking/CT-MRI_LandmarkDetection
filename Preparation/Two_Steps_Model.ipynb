{
 "cells": [
  {
   "cell_type": "markdown",
   "source": [
    "## Static Train/Val/Test division"
   ],
   "metadata": {
    "collapsed": false
   }
  },
  {
   "cell_type": "code",
   "execution_count": null,
   "outputs": [],
   "source": [
    "# Check the Division Configuration Parameters\n",
    "import numpy as np\n",
    "import Functions.MyDataset as MyDataset\n",
    "import Spartan.support_modules as MySupport\n"
   ],
   "metadata": {
    "collapsed": false
   }
  },
  {
   "cell_type": "code",
   "execution_count": null,
   "outputs": [],
   "source": [
    "MyDataset.get_pat_splits(static=True)"
   ],
   "metadata": {
    "collapsed": false
   }
  },
  {
   "cell_type": "code",
   "execution_count": null,
   "outputs": [],
   "source": [
    "# file name format: {name}_{size}_VolPts_{id}.mat (AH_17617648_VolPts.mat)\n",
    "pat_names = ['AH', 'AZ', 'DE', 'DM', 'DM2', 'DGL', 'FA', 'GE', 'GM', 'GP', 'HB', 'HH',\n",
    "             'JH', 'JM', 'LG', 'LP', 'MJ', 'NV', 'PH', 'SM']\n",
    "\n",
    "# pat_splits = MyDataset.get_pat_splits(static=True)\n",
    "pat_splits = []\n",
    "\n",
    "if not pat_splits:\n",
    "    np.random.shuffle(pat_names)\n",
    "    name_splits = np.split(pat_names, [int(.7 * len(pat_names)), int(.8 * len(pat_names))])\n",
    "else:\n",
    "    name_splits = [[pat_names[i] for i in pat_splits[0]],\n",
    "                   [pat_names[i] for i in pat_splits[1]], [pat_names[i] for i in pat_splits[2]]]\n",
    "\n",
    "print(name_splits)"
   ],
   "metadata": {
    "collapsed": false
   }
  },
  {
   "cell_type": "code",
   "execution_count": null,
   "outputs": [],
   "source": [
    "import importlib\n",
    "\n",
    "importlib.reload(MyDataset)\n",
    "\n",
    "#pat_splits = MyDataset.get_pat_splits(static=True)\n",
    "pat_splits = []\n",
    "\n",
    "if not pat_splits:\n",
    "    # attention: this division is based on augmentation, no on patients (not sure if it will cause issues)\n",
    "    idx_list = np.arange(0, 2000, 2)\n",
    "    np.random.shuffle(idx_list)\n",
    "    idx_splits = np.split(idx_list, [int(.7 * len(idx_list)), int(.8 * len(idx_list))])\n",
    "else:\n",
    "    idx_splits = [[list(range(i*100, i*100+100, 2)) for i in j] for j in pat_splits]\n",
    "    for i in range(0, 3):\n",
    "        idx_splits[i] = [num for sublist in idx_splits[i] for num in sublist]\n",
    "        np.random.shuffle(idx_splits[i])\n",
    "\n",
    "print(idx_splits)"
   ],
   "metadata": {
    "collapsed": false
   }
  },
  {
   "cell_type": "markdown",
   "source": [
    "## Check Test Dataset prediction results"
   ],
   "metadata": {
    "collapsed": false
   }
  },
  {
   "cell_type": "code",
   "execution_count": null,
   "outputs": [],
   "source": [
    "import numpy as np"
   ],
   "metadata": {
    "collapsed": false,
    "ExecuteTime": {
     "start_time": "2023-04-20T11:27:24.818368Z",
     "end_time": "2023-04-20T11:27:25.873130Z"
    }
   }
  },
  {
   "cell_type": "code",
   "execution_count": null,
   "outputs": [],
   "source": [
    "res_dir = \"/Users/achs/PhD/code/CT-MRI_LandmarkDetection/Spartan/Output/y_test_pred/\"\n",
    "\n",
    "test_y_pred_file = \"final_first_model_y_test.npy\"\n",
    "# test_y_pred_file = \"bestVal_first_model_y_test.npy\"\n",
    "\n",
    "test_y_pred_path = res_dir + test_y_pred_file\n",
    "test_y_pred = np.load(test_y_pred_path)\n"
   ],
   "metadata": {
    "collapsed": false,
    "ExecuteTime": {
     "start_time": "2023-04-20T11:28:02.503482Z",
     "end_time": "2023-04-20T11:28:02.508681Z"
    }
   }
  },
  {
   "cell_type": "code",
   "execution_count": null,
   "outputs": [],
   "source": [
    "import Spartan.support_modules as supporter\n",
    "import Functions.MyDataset as MyDataset\n",
    "\n",
    "# Get the Test Dataset Prediction Results\n",
    "size = (176, 176, 48)\n",
    "with_res = True\n",
    "\n",
    "str_size = str(size[0]) + \"_\" + str(size[1]) + \"_\" + str(size[2])\n",
    "if with_res:\n",
    "    str_size = str_size + \"_PD\"\n",
    "\n",
    "X_test, Y_test, res_test = \\\n",
    "    supporter.load_dataset(\"/Volumes/Shawn_HDD/PhD/Project/Date/augmentation_from_matlab/Rescaled/\" + str_size + \"/\",\n",
    "                           size, pat_splits=MyDataset.get_pat_splits(static=True), with_res=with_res,\n",
    "                           only_test=True)"
   ],
   "metadata": {
    "collapsed": false,
    "ExecuteTime": {
     "start_time": "2023-04-20T12:20:14.006492Z",
     "end_time": "2023-04-20T12:21:29.603155Z"
    }
   }
  },
  {
   "cell_type": "code",
   "execution_count": null,
   "outputs": [],
   "source": [
    "import tensorflow as tf\n",
    "\n",
    "rep_res = tf.repeat(res_test, 4, axis=1)"
   ],
   "metadata": {
    "collapsed": false,
    "ExecuteTime": {
     "start_time": "2023-04-20T12:32:30.744181Z",
     "end_time": "2023-04-20T12:32:37.344672Z"
    }
   }
  },
  {
   "cell_type": "code",
   "execution_count": null,
   "outputs": [],
   "source": [
    "print(rep_res.shape)\n",
    "print(rep_res[1])"
   ],
   "metadata": {
    "collapsed": false,
    "ExecuteTime": {
     "start_time": "2023-04-20T12:33:46.426504Z",
     "end_time": "2023-04-20T12:33:46.441289Z"
    }
   }
  },
  {
   "cell_type": "code",
   "execution_count": null,
   "outputs": [],
   "source": [
    "Y_test_mapped = Y_test * rep_res / 0.15"
   ],
   "metadata": {
    "collapsed": false,
    "ExecuteTime": {
     "start_time": "2023-04-20T13:42:31.057795Z",
     "end_time": "2023-04-20T13:42:31.066620Z"
    }
   }
  },
  {
   "cell_type": "code",
   "execution_count": null,
   "outputs": [],
   "source": [
    "test_y_pred_mapped = test_y_pred * rep_res / 0.15"
   ],
   "metadata": {
    "collapsed": false,
    "ExecuteTime": {
     "start_time": "2023-04-20T13:19:19.388183Z",
     "end_time": "2023-04-20T13:19:19.611857Z"
    }
   }
  },
  {
   "cell_type": "code",
   "execution_count": null,
   "outputs": [],
   "source": [
    "print(test_y_pred_mapped.shape)\n",
    "print(test_y_pred_mapped[0])"
   ],
   "metadata": {
    "collapsed": false,
    "ExecuteTime": {
     "start_time": "2023-04-20T13:19:50.222172Z",
     "end_time": "2023-04-20T13:19:50.241174Z"
    }
   }
  },
  {
   "cell_type": "markdown",
   "source": [
    "## check the difference between Predictions and Ground Truth"
   ],
   "metadata": {
    "collapsed": false
   }
  },
  {
   "cell_type": "code",
   "execution_count": null,
   "outputs": [],
   "source": [
    "# 1. Total error distance\n",
    "# 2. Maximum one point's error distance\n",
    "# 3. If it can involve the Ground Truth points\n",
    "# 4. If it can involve the Target Area\n",
    "\n",
    "# 1. Total error distance\n",
    "err_diff = Y_test_mapped - test_y_pred_mapped\n",
    "square_err_diff = tf.pow(err_diff, 2)\n",
    "sum_square_err_diff = tf.reduce_sum(square_err_diff, axis=[1, 2])"
   ],
   "metadata": {
    "collapsed": false,
    "ExecuteTime": {
     "start_time": "2023-04-20T13:42:44.732752Z",
     "end_time": "2023-04-20T13:42:44.739852Z"
    }
   }
  },
  {
   "cell_type": "code",
   "execution_count": null,
   "outputs": [],
   "source": [
    "print(sum_square_err_diff.shape)\n",
    "max_err_idx = np.argmax(sum_square_err_diff, axis=0)\n",
    "print(\"max error idx: \", max_err_idx, \"value: \", sum_square_err_diff[max_err_idx])"
   ],
   "metadata": {
    "collapsed": false,
    "ExecuteTime": {
     "start_time": "2023-04-20T15:19:22.880481Z",
     "end_time": "2023-04-20T15:19:22.902783Z"
    }
   }
  },
  {
   "cell_type": "code",
   "execution_count": null,
   "outputs": [],
   "source": [
    "idx = 187\n",
    "print(Y_test_mapped[idx])\n",
    "print(test_y_pred_mapped[idx])"
   ],
   "metadata": {
    "collapsed": false,
    "ExecuteTime": {
     "start_time": "2023-04-20T13:43:20.319399Z",
     "end_time": "2023-04-20T13:43:20.329248Z"
    }
   }
  },
  {
   "cell_type": "code",
   "execution_count": null,
   "outputs": [],
   "source": [
    "pat_names = MyDataset.get_pat_names()\n",
    "test_pat_idx = MyDataset.get_pat_splits(static=True)[2] # 0: train, 1: val, 2: test"
   ],
   "metadata": {
    "collapsed": false,
    "ExecuteTime": {
     "start_time": "2023-04-20T13:50:36.945728Z",
     "end_time": "2023-04-20T13:50:36.954965Z"
    }
   }
  },
  {
   "cell_type": "code",
   "execution_count": null,
   "outputs": [],
   "source": [
    "test_pt_idx = np.floor(idx / 50).astype(int)\n",
    "pt_aug_id = idx % 50 + 1"
   ],
   "metadata": {
    "collapsed": false,
    "ExecuteTime": {
     "start_time": "2023-04-20T13:55:16.937151Z",
     "end_time": "2023-04-20T13:55:16.945956Z"
    }
   }
  },
  {
   "cell_type": "code",
   "execution_count": null,
   "outputs": [],
   "source": [
    "pat_name = pat_names[test_pat_idx[test_pt_idx]]"
   ],
   "metadata": {
    "collapsed": false,
    "ExecuteTime": {
     "start_time": "2023-04-20T13:55:36.967738Z",
     "end_time": "2023-04-20T13:55:36.976744Z"
    }
   }
  },
  {
   "cell_type": "code",
   "execution_count": null,
   "outputs": [],
   "source": [
    "## Check the cropped results\n",
    "import numpy as np\n",
    "import importlib\n",
    "import Functions.MyDataset as MyDataset\n",
    "import Functions.Visualization as Visualization\n",
    "\n",
    "JH_aug_mat_path = \"/Volumes/Shawn_HDD/PhD/Project/Date/augmentation_from_matlab/original_augmentation_data/LP_aug_38.mat\"\n",
    "# JH_reshape_vol_mat_path = \"/Volumes/Shawn_SSD/PhD/Project/Date/augmentation_from_matlab/Val/Input/FA_17017030_AugVol_2.mat\"\n",
    "# JH_reshape_pts_mat_path = \"/Volumes/Shawn_SSD/PhD/Project/Date/augmentation_from_matlab/Val/Output/FA_17017030_AugPts_2.mat\"\n",
    "\n",
    "pixel_space = [0.15, 0.15, 0.15]\n",
    "\n",
    "importlib.reload(MyDataset)\n",
    "\n",
    "JH_aug_volume, JH_aug_pts, _ = MyDataset.load_mat_data(JH_aug_mat_path)\n",
    "\n",
    "Visualization.show_pts(JH_aug_volume, test_y_pred_mapped[idx], pixel_space)"
   ],
   "metadata": {
    "collapsed": false,
    "ExecuteTime": {
     "start_time": "2023-04-20T13:58:20.728463Z",
     "end_time": "2023-04-20T13:59:17.521691Z"
    }
   }
  },
  {
   "cell_type": "code",
   "execution_count": null,
   "outputs": [],
   "source": [
    "print(X_test[0,:,:,:,0].shape)"
   ],
   "metadata": {
    "collapsed": false,
    "ExecuteTime": {
     "start_time": "2023-04-20T14:05:01.405167Z",
     "end_time": "2023-04-20T14:05:01.427998Z"
    }
   }
  },
  {
   "cell_type": "code",
   "execution_count": null,
   "outputs": [],
   "source": [
    "Visualization.show_pts(X_test[idx,:,:,:,0], test_y_pred[idx], pixel_space)"
   ],
   "metadata": {
    "collapsed": false,
    "ExecuteTime": {
     "start_time": "2023-04-20T14:06:58.734095Z",
     "end_time": "2023-04-20T14:06:59.649693Z"
    }
   }
  },
  {
   "cell_type": "code",
   "execution_count": null,
   "outputs": [],
   "source": [],
   "metadata": {
    "collapsed": false
   }
  }
 ],
 "metadata": {
  "kernelspec": {
   "display_name": "Python 3",
   "language": "python",
   "name": "python3"
  },
  "language_info": {
   "codemirror_mode": {
    "name": "ipython",
    "version": 2
   },
   "file_extension": ".py",
   "mimetype": "text/x-python",
   "name": "python",
   "nbconvert_exporter": "python",
   "pygments_lexer": "ipython2",
   "version": "2.7.6"
  }
 },
 "nbformat": 4,
 "nbformat_minor": 0
}
