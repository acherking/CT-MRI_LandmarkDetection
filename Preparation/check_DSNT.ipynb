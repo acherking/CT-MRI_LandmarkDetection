{
 "cells": [
  {
   "cell_type": "code",
   "execution_count": 1,
   "outputs": [],
   "source": [
    "import numpy as np\n",
    "import tensorflow as tf\n",
    "import keras\n",
    "import keras.layers as layers\n",
    "\n",
    "import Spartan.models as models"
   ],
   "metadata": {
    "collapsed": false,
    "ExecuteTime": {
     "end_time": "2023-07-12T06:17:14.935446Z",
     "start_time": "2023-07-12T06:17:00.906367Z"
    }
   }
  },
  {
   "cell_type": "code",
   "execution_count": 37,
   "metadata": {
    "collapsed": true,
    "ExecuteTime": {
     "end_time": "2023-07-12T06:50:35.685908Z",
     "start_time": "2023-07-12T06:50:35.681817Z"
    }
   },
   "outputs": [],
   "source": [
    "\n",
    "def slr_s1_model(height=176, width=176, depth=48, points_num=2, batch_size=2):\n",
    "    \"\"\"\n",
    "    This is a simplified slr model used to debug the original one.\n",
    "    \"\"\"\n",
    "    inputs = keras.Input((height, width, depth, 1))\n",
    "    # e.x. batches*170*170*30*4*3, 4 type of coordinates, 3 dimensions\n",
    "    # base_coordinate_xyz = keras.Input((width, height, depth, 4, 3))\n",
    "\n",
    "    base_cor_rcs = models.coordinate_3d(batch_size, points_num, height, width, depth)\n",
    "\n",
    "    # x = layers.BatchNormalization()(inputs)\n",
    "    # x = layers.ReLU()(x)\n",
    "    #\n",
    "    # # Stage 1\n",
    "    # violet_x = models.residual_block(x, downsample=True, filters=4)\n",
    "    #\n",
    "    # x = models.residual_block(violet_x, downsample=False, filters=4)\n",
    "    # violet_x = layers.Add()([x, violet_x])\n",
    "    #\n",
    "    # x = models.residual_block(violet_x, downsample=False, filters=4)\n",
    "    # grey_x_s1 = layers.UpSampling3D(size=2)(x)\n",
    "\n",
    "    # heatmap_s1 = models.residual_block(grey_x_s1, downsample=False, filters=points_num)\n",
    "    heatmap_s1 = inputs\n",
    "\n",
    "    # add dropout?\n",
    "    # heatmap_s1 = layers.Dropout(0.2)(heatmap_s1)\n",
    "\n",
    "    pro_matrix_s1 = layers.Reshape((width, height, depth, points_num, 3)) \\\n",
    "        (tf.repeat(layers.Softmax(axis=[1, 2, 3], name=\"stage1_softmax\")(heatmap_s1), repeats=3, axis=-1))\n",
    "    outputs_s1 = tf.math.reduce_sum(layers.multiply([base_cor_rcs, pro_matrix_s1]), axis=[1, 2, 3])\n",
    "\n",
    "    model_s1 = keras.Model(inputs, [outputs_s1, pro_matrix_s1], name=\"slr_stage1\")\n",
    "\n",
    "\n",
    "    return model_s1"
   ]
  },
  {
   "cell_type": "code",
   "execution_count": 38,
   "outputs": [
    {
     "name": "stdout",
     "output_type": "stream",
     "text": [
      "Model: \"slr_stage1\"\n",
      "_________________________________________________________________\n",
      " Layer (type)                Output Shape              Param #   \n",
      "=================================================================\n",
      " input_7 (InputLayer)        [(None, 4, 4, 2, 1)]      0         \n",
      "                                                                 \n",
      " stage1_softmax (Softmax)    (None, 4, 4, 2, 1)        0         \n",
      "                                                                 \n",
      " tf.repeat_6 (TFOpLambda)    (None, 4, 4, 2, 3)        0         \n",
      "                                                                 \n",
      " reshape_6 (Reshape)         (None, 4, 4, 2, 1, 3)     0         \n",
      "                                                                 \n",
      " multiply_5 (Multiply)       (2, 4, 4, 2, 1, 3)        0         \n",
      "                                                                 \n",
      " tf.math.reduce_sum_5 (TFOpL  (2, 1, 3)                0         \n",
      " ambda)                                                          \n",
      "                                                                 \n",
      "=================================================================\n",
      "Total params: 0\n",
      "Trainable params: 0\n",
      "Non-trainable params: 0\n",
      "_________________________________________________________________\n"
     ]
    }
   ],
   "source": [
    "model = slr_s1_model(4, 4, 2, 1, 2)\n",
    "model.summary()"
   ],
   "metadata": {
    "collapsed": false,
    "ExecuteTime": {
     "end_time": "2023-07-12T06:50:36.478264Z",
     "start_time": "2023-07-12T06:50:36.360438Z"
    }
   }
  },
  {
   "cell_type": "code",
   "execution_count": 25,
   "outputs": [
    {
     "name": "stdout",
     "output_type": "stream",
     "text": [
      "[[-0.5 -0.5 -0.5 -0.5]\n",
      " [-0.5 -0.5 -0.5 -0.5]\n",
      " [-0.5 -0.5 -0.5 -0.5]\n",
      " [-0.5 -0.5 -0.5 -0.5]]\n",
      "[[0.5 0.5 0.5 0.5]\n",
      " [0.5 0.5 0.5 0.5]\n",
      " [0.5 0.5 0.5 0.5]\n",
      " [0.5 0.5 0.5 0.5]]\n"
     ]
    }
   ],
   "source": [
    "batch_size = 2\n",
    "points_num = 1\n",
    "height = 4\n",
    "width = 4\n",
    "depth = 2\n",
    "\n",
    "base_cor_rcs = models.coordinate_3d(batch_size, points_num, height, width, depth)\n",
    "print(base_cor_rcs[0, :,:,0, 0, 2])\n",
    "print(base_cor_rcs[0, :,:,1, 0, 2])\n",
    "# print(base_cor_rcs[0, :,:,1, 0, :])"
   ],
   "metadata": {
    "collapsed": false,
    "ExecuteTime": {
     "end_time": "2023-07-12T06:34:30.191967Z",
     "start_time": "2023-07-12T06:34:30.174814Z"
    }
   }
  },
  {
   "cell_type": "code",
   "execution_count": 75,
   "outputs": [],
   "source": [
    "data_bitch = np.ones((batch_size, height, width, depth, 1)) * -1\n",
    "data_bitch[0, 0, 0, 1, 0] = 10\n",
    "data_bitch[1, 0, 0, 1, 0] = 10"
   ],
   "metadata": {
    "collapsed": false,
    "ExecuteTime": {
     "end_time": "2023-07-12T07:15:54.625004Z",
     "start_time": "2023-07-12T07:15:54.619890Z"
    }
   }
  },
  {
   "cell_type": "code",
   "execution_count": 76,
   "outputs": [
    {
     "name": "stdout",
     "output_type": "stream",
     "text": [
      "[[-1. -1. -1. -1.]\n",
      " [-1. -1. -1. -1.]\n",
      " [-1. -1. -1. -1.]\n",
      " [-1. -1. -1. -1.]]\n",
      "[[10. -1. -1. -1.]\n",
      " [-1. -1. -1. -1.]\n",
      " [-1. -1. -1. -1.]\n",
      " [-1. -1. -1. -1.]]\n"
     ]
    }
   ],
   "source": [
    "print(data_bitch[0, :, :, 0, 0])\n",
    "print(data_bitch[0, :, :, 1, 0])"
   ],
   "metadata": {
    "collapsed": false,
    "ExecuteTime": {
     "end_time": "2023-07-12T07:15:55.090107Z",
     "start_time": "2023-07-12T07:15:55.082135Z"
    }
   }
  },
  {
   "cell_type": "code",
   "execution_count": 77,
   "outputs": [
    {
     "name": "stdout",
     "output_type": "stream",
     "text": [
      "tf.Tensor(\n",
      "[[[-0.7495992 -0.7495992  0.4997328]]\n",
      "\n",
      " [[-0.7495992 -0.7495992  0.4997328]]], shape=(2, 1, 3), dtype=float32)\n"
     ]
    }
   ],
   "source": [
    "[output, p] = model(data_bitch)\n",
    "print(output)"
   ],
   "metadata": {
    "collapsed": false,
    "ExecuteTime": {
     "end_time": "2023-07-12T07:15:55.649834Z",
     "start_time": "2023-07-12T07:15:55.640158Z"
    }
   }
  },
  {
   "cell_type": "code",
   "execution_count": 74,
   "outputs": [
    {
     "name": "stdout",
     "output_type": "stream",
     "text": [
      "tf.Tensor(\n",
      "[[1.6693055e-05 1.6693055e-05 1.6693055e-05 1.6693055e-05]\n",
      " [1.6693055e-05 1.6693055e-05 1.6693055e-05 1.6693055e-05]\n",
      " [1.6693055e-05 1.6693055e-05 1.6693055e-05 1.6693055e-05]\n",
      " [1.6693055e-05 1.6693055e-05 1.6693055e-05 1.6693055e-05]], shape=(4, 4), dtype=float32)\n",
      "tf.Tensor(\n",
      "[[1.6693055e-05 1.6693055e-05 1.6693055e-05 1.6693055e-05]\n",
      " [1.6693055e-05 1.6693055e-05 1.6693055e-05 1.6693055e-05]\n",
      " [1.6693055e-05 1.6693055e-05 1.6693055e-05 1.6693055e-05]\n",
      " [1.6693055e-05 1.6693055e-05 1.6693055e-05 9.9948227e-01]], shape=(4, 4), dtype=float32)\n"
     ]
    }
   ],
   "source": [
    "print(p[0, :, :, 0, 0, 0])\n",
    "print(p[0, :, :, 1, 0, 0])"
   ],
   "metadata": {
    "collapsed": false,
    "ExecuteTime": {
     "end_time": "2023-07-12T07:14:02.704611Z",
     "start_time": "2023-07-12T07:14:02.699289Z"
    }
   }
  },
  {
   "cell_type": "code",
   "execution_count": null,
   "outputs": [],
   "source": [],
   "metadata": {
    "collapsed": false
   }
  }
 ],
 "metadata": {
  "kernelspec": {
   "display_name": "Python 3",
   "language": "python",
   "name": "python3"
  },
  "language_info": {
   "codemirror_mode": {
    "name": "ipython",
    "version": 2
   },
   "file_extension": ".py",
   "mimetype": "text/x-python",
   "name": "python",
   "nbconvert_exporter": "python",
   "pygments_lexer": "ipython2",
   "version": "2.7.6"
  }
 },
 "nbformat": 4,
 "nbformat_minor": 0
}
