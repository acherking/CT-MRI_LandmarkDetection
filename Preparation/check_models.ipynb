{
 "cells": [
  {
   "cell_type": "markdown",
   "source": [
    "## DSNT"
   ],
   "metadata": {
    "collapsed": false
   }
  },
  {
   "cell_type": "code",
   "execution_count": 1,
   "outputs": [],
   "source": [
    "import numpy as np\n",
    "import tensorflow as tf\n",
    "import keras\n",
    "import keras.layers as layers\n",
    "\n",
    "import Spartan.models as models"
   ],
   "metadata": {
    "collapsed": false,
    "ExecuteTime": {
     "end_time": "2023-07-12T06:17:14.935446Z",
     "start_time": "2023-07-12T06:17:00.906367Z"
    }
   }
  },
  {
   "cell_type": "code",
   "execution_count": 37,
   "metadata": {
    "collapsed": true,
    "ExecuteTime": {
     "end_time": "2023-07-12T06:50:35.685908Z",
     "start_time": "2023-07-12T06:50:35.681817Z"
    }
   },
   "outputs": [],
   "source": [
    "\n",
    "def slr_s1_model(height=176, width=176, depth=48, points_num=2, batch_size=2):\n",
    "    \"\"\"\n",
    "    This is a simplified slr model used to debug the original one.\n",
    "    \"\"\"\n",
    "    inputs = keras.Input((height, width, depth, 1))\n",
    "    # e.x. batches*170*170*30*4*3, 4 type of coordinates, 3 dimensions\n",
    "    # base_coordinate_xyz = keras.Input((width, height, depth, 4, 3))\n",
    "\n",
    "    base_cor_rcs = models.coordinate_3d(batch_size, points_num, height, width, depth)\n",
    "\n",
    "    # x = layers.BatchNormalization()(inputs)\n",
    "    # x = layers.ReLU()(x)\n",
    "    #\n",
    "    # # Stage 1\n",
    "    # violet_x = models.residual_block(x, downsample=True, filters=4)\n",
    "    #\n",
    "    # x = models.residual_block(violet_x, downsample=False, filters=4)\n",
    "    # violet_x = layers.Add()([x, violet_x])\n",
    "    #\n",
    "    # x = models.residual_block(violet_x, downsample=False, filters=4)\n",
    "    # grey_x_s1 = layers.UpSampling3D(size=2)(x)\n",
    "\n",
    "    # heatmap_s1 = models.residual_block(grey_x_s1, downsample=False, filters=points_num)\n",
    "    heatmap_s1 = inputs\n",
    "\n",
    "    # add dropout?\n",
    "    # heatmap_s1 = layers.Dropout(0.2)(heatmap_s1)\n",
    "\n",
    "    pro_matrix_s1 = layers.Reshape((width, height, depth, points_num, 3)) \\\n",
    "        (tf.repeat(layers.Softmax(axis=[1, 2, 3], name=\"stage1_softmax\")(heatmap_s1), repeats=3, axis=-1))\n",
    "    outputs_s1 = tf.math.reduce_sum(layers.multiply([base_cor_rcs, pro_matrix_s1]), axis=[1, 2, 3])\n",
    "\n",
    "    model_s1 = keras.Model(inputs, [outputs_s1, pro_matrix_s1], name=\"slr_stage1\")\n",
    "\n",
    "\n",
    "    return model_s1"
   ]
  },
  {
   "cell_type": "code",
   "execution_count": 38,
   "outputs": [
    {
     "name": "stdout",
     "output_type": "stream",
     "text": [
      "Model: \"slr_stage1\"\n",
      "_________________________________________________________________\n",
      " Layer (type)                Output Shape              Param #   \n",
      "=================================================================\n",
      " input_7 (InputLayer)        [(None, 4, 4, 2, 1)]      0         \n",
      "                                                                 \n",
      " stage1_softmax (Softmax)    (None, 4, 4, 2, 1)        0         \n",
      "                                                                 \n",
      " tf.repeat_6 (TFOpLambda)    (None, 4, 4, 2, 3)        0         \n",
      "                                                                 \n",
      " reshape_6 (Reshape)         (None, 4, 4, 2, 1, 3)     0         \n",
      "                                                                 \n",
      " multiply_5 (Multiply)       (2, 4, 4, 2, 1, 3)        0         \n",
      "                                                                 \n",
      " tf.math.reduce_sum_5 (TFOpL  (2, 1, 3)                0         \n",
      " ambda)                                                          \n",
      "                                                                 \n",
      "=================================================================\n",
      "Total params: 0\n",
      "Trainable params: 0\n",
      "Non-trainable params: 0\n",
      "_________________________________________________________________\n"
     ]
    }
   ],
   "source": [
    "model = slr_s1_model(4, 4, 2, 1, 2)\n",
    "model.summary()"
   ],
   "metadata": {
    "collapsed": false,
    "ExecuteTime": {
     "end_time": "2023-07-12T06:50:36.478264Z",
     "start_time": "2023-07-12T06:50:36.360438Z"
    }
   }
  },
  {
   "cell_type": "code",
   "execution_count": 25,
   "outputs": [
    {
     "name": "stdout",
     "output_type": "stream",
     "text": [
      "[[-0.5 -0.5 -0.5 -0.5]\n",
      " [-0.5 -0.5 -0.5 -0.5]\n",
      " [-0.5 -0.5 -0.5 -0.5]\n",
      " [-0.5 -0.5 -0.5 -0.5]]\n",
      "[[0.5 0.5 0.5 0.5]\n",
      " [0.5 0.5 0.5 0.5]\n",
      " [0.5 0.5 0.5 0.5]\n",
      " [0.5 0.5 0.5 0.5]]\n"
     ]
    }
   ],
   "source": [
    "batch_size = 2\n",
    "points_num = 1\n",
    "height = 4\n",
    "width = 4\n",
    "depth = 2\n",
    "\n",
    "base_cor_rcs = models.coordinate_3d(batch_size, points_num, height, width, depth)\n",
    "print(base_cor_rcs[0, :,:,0, 0, 2])\n",
    "print(base_cor_rcs[0, :,:,1, 0, 2])\n",
    "# print(base_cor_rcs[0, :,:,1, 0, :])"
   ],
   "metadata": {
    "collapsed": false,
    "ExecuteTime": {
     "end_time": "2023-07-12T06:34:30.191967Z",
     "start_time": "2023-07-12T06:34:30.174814Z"
    }
   }
  },
  {
   "cell_type": "code",
   "execution_count": 75,
   "outputs": [],
   "source": [
    "data_bitch = np.ones((batch_size, height, width, depth, 1)) * -1\n",
    "data_bitch[0, 0, 0, 1, 0] = 10\n",
    "data_bitch[1, 0, 0, 1, 0] = 10"
   ],
   "metadata": {
    "collapsed": false,
    "ExecuteTime": {
     "end_time": "2023-07-12T07:15:54.625004Z",
     "start_time": "2023-07-12T07:15:54.619890Z"
    }
   }
  },
  {
   "cell_type": "code",
   "execution_count": 76,
   "outputs": [
    {
     "name": "stdout",
     "output_type": "stream",
     "text": [
      "[[-1. -1. -1. -1.]\n",
      " [-1. -1. -1. -1.]\n",
      " [-1. -1. -1. -1.]\n",
      " [-1. -1. -1. -1.]]\n",
      "[[10. -1. -1. -1.]\n",
      " [-1. -1. -1. -1.]\n",
      " [-1. -1. -1. -1.]\n",
      " [-1. -1. -1. -1.]]\n"
     ]
    }
   ],
   "source": [
    "print(data_bitch[0, :, :, 0, 0])\n",
    "print(data_bitch[0, :, :, 1, 0])"
   ],
   "metadata": {
    "collapsed": false,
    "ExecuteTime": {
     "end_time": "2023-07-12T07:15:55.090107Z",
     "start_time": "2023-07-12T07:15:55.082135Z"
    }
   }
  },
  {
   "cell_type": "code",
   "execution_count": 77,
   "outputs": [
    {
     "name": "stdout",
     "output_type": "stream",
     "text": [
      "tf.Tensor(\n",
      "[[[-0.7495992 -0.7495992  0.4997328]]\n",
      "\n",
      " [[-0.7495992 -0.7495992  0.4997328]]], shape=(2, 1, 3), dtype=float32)\n"
     ]
    }
   ],
   "source": [
    "[output, p] = model(data_bitch)\n",
    "print(output)"
   ],
   "metadata": {
    "collapsed": false,
    "ExecuteTime": {
     "end_time": "2023-07-12T07:15:55.649834Z",
     "start_time": "2023-07-12T07:15:55.640158Z"
    }
   }
  },
  {
   "cell_type": "code",
   "execution_count": 74,
   "outputs": [
    {
     "name": "stdout",
     "output_type": "stream",
     "text": [
      "tf.Tensor(\n",
      "[[1.6693055e-05 1.6693055e-05 1.6693055e-05 1.6693055e-05]\n",
      " [1.6693055e-05 1.6693055e-05 1.6693055e-05 1.6693055e-05]\n",
      " [1.6693055e-05 1.6693055e-05 1.6693055e-05 1.6693055e-05]\n",
      " [1.6693055e-05 1.6693055e-05 1.6693055e-05 1.6693055e-05]], shape=(4, 4), dtype=float32)\n",
      "tf.Tensor(\n",
      "[[1.6693055e-05 1.6693055e-05 1.6693055e-05 1.6693055e-05]\n",
      " [1.6693055e-05 1.6693055e-05 1.6693055e-05 1.6693055e-05]\n",
      " [1.6693055e-05 1.6693055e-05 1.6693055e-05 1.6693055e-05]\n",
      " [1.6693055e-05 1.6693055e-05 1.6693055e-05 9.9948227e-01]], shape=(4, 4), dtype=float32)\n"
     ]
    }
   ],
   "source": [
    "print(p[0, :, :, 0, 0, 0])\n",
    "print(p[0, :, :, 1, 0, 0])"
   ],
   "metadata": {
    "collapsed": false,
    "ExecuteTime": {
     "end_time": "2023-07-12T07:14:02.704611Z",
     "start_time": "2023-07-12T07:14:02.699289Z"
    }
   }
  },
  {
   "cell_type": "markdown",
   "source": [
    "## U-Net"
   ],
   "metadata": {
    "collapsed": false
   }
  },
  {
   "cell_type": "code",
   "execution_count": 95,
   "outputs": [
    {
     "name": "stdout",
     "output_type": "stream",
     "text": [
      "p_r\n",
      "Model: \"U-Net\"\n",
      "__________________________________________________________________________________________________\n",
      " Layer (type)                   Output Shape         Param #     Connected to                     \n",
      "==================================================================================================\n",
      " input_23 (InputLayer)          [(None, 100, 100, 1  0           []                               \n",
      "                                00, 1)]                                                           \n",
      "                                                                                                  \n",
      " conv3d_220 (Conv3D)            (None, 100, 100, 10  1792        ['input_23[0][0]']               \n",
      "                                0, 64)                                                            \n",
      "                                                                                                  \n",
      " conv3d_221 (Conv3D)            (None, 100, 100, 10  110656      ['conv3d_220[0][0]']             \n",
      "                                0, 64)                                                            \n",
      "                                                                                                  \n",
      " max_pooling3d_58 (MaxPooling3D  (None, 50, 50, 50,   0          ['conv3d_221[0][0]']             \n",
      " )                              64)                                                               \n",
      "                                                                                                  \n",
      " dropout_78 (Dropout)           (None, 50, 50, 50,   0           ['max_pooling3d_58[0][0]']       \n",
      "                                64)                                                               \n",
      "                                                                                                  \n",
      " conv3d_222 (Conv3D)            (None, 50, 50, 50,   221312      ['dropout_78[0][0]']             \n",
      "                                128)                                                              \n",
      "                                                                                                  \n",
      " conv3d_223 (Conv3D)            (None, 50, 50, 50,   442496      ['conv3d_222[0][0]']             \n",
      "                                128)                                                              \n",
      "                                                                                                  \n",
      " max_pooling3d_59 (MaxPooling3D  (None, 25, 25, 25,   0          ['conv3d_223[0][0]']             \n",
      " )                              128)                                                              \n",
      "                                                                                                  \n",
      " dropout_79 (Dropout)           (None, 25, 25, 25,   0           ['max_pooling3d_59[0][0]']       \n",
      "                                128)                                                              \n",
      "                                                                                                  \n",
      " conv3d_224 (Conv3D)            (None, 25, 25, 25,   884992      ['dropout_79[0][0]']             \n",
      "                                256)                                                              \n",
      "                                                                                                  \n",
      " conv3d_225 (Conv3D)            (None, 25, 25, 25,   1769728     ['conv3d_224[0][0]']             \n",
      "                                256)                                                              \n",
      "                                                                                                  \n",
      " max_pooling3d_60 (MaxPooling3D  (None, 12, 12, 12,   0          ['conv3d_225[0][0]']             \n",
      " )                              256)                                                              \n",
      "                                                                                                  \n",
      " dropout_80 (Dropout)           (None, 12, 12, 12,   0           ['max_pooling3d_60[0][0]']       \n",
      "                                256)                                                              \n",
      "                                                                                                  \n",
      " conv3d_226 (Conv3D)            (None, 12, 12, 12,   3539456     ['dropout_80[0][0]']             \n",
      "                                512)                                                              \n",
      "                                                                                                  \n",
      " conv3d_227 (Conv3D)            (None, 12, 12, 12,   7078400     ['conv3d_226[0][0]']             \n",
      "                                512)                                                              \n",
      "                                                                                                  \n",
      " max_pooling3d_61 (MaxPooling3D  (None, 6, 6, 6, 512  0          ['conv3d_227[0][0]']             \n",
      " )                              )                                                                 \n",
      "                                                                                                  \n",
      " dropout_81 (Dropout)           (None, 6, 6, 6, 512  0           ['max_pooling3d_61[0][0]']       \n",
      "                                )                                                                 \n",
      "                                                                                                  \n",
      " conv3d_228 (Conv3D)            (None, 6, 6, 6, 102  14156800    ['dropout_81[0][0]']             \n",
      "                                4)                                                                \n",
      "                                                                                                  \n",
      " conv3d_229 (Conv3D)            (None, 6, 6, 6, 102  28312576    ['conv3d_228[0][0]']             \n",
      "                                4)                                                                \n",
      "                                                                                                  \n",
      " conv3d_transpose_30 (Conv3DTra  (None, 12, 12, 12,   14156288   ['conv3d_229[0][0]']             \n",
      " nspose)                        512)                                                              \n",
      "                                                                                                  \n",
      " zero_padding3d_5 (ZeroPadding3  (None, 12, 12, 12,   0          ['conv3d_transpose_30[0][0]']    \n",
      " D)                             512)                                                              \n",
      "                                                                                                  \n",
      " concatenate_50 (Concatenate)   (None, 12, 12, 12,   0           ['zero_padding3d_5[0][0]',       \n",
      "                                1024)                             'conv3d_227[0][0]']             \n",
      "                                                                                                  \n",
      " dropout_82 (Dropout)           (None, 12, 12, 12,   0           ['concatenate_50[0][0]']         \n",
      "                                1024)                                                             \n",
      "                                                                                                  \n",
      " conv3d_230 (Conv3D)            (None, 12, 12, 12,   14156288    ['dropout_82[0][0]']             \n",
      "                                512)                                                              \n",
      "                                                                                                  \n",
      " conv3d_231 (Conv3D)            (None, 12, 12, 12,   7078400     ['conv3d_230[0][0]']             \n",
      "                                512)                                                              \n",
      "                                                                                                  \n",
      " conv3d_transpose_31 (Conv3DTra  (None, 24, 24, 24,   3539200    ['conv3d_231[0][0]']             \n",
      " nspose)                        256)                                                              \n",
      "                                                                                                  \n",
      " zero_padding3d_6 (ZeroPadding3  (None, 25, 25, 25,   0          ['conv3d_transpose_31[0][0]']    \n",
      " D)                             256)                                                              \n",
      "                                                                                                  \n",
      " concatenate_51 (Concatenate)   (None, 25, 25, 25,   0           ['zero_padding3d_6[0][0]',       \n",
      "                                512)                              'conv3d_225[0][0]']             \n",
      "                                                                                                  \n",
      " dropout_83 (Dropout)           (None, 25, 25, 25,   0           ['concatenate_51[0][0]']         \n",
      "                                512)                                                              \n",
      "                                                                                                  \n",
      " conv3d_232 (Conv3D)            (None, 25, 25, 25,   3539200     ['dropout_83[0][0]']             \n",
      "                                256)                                                              \n",
      "                                                                                                  \n",
      " conv3d_233 (Conv3D)            (None, 25, 25, 25,   1769728     ['conv3d_232[0][0]']             \n",
      "                                256)                                                              \n",
      "                                                                                                  \n",
      " conv3d_transpose_32 (Conv3DTra  (None, 50, 50, 50,   884864     ['conv3d_233[0][0]']             \n",
      " nspose)                        128)                                                              \n",
      "                                                                                                  \n",
      " zero_padding3d_7 (ZeroPadding3  (None, 50, 50, 50,   0          ['conv3d_transpose_32[0][0]']    \n",
      " D)                             128)                                                              \n",
      "                                                                                                  \n",
      " concatenate_52 (Concatenate)   (None, 50, 50, 50,   0           ['zero_padding3d_7[0][0]',       \n",
      "                                256)                              'conv3d_223[0][0]']             \n",
      "                                                                                                  \n",
      " dropout_84 (Dropout)           (None, 50, 50, 50,   0           ['concatenate_52[0][0]']         \n",
      "                                256)                                                              \n",
      "                                                                                                  \n",
      " conv3d_234 (Conv3D)            (None, 50, 50, 50,   884864      ['dropout_84[0][0]']             \n",
      "                                128)                                                              \n",
      "                                                                                                  \n",
      " conv3d_235 (Conv3D)            (None, 50, 50, 50,   442496      ['conv3d_234[0][0]']             \n",
      "                                128)                                                              \n",
      "                                                                                                  \n",
      " conv3d_transpose_33 (Conv3DTra  (None, 100, 100, 10  221248     ['conv3d_235[0][0]']             \n",
      " nspose)                        0, 64)                                                            \n",
      "                                                                                                  \n",
      " zero_padding3d_8 (ZeroPadding3  (None, 100, 100, 10  0          ['conv3d_transpose_33[0][0]']    \n",
      " D)                             0, 64)                                                            \n",
      "                                                                                                  \n",
      " concatenate_53 (Concatenate)   (None, 100, 100, 10  0           ['zero_padding3d_8[0][0]',       \n",
      "                                0, 128)                           'conv3d_221[0][0]']             \n",
      "                                                                                                  \n",
      " dropout_85 (Dropout)           (None, 100, 100, 10  0           ['concatenate_53[0][0]']         \n",
      "                                0, 128)                                                           \n",
      "                                                                                                  \n",
      " conv3d_236 (Conv3D)            (None, 100, 100, 10  221248      ['dropout_85[0][0]']             \n",
      "                                0, 64)                                                            \n",
      "                                                                                                  \n",
      " conv3d_237 (Conv3D)            (None, 100, 100, 10  110656      ['conv3d_236[0][0]']             \n",
      "                                0, 64)                                                            \n",
      "                                                                                                  \n",
      " max_pooling3d_62 (MaxPooling3D  (None, 25, 25, 25,   0          ['conv3d_237[0][0]']             \n",
      " )                              64)                                                               \n",
      "                                                                                                  \n",
      " dropout_86 (Dropout)           (None, 25, 25, 25,   0           ['max_pooling3d_62[0][0]']       \n",
      "                                64)                                                               \n",
      "                                                                                                  \n",
      " flatten_2 (Flatten)            (None, 1000000)      0           ['dropout_86[0][0]']             \n",
      "                                                                                                  \n",
      " dense_2 (Dense)                (None, 3)            3000003     ['flatten_2[0][0]']              \n",
      "                                                                                                  \n",
      " reshape_9 (Reshape)            (None, 1, 3)         0           ['dense_2[0][0]']                \n",
      "                                                                                                  \n",
      "==================================================================================================\n",
      "Total params: 106,522,691\n",
      "Trainable params: 106,522,691\n",
      "Non-trainable params: 0\n",
      "__________________________________________________________________________________________________\n"
     ]
    }
   ],
   "source": [
    "import Spartan.models as models\n",
    "import importlib\n",
    "\n",
    "importlib.reload(models)\n",
    "\n",
    "u_net_model = models.u_net_model(100,100,100,1)\n",
    "u_net_model.summary()"
   ],
   "metadata": {
    "collapsed": false,
    "ExecuteTime": {
     "end_time": "2023-07-14T06:42:20.602733Z",
     "start_time": "2023-07-14T06:42:18.605222Z"
    }
   }
  },
  {
   "cell_type": "code",
   "execution_count": null,
   "outputs": [],
   "source": [],
   "metadata": {
    "collapsed": false
   }
  }
 ],
 "metadata": {
  "kernelspec": {
   "display_name": "Python 3",
   "language": "python",
   "name": "python3"
  },
  "language_info": {
   "codemirror_mode": {
    "name": "ipython",
    "version": 2
   },
   "file_extension": ".py",
   "mimetype": "text/x-python",
   "name": "python",
   "nbconvert_exporter": "python",
   "pygments_lexer": "ipython2",
   "version": "2.7.6"
  }
 },
 "nbformat": 4,
 "nbformat_minor": 0
}
