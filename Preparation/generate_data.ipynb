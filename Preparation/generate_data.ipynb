{
 "cells": [
  {
   "cell_type": "markdown",
   "metadata": {},
   "source": [
    "# Generate Rotation Data"
   ]
  },
  {
   "cell_type": "markdown",
   "metadata": {},
   "source": [
    "## Load patients' ROI data"
   ]
  },
  {
   "cell_type": "code",
   "execution_count": 1,
   "metadata": {
    "ExecuteTime": {
     "end_time": "2023-11-01T02:32:37.876897Z",
     "start_time": "2023-11-01T02:32:37.872435Z"
    }
   },
   "source": [
    "import time\n",
    "\n",
    "ROI_CT_path = '../Resources/ROI_CT.xlsx'\n",
    "ROI_MR_path = '../Resources/ROI_MR.xlsx'"
   ],
   "outputs": []
  },
  {
   "cell_type": "code",
   "execution_count": 4,
   "metadata": {
    "ExecuteTime": {
     "end_time": "2023-11-01T02:36:26.674372Z",
     "start_time": "2023-11-01T02:36:26.632163Z"
    }
   },
   "source": [
    "import pandas as pd\n",
    "\n",
    "roi_CT = pd.read_excel(ROI_CT_path, index_col=[0, 1], header=[0, 1])"
   ],
   "outputs": []
  },
  {
   "cell_type": "code",
   "execution_count": 5,
   "metadata": {
    "ExecuteTime": {
     "end_time": "2023-11-01T02:36:50.799543Z",
     "start_time": "2023-11-01T02:36:50.786161Z"
    }
   },
   "source": [
    "import numpy as np\n",
    "\n",
    "AH_pts = np.copy(roi_CT.loc['AH'].Median.loc[['LLSCC ant', 'LLSCC post', 'RLSCC ant', 'RLSCC post']].values)"
   ],
   "outputs": []
  },
  {
   "cell_type": "code",
   "execution_count": 7,
   "source": [
    "import Functions.MyDataset as MyDataset\n",
    "\n",
    "names = MyDataset.get_pat_names()\n",
    "pts = []\n",
    "\n",
    "for pt_name in names:\n",
    "    pt = np.copy(roi_CT.loc[pt_name].Median.loc[['LLSCC ant', 'LLSCC post', 'RLSCC ant', 'RLSCC post']].values) \n",
    "    if len(pts) == 0:\n",
    "        pts = pt\n",
    "    else:\n",
    "        pts = np.concatenate((pts, pt), axis=0)\n",
    "\n",
    "pts = np.reshape(pts, (20, 4, 3))"
   ],
   "metadata": {
    "collapsed": false,
    "ExecuteTime": {
     "end_time": "2023-11-01T02:41:05.113868Z",
     "start_time": "2023-11-01T02:41:02.456331Z"
    }
   },
   "outputs": []
  },
  {
   "cell_type": "code",
   "execution_count": 10,
   "source": [
    "print(pts)"
   ],
   "metadata": {
    "collapsed": false,
    "ExecuteTime": {
     "end_time": "2023-11-01T02:43:22.268343Z",
     "start_time": "2023-11-01T02:43:22.251406Z"
    }
   },
   "outputs": []
  },
  {
   "cell_type": "code",
   "execution_count": 9,
   "source": [
    "np.save(\"../Resources/ROI_CT_Medium\", pts)"
   ],
   "metadata": {
    "collapsed": false,
    "ExecuteTime": {
     "end_time": "2023-11-01T02:42:50.848942Z",
     "start_time": "2023-11-01T02:42:50.832257Z"
    }
   },
   "outputs": []
  },
  {
   "cell_type": "code",
   "execution_count": null,
   "metadata": {},
   "source": [
    "pname_list = list(set([x for (x, y) in roi_CT.index]))\n",
    "print(pname_list)"
   ],
   "outputs": []
  },
  {
   "cell_type": "markdown",
   "metadata": {},
   "source": [
    "## Load patients' DICOM data: CT/MR"
   ]
  },
  {
   "cell_type": "code",
   "execution_count": null,
   "metadata": {
    "ExecuteTime": {
     "start_time": "2023-05-16T16:55:21.738655Z",
     "end_time": "2023-05-16T16:55:23.114697Z"
    }
   },
   "source": [
    "import pydicom as dicom\n",
    "import os\n",
    "import numpy\n",
    "\n",
    "def load_dicom_data(p_name, dicom_path):\n",
    "\n",
    "    lst_files_dcm = []  # create an empty list\n",
    "    for dirName, subdirList, fileList in os.walk(dicom_path):\n",
    "        for filename in fileList:\n",
    "            if filename[0:2] == '._':\n",
    "                continue\n",
    "            if \".dcm\" in filename.lower():  # check whether the file's DICOM\n",
    "                lst_files_dcm.append(os.path.join(dirName,filename))\n",
    "\n",
    "    # Get ref file\n",
    "    ref_ds = dicom.read_file(lst_files_dcm[0])\n",
    "    # Load dimensions based on the number of rows, columns, and slices (along the Z axis)\n",
    "    const_pixel_dims = (int(ref_ds.Rows), int(ref_ds.Columns), len(lst_files_dcm))\n",
    "    # Load spacing values (in mm)\n",
    "    const_pixel_spacing = (float(ref_ds.PixelSpacing[0]), float(ref_ds.PixelSpacing[1]), float(ref_ds.SliceThickness))\n",
    "\n",
    "    # The array is sized based on 'ConstPixelDims'\n",
    "    array_dicom = numpy.zeros(const_pixel_dims, dtype=ref_ds.pixel_array.dtype)\n",
    "    # loop through all the DICOM files\n",
    "    for filenameDCM in lst_files_dcm:\n",
    "        # read the file\n",
    "        ds = dicom.read_file(filenameDCM, force=True)\n",
    "        # For error: \"'FileMetaDataset' object has no attribute 'TransferSyntaxUID'\"\n",
    "        #if \"TransferSyntaxUID\" not in ds.file_meta:\n",
    "            #ds.file_meta.TransferSyntaxUID = dicom.uid.ImplicitVRLittleEndian\n",
    "        #    print(filenameDCM)\n",
    "        #    continue\n",
    "        #if 'Image Storage' not in ds.SOPClassUID.name:\n",
    "        #    continue  # to skip the rest of the loop\n",
    "        # store the raw image data\n",
    "        array_dicom[:, :, lst_files_dcm.index(filenameDCM)] = ds.pixel_array\n",
    "\n",
    "    return array_dicom, const_pixel_spacing, ref_ds"
   ],
   "outputs": []
  },
  {
   "cell_type": "code",
   "execution_count": null,
   "metadata": {
    "ExecuteTime": {
     "start_time": "2023-05-16T16:55:25.797454Z",
     "end_time": "2023-05-16T16:55:39.276986Z"
    }
   },
   "source": [
    "dicom_AH_CT_path = '/Volumes/Shawn_HDD/PhD/Project/Date/CT_MRI_Pre_Post/AH Pre'\n",
    "\n",
    "AH_volume, AH_pixel_space, AH_dicom_ref = load_dicom_data(\"DM\", dicom_AH_CT_path)"
   ],
   "outputs": []
  },
  {
   "cell_type": "code",
   "execution_count": null,
   "source": [
    "import numpy as np\n",
    "\n",
    "print(np.amax(AH_volume))\n",
    "print(np.amin(AH_volume))"
   ],
   "metadata": {
    "collapsed": false,
    "ExecuteTime": {
     "start_time": "2023-05-16T16:55:41.303864Z",
     "end_time": "2023-05-16T16:55:41.949041Z"
    }
   },
   "outputs": []
  },
  {
   "cell_type": "code",
   "execution_count": null,
   "source": [
    "import matplotlib.pyplot as plt\n",
    "\n",
    "plt.imshow(AH_volume[:, :, 207], cmap=plt.gray())"
   ],
   "metadata": {
    "collapsed": false,
    "ExecuteTime": {
     "start_time": "2023-05-16T16:55:43.051057Z",
     "end_time": "2023-05-16T16:55:45.047956Z"
    }
   },
   "outputs": []
  },
  {
   "cell_type": "code",
   "execution_count": null,
   "source": [
    "plt.imshow(AH_volume[:, :, 207], interpolation=\"bicubic\")\n",
    "plt.colorbar()"
   ],
   "metadata": {
    "collapsed": false,
    "ExecuteTime": {
     "start_time": "2023-05-16T16:55:45.060023Z",
     "end_time": "2023-05-16T16:55:45.659900Z"
    }
   },
   "outputs": []
  },
  {
   "cell_type": "code",
   "execution_count": null,
   "source": [
    "plt.hist(AH_volume[:, :, 207].ravel(), bins=range(500, 3000), fc='k', ec='k')"
   ],
   "metadata": {
    "collapsed": false,
    "ExecuteTime": {
     "start_time": "2023-05-08T15:43:47.457427Z",
     "end_time": "2023-05-08T15:43:50.415945Z"
    }
   },
   "outputs": []
  },
  {
   "cell_type": "markdown",
   "metadata": {},
   "source": [
    "### Present ROI and DICOM"
   ]
  },
  {
   "cell_type": "code",
   "execution_count": null,
   "metadata": {
    "ExecuteTime": {
     "start_time": "2023-05-08T15:42:23.784019Z",
     "end_time": "2023-05-08T15:42:23.796463Z"
    }
   },
   "source": [
    "from matplotlib import pyplot\n",
    "from matplotlib.patches import Circle\n",
    "import numpy\n",
    "\n",
    "def show_pts(volume, pts, pixel_space):\n",
    "    y_row = numpy.arange(0.0, volume.shape[0]*pixel_space[0], pixel_space[0])\n",
    "    x_column = numpy.arange(0.0, volume.shape[1]*pixel_space[1], pixel_space[1])\n",
    "    z_slice = numpy.arange(0.0, volume.shape[2]*pixel_space[2], pixel_space[2])\n",
    "\n",
    "    landmark_radius = volume.shape[1]*pixel_space[1] * 0.016\n",
    "\n",
    "    fig, axs = pyplot.subplots(2,2,sharex=True)\n",
    "    fig.set_dpi(300)\n",
    "\n",
    "    axs[0][0].set_title(\"LLSCC ant\")\n",
    "    axs[0][0].set_aspect('equal', 'datalim')\n",
    "    axs[0][0].pcolormesh(x_column[:], y_row[:], volume[:, :, pts[0, 2]], cmap=pyplot.gray())\n",
    "    LLSCC_ant = Circle((pts[0, 0]*pixel_space[1], pts[0, 1]*pixel_space[0]), landmark_radius, facecolor='None', edgecolor='r', lw=1)\n",
    "    axs[0][0].add_patch(LLSCC_ant)\n",
    "    axs[0][0].invert_yaxis()\n",
    "\n",
    "    axs[0][1].set_title(\"LLSCC post\")\n",
    "    axs[0][1].set_aspect('equal', 'datalim')\n",
    "    axs[0][1].pcolormesh(x_column[:], y_row[:], volume[:, :, pts[1, 2]], cmap=pyplot.gray())\n",
    "    LLSCC_post = Circle((pts[1, 0]*pixel_space[1], pts[1, 1]*pixel_space[0]), landmark_radius, facecolor='None', edgecolor='r', lw=1)\n",
    "    axs[0][1].add_patch(LLSCC_post)\n",
    "    axs[0][1].invert_yaxis()\n",
    "\n",
    "    axs[1][0].set_title(\"RLSCC ant\")\n",
    "    axs[1][0].set_aspect('equal', 'datalim')\n",
    "    axs[1][0].pcolormesh(x_column[:], y_row[:], volume[:, :, pts[2, 2]], cmap=pyplot.gray())\n",
    "    RLSCC_ant = Circle((pts[2, 0]*pixel_space[1], pts[2, 1]*pixel_space[0]), landmark_radius, facecolor='None', edgecolor='r', lw=1)\n",
    "    axs[1][0].add_patch(RLSCC_ant)\n",
    "    axs[1][0].invert_yaxis()\n",
    "\n",
    "    axs[1][1].set_title(\"RLSCC post\")\n",
    "    axs[1][1].set_aspect('equal', 'datalim')\n",
    "    axs[1][1].pcolormesh(x_column[:], y_row[:], volume[:, :, pts[3, 2]], cmap=pyplot.gray())\n",
    "    RLSCC_post = Circle((pts[3, 0]*pixel_space[1], pts[3, 1]*pixel_space[0]), landmark_radius, facecolor='None', edgecolor='r', lw=1)\n",
    "    axs[1][1].add_patch(RLSCC_post)\n",
    "    axs[1][1].invert_yaxis()\n",
    "\n",
    "    pyplot.show()"
   ],
   "outputs": []
  },
  {
   "cell_type": "code",
   "execution_count": null,
   "metadata": {
    "ExecuteTime": {
     "start_time": "2023-05-08T15:42:24.768075Z",
     "end_time": "2023-05-08T15:42:27.135881Z"
    }
   },
   "source": [
    "show_pts(AH_volume, AH_pts, AH_pixel_space)"
   ],
   "outputs": []
  },
  {
   "cell_type": "code",
   "execution_count": null,
   "metadata": {},
   "source": [
    "dicom_AZ_CT_path = '/Volumes/ExternalDis/PhD/Project/Date/CT_MRI_Pre_Post/AZ Pre'\n",
    "AZ_volume, AZ_pixel_space, AZ_dicom_ref = load_dicom_data(\"AZ\", dicom_AZ_CT_path)\n",
    "\n",
    "AZ_pts = np.copy(roi_CT.loc['AZ'].Median.loc[['LLSCC ant', 'LLSCC post', 'RLSCC ant', 'RLSCC post']].values)\n",
    "show_pts(AZ_volume, AZ_pts, AZ_pixel_space)"
   ],
   "outputs": []
  },
  {
   "cell_type": "markdown",
   "metadata": {},
   "source": [
    "## Augment DICOM data: Rotate and Translate"
   ]
  },
  {
   "cell_type": "code",
   "execution_count": null,
   "metadata": {},
   "source": [
    "import numpy as np\n",
    "import math\n",
    "\n",
    "def rotation_matrix(axis, theta):\n",
    "    \"\"\"\n",
    "    Return the rotation matrix associated with counterclockwise rotation about\n",
    "    the given axis by theta radians (Euler-Rodrigues formula).\n",
    "    \"\"\"\n",
    "    axis = np.asarray(axis)\n",
    "    axis = axis / math.sqrt(np.dot(axis, axis))\n",
    "    a = math.cos(theta / 2.0)\n",
    "    b, c, d = -axis * math.sin(theta / 2.0)\n",
    "    aa, bb, cc, dd = a * a, b * b, c * c, d * d\n",
    "    bc, ad, ac, ab, bd, cd = b * c, a * d, a * c, a * b, b * d, c * d\n",
    "    return np.array([[aa + bb - cc - dd, 2 * (bc + ad), 2 * (bd - ac)],\n",
    "                     [2 * (bc - ad), aa + cc - bb - dd, 2 * (cd + ab)],\n",
    "                     [2 * (bd + ac), 2 * (cd - ab), aa + dd - bb - cc]])"
   ],
   "outputs": []
  },
  {
   "cell_type": "code",
   "execution_count": null,
   "metadata": {},
   "source": [
    "m1 = rotation_matrix([1, 0, 0], np.pi/4)\n",
    "print(m1)\n",
    "m2 = rotation_matrix([1, 0, 0], -np.pi/4)\n",
    "print(m2)"
   ],
   "outputs": []
  },
  {
   "cell_type": "code",
   "execution_count": null,
   "metadata": {},
   "source": [
    "npos = np.dot(m1, [0.15,0.15,0.15])\n",
    "print(npos)\n",
    "opos = np.dot(m2, npos)\n",
    "print(opos)"
   ],
   "outputs": []
  },
  {
   "cell_type": "code",
   "execution_count": null,
   "metadata": {},
   "source": [
    "from IPython.display import display, clear_output\n",
    "\n",
    "def refresh_display(str):\n",
    "    clear_output(wait=True)\n",
    "    display(str)"
   ],
   "outputs": []
  },
  {
   "cell_type": "code",
   "execution_count": null,
   "metadata": {},
   "source": [
    "def rotate_3d_volume(volume, points, origin, axis, theta):\n",
    "    \"\"\"\n",
    "    input:\n",
    "        volume -- shape (row, column, slice), it stores the pixel value; RHS/LHS\n",
    "        points -- some points in the original volume: [[row,column,slice],[r,c,s]...]\n",
    "        rot_origin -- the origin point for the rotation process, should be in the same coordinate format as volume\n",
    "        axis -- rotation axis\n",
    "        theta -- rotation angle, counterclockwise on the specific axis\n",
    "    output:\n",
    "        rotated_volume -- shape (row, column, slice), consistent with the original volume coordinate format\n",
    "        rotated_points -- the index of the points in the rotated volume\n",
    "        mask -- The cover of the model in the rotated volume\n",
    "    \"\"\"\n",
    "    # calculate rotate matrix and invert rotate matrix\n",
    "    rot_matrix = rotation_matrix(axis, theta)\n",
    "    inv_rot_matrix = rotation_matrix(axis, -theta)\n",
    "    # get the min pixel value as the filler value\n",
    "    fill_value = np.min(volume)\n",
    "    # calculate the border of the rotated volume, the border is represented by 8 vertexes' positions\n",
    "    original_vertexes = [ (row,column,slice) for row in [0, 1] for column in [0, 1] for slice in [0, 1] ]\n",
    "    original_vertexes = np.multiply(original_vertexes, np.asarray(volume.shape)-1) # 0-indexing\n",
    "    original_vertexes = original_vertexes - np.ones(original_vertexes.shape)*origin # positions in origin coordinate system\n",
    "    rotated_vertexes = np.dot(rot_matrix, original_vertexes.T).T\n",
    "    # calculate the new volume shape to store the rotated model from the same perspective\n",
    "    min_border_point = np.floor(np.amin(rotated_vertexes, axis=0)).astype(int)\n",
    "    max_border_point = np.ceil(np.amax(rotated_vertexes, axis=0)).astype(int)\n",
    "    rotated_volume_shape = max_border_point - min_border_point + 1 # look at the model from the same perspective\n",
    "    rotated_volume = np.ones(rotated_volume_shape) * fill_value\n",
    "    # mask for the model\n",
    "    mask = np.zeros(rotated_volume_shape)\n",
    "\n",
    "    # calculate the positions of the given points in the rotated volume (not integer, the position's unit is the new volume's index)\n",
    "    rotated_points = np.dot(rot_matrix, (points - np.ones(points.shape)*origin).T).T # position in the original volume index system\n",
    "    round_rotated_points = np.round(rotated_points).astype(int) # round index position in the original volume index\n",
    "    rotated_points = round_rotated_points - np.ones(round_rotated_points.shape)*min_border_point # relative positions in the new volume\n",
    "    rotated_points = rotated_points.astype(int)\n",
    "    # identify the mate pixel value for the rotated volume from the original volume\n",
    "    volume_shape = volume.shape\n",
    "    for row in range(min_border_point[0], max_border_point[0]):\n",
    "        refresh_display(\"start row: \" + str(row) + \" / \" + str(max_border_point[0]))\n",
    "        for col in range(min_border_point[1], max_border_point[1]):\n",
    "            for slc in range(min_border_point[2], max_border_point[2]):\n",
    "            #for slc in round_rotated_points[:,2]:\n",
    "                # test only\n",
    "                # volume[tuple(mate_index)] = 1\n",
    "                mate_position = np.dot(inv_rot_matrix, [row, col, slc])\n",
    "                mate_index = mate_position + origin\n",
    "                mate_index = np.round(mate_index).astype(int)\n",
    "                # check limit\n",
    "                if all(mate_index>=0) and mate_index[0]<volume_shape[0] and mate_index[1]<volume_shape[1] and mate_index[2]<volume_shape[2]:\n",
    "                    # assign pixel value\n",
    "                    rotated_volume_index = [row, col, slc] - min_border_point\n",
    "                    rotated_volume[rotated_volume_index[0]][rotated_volume_index[1]][rotated_volume_index[2]] = \\\n",
    "                        volume[mate_index[0], mate_index[1], mate_index[2]]\n",
    "                    mask[rotated_volume_index[0]][rotated_volume_index[1]][rotated_volume_index[2]] = 1\n",
    "\n",
    "    return  rotated_volume, mask, rotated_points"
   ],
   "outputs": []
  },
  {
   "cell_type": "code",
   "execution_count": null,
   "metadata": {},
   "source": [
    "def rotate_3d_volume_speedup(volume, points, origin, axis, theta, partially=False):\n",
    "    \"\"\"\n",
    "    input:\n",
    "        volume -- shape (row, column, slice), it stores the pixel value; RHS/LHS\n",
    "        points -- some points in the original volume: [[row,column,slice],[r,c,s]...]\n",
    "        rot_origin -- the origin point for the rotation process, should be in the same coordinate format as volume\n",
    "        axis -- rotation axis\n",
    "        theta -- rotation angle, counterclockwise on the specific axis\n",
    "    output:\n",
    "        rotated_volume -- shape (row, column, slice), consistent with the original volume coordinate format\n",
    "        rotated_points -- the index of the points in the rotated volume\n",
    "        mask -- The cover of the model in the rotated volume\n",
    "    \"\"\"\n",
    "    # calculate rotate matrix and invert rotate matrix\n",
    "    rot_matrix = rotation_matrix(axis, theta)\n",
    "    inv_rot_matrix = rotation_matrix(axis, -theta)\n",
    "    # get the min pixel value as the filler value\n",
    "    fill_value = np.min(volume)\n",
    "    # calculate the border of the rotated volume, the border is represented by 8 vertexes' positions\n",
    "    original_vertexes = [ (row,column,slice) for row in [0, 1] for column in [0, 1] for slice in [0, 1] ]\n",
    "    original_vertexes = np.multiply(original_vertexes, np.asarray(volume.shape)-1) # 0-indexing\n",
    "    original_vertexes = original_vertexes - np.ones(original_vertexes.shape)*origin # positions in origin coordinate system\n",
    "    rotated_vertexes = np.dot(rot_matrix, original_vertexes.T).T\n",
    "    # calculate the new volume shape to store the rotated model from the same perspective\n",
    "    min_border_point = np.floor(np.amin(rotated_vertexes, axis=0)).astype(int)\n",
    "    max_border_point = np.ceil(np.amax(rotated_vertexes, axis=0)).astype(int)\n",
    "    rotated_volume_shape = max_border_point - min_border_point # look at the model from the same perspective\n",
    "    # mask for the model\n",
    "    mask = np.zeros(rotated_volume_shape)\n",
    "\n",
    "    # calculate the positions of the given points in the rotated volume (not integer, the position's unit is the new volume's index)\n",
    "    rotated_points = np.dot(rot_matrix, (points - np.ones(points.shape)*origin).T).T # position in the original volume index system\n",
    "    round_rotated_points = np.round(rotated_points).astype(int) # round index position in the original volume index\n",
    "    rotated_points = round_rotated_points - np.ones(round_rotated_points.shape)*min_border_point # relative positions in the new volume\n",
    "    rotated_points = rotated_points.astype(int)\n",
    "    ## for test\n",
    "    slc_range = range(min_border_point[2], max_border_point[2])\n",
    "    if partially:\n",
    "        rotated_points[:, 2] = np.asarray([0,1,2,3])\n",
    "        slc_range = round_rotated_points[:,2]\n",
    "    # identify the mate pixel value for the rotated volume from the original volume\n",
    "    # print(\"start locate original pixel value's index\")\n",
    "    rotated_volume = []\n",
    "    volume_shape = volume.shape\n",
    "    # original_positions = np.arange(volume_shape[1]*volume_shape[2]*3).reshape(volume_shape[1] * volume_shape[2],3)\n",
    "    for row in range(min_border_point[0], max_border_point[0]):\n",
    "        refresh_display(\"start row: \" + str(row) + \" / \" + str(max_border_point[0]))\n",
    "        rotated_positions = np.asarray([[row, col, slc] \\\n",
    "                         # for row in range(min_border_point[0], max_border_point[0]) \\\n",
    "                         for col in range(min_border_point[1], max_border_point[1]) \\\n",
    "                         for slc in slc_range]).T\n",
    "        original_positions = np.dot(inv_rot_matrix, rotated_positions).T\n",
    "        original_indexes = original_positions + np.ones(original_positions.shape) * origin\n",
    "        original_indexes = np.round(original_indexes).astype(int)\n",
    "        # rotated_volume = [volume[tuple(mate_index)] \\\n",
    "        #                                         if all(mate_index>=0) and mate_index[0]<volume_shape[0] and mate_index[1]<volume_shape[1] and mate_index[2]<volume_shape[2] \\\n",
    "        #                                         else fill_value for mate_index in original_indexes]\n",
    "                                               #else fill_value for mate_index in original_indexes]).reshape(rotated_volume_shape[0],rotated_volume_shape[1], 4)\n",
    "        # test only\n",
    "        mate_index = original_indexes[0]\n",
    "        if all(mate_index>=0) and mate_index[0]<volume_shape[0] and mate_index[1]<volume_shape[1] and mate_index[2]<volume_shape[2]:\n",
    "            rotated_volume = rotated_volume + [1]\n",
    "\n",
    "    if partially:\n",
    "        rotated_volume = numpy.asarray(rotated_volume).reshape(rotated_volume_shape[0], rotated_volume_shape[1], 4)\n",
    "    else:\n",
    "        rotated_volume = numpy.asarray(rotated_volume).reshape(rotated_volume_shape)\n",
    "\n",
    "    return  rotated_volume, mask, rotated_points"
   ],
   "outputs": []
  },
  {
   "cell_type": "code",
   "execution_count": null,
   "metadata": {},
   "source": [
    "def translate_3d_volume(volume, points):\n",
    "    \"\"\"\n",
    "    Randomly transfer the volume\n",
    "    \"\"\"\n",
    "    # get random translation\n",
    "    max_trans = 5\n",
    "    rand_trans = np.random.rand(1, 3)\n",
    "    trans_vec = np.round(2 * max_trans * rand_trans - max_trans)\n",
    "\n",
    "    # construct translated volume\n",
    "    translated_volume_shape = np.asarray(volume.shape) + np.abs(trans_vec)\n",
    "    translated_volume = np.ones(translated_volume_shape.astype(int).squeeze()) * np.amin(volume)\n",
    "\n",
    "    # get start and end positions in the translated volume, and point locations\n",
    "    translated_points = np.copy(points)\n",
    "    start_position = np.asarray([[0, 0, 0]])\n",
    "    for idx in np.arange(3):\n",
    "        if trans_vec[:, idx] > 0:\n",
    "            start_position[:, idx] = start_position[:, idx] + trans_vec[:, idx]\n",
    "            translated_points[:, idx] = translated_points[:, idx] + trans_vec[:, idx]\n",
    "    end_position = start_position + np.asarray(volume.shape)\n",
    "\n",
    "    # calculate translated volume\n",
    "    start_position = start_position.squeeze()\n",
    "    end_position = end_position.squeeze()\n",
    "    translated_volume[start_position[0]:end_position[0], start_position[1]:end_position[1], start_position[2]:end_position[2]] = volume\n",
    "\n",
    "    print(\"Translation vector: \", trans_vec)\n",
    "    return translated_volume, translated_points\n",
    "\n",
    "\n"
   ],
   "outputs": []
  },
  {
   "cell_type": "code",
   "execution_count": null,
   "metadata": {},
   "source": [
    "def augment_3d_volume(volume, pts, partically=False):\n",
    "    # max rotation angle: 15 Degrees; change to Radian\n",
    "    max_rot_angle = 30 * math.pi / 180\n",
    "    # random rotation angle: -max to +max\n",
    "    rand_angle = 2 * np.random.rand() * max_rot_angle - max_rot_angle\n",
    "    # random rotation axis\n",
    "    rot_axis = np.random.rand(3, )\n",
    "    # The position matrix_(4*3) of LLSCC ant, LLSCC post, RLSCC an and RLSCC post: [x, y, z] --- [column, row, slice] is LHS\n",
    "    pts_cp = np.copy(pts)\n",
    "    pts_cp[:, [0, 1]] = pts_cp[:, [1, 0]] # change LHS to RHS, make it consistent with ArrayDicom\n",
    "    # Set the origin to the median point of these pts\n",
    "    origin_pts = np.mean(pts_cp, axis=0)\n",
    "    #\n",
    "    # the ArrayDicom is RHS\n",
    "    # rotate the volume\n",
    "    #rotated_volume, mask, rotated_pts = rotate_3d_volume(ArrayDicom, pts, origin_pts, [1,0,0], np.pi)\n",
    "    # rotated_volume, mask, rotated_pts = rotate_3d_volume(volume, pts_cp, origin_pts, rot_axis, rand_angle)\n",
    "    rotated_volume, mask, rotated_pts = rotate_3d_volume_speedup(volume, pts_cp, origin_pts, rot_axis, rand_angle, partically)\n",
    "\n",
    "    # translate the volume\n",
    "    translated_volume, translated_pts = translate_3d_volume(rotated_volume, rotated_pts)\n",
    "    # change back to RHS\n",
    "    translated_pts[:, [0,1]] = translated_pts[:, [1,0]]\n",
    "\n",
    "    print(\"rot_axis: \", rot_axis)\n",
    "    print(\"rot_angle: \", np.round(rand_angle*180/math.pi))\n",
    "\n",
    "    return translated_volume, mask, translated_pts"
   ],
   "outputs": []
  },
  {
   "cell_type": "code",
   "execution_count": null,
   "metadata": {},
   "source": [
    "start_time = time.time()\n",
    "AH_augmented_volume, AH_mask, AH_augmented_pts = augment_3d_volume(AH_volume, AH_pts)\n",
    "end_time = time.time()\n",
    "duration = np.round(end_time - start_time)\n",
    "print(\"The augmentation takes: \", duration)"
   ],
   "outputs": []
  },
  {
   "cell_type": "code",
   "execution_count": null,
   "metadata": {},
   "source": [
    "print(AH_augmented_volume.shape)\n",
    "print(AH_augmented_pts)"
   ],
   "outputs": []
  },
  {
   "cell_type": "code",
   "execution_count": null,
   "metadata": {},
   "source": [
    "print(AH_augmented_volume.shape)\n",
    "print(AH_augmented_pts)\n",
    "\n",
    "show_pts(AH_augmented_volume, AH_augmented_pts, [0.15, 0.15, 0.15])"
   ],
   "outputs": []
  },
  {
   "cell_type": "code",
   "execution_count": null,
   "metadata": {},
   "source": [
    "from scipy.ndimage import zoom\n",
    "import numpy as np\n",
    "\n",
    "def rescale_3d_volume(volume, points, target_size=(170, 170, 30)):\n",
    "    zoom_scale = np.divide(target_size, volume.shape)\n",
    "    print(\"zoom scale is: \", zoom_scale)\n",
    "\n",
    "    zoomed_volume = zoom(AH_volume, zoom_scale)\n",
    "    zoomed_points = np.copy(points)\n",
    "    zoomed_points[:, [0, 1]] = zoomed_points[:, [1, 0]]\n",
    "    zoomed_points = np.round(np.multiply(zoomed_points, zoom_scale).astype(int))\n",
    "    zoomed_points[:, [0, 1]] = zoomed_points[:, [1, 0]]\n",
    "\n",
    "    return zoomed_volume, zoomed_points"
   ],
   "outputs": []
  },
  {
   "cell_type": "markdown",
   "metadata": {},
   "source": [
    "## load data from Matlab's .mat file"
   ]
  },
  {
   "cell_type": "code",
   "execution_count": null,
   "metadata": {},
   "source": [
    "import numpy as np\n",
    "import h5py\n",
    "\n",
    "file = h5py.File(\"/Volumes/Shawn_HDD/PhD/Project/Date/augmentation_from_matlab/original_augmentation_data/AH_aug_4.mat\", 'r')\n",
    "load_mat_vol = file.get('augVol')\n",
    "load_mat_pts = file.get('augPts')\n",
    "load_mat_vol = np.array(load_mat_vol)\n",
    "load_mat_pts = np.array(load_mat_pts)"
   ],
   "outputs": []
  },
  {
   "cell_type": "code",
   "execution_count": null,
   "metadata": {},
   "source": [
    "print(file.keys())\n",
    "file.close()"
   ],
   "outputs": []
  },
  {
   "cell_type": "code",
   "execution_count": null,
   "metadata": {},
   "source": [
    "print(load_mat_pts)\n",
    "print(load_mat_vol.shape)\n",
    "print(np.amax(load_mat_vol))\n",
    "print(np.amin(load_mat_vol))"
   ],
   "outputs": []
  },
  {
   "cell_type": "code",
   "execution_count": null,
   "metadata": {},
   "source": [
    "load_mat_pts = np.round(load_mat_pts.T).astype(int)\n",
    "print(load_mat_pts)\n",
    "load_mat_vol = load_mat_vol.T"
   ],
   "outputs": []
  },
  {
   "cell_type": "code",
   "execution_count": null,
   "metadata": {},
   "source": [
    "show_pts(load_mat_vol, load_mat_pts, [0.15, 0.15, 0.15])"
   ],
   "outputs": []
  },
  {
   "cell_type": "code",
   "execution_count": null,
   "metadata": {},
   "source": [
    "file_vol = h5py.File(\"/Volumes/Shawn_SSD/PhD/Project/Date/augmentation_from_matlab/Test/Input/GP_17017030_AugVol_2.mat\", 'r')\n",
    "file_pts = h5py.File(\"/Volumes/Shawn_SSD/PhD/Project/Date/augmentation_from_matlab/Test/Output/GP_17017030_AugPts_2.mat\", 'r')\n",
    "load_mat_vol = file_vol.get('rescaled_aug_vol')\n",
    "load_mat_pts = file_pts.get('rescaled_aug_pts')\n",
    "load_mat_vol = np.array(load_mat_vol)\n",
    "load_mat_pts = np.array(load_mat_pts)"
   ],
   "outputs": []
  },
  {
   "cell_type": "code",
   "execution_count": null,
   "metadata": {},
   "source": [
    "print(load_mat_pts)\n",
    "print(load_mat_vol.shape)"
   ],
   "outputs": []
  },
  {
   "cell_type": "code",
   "execution_count": null,
   "metadata": {},
   "source": [
    "load_mat_pts = load_mat_pts.reshape(3,4).T.astype(int)\n",
    "print(load_mat_pts)"
   ],
   "outputs": []
  },
  {
   "cell_type": "code",
   "execution_count": null,
   "metadata": {},
   "source": [
    "load_mat_vol = load_mat_vol.T"
   ],
   "outputs": []
  },
  {
   "cell_type": "code",
   "execution_count": null,
   "metadata": {},
   "source": [
    "show_pts(load_mat_vol, load_mat_pts, [0.15, 0.15, 0.15])"
   ],
   "outputs": []
  },
  {
   "cell_type": "code",
   "execution_count": null,
   "metadata": {},
   "source": [
    "np.amin(load_mat_vol)"
   ],
   "outputs": []
  },
  {
   "cell_type": "code",
   "execution_count": null,
   "source": [
    "print(load_mat_vol[11,:,15])"
   ],
   "metadata": {
    "collapsed": false,
    "pycharm": {
     "is_executing": true
    }
   },
   "outputs": []
  }
 ],
 "metadata": {
  "kernelspec": {
   "display_name": "Python 3 (ipykernel)",
   "language": "python",
   "name": "python3"
  },
  "language_info": {
   "codemirror_mode": {
    "name": "ipython",
    "version": 3
   },
   "file_extension": ".py",
   "mimetype": "text/x-python",
   "name": "python",
   "nbconvert_exporter": "python",
   "pygments_lexer": "ipython3",
   "version": "3.7.4"
  }
 },
 "nbformat": 4,
 "nbformat_minor": 1
}
