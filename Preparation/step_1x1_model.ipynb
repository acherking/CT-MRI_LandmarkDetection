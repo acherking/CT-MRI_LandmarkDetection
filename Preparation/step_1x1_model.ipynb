{
 "cells": [
  {
   "cell_type": "markdown",
   "source": [
    "## Translation Noises"
   ],
   "metadata": {
    "collapsed": false
   }
  },
  {
   "cell_type": "code",
   "execution_count": 1,
   "outputs": [
    {
     "data": {
      "text/plain": "('DM', 1)"
     },
     "execution_count": 1,
     "metadata": {},
     "output_type": "execute_result"
    }
   ],
   "source": [
    "# The noises from --> Training Dataset's predictions in Step1's Model\n",
    "\n",
    "import Functions.MyDataset as MyDataset\n",
    "\n",
    "MyDataset.get_pat_from_idx(301, True)"
   ],
   "metadata": {
    "collapsed": false,
    "ExecuteTime": {
     "end_time": "2023-06-20T05:41:07.498237Z",
     "start_time": "2023-06-20T05:41:05.636175Z"
    }
   }
  },
  {
   "cell_type": "code",
   "execution_count": 2,
   "outputs": [],
   "source": [
    "import numpy as np\n",
    "\n",
    "Y_pred_dir = \"/Users/achs/PhD/code/CT-MRI_LandmarkDetection/Spartan/trained_models/divided_dataset/straight_model/mean_two_landmarks/\"\n",
    "\n",
    "Y_eva_pred_file = \"bestVal_straight_model_divided_176_88_48_mean_two_landmarks_all_p.npy\"\n",
    "Y_eva_gt_file = \"straight_model_divided_176_88_48_mean_two_landmarks_all_gt.npy\"\n",
    "Y_eva_err_dis_file = \"bestVal_straight_model_divided_176_88_48_mean_two_landmarks_all_err_dis.npy\"\n",
    "\n",
    "Y_eva_pred_path = Y_pred_dir + Y_eva_pred_file\n",
    "Y_eva_pred = np.load(Y_eva_pred_path)\n",
    "\n",
    "Y_eva_gt_path = Y_pred_dir + Y_eva_gt_file\n",
    "Y_eva_gt_read = np.load(Y_eva_gt_path)\n",
    "\n",
    "Y_eva_err_dis_path = Y_pred_dir + Y_eva_err_dis_file\n",
    "Y_eva_err_dis = np.load(Y_eva_err_dis_path)"
   ],
   "metadata": {
    "collapsed": false,
    "ExecuteTime": {
     "end_time": "2023-06-20T06:01:42.879097Z",
     "start_time": "2023-06-20T06:01:42.868407Z"
    }
   }
  },
  {
   "cell_type": "code",
   "execution_count": 3,
   "outputs": [],
   "source": [
    "data_splits = MyDataset.get_data_splits(True, True)\n",
    "\n",
    "Y_eva_err_dis_train = Y_eva_err_dis[data_splits[0]]\n",
    "Y_eva_err_dis_val = Y_eva_err_dis[data_splits[1]]\n",
    "Y_eva_err_dis_test = Y_eva_err_dis[data_splits[2]]"
   ],
   "metadata": {
    "collapsed": false,
    "ExecuteTime": {
     "end_time": "2023-06-20T06:04:00.039438Z",
     "start_time": "2023-06-20T06:04:00.032948Z"
    }
   }
  },
  {
   "cell_type": "code",
   "execution_count": 4,
   "outputs": [
    {
     "name": "stdout",
     "output_type": "stream",
     "text": [
      "[[[-1.67248517e-01 -1.52246088e-01 -6.84525907e-01]]\n",
      "\n",
      " [[ 2.29901209e-01 -9.64470196e+00  3.71760035e+00]]\n",
      "\n",
      " [[-3.37919617e+00  2.90193439e+00  4.46545124e-01]]\n",
      "\n",
      " [[ 2.24358726e+00 -7.47663915e-01 -2.87058890e-01]]\n",
      "\n",
      " [[-9.77978230e-01 -2.59512514e-01  4.72910434e-01]]\n",
      "\n",
      " [[ 1.32068861e+00  3.61212790e-01 -1.48934889e+00]]\n",
      "\n",
      " [[-8.18213403e-01  1.02380383e+00 -2.86571264e-01]]\n",
      "\n",
      " [[ 2.19893050e+00  5.45873158e-02 -5.16794682e-01]]\n",
      "\n",
      " [[ 8.12610984e-02  3.69658262e-01 -7.67876878e-02]]\n",
      "\n",
      " [[ 2.04696441e+00  2.22663924e-01 -4.30187315e-01]]\n",
      "\n",
      " [[-5.67276812e+00  5.17895555e+00  8.54566693e-01]]\n",
      "\n",
      " [[ 2.04791331e+00 -6.79705501e-01 -9.82636213e-01]]\n",
      "\n",
      " [[-3.07388157e-01  1.55467987e-01  3.79875183e-01]]\n",
      "\n",
      " [[ 1.78036547e+00  2.59559155e-01 -1.76684618e-01]]\n",
      "\n",
      " [[-9.93011534e-01  1.20408499e+00  7.52390325e-01]]\n",
      "\n",
      " [[ 2.57263422e+00 -4.18860286e-01 -8.48219451e-03]]\n",
      "\n",
      " [[-4.01968384e+00  3.27421021e+00  7.27761090e-01]]\n",
      "\n",
      " [[ 2.29196692e+00 -6.38134181e-01 -5.02302468e-01]]\n",
      "\n",
      " [[-2.63166040e-01  7.78997481e-01  1.72795102e-01]]\n",
      "\n",
      " [[ 2.82052207e+00 -1.57169253e-01  1.42303258e-01]]\n",
      "\n",
      " [[-2.54450202e-01  7.10500956e-01  4.44113135e-01]]\n",
      "\n",
      " [[ 2.79275799e+00 -2.48968720e-01  2.87113279e-01]]\n",
      "\n",
      " [[-1.71449983e+00 -4.70754743e-01  8.43271911e-01]]\n",
      "\n",
      " [[ 1.13968742e+00  4.15361613e-01 -1.44232559e+00]]\n",
      "\n",
      " [[-3.29844451e+00 -1.14549768e+00  3.87382597e-01]]\n",
      "\n",
      " [[ 1.31521732e-01  5.95103383e-01 -3.24136376e-01]]\n",
      "\n",
      " [[-2.20622492e+00  1.96889031e+00  1.13925338e+00]]\n",
      "\n",
      " [[ 2.28489304e+00 -7.02566743e-01 -1.92572758e-01]]\n",
      "\n",
      " [[-1.28063411e-01  6.96742594e-01  2.10690320e-01]]\n",
      "\n",
      " [[ 2.58405375e+00 -6.41114265e-02 -1.65898144e-01]]\n",
      "\n",
      " [[-3.22799057e-01  2.99934000e-01  3.90264511e-01]]\n",
      "\n",
      " [[ 2.23042536e+00  1.68515339e-01 -4.30217773e-01]]\n",
      "\n",
      " [[-5.28429151e-01 -1.69836015e-01 -1.58557147e-01]]\n",
      "\n",
      " [[ 1.30137205e+00  4.02866840e-01 -1.23016644e+00]]\n",
      "\n",
      " [[-2.13398576e-01  6.04380786e-01  4.07794714e-01]]\n",
      "\n",
      " [[ 3.38949537e+00 -1.98493719e-01  5.67210913e-01]]\n",
      "\n",
      " [[ 2.97237411e-02  2.26001039e-01 -2.54855573e-01]]\n",
      "\n",
      " [[ 1.80110919e+00  2.92615026e-01 -1.21333516e+00]]\n",
      "\n",
      " [[-5.59895754e+00  5.64645910e+00 -1.69801903e+00]]\n",
      "\n",
      " [[ 2.12501073e+00 -9.71277952e-01 -8.81482899e-01]]\n",
      "\n",
      " [[-6.22809410e+00  6.87114334e+00  5.94057441e-01]]\n",
      "\n",
      " [[ 2.17877483e+00 -1.28786135e+00 -5.10996163e-01]]\n",
      "\n",
      " [[-4.40986156e-01  4.25037742e-02  5.20204663e-01]]\n",
      "\n",
      " [[ 1.80977571e+00  1.44108161e-01 -1.07786977e+00]]\n",
      "\n",
      " [[-1.51872680e-01  3.22675318e-01  1.75654337e-01]]\n",
      "\n",
      " [[ 2.54565120e+00 -4.87724282e-02 -8.07818413e-01]]\n",
      "\n",
      " [[-8.76881853e-02  3.95143807e-01  2.24917874e-01]]\n",
      "\n",
      " [[ 2.47759080e+00 -1.41752750e-01 -2.39651874e-01]]\n",
      "\n",
      " [[-1.64707720e+00 -5.97000718e-01  4.10347462e-01]]\n",
      "\n",
      " [[ 1.16441417e+00  4.42965001e-01 -1.27331352e+00]]\n",
      "\n",
      " [[-1.03390551e+00 -8.74349400e-02  5.59871912e-01]]\n",
      "\n",
      " [[ 1.62028158e+00  3.04026872e-01 -1.19892359e+00]]\n",
      "\n",
      " [[-7.85884738e-01 -3.99098396e-01 -1.30963475e-01]]\n",
      "\n",
      " [[ 1.61025870e+00  5.29142618e-01 -1.84133255e+00]]\n",
      "\n",
      " [[-6.78494978e+00  7.01225376e+00 -1.19101524e+00]]\n",
      "\n",
      " [[ 1.95049191e+00 -1.30774951e+00 -8.74499321e-01]]\n",
      "\n",
      " [[-3.29593134e+00  2.67275524e+00 -1.82327390e+00]]\n",
      "\n",
      " [[ 2.25654173e+00 -2.62919813e-01 -6.21577740e-01]]\n",
      "\n",
      " [[-1.97864807e+00  1.93518484e+00 -7.50510812e-01]]\n",
      "\n",
      " [[ 2.06763959e+00 -3.54622304e-01 -4.10467565e-01]]\n",
      "\n",
      " [[-2.93391109e-01  1.59555152e-01  4.60957825e-01]]\n",
      "\n",
      " [[ 1.99175894e+00  1.35934353e-01 -4.20881569e-01]]\n",
      "\n",
      " [[-2.24395804e-02  4.72630858e-01  2.14733884e-01]]\n",
      "\n",
      " [[ 2.90363646e+00 -1.58613488e-01  1.25965506e-01]]\n",
      "\n",
      " [[-2.39254808e+00  2.02827358e+00 -7.43453145e-01]]\n",
      "\n",
      " [[ 1.88186634e+00  2.14277878e-01 -1.22450387e+00]]\n",
      "\n",
      " [[-1.06927729e+00  1.15918636e+00  1.85077377e-02]]\n",
      "\n",
      " [[ 2.52321887e+00 -2.99599171e-01  1.14637189e-01]]\n",
      "\n",
      " [[-1.53206837e+00 -4.17940825e-01  5.47628343e-01]]\n",
      "\n",
      " [[ 9.26495194e-01  2.84133404e-01 -9.00378108e-01]]\n",
      "\n",
      " [[-1.89660180e+00  1.72215927e+00 -1.18735421e+00]]\n",
      "\n",
      " [[ 2.24415731e+00  2.99767908e-02 -5.19656718e-01]]\n",
      "\n",
      " [[-1.72054633e-01  5.20170271e-01  2.91634887e-01]]\n",
      "\n",
      " [[ 3.20937252e+00 -1.49558529e-01  5.27409971e-01]]\n",
      "\n",
      " [[-1.44994259e+00 -1.00003493e+00 -1.39573812e-02]]\n",
      "\n",
      " [[ 9.73968744e-01  6.57046854e-01 -1.72756577e+00]]\n",
      "\n",
      " [[-5.08993685e-01  6.41986787e-01  4.56819415e-01]]\n",
      "\n",
      " [[ 2.73634052e+00 -3.25383842e-01  2.53167361e-01]]\n",
      "\n",
      " [[-3.36684853e-01  8.21247578e-01 -1.33438513e-01]]\n",
      "\n",
      " [[ 2.41623044e+00  4.86730225e-02 -3.03176314e-01]]\n",
      "\n",
      " [[-1.47938502e+00  1.58254862e+00 -2.46977076e-01]]\n",
      "\n",
      " [[ 1.93459368e+00 -1.08861789e-01 -6.25813484e-01]]\n",
      "\n",
      " [[-5.16841531e-01 -1.47675291e-01 -1.42540321e-01]]\n",
      "\n",
      " [[ 2.00292420e+00  4.38236356e-01 -1.99253583e+00]]\n",
      "\n",
      " [[-1.71225905e-01  6.53874874e-01  9.53799337e-02]]\n",
      "\n",
      " [[ 2.86987114e+00  6.92215934e-02  5.93164451e-02]]\n",
      "\n",
      " [[-9.77574885e-02  2.91991830e-01  2.29408309e-01]]\n",
      "\n",
      " [[ 2.24161673e+00  9.56932828e-02 -3.61222535e-01]]\n",
      "\n",
      " [[-2.30885458e+00  2.07946396e+00 -1.35181427e+00]]\n",
      "\n",
      " [[ 2.19463348e+00 -2.26576701e-01 -6.49269104e-01]]\n",
      "\n",
      " [[-1.06690407e+00  1.16890359e+00  7.67648173e-03]]\n",
      "\n",
      " [[ 2.50509381e+00 -1.19718879e-01  2.50687823e-02]]\n",
      "\n",
      " [[-1.28057480e+00  1.42790341e+00 -2.87520200e-01]]\n",
      "\n",
      " [[ 2.07995582e+00 -1.23108648e-01 -4.92833823e-01]]\n",
      "\n",
      " [[-1.21127710e-01  4.54326272e-02  2.99114853e-01]]\n",
      "\n",
      " [[ 1.90948236e+00  1.88083440e-01 -1.12002861e+00]]\n",
      "\n",
      " [[-7.64746740e-02  4.40267205e-01  2.38167107e-01]]\n",
      "\n",
      " [[ 2.83781838e+00 -2.57445246e-01  3.76978070e-01]]\n",
      "\n",
      " [[-8.62271190e-01  1.11457670e+00  6.35631904e-02]]\n",
      "\n",
      " [[ 2.46107364e+00  2.34376956e-02 -3.28878343e-01]]\n",
      "\n",
      " [[ 9.04489681e-02  5.70516586e-01 -1.63582730e+00]]\n",
      "\n",
      " [[-1.98429608e+00  2.97800124e-01  7.76644945e-01]]\n",
      "\n",
      " [[ 6.15354538e-01 -2.70742536e-01 -1.84314680e+00]]\n",
      "\n",
      " [[-1.39417100e+00  2.12048292e-01  1.20710170e+00]]\n",
      "\n",
      " [[ 4.36333776e-01 -1.43410420e+00 -2.51467252e+00]]\n",
      "\n",
      " [[-7.33683825e-01 -2.43630812e-01  6.93269670e-01]]\n",
      "\n",
      " [[ 2.01941311e-01  3.78246546e-01 -1.83292651e+00]]\n",
      "\n",
      " [[-1.47606039e+00  7.04294443e-02  8.77873302e-01]]\n",
      "\n",
      " [[ 6.95788682e-01 -5.86999059e-01 -2.15571952e+00]]\n",
      "\n",
      " [[-1.05728149e+00  8.54407176e-02  7.96321094e-01]]\n",
      "\n",
      " [[-2.55454659e-01  6.43720984e-01 -1.98738265e+00]]\n",
      "\n",
      " [[-1.24035656e+00 -3.55698913e-01  8.58493745e-01]]\n",
      "\n",
      " [[ 8.08563948e-01 -8.74091923e-01 -2.14042139e+00]]\n",
      "\n",
      " [[-1.00757670e+00  1.87579058e-02  8.63050342e-01]]\n",
      "\n",
      " [[-3.07083428e-01  7.01493561e-01 -2.23329020e+00]]\n",
      "\n",
      " [[-8.61569941e-01 -6.57269776e-01  7.42755115e-01]]\n",
      "\n",
      " [[-2.66923875e-01  6.85428381e-01 -1.86583650e+00]]\n",
      "\n",
      " [[-1.02877259e+00 -4.67129529e-01  9.53276873e-01]]\n",
      "\n",
      " [[ 1.51341036e-01  2.82482356e-01 -1.96691191e+00]]\n",
      "\n",
      " [[-1.35803080e+00  4.55570519e-02  8.35297644e-01]]\n",
      "\n",
      " [[ 8.05584416e-02 -2.63018340e-01 -2.48436999e+00]]\n",
      "\n",
      " [[-7.46150017e-01  6.74523562e-02  9.89804883e-03]]\n",
      "\n",
      " [[ 3.05914879e-01 -2.24189118e-01 -2.09075689e+00]]\n",
      "\n",
      " [[-1.28084421e+00  1.58779491e-02  9.08423841e-01]]\n",
      "\n",
      " [[-1.49200886e-01  6.71987832e-01 -1.73339784e+00]]\n",
      "\n",
      " [[-9.04357553e-01 -1.91303208e-01  1.08681500e+00]]\n",
      "\n",
      " [[ 5.70783392e-02  6.06663287e-01 -1.77620029e+00]]\n",
      "\n",
      " [[-1.54325998e+00 -7.93231577e-02  8.06970954e-01]]\n",
      "\n",
      " [[-3.26970637e-01  4.67488080e-01 -2.49602461e+00]]\n",
      "\n",
      " [[-1.38277030e+00  4.81426492e-02  9.67478573e-01]]\n",
      "\n",
      " [[ 1.59662023e-01  3.67692202e-01 -1.89960408e+00]]\n",
      "\n",
      " [[-1.45871758e+00  1.63234363e-04  8.26730788e-01]]\n",
      "\n",
      " [[-7.05432370e-02  4.96282876e-01 -1.71551454e+00]]\n",
      "\n",
      " [[-1.31254697e+00 -1.18589558e-01  9.08383310e-01]]\n",
      "\n",
      " [[ 2.48900920e-01  2.54936576e-01 -1.88825607e+00]]\n",
      "\n",
      " [[-1.41761005e+00  6.97520226e-02  7.13038445e-01]]\n",
      "\n",
      " [[ 1.26652390e-01 -8.56365323e-01 -2.63636947e+00]]\n",
      "\n",
      " [[-5.79212964e-01 -5.19071743e-02  4.33003604e-01]]\n",
      "\n",
      " [[ 2.20077917e-01  1.42138228e-01 -1.91631794e+00]]\n",
      "\n",
      " [[-1.38874865e+00  7.64541775e-02  5.78564286e-01]]\n",
      "\n",
      " [[ 1.85227767e-02 -6.14957333e-01 -2.53819680e+00]]\n",
      "\n",
      " [[-7.14626670e-01  1.23237476e-01  4.58109528e-01]]\n",
      "\n",
      " [[-1.09506957e-03  7.02842295e-01 -1.59312010e+00]]\n",
      "\n",
      " [[-1.38781941e+00 -2.83540547e-01  7.87000656e-01]]\n",
      "\n",
      " [[ 1.69763744e-01  3.58968765e-01 -1.91920972e+00]]\n",
      "\n",
      " [[-1.60010147e+00  5.13182096e-02  8.02746296e-01]]\n",
      "\n",
      " [[ 8.98176804e-02  3.32686812e-01 -1.99516261e+00]]\n",
      "\n",
      " [[-1.35260773e+00  2.14848649e-02  5.03807068e-01]]\n",
      "\n",
      " [[ 2.83494174e-01  3.43497694e-01 -1.87856615e+00]]\n",
      "\n",
      " [[-1.49068177e+00  1.16781548e-01  9.23311174e-01]]\n",
      "\n",
      " [[-7.16827139e-02  4.73730952e-01 -1.93513346e+00]]\n",
      "\n",
      " [[-1.34422696e+00 -8.81473497e-02  8.95539463e-01]]\n",
      "\n",
      " [[ 4.08782950e-03  4.83170718e-01 -1.80750108e+00]]\n",
      "\n",
      " [[-1.63676572e+00 -9.67497844e-03  7.86223173e-01]]\n",
      "\n",
      " [[-1.98899508e-01  5.76720893e-01 -2.37241888e+00]]\n",
      "\n",
      " [[-9.49475586e-01 -3.93002778e-01  7.93241560e-01]]\n",
      "\n",
      " [[-1.63952246e-01  8.58927011e-01 -1.62542641e+00]]\n",
      "\n",
      " [[-9.58515704e-01 -3.59227479e-01  6.34132326e-01]]\n",
      "\n",
      " [[ 1.31007329e-01 -1.23812757e-01 -2.34997773e+00]]\n",
      "\n",
      " [[-1.08465350e+00 -1.21967746e-02  2.62480944e-01]]\n",
      "\n",
      " [[ 2.10669369e-01 -6.69713020e-01 -2.52509069e+00]]\n",
      "\n",
      " [[-8.82783294e-01 -5.78429364e-02  4.01171386e-01]]\n",
      "\n",
      " [[-2.88711011e-01  4.31725740e-01 -2.24318600e+00]]\n",
      "\n",
      " [[-1.45828283e+00 -2.13811040e-01  7.54531264e-01]]\n",
      "\n",
      " [[ 1.55697182e-01  4.34026808e-01 -1.84553003e+00]]\n",
      "\n",
      " [[-1.56166828e+00 -3.17284837e-03  7.88646519e-01]]\n",
      "\n",
      " [[-1.89313665e-01  5.13208151e-01 -1.63562429e+00]]\n",
      "\n",
      " [[-1.16571748e+00 -3.50370139e-01  9.35603440e-01]]\n",
      "\n",
      " [[-1.48933828e-01  6.12934887e-01 -2.01793075e+00]]\n",
      "\n",
      " [[-1.21359754e+00 -4.13364947e-01  8.76972079e-01]]\n",
      "\n",
      " [[ 2.31966689e-01 -7.81954527e-01 -2.43002009e+00]]\n",
      "\n",
      " [[-7.53346622e-01 -9.64282081e-02  6.45923257e-01]]\n",
      "\n",
      " [[ 8.24502707e-02  1.38581008e-01 -2.05770254e+00]]\n",
      "\n",
      " [[-1.28310728e+00  2.02581892e-03  6.86047733e-01]]\n",
      "\n",
      " [[-3.37185472e-01  7.12427378e-01 -2.11494374e+00]]\n",
      "\n",
      " [[-1.00836575e+00 -5.23977220e-01  7.63649642e-01]]\n",
      "\n",
      " [[ 2.41926998e-01 -4.67904657e-01 -2.32539749e+00]]\n",
      "\n",
      " [[-1.47915328e+00 -1.19024410e-03  7.57368028e-01]]\n",
      "\n",
      " [[ 7.82686919e-02  4.64062482e-01 -1.66544545e+00]]\n",
      "\n",
      " [[-1.87220085e+00  1.34470686e-01  8.21730912e-01]]\n",
      "\n",
      " [[ 1.63986564e-01 -9.02410984e-01 -2.44031906e+00]]\n",
      "\n",
      " [[-5.52704513e-01 -1.99612137e-02  5.10577679e-01]]\n",
      "\n",
      " [[-3.72713417e-01  6.30800545e-01 -2.32389855e+00]]\n",
      "\n",
      " [[-1.12266803e+00 -5.50699413e-01  6.72660768e-01]]\n",
      "\n",
      " [[ 5.77188075e-01 -8.31998885e-01 -2.21090961e+00]]\n",
      "\n",
      " [[-1.03113043e+00  2.10828520e-02  9.41653788e-01]]\n",
      "\n",
      " [[ 2.23432891e-02  4.95579720e-01 -1.76219201e+00]]\n",
      "\n",
      " [[-1.63170612e+00  2.20515877e-02  7.42062092e-01]]\n",
      "\n",
      " [[-2.68971831e-01  6.22191191e-01 -1.67919886e+00]]\n",
      "\n",
      " [[-8.45248759e-01 -5.60435355e-01  6.38125479e-01]]\n",
      "\n",
      " [[-4.00347829e-01  5.83393037e-01 -1.59781563e+00]]\n",
      "\n",
      " [[-9.59398627e-01 -5.08667767e-01  7.49278843e-01]]\n",
      "\n",
      " [[ 1.10652400e-02  4.66799229e-01 -2.42355919e+00]]\n",
      "\n",
      " [[-1.18391120e+00 -7.81581849e-02  8.29252124e-01]]\n",
      "\n",
      " [[-2.74418145e-01  6.32544279e-01 -2.00347114e+00]]\n",
      "\n",
      " [[-1.18105423e+00  2.50728615e-02  9.22188044e-01]]\n",
      "\n",
      " [[ 7.14443251e-02  5.24024129e-01 -1.75134873e+00]]\n",
      "\n",
      " [[-1.58890665e+00  3.22227888e-02  8.13724279e-01]]\n",
      "\n",
      " [[ 1.10108547e-01 -4.86462504e-01 -2.50833750e+00]]\n",
      "\n",
      " [[-7.92974055e-01  1.65156975e-01  3.03762853e-01]]]\n"
     ]
    }
   ],
   "source": [
    "print(Y_eva_err_dis_val)"
   ],
   "metadata": {
    "collapsed": false,
    "ExecuteTime": {
     "end_time": "2023-06-20T06:41:25.410199Z",
     "start_time": "2023-06-20T06:41:25.381100Z"
    }
   }
  },
  {
   "cell_type": "code",
   "execution_count": 8,
   "outputs": [
    {
     "name": "stdout",
     "output_type": "stream",
     "text": [
      "Min[94]: 0.10620573908090591\n",
      "Max[1]: 106.89368438720703\n",
      "Mean: 6.087070465087891\n"
     ]
    }
   ],
   "source": [
    "square_err_diff = np.power(Y_eva_err_dis_val, 2)\n",
    "sum_square_err_diff = np.sum(square_err_diff, axis= (1,2) )\n",
    "\n",
    "min_err_idx = np.argmin(sum_square_err_diff, axis=0)\n",
    "max_err_idx = np.argmax(sum_square_err_diff, axis=0)\n",
    "print(f\"Min[{min_err_idx}]: {sum_square_err_diff[min_err_idx]}\")\n",
    "print(f\"Max[{max_err_idx}]: {sum_square_err_diff[max_err_idx]}\")\n",
    "print(f\"Mean: {np.mean(sum_square_err_diff)}\")"
   ],
   "metadata": {
    "collapsed": false,
    "ExecuteTime": {
     "end_time": "2023-06-20T06:48:43.954615Z",
     "start_time": "2023-06-20T06:48:43.938340Z"
    }
   }
  },
  {
   "cell_type": "markdown",
   "source": [
    "## find a distribution for noises"
   ],
   "metadata": {
    "collapsed": false
   }
  },
  {
   "cell_type": "code",
   "execution_count": 10,
   "outputs": [],
   "source": [
    "## Test dataset noises Distribution\n",
    "## Skew Normal Distribution\n",
    "\n",
    "from scipy import stats\n",
    "import matplotlib.pyplot as plt\n",
    "import numpy as np\n",
    "\n",
    "a, loc, scale = 1.3, -0.1, 2.2\n",
    "sample = stats.skewnorm(a, loc, scale).rvs(1000)"
   ],
   "metadata": {
    "collapsed": false,
    "ExecuteTime": {
     "end_time": "2023-06-21T06:02:23.133367Z",
     "start_time": "2023-06-21T06:02:19.283985Z"
    }
   }
  },
  {
   "cell_type": "code",
   "execution_count": 18,
   "outputs": [],
   "source": [
    "a_x, loc_x, scale_x = stats.skewnorm.fit(Y_eva_err_dis_test[:, 0, 0])\n",
    "\n",
    "a_y, loc_y, scale_y = stats.skewnorm.fit(Y_eva_err_dis_test[:, 0, 1])\n",
    "\n",
    "a_z, loc_z, scale_z = stats.skewnorm.fit(Y_eva_err_dis_test[:, 0, 2])"
   ],
   "metadata": {
    "collapsed": false,
    "ExecuteTime": {
     "end_time": "2023-06-21T06:09:05.279347Z",
     "start_time": "2023-06-21T06:09:05.193042Z"
    }
   }
  },
  {
   "cell_type": "code",
   "execution_count": 19,
   "outputs": [
    {
     "name": "stdout",
     "output_type": "stream",
     "text": [
      "a_x:  -4.392549919719913\n",
      "loc_x:  1.12173099804582\n",
      "scale-x:  1.669288486529343\n",
      "a_y:  0.015393324657128355\n",
      "loc_y:  -0.30127937456135756\n",
      "scale-y:  0.5753345369617957\n",
      "a_z:  4.9089566058258365\n",
      "loc_z:  -1.2210311142370425\n",
      "scale-z:  0.986150145976759\n"
     ]
    }
   ],
   "source": [
    "print(\"a_x: \", a_x)\n",
    "print(\"loc_x: \", loc_x)\n",
    "print(\"scale-x: \", scale_x)\n",
    "\n",
    "print(\"a_y: \", a_y)\n",
    "print(\"loc_y: \", loc_y)\n",
    "print(\"scale-y: \", scale_y)\n",
    "\n",
    "print(\"a_z: \", a_z)\n",
    "print(\"loc_z: \", loc_z)\n",
    "print(\"scale-z: \", scale_z)"
   ],
   "metadata": {
    "collapsed": false,
    "ExecuteTime": {
     "end_time": "2023-06-21T06:09:05.928609Z",
     "start_time": "2023-06-21T06:09:05.918846Z"
    }
   }
  },
  {
   "cell_type": "code",
   "execution_count": 37,
   "outputs": [],
   "source": [
    "sn_x = stats.skewnorm(a_x, loc_x, scale_x)\n",
    "x = np.linspace(sn_x.ppf(0.01), sn_x.ppf(0.99), 400)\n",
    "\n",
    "sn_y = stats.skewnorm(a_y, loc_y, scale_y)\n",
    "y = np.linspace(sn_y.ppf(0.01), sn_y.ppf(0.99), 400)\n",
    "\n",
    "sn_z = stats.skewnorm(a_z, loc_z, scale_z)\n",
    "z = np.linspace(sn_z.ppf(0.01), sn_z.ppf(0.99), 400)"
   ],
   "metadata": {
    "collapsed": false,
    "ExecuteTime": {
     "end_time": "2023-06-21T06:58:44.271921Z",
     "start_time": "2023-06-21T06:58:44.243849Z"
    }
   }
  },
  {
   "cell_type": "code",
   "execution_count": 40,
   "outputs": [
    {
     "data": {
      "text/plain": "<Figure size 640x480 with 4 Axes>",
      "image/png": "[encoded data removed]"
     },
     "metadata": {},
     "output_type": "display_data"
    }
   ],
   "source": [
    "from matplotlib import pyplot\n",
    "\n",
    "fig, axs = pyplot.subplots(2, 2, sharex=True, sharey=True, constrained_layout=True)\n",
    "\n",
    "# axs[0][0].hist(sum_square_err_diff, 20)\n",
    "# axs[0][0].set_xlabel(\"sum square err diff\")\n",
    "\n",
    "axs[0][1].hist(Y_eva_err_dis_test[:, 0, 0], 20)\n",
    "axs[0][1].set_xlabel(\"x: square err diff\")\n",
    "axs[0][1].plot(x, sn_x.pdf(x)*200, 'r-', lw=5, alpha=0.6)\n",
    "\n",
    "axs[1][0].hist(Y_eva_err_dis_test[:, 0, 1], 20)\n",
    "axs[1][0].set_xlabel(\"y: square err diff\")\n",
    "axs[1][0].plot(y, sn_y.pdf(y)*100, 'r-', lw=5, alpha=0.6)\n",
    "\n",
    "axs[1][1].hist(Y_eva_err_dis_test[:, 0, 2], 20)\n",
    "axs[1][1].set_xlabel(\"z: square err diff\")\n",
    "axs[1][1].plot(z, sn_z.pdf(z)*100, 'r-', lw=5, alpha=0.6)\n",
    "\n",
    "pyplot.show()\n"
   ],
   "metadata": {
    "collapsed": false,
    "ExecuteTime": {
     "end_time": "2023-06-21T07:00:34.510411Z",
     "start_time": "2023-06-21T07:00:33.647354Z"
    }
   }
  },
  {
   "cell_type": "code",
   "execution_count": 46,
   "outputs": [],
   "source": [
    "s1_pred_test_dis_array = np.zeros((2000, 1, 3))\n",
    "s1_pred_test_dis_array[:, 0, 0] = sn_x.rvs(size=2000)\n",
    "s1_pred_test_dis_array[:, 0, 1] = sn_y.rvs(size=2000)\n",
    "s1_pred_test_dis_array[:, 0, 2] = sn_z.rvs(size=2000)"
   ],
   "metadata": {
    "collapsed": false,
    "ExecuteTime": {
     "end_time": "2023-06-22T04:50:18.589592Z",
     "start_time": "2023-06-22T04:50:18.578509Z"
    }
   }
  },
  {
   "cell_type": "code",
   "execution_count": 47,
   "outputs": [],
   "source": [
    "file_name = \"noises_s1_pred_test_dis\"\n",
    "np.save(f\"../Spartan/res/{file_name}\", s1_pred_test_dis_array)"
   ],
   "metadata": {
    "collapsed": false,
    "ExecuteTime": {
     "end_time": "2023-06-22T04:50:22.738214Z",
     "start_time": "2023-06-22T04:50:22.730090Z"
    }
   }
  },
  {
   "cell_type": "code",
   "execution_count": null,
   "outputs": [],
   "source": [],
   "metadata": {
    "collapsed": false
   }
  }
 ],
 "metadata": {
  "kernelspec": {
   "display_name": "Python 3",
   "language": "python",
   "name": "python3"
  },
  "language_info": {
   "codemirror_mode": {
    "name": "ipython",
    "version": 2
   },
   "file_extension": ".py",
   "mimetype": "text/x-python",
   "name": "python",
   "nbconvert_exporter": "python",
   "pygments_lexer": "ipython2",
   "version": "2.7.6"
  }
 },
 "nbformat": 4,
 "nbformat_minor": 0
}
