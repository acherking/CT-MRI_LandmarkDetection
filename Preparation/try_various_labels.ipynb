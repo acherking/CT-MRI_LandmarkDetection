{
 "cells": [
  {
   "cell_type": "markdown",
   "source": [
    " ## Try labels from different experts"
   ],
   "metadata": {
    "collapsed": false
   },
   "id": "e7d70d5229611dc1"
  },
  {
   "cell_type": "code",
   "execution_count": 1,
   "source": [
    "import pandas as pd\n",
    "import numpy as np\n",
    "\n",
    "ROI_path_JM1 = '../Resources/ROI/JM/1.xlsx'\n",
    "ROI_path_JM2 = '../Resources/ROI/JM/2.xlsx'\n",
    "\n",
    "ROI_path_Dan1 = '../Resources/ROI/Dan/1.xlsx'\n",
    "ROI_path_Dan2 = '../Resources/ROI/Dan/2.xlsx'\n",
    "\n",
    "ROI_path_Bridget1 = '../Resources/ROI/Bridget/1.xlsx'\n",
    "ROI_path_Bridget2 = '../Resources/ROI/Bridget/2.xlsx'\n",
    "\n",
    "roi_CT_JM1 = pd.read_excel(ROI_path_JM1, index_col=[0, 1, 2], header=None)\n",
    "roi_CT_JM2 = pd.read_excel(ROI_path_JM2, index_col=[0, 1, 2], header=None)\n",
    "\n",
    "roi_CT_Dan1 = pd.read_excel(ROI_path_Dan1, index_col=[0, 1, 2], header=None)\n",
    "roi_CT_Dan2 = pd.read_excel(ROI_path_Dan2, index_col=[0, 1, 2], header=None)\n",
    "\n",
    "roi_CT_Bridget1 = pd.read_excel(ROI_path_Bridget1, index_col=[0, 1, 2], header=None)\n",
    "roi_CT_Bridget2 = pd.read_excel(ROI_path_Bridget2, index_col=[0, 1, 2], header=None)"
   ],
   "metadata": {
    "collapsed": false,
    "ExecuteTime": {
     "end_time": "2024-04-11T00:13:28.835765Z",
     "start_time": "2024-04-11T00:13:20.928933Z"
    }
   },
   "id": "d0e63ed4a7508deb",
   "outputs": []
  },
  {
   "cell_type": "code",
   "execution_count": 51,
   "source": [
    "index = roi_CT_Bridget1.index"
   ],
   "metadata": {
    "collapsed": false,
    "ExecuteTime": {
     "end_time": "2023-10-30T05:39:10.675081Z",
     "start_time": "2023-10-30T05:39:10.530714Z"
    }
   },
   "id": "e2f5bec8ea5ae483",
   "outputs": []
  },
  {
   "cell_type": "code",
   "execution_count": 67,
   "source": [
    "ck_pt = 'SM'\n",
    "ck_l = 'LLSCC post'\n",
    "\n",
    "print(roi_CT_JM1.loc[(ck_pt, 'CT',  ck_l)].values.reshape(1,3))\n",
    "print(roi_CT_JM2.loc[(ck_pt, 'CT', ck_l)].values.reshape(1,3))\n",
    "print(roi_CT_Dan1.loc[(ck_pt, 'CT',  ck_l)].values.reshape(1,3))\n",
    "print(roi_CT_Dan2.loc[(ck_pt, 'CT', ck_l)].values.reshape(1,3))\n",
    "print(roi_CT_Bridget1.loc[(ck_pt, 'CT',  ck_l)].values.reshape(1,3))\n",
    "print(roi_CT_Bridget2.loc[(ck_pt, 'CT', ck_l)].values.reshape(1,3))"
   ],
   "metadata": {
    "collapsed": false,
    "ExecuteTime": {
     "end_time": "2023-10-30T05:52:25.225081Z",
     "start_time": "2023-10-30T05:52:25.081925Z"
    }
   },
   "id": "4067d9017ff68fb2",
   "outputs": []
  },
  {
   "cell_type": "code",
   "execution_count": 2,
   "source": [
    "import Functions.MyDataset as MyDataset\n",
    "\n",
    "names = MyDataset.get_pat_names()\n",
    "\n",
    "landmarks = ['LLSCC ant', 'LLSCC post', 'RLSCC ant', 'RLSCC post']\n",
    "\n",
    "all_labels = []\n",
    "\n",
    "for pt_name in names:\n",
    "    for landmark in landmarks:\n",
    "        l1 = roi_CT_JM1.loc[(pt_name, 'CT',  landmark)].values.reshape(1,3)\n",
    "        l2 = roi_CT_JM2.loc[(pt_name, 'CT',  landmark)].values.reshape(1,3)\n",
    "        l3 = roi_CT_Dan1.loc[(pt_name, 'CT',  landmark)].values.reshape(1,3)\n",
    "        l4 = roi_CT_Dan2.loc[(pt_name, 'CT',  landmark)].values.reshape(1,3)\n",
    "        l5 = roi_CT_Bridget1.loc[(pt_name, 'CT',  landmark)].values.reshape(1,3)\n",
    "        l6 = roi_CT_Bridget2.loc[(pt_name, 'CT',  landmark)].values.reshape(1,3)\n",
    "        one_landmark = np.concatenate([l1, l2, l3, l4, l5, l6], axis=0)\n",
    "        if len(all_labels) == 0:\n",
    "            all_labels = one_landmark\n",
    "        else:\n",
    "            all_labels = np.concatenate([all_labels, one_landmark], axis=0)"
   ],
   "metadata": {
    "collapsed": false,
    "ExecuteTime": {
     "end_time": "2024-04-11T00:15:52.346300Z",
     "start_time": "2024-04-11T00:15:49.866230Z"
    }
   },
   "id": "5d628311efa0892d",
   "outputs": []
  },
  {
   "cell_type": "code",
   "execution_count": 3,
   "source": [
    "all_labels = all_labels.reshape((20, 4, 6, 3))\n",
    "print(all_labels[13, 1, :, :])\n",
    "print(all_labels[0:4])"
   ],
   "metadata": {
    "collapsed": false,
    "ExecuteTime": {
     "end_time": "2024-04-11T00:16:29.148796Z",
     "start_time": "2024-04-11T00:16:29.098800Z"
    }
   },
   "id": "fb1be5f562a94996",
   "outputs": []
  },
  {
   "cell_type": "code",
   "execution_count": 4,
   "source": [
    "medium_labels = np.median(all_labels, axis=2)"
   ],
   "metadata": {
    "collapsed": false,
    "ExecuteTime": {
     "end_time": "2024-04-11T00:27:37.039101Z",
     "start_time": "2024-04-11T00:27:37.017913Z"
    }
   },
   "id": "9634ae97d1f4413b",
   "outputs": []
  },
  {
   "cell_type": "code",
   "execution_count": 5,
   "source": [
    "medium_labels_tmp = np.reshape(medium_labels, (80, 3))\n",
    "print(medium_labels[0:4])"
   ],
   "metadata": {
    "collapsed": false,
    "ExecuteTime": {
     "end_time": "2024-04-11T00:32:25.932182Z",
     "start_time": "2024-04-11T00:32:25.602916Z"
    }
   },
   "id": "73737dcdedd491c2",
   "outputs": []
  },
  {
   "cell_type": "code",
   "source": [
    "all_labels_reshape = all_labels.reshape((80, 18))\n",
    "save_columns = ['x', 'y', 'z', 'x', 'y', 'z', 'x', 'y', 'z', 'x', 'y', 'z', 'x', 'y', 'z', 'x', 'y', 'z']\n",
    "save_index = np.asarray(['LLSCC ant', 'LLSCC post', 'RLSCC ant', 'RLSCC post'])\n",
    "save_index = np.repeat(save_index.reshape(1, 4), 20, axis=0).reshape(80)"
   ],
   "metadata": {
    "collapsed": false,
    "ExecuteTime": {
     "end_time": "2024-04-11T01:44:38.174888Z",
     "start_time": "2024-04-11T01:44:37.835873Z"
    }
   },
   "id": "b43a456b619c2d8",
   "execution_count": 38,
   "outputs": []
  },
  {
   "cell_type": "code",
   "source": [
    "df1 = pd.DataFrame(all_labels_reshape,\n",
    "                   index=save_index,\n",
    "                   columns=save_columns)\n",
    "df1.to_excel(\"../Resources/ROI/ROI_6.xlsx\")"
   ],
   "metadata": {
    "collapsed": false,
    "ExecuteTime": {
     "end_time": "2024-04-11T01:44:40.279392Z",
     "start_time": "2024-04-11T01:44:40.190313Z"
    }
   },
   "id": "a9aac39ef72df76f",
   "execution_count": 39,
   "outputs": []
  },
  {
   "cell_type": "code",
   "execution_count": 9,
   "source": [
    "# Check the experts' div\n",
    "\n",
    "medium_labels = medium_labels.reshape((20, 4, 1, 3))\n",
    "medium_labels = np.repeat(medium_labels, 6, axis=2)"
   ],
   "metadata": {
    "collapsed": false,
    "ExecuteTime": {
     "end_time": "2023-11-21T04:55:37.888904Z",
     "start_time": "2023-11-21T04:55:37.578025Z"
    }
   },
   "id": "82702bd8cb981065",
   "outputs": []
  },
  {
   "cell_type": "code",
   "execution_count": 31,
   "source": [
    "diff_all_medium = (all_labels - medium_labels) * 0.15\n",
    "\n",
    "diff_p2 = np.power(diff_all_medium, 2)\n",
    "\n",
    "diff_dis = np.power(np.sum(diff_p2, axis=3), 1/2)\n",
    "\n",
    "print(np.mean(diff_dis))\n",
    "print(np.std(diff_dis))"
   ],
   "metadata": {
    "collapsed": false,
    "ExecuteTime": {
     "end_time": "2023-11-21T05:16:06.303682Z",
     "start_time": "2023-11-21T05:16:05.988735Z"
    }
   },
   "id": "b2d6feaecf07ebd8",
   "outputs": []
  },
  {
   "cell_type": "code",
   "execution_count": 16,
   "source": [
    "print(medium_labels[0:4])"
   ],
   "metadata": {
    "collapsed": false,
    "ExecuteTime": {
     "end_time": "2023-11-21T05:02:44.530919Z",
     "start_time": "2023-11-21T05:02:44.485795Z"
    }
   },
   "id": "56ec9c84350f068f",
   "outputs": []
  },
  {
   "cell_type": "code",
   "execution_count": 75,
   "source": [
    "np.save(f\"../Resources/ROI/ROI_CT_Medium\", medium_labels)"
   ],
   "metadata": {
    "collapsed": false,
    "ExecuteTime": {
     "end_time": "2023-10-31T00:21:36.489684Z",
     "start_time": "2023-10-31T00:21:36.310722Z"
    }
   },
   "id": "db6a3ec89cc71321",
   "outputs": []
  },
  {
   "cell_type": "code",
   "execution_count": 78,
   "source": [
    "print((medium_labels[13, :, :]))"
   ],
   "metadata": {
    "collapsed": false,
    "ExecuteTime": {
     "end_time": "2023-10-31T01:20:52.624225Z",
     "start_time": "2023-10-31T01:20:52.466743Z"
    }
   },
   "id": "6e8a71941616cf71",
   "outputs": []
  },
  {
   "cell_type": "code",
   "execution_count": 8,
   "source": [
    "import numpy as np\n",
    "\n",
    "ct_medium_6 = np.load(\"../Resources/ROI/ROI_CT_Medium.npy\")\n",
    "ct_medium_3 = np.load(\"../Resources/ROI_CT_Medium.npy\")\n",
    "\n",
    "diff = ct_medium_3 - ct_medium_6"
   ],
   "metadata": {
    "collapsed": false,
    "ExecuteTime": {
     "end_time": "2023-11-01T03:25:12.022485Z",
     "start_time": "2023-11-01T03:25:11.793335Z"
    }
   },
   "id": "b4f462c585a524da",
   "outputs": []
  },
  {
   "cell_type": "code",
   "execution_count": 9,
   "source": [
    "#diff[:, 2:4, 0] = - diff[:, 2:4, 0]\n",
    "print(diff[0:5])"
   ],
   "metadata": {
    "collapsed": false,
    "ExecuteTime": {
     "end_time": "2023-11-01T03:25:15.583037Z",
     "start_time": "2023-11-01T03:25:15.548187Z"
    }
   },
   "id": "2aee51df53889a16",
   "outputs": []
  },
  {
   "cell_type": "code",
   "execution_count": 10,
   "source": [
    "diff_flip = np.copy(diff)\n",
    "diff_flip[:, 2:4, 0] = -diff_flip[:, 2:4, 0]\n",
    "print(diff_flip[0:5])"
   ],
   "metadata": {
    "collapsed": false,
    "ExecuteTime": {
     "end_time": "2023-11-01T03:26:08.023331Z",
     "start_time": "2023-11-01T03:26:07.796935Z"
    }
   },
   "id": "6836d8c7c7494962",
   "outputs": []
  },
  {
   "cell_type": "code",
   "execution_count": 11,
   "source": [
    "np.save(\"../Resources/diff_flip\", diff_flip)"
   ],
   "metadata": {
    "collapsed": false,
    "ExecuteTime": {
     "end_time": "2023-11-01T03:28:16.790593Z",
     "start_time": "2023-11-01T03:28:16.528609Z"
    }
   },
   "id": "8acfe23cd040adfd",
   "outputs": []
  },
  {
   "cell_type": "code",
   "execution_count": 80,
   "source": [
    "import numpy as np\n",
    "import importlib\n",
    "import Functions.MyDataset as MyDataset\n",
    "import Functions.Visualization as Visualization\n",
    "\n",
    "pat_aug_path = \"/Volumes/Shawn_HDD/PhD/Project/Date/augmentation_from_matlab/original_augmentation_data/JM_aug_1.mat\"\n",
    "\n",
    "pixel_space = [0.15, 0.15, 0.15]\n",
    "\n",
    "importlib.reload(Visualization)\n",
    "\n",
    "pat_aug_volume, pat_aug_pts, _ = MyDataset.load_mat_data(pat_aug_path)\n",
    "\n",
    "print(pat_aug_pts)\n",
    "\n",
    "Visualization.show_pts(pat_aug_volume, pat_aug_pts, pixel_space)\n",
    "\n",
    "print(pat_aug_pts)"
   ],
   "metadata": {
    "collapsed": false,
    "ExecuteTime": {
     "end_time": "2023-10-31T01:56:14.199440Z",
     "start_time": "2023-10-31T01:55:44.437100Z"
    }
   },
   "id": "474e05de2f888e45",
   "outputs": []
  },
  {
   "cell_type": "code",
   "execution_count": 83,
   "source": [
    "Visualization.show_pts(pat_aug_volume, medium_labels[13, :, :], pixel_space)"
   ],
   "metadata": {
    "collapsed": false,
    "ExecuteTime": {
     "end_time": "2023-10-31T04:13:49.830940Z",
     "start_time": "2023-10-31T04:13:45.854328Z"
    }
   },
   "id": "318703f1e69798ed",
   "outputs": []
  },
  {
   "cell_type": "code",
   "execution_count": null,
   "source": [],
   "metadata": {
    "collapsed": false
   },
   "id": "81de0e25a2efb96a",
   "outputs": []
  }
 ],
 "metadata": {
  "kernelspec": {
   "display_name": "Python 3",
   "language": "python",
   "name": "python3"
  },
  "language_info": {
   "codemirror_mode": {
    "name": "ipython",
    "version": 2
   },
   "file_extension": ".py",
   "mimetype": "text/x-python",
   "name": "python",
   "nbconvert_exporter": "python",
   "pygments_lexer": "ipython2",
   "version": "2.7.6"
  }
 },
 "nbformat": 4,
 "nbformat_minor": 5
}
