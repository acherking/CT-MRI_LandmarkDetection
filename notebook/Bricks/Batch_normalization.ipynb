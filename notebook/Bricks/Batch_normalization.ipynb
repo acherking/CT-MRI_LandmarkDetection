{
 "cells": [
  {
   "cell_type": "code",
   "execution_count": 28,
   "metadata": {
    "collapsed": true,
    "ExecuteTime": {
     "start_time": "2023-05-29T15:00:58.534017Z",
     "end_time": "2023-05-29T15:00:58.552235Z"
    }
   },
   "source": [
    "import tensorflow as tf\n",
    "\n",
    "model = tf.keras.Sequential()\n",
    "#model.add(tf.keras.layers.Dense(16))\n",
    "model.add(tf.keras.layers.BatchNormalization())\n",
    "\n",
    "input_shape = (2,3,2)\n",
    "model_build = model.build(input_shape)"
   ],
   "outputs": []
  },
  {
   "cell_type": "code",
   "execution_count": 29,
   "source": [
    "model.summary()"
   ],
   "metadata": {
    "collapsed": false,
    "ExecuteTime": {
     "start_time": "2023-05-29T15:00:59.573252Z",
     "end_time": "2023-05-29T15:00:59.582840Z"
    }
   },
   "outputs": []
  },
  {
   "cell_type": "code",
   "execution_count": 30,
   "source": [
    "model.weights"
   ],
   "metadata": {
    "collapsed": false,
    "ExecuteTime": {
     "start_time": "2023-05-29T15:01:01.162331Z",
     "end_time": "2023-05-29T15:01:01.168326Z"
    }
   },
   "outputs": []
  },
  {
   "cell_type": "code",
   "execution_count": 31,
   "source": [
    "import numpy as np\n",
    "\n",
    "a2 = np.arange(2*3*2).reshape(2,3,2)\n",
    "\n",
    "b2= model(a2, training=True)"
   ],
   "metadata": {
    "collapsed": false,
    "ExecuteTime": {
     "start_time": "2023-05-29T15:02:41.925066Z",
     "end_time": "2023-05-29T15:02:41.933177Z"
    }
   },
   "outputs": []
  },
  {
   "cell_type": "code",
   "execution_count": 32,
   "source": [
    "model.weights"
   ],
   "metadata": {
    "collapsed": false,
    "ExecuteTime": {
     "start_time": "2023-05-29T15:02:44.138011Z",
     "end_time": "2023-05-29T15:02:44.142511Z"
    }
   },
   "outputs": []
  },
  {
   "cell_type": "code",
   "execution_count": 33,
   "source": [
    "c2 = model(a2, training=False)\n",
    "print(a2)\n",
    "print(b2)\n",
    "print(c2)"
   ],
   "metadata": {
    "collapsed": false,
    "ExecuteTime": {
     "start_time": "2023-05-29T15:02:51.771954Z",
     "end_time": "2023-05-29T15:02:51.777054Z"
    }
   },
   "outputs": []
  },
  {
   "cell_type": "code",
   "execution_count": 3,
   "source": [
    "from tensorflow import keras\n",
    "\n",
    "model_path = \"/Users/achs/PhD/code/CT-MRI_LandmarkDetection/Spartan/trained_models/cropped_dataset/straight_model/one_landmark_res/150x150x100/bestVal_straight_model_cropped_150x150x100\"\n",
    "\n",
    "trained_model = keras.models.load_model(model_path)"
   ],
   "metadata": {
    "collapsed": false,
    "ExecuteTime": {
     "start_time": "2023-06-08T11:12:23.328301Z",
     "end_time": "2023-06-08T11:12:25.949782Z"
    }
   },
   "outputs": []
  },
  {
   "cell_type": "code",
   "execution_count": 4,
   "source": [
    "trained_model.summary()"
   ],
   "metadata": {
    "collapsed": false,
    "ExecuteTime": {
     "start_time": "2023-06-08T11:12:28.348204Z",
     "end_time": "2023-06-08T11:12:28.596898Z"
    }
   },
   "outputs": []
  },
  {
   "cell_type": "code",
   "execution_count": 5,
   "source": [
    "layers = trained_model.layers\n",
    "weights = trained_model.weights"
   ],
   "metadata": {
    "collapsed": false,
    "ExecuteTime": {
     "start_time": "2023-06-08T11:13:10.499152Z",
     "end_time": "2023-06-08T11:13:10.504204Z"
    }
   },
   "outputs": []
  },
  {
   "cell_type": "code",
   "execution_count": 6,
   "source": [
    "layers[2].get_config()"
   ],
   "metadata": {
    "collapsed": false,
    "ExecuteTime": {
     "start_time": "2023-06-08T11:13:11.495118Z",
     "end_time": "2023-06-08T11:13:11.575640Z"
    }
   },
   "outputs": []
  },
  {
   "cell_type": "code",
   "execution_count": 19,
   "source": [
    "weights[2:6]"
   ],
   "metadata": {
    "collapsed": false,
    "ExecuteTime": {
     "start_time": "2023-05-29T13:27:01.955268Z",
     "end_time": "2023-05-29T13:27:01.961405Z"
    }
   },
   "outputs": []
  },
  {
   "cell_type": "code",
   "execution_count": 9,
   "source": [
    "dense_layer_weights = layers[43].get_weights()"
   ],
   "metadata": {
    "collapsed": false,
    "ExecuteTime": {
     "start_time": "2023-06-08T11:15:21.819119Z",
     "end_time": "2023-06-08T11:15:21.836551Z"
    }
   },
   "outputs": []
  },
  {
   "cell_type": "code",
   "execution_count": 13,
   "source": [
    "import numpy as np\n",
    "\n",
    "blank_volume = np.zeros((1, 150, 150, 100, 1))\n",
    "blank_y = trained_model(blank_volume, training=False)\n",
    "\n",
    "print(blank_y)"
   ],
   "metadata": {
    "collapsed": false,
    "ExecuteTime": {
     "start_time": "2023-06-08T11:20:19.983667Z",
     "end_time": "2023-06-08T11:20:22.267512Z"
    }
   },
   "outputs": []
  },
  {
   "cell_type": "code",
   "execution_count": 14,
   "source": [
    "dense_layer_weights[0]"
   ],
   "metadata": {
    "collapsed": false,
    "ExecuteTime": {
     "start_time": "2023-06-08T11:30:54.699112Z",
     "end_time": "2023-06-08T11:30:54.710906Z"
    }
   },
   "outputs": []
  },
  {
   "cell_type": "code",
   "execution_count": 15,
   "source": [
    "dense_layer_weights[1]"
   ],
   "metadata": {
    "collapsed": false,
    "ExecuteTime": {
     "start_time": "2023-06-08T11:33:03.573120Z",
     "end_time": "2023-06-08T11:33:03.585780Z"
    }
   },
   "outputs": []
  },
  {
   "cell_type": "code",
   "execution_count": null,
   "source": [],
   "metadata": {
    "collapsed": false
   },
   "outputs": []
  }
 ],
 "metadata": {
  "kernelspec": {
   "display_name": "Python 3",
   "language": "python",
   "name": "python3"
  },
  "language_info": {
   "codemirror_mode": {
    "name": "ipython",
    "version": 2
   },
   "file_extension": ".py",
   "mimetype": "text/x-python",
   "name": "python",
   "nbconvert_exporter": "python",
   "pygments_lexer": "ipython2",
   "version": "2.7.6"
  }
 },
 "nbformat": 4,
 "nbformat_minor": 0
}
