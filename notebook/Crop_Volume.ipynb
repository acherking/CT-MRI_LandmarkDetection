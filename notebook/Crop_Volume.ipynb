{
 "cells": [
  {
   "cell_type": "markdown",
   "metadata": {
    "collapsed": false,
    "jupyter": {
     "outputs_hidden": false
    }
   },
   "source": [
    "# Crop the 3D Volume based on some points"
   ]
  },
  {
   "cell_type": "code",
   "execution_count": null,
   "metadata": {
    "collapsed": false,
    "jupyter": {
     "outputs_hidden": false
    }
   },
   "outputs": [],
   "source": [
    "import os\n",
    "import sys\n",
    "module_path = os.path.abspath(os.path.join('..'))\n",
    "\n",
    "if module_path not in sys.path:\n",
    "    sys.path.append(module_path)"
   ]
  },
  {
   "cell_type": "code",
   "execution_count": null,
   "metadata": {
    "collapsed": false,
    "jupyter": {
     "outputs_hidden": false
    }
   },
   "outputs": [],
   "source": [
    "## To find out the suitable crop size.\n",
    "## based on ROI points\n",
    "import Functions.MyDataset as MyDataset\n",
    "import importlib\n",
    "\n",
    "importlib.reload(MyDataset)\n",
    "\n",
    "name_list, pts = MyDataset.load_data_dir(\"/Volumes/Shawn_HDD/PhD/Project/Date/augmentation_from_matlab/original_augmentation_data/\")"
   ]
  },
  {
   "cell_type": "code",
   "execution_count": null,
   "metadata": {
    "collapsed": false,
    "jupyter": {
     "outputs_hidden": false
    }
   },
   "outputs": [],
   "source": [
    "max_diff_x = 0\n",
    "max_diff_y = 0\n",
    "max_diff_z = 0\n",
    "\n",
    "for patient in range(pts.shape[0]):\n",
    "    diff_x = max([abs(pts[patient, 0, 0]-pts[patient, 1, 0]), abs(pts[patient, 0, 0]-pts[patient, 2, 0]),\n",
    "                  abs(pts[patient, 0, 0]-pts[patient, 3, 0])])\n",
    "    max_diff_x = max([max_diff_x, diff_x])\n",
    "    diff_y = max([abs(pts[patient, 0, 1]-pts[patient, 1, 1]), abs(pts[patient, 0, 1]-pts[patient, 2, 1]),\n",
    "                  abs(pts[patient, 0, 1]-pts[patient, 3, 1])])\n",
    "    max_diff_y = max([max_diff_y, diff_y])\n",
    "    diff_z = max([abs(pts[patient, 0, 2]-pts[patient, 1, 2]), abs(pts[patient, 0, 2]-pts[patient, 2, 2]),\n",
    "                  abs(pts[patient, 0, 2]-pts[patient, 3, 2])])\n",
    "    max_diff_z = max([max_diff_z, diff_z])"
   ]
  },
  {
   "cell_type": "code",
   "execution_count": null,
   "metadata": {
    "collapsed": false,
    "jupyter": {
     "outputs_hidden": false
    }
   },
   "outputs": [],
   "source": [
    "print(\"max_diff_x: \", max_diff_x)\n",
    "print(\"max_diff_y: \", max_diff_y)\n",
    "print(\"max_diff_z: \", max_diff_z)"
   ]
  },
  {
   "cell_type": "markdown",
   "metadata": {
    "collapsed": false,
    "jupyter": {
     "outputs_hidden": false
    }
   },
   "source": [
    "## Looks like the area is still too big (598, 188, 169)\n",
    "So, we think we can focus on the left and right landmark area separately"
   ]
  },
  {
   "cell_type": "code",
   "execution_count": null,
   "metadata": {
    "collapsed": false,
    "jupyter": {
     "outputs_hidden": false
    }
   },
   "outputs": [],
   "source": [
    "## Check the cropped results\n",
    "import numpy as np\n",
    "import importlib\n",
    "import Functions.MyDataset as MyDataset\n",
    "import Functions.Visualization as Visualization\n",
    "\n",
    "pat_aug_path = \"/Volumes/Shawn_HDD/PhD/Project/Date/augmentation_from_matlab/re_aug/original_augmentation_data/JM_aug_3.mat\"\n",
    "\n",
    "pixel_space = [0.15, 0.15, 0.15]\n",
    "\n",
    "importlib.reload(Visualization)\n",
    "\n",
    "pat_aug_volume, pat_aug_pts, _ = MyDataset.load_mat_data(pat_aug_path)\n",
    "\n",
    "print(pat_aug_pts)\n",
    "\n",
    "Visualization.show_pts(pat_aug_volume, pat_aug_pts, pixel_space)\n",
    "\n",
    "print(pat_aug_pts)"
   ]
  },
  {
   "cell_type": "code",
   "execution_count": 2,
   "metadata": {
    "ExecuteTime": {
     "end_time": "2023-08-01T04:09:28.112352Z",
     "start_time": "2023-08-01T04:09:27.385890Z"
    },
    "collapsed": false,
    "jupyter": {
     "outputs_hidden": false
    }
   },
   "outputs": [],
   "source": [
    "import Functions.MyCrop as MyCrop\n",
    "\n",
    "crop_s = ((50, 50), (50, 50), (50, 50))\n",
    "left_volume, left_points, left_length, right_volume, right_points, right_length = MyCrop.crop_volume(pat_aug_volume, pat_aug_pts, crop_s)\n",
    "flip_right_volume, flip_right_points = MyCrop.flip_volume(right_volume, right_points)"
   ]
  },
  {
   "cell_type": "code",
   "execution_count": 3,
   "metadata": {
    "collapsed": false,
    "jupyter": {
     "outputs_hidden": false
    }
   },
   "outputs": [],
   "source": [
    "print(\"Original Points: \", pat_aug_pts)\n",
    "print(\"Locate back: \", np.append(left_points + left_length, right_points + right_length, axis=0))"
   ]
  },
  {
   "cell_type": "code",
   "execution_count": null,
   "metadata": {
    "collapsed": false,
    "jupyter": {
     "outputs_hidden": false
    }
   },
   "outputs": [],
   "source": [
    "importlib.reload(Visualization)\n",
    "import time\n",
    "from IPython.display import display, clear_output\n",
    "\n",
    "pixel_space = [0.15, 0.15, 0.15]\n",
    "\n",
    "Visualization.show_two_landmarks(left_volume, left_points, flip_right_volume, flip_right_points, pixel_space)\n",
    "\n",
    "# for i in range(100):\n",
    "#     left_points[0][2] = i\n",
    "#     left_points[1][2] = i\n",
    "#     flip_right_points[0][2] = i\n",
    "#     flip_right_points[1][2] = i\n",
    "#     Visualization.show_two_landmarks(left_volume, left_points, flip_right_volume, flip_right_points, pixel_space)\n",
    "#     time.sleep(1)\n",
    "#     clear_output(wait=True)"
   ]
  },
  {
   "cell_type": "markdown",
   "metadata": {
    "collapsed": false,
    "jupyter": {
     "outputs_hidden": false
    }
   },
   "source": [
    "## Crop the augmented volumes"
   ]
  },
  {
   "cell_type": "code",
   "execution_count": 6,
   "metadata": {
    "ExecuteTime": {
     "end_time": "2023-10-11T00:27:23.748181Z",
     "start_time": "2023-10-11T00:27:23.727349Z"
    },
    "collapsed": false,
    "jupyter": {
     "outputs_hidden": false
    }
   },
   "outputs": [],
   "source": [
    "import numpy as np\n",
    "import Functions.MyDataset as MyDataset\n",
    "\n",
    "# store cropped volumes into one arrays, and points to another\n",
    "pixel_space = [0.15, 0.15, 0.15]\n",
    "# for Windows\n",
    "dir_path = \"F:/Data/augmentation_exp/original_divided_augmentation/\"\n",
    "save_volumes_dir = \"F:/Data/augmentation_exp/cropped/volumes/\"\n",
    "save_points_dir = \"F:/Data/augmentation_exp/cropped/points/\"\n",
    "save_length_dir = \"F:/Data/augmentation_exp/cropped/length/\"\n",
    "# for Mac\n",
    "# dir_path = \"/Volumes/Shawn_HDD/PhD/Project/Date/augmentation_from_matlab/re_aug/original_augmentation_data/\"\n",
    "# save_volumes_dir = \"/Volumes/Shawn_HDD/PhD/Project/Date/augmentation_from_matlab/re_aug/volumes/\"\n",
    "# save_points_dir = \"/Volumes/Shawn_HDD/PhD/Project/Date/augmentation_from_matlab/re_aug/points/\"\n",
    "# save_length_dir = \"/Volumes/Shawn_HDD/PhD/Project/Date/augmentation_from_matlab/re_aug/length/\"\n",
    "\n",
    "pat_names = MyDataset.get_pat_names()"
   ]
  },
  {
   "cell_type": "code",
   "execution_count": 8,
   "metadata": {
    "collapsed": false,
    "jupyter": {
     "outputs_hidden": false
    }
   },
   "outputs": [],
   "source": [
    "from IPython.display import display, clear_output\n",
    "import importlib\n",
    "\n",
    "import Functions.MyCrop as MyCrop\n",
    "import Functions.Visualization as Visualization\n",
    "\n",
    "importlib.reload(MyCrop)\n",
    "\n",
    "for pat_name in pat_names:\n",
    "    for aug_id in range(1, 51):\n",
    "        # such as: \"/Volumes/Shawn_HDD/PhD/Project/Date/augmentation_from_matlab/original_augmentation_data/AH_aug_1.mat\"\n",
    "        file_path = dir_path + pat_name + \"_aug_\" + str(aug_id) + \".mat\"\n",
    "        print(\"load file: \", file_path)\n",
    "        aug_volume, aug_pts, _ = MyDataset.load_mat_data(file_path)\n",
    "        clear_output(wait=True)\n",
    "        print(\"crop volume for: \", file_path)\n",
    "        left_volume, left_points, left_length, right_volume, right_points, right_length = MyCrop.crop_volume_anchor(aug_volume, aug_pts, anchor=None, crop_size=((100, 100), (100, 100), (80, 80)))\n",
    "        flip_right_volume, flip_right_points = MyCrop.flip_volume(right_volume, right_points)\n",
    "        Visualization.show_two_landmarks(left_volume, left_points, flip_right_volume, flip_right_points, pixel_space)\n",
    "        print(\"save the cropped volumes\")\n",
    "        np.save(save_volumes_dir + pat_name + \"_augVolume_\"+str(aug_id)+\"_cropped_left.npy\", left_volume)\n",
    "        np.save(save_volumes_dir + pat_name + \"_augVolume_\"+str(aug_id)+\"_cropped_right.npy\", flip_right_volume)\n",
    "        np.save(save_points_dir + pat_name + \"_augPoints_\"+str(aug_id)+\"_cropped_left.npy\", left_points)\n",
    "        np.save(save_length_dir + pat_name + \"_augLength_\"+str(aug_id)+\"_cropped_left.npy\", left_length)\n",
    "        np.save(save_points_dir + pat_name + \"_augPoints_\"+str(aug_id)+\"_cropped_right.npy\", flip_right_points)\n",
    "        np.save(save_length_dir + pat_name + \"_augLength_\"+str(aug_id)+\"_cropped_right.npy\", right_length)\n",
    "        print(\"Finish cropping: \" + file_path)"
   ]
  },
  {
   "cell_type": "code",
   "execution_count": null,
   "metadata": {
    "collapsed": false,
    "jupyter": {
     "outputs_hidden": false
    }
   },
   "outputs": [],
   "source": [
    "# Combine cropped volumes\n",
    "cropped_volumes = []\n",
    "cropped_points = []\n",
    "cropped_length = []\n",
    "\n",
    "for pat_name in pat_names:\n",
    "    for aug_id in range(1, 51):\n",
    "        # such as: \"F:/Data/cropped/x5050y5050z5050/volumes/AH_augVolume_1_cropped_left_100x100x100.npy\"\n",
    "        #          \"F:/Data/cropped/x5050y5050z5050/volumes/AH_augVolume_1_cropped_right_100x100x100.npy\"\n",
    "        #          \"F:/Data/cropped/x5050y5050z5050/points/AH_augPoints_1_cropped_left_100x100x100.npy\"\n",
    "        #          \"F:/Data/cropped/x5050y5050z5050/points/AH_augPoints_1_cropped_right_100x100x100.npy\"\n",
    "        print(\"**************\" + pat_name + \"__\" + str(aug_id) + \"***************\")\n",
    "        cropped_volume_left_path = save_volumes_dir + pat_name + \"_augVolume_\" + str(aug_id) + \"_cropped_left.npy\"\n",
    "        cropped_volume_right_path = save_volumes_dir + pat_name + \"_augVolume_\" + str(aug_id) + \"_cropped_right.npy\"\n",
    "        cropped_points_left_path = save_points_dir + pat_name + \"_augPoints_\" + str(aug_id) + \"_cropped_left.npy\"\n",
    "        cropped_length_left_path = save_length_dir + pat_name + \"_augLength_\" + str(aug_id) + \"_cropped_left.npy\"\n",
    "        cropped_points_right_path = save_points_dir + pat_name + \"_augPoints_\" + str(aug_id) + \"_cropped_right.npy\"\n",
    "        cropped_length_right_path = save_length_dir + pat_name + \"_augLength_\" + str(aug_id) + \"_cropped_right.npy\"\n",
    "        cropped_volume_left = np.load(cropped_volume_left_path)\n",
    "        cropped_volume_right = np.load(cropped_volume_right_path)\n",
    "        cropped_points_left = np.load(cropped_points_left_path)\n",
    "        cropped_length_left = np.load(cropped_length_left_path)\n",
    "        cropped_points_right = np.load(cropped_points_right_path)\n",
    "        cropped_length_right = np.load(cropped_length_right_path)\n",
    "        cropped_volumes.append(cropped_volume_left)\n",
    "        cropped_volumes.append(cropped_volume_right)\n",
    "        cropped_points.append(cropped_points_left)\n",
    "        cropped_points.append(cropped_points_right)\n",
    "        cropped_length.append(cropped_length_left)\n",
    "        cropped_length.append(cropped_length_right)\n",
    "\n",
    "print(len(cropped_volumes))\n",
    "print(len(cropped_points))\n",
    "print(len(cropped_length))"
   ]
  },
  {
   "cell_type": "code",
   "execution_count": 100,
   "metadata": {
    "ExecuteTime": {
     "end_time": "2023-05-10T11:21:25.797063Z",
     "start_time": "2023-05-10T11:20:31.173371Z"
    },
    "collapsed": false,
    "jupyter": {
     "outputs_hidden": false
    }
   },
   "outputs": [],
   "source": [
    "cropped_volumes = np.asarray(cropped_volumes).reshape((2000, 200, 200, 160, 1))\n",
    "cropped_points = np.asarray(cropped_points).reshape((2000, 2, 3))\n",
    "cropped_length = np.asarray(cropped_length).reshape((2000, 2, 3))\n",
    "\n",
    "save_comb_dir = \"F:/Data/augmentation_exp/cropped\"\n",
    "# save_comb_dir = \"/Volumes/Shawn_HDD/PhD/Project/Date/augmentation_from_matlab/Cropped/based_on_pred\"\n",
    "comb_tag = \"x100100y100100z8080_pred\"\n",
    "np.save(f\"{save_comb_dir}/cropped_volumes_{comb_tag}.npy\", cropped_volumes)\n",
    "np.save(f\"{save_comb_dir}/cropped_points_{comb_tag}.npy\", cropped_points)\n",
    "np.save(f\"{save_comb_dir}/cropped_length_{comb_tag}.npy\", cropped_length)"
   ]
  },
  {
   "cell_type": "code",
   "execution_count": 101,
   "metadata": {
    "ExecuteTime": {
     "end_time": "2023-05-11T16:19:51.043178Z",
     "start_time": "2023-05-11T16:19:51.035883Z"
    },
    "collapsed": false,
    "jupyter": {
     "outputs_hidden": false
    }
   },
   "outputs": [],
   "source": [
    "print(\"cropped_volumes shape: \", cropped_volumes.shape)\n",
    "print(\"cropped_points shape: \", cropped_points.shape)\n",
    "print(\"cropped_length shape: \", cropped_length.shape)"
   ]
  },
  {
   "cell_type": "markdown",
   "metadata": {
    "collapsed": false,
    "jupyter": {
     "outputs_hidden": false
    }
   },
   "source": [
    "## Check the sub cropped dataset"
   ]
  },
  {
   "cell_type": "code",
   "execution_count": 5,
   "metadata": {},
   "outputs": [
    {
     "data": {
      "text/plain": [
       "['/data/gpfs/projects/punim1836/CT-MRI_LandmarkDetection/notebook',\n",
       " '/apps/easybuild-2022/easybuild/software/Core/Anaconda3/2024.02-1/lib/python311.zip',\n",
       " '/apps/easybuild-2022/easybuild/software/Core/Anaconda3/2024.02-1/lib/python3.11',\n",
       " '/apps/easybuild-2022/easybuild/software/Core/Anaconda3/2024.02-1/lib/python3.11/lib-dynload',\n",
       " '',\n",
       " '/home/wezw/.local/lib/python3.11/site-packages',\n",
       " '/apps/easybuild-2022/easybuild/software/Core/Anaconda3/2024.02-1/lib/python3.11/site-packages',\n",
       " '/data/gpfs/projects/punim1836/CT-MRI_LandmarkDetection/src/models']"
      ]
     },
     "execution_count": 5,
     "metadata": {},
     "output_type": "execute_result"
    }
   ],
   "source": [
    "import sys\n",
    "\n",
    "sys.path.append(\"/data/gpfs/projects/punim1836/CT-MRI_LandmarkDetection/src/models\")\n",
    "sys.path"
   ]
  },
  {
   "cell_type": "code",
   "execution_count": 7,
   "metadata": {},
   "outputs": [
    {
     "name": "stdout",
     "output_type": "stream",
     "text": [
      "\n",
      "     active environment : base\n",
      "    active env location : /apps/easybuild-2022/easybuild/software/Core/Anaconda3/2024.02-1\n",
      "            shell level : 1\n",
      "       user config file : /home/wezw/.condarc\n",
      " populated config files : \n",
      "          conda version : 24.1.2\n",
      "    conda-build version : 24.1.2\n",
      "         python version : 3.11.7.final.0\n",
      "                 solver : libmamba (default)\n",
      "       virtual packages : __archspec=1=cascadelake\n",
      "                          __conda=24.1.2=0\n",
      "                          __glibc=2.34=0\n",
      "                          __linux=5.14.0=0\n",
      "                          __unix=0=0\n",
      "       base environment : /apps/easybuild-2022/easybuild/software/Core/Anaconda3/2024.02-1  (read only)\n",
      "      conda av data dir : /apps/easybuild-2022/easybuild/software/Core/Anaconda3/2024.02-1/etc/conda\n",
      "  conda av metadata url : None\n",
      "           channel URLs : https://repo.anaconda.com/pkgs/main/linux-64\n",
      "                          https://repo.anaconda.com/pkgs/main/noarch\n",
      "                          https://repo.anaconda.com/pkgs/r/linux-64\n",
      "                          https://repo.anaconda.com/pkgs/r/noarch\n",
      "          package cache : /apps/easybuild-2022/easybuild/software/Core/Anaconda3/2024.02-1/pkgs\n",
      "                          /home/wezw/.conda/pkgs\n",
      "       envs directories : /home/wezw/.conda/envs\n",
      "                          /apps/easybuild-2022/easybuild/software/Core/Anaconda3/2024.02-1/envs\n",
      "               platform : linux-64\n",
      "             user-agent : conda/24.1.2 requests/2.31.0 CPython/3.11.7 Linux/5.14.0-362.8.1.el9_3.x86_64 rhel/9.3 glibc/2.34 solver/libmamba conda-libmamba-solver/24.1.0 libmambapy/1.5.6 aau/0.4.3 c/1bnN00VWqWfj8bG2-OrmHA s/Tiwmvfjuqme4FIMwTkbnjg\n",
      "                UID:GID : 13156:11921\n",
      "             netrc file : None\n",
      "           offline mode : False\n",
      "\n",
      "\n"
     ]
    }
   ],
   "source": [
    "!conda info"
   ]
  },
  {
   "cell_type": "code",
   "execution_count": 10,
   "metadata": {
    "ExecuteTime": {
     "end_time": "2023-08-01T04:19:55.649761Z",
     "start_time": "2023-08-01T04:19:24.386372Z"
    },
    "collapsed": false,
    "jupyter": {
     "outputs_hidden": false
    }
   },
   "outputs": [],
   "source": [
    "import numpy as np\n",
    "\n",
    "import common.MyDataset as MyDataset\n",
    "\n",
    "import importlib\n",
    "\n",
    "base_dir = \"/data/gpfs/projects/punim1836/Data/cropped/100x100x100/noises_s1_test_dis\"\n",
    "X_path = f\"{base_dir}/cropped_volumes_100x100x100.npy\"\n",
    "Y_path = f\"{base_dir}/cropped_points_100x100x100.npy\"\n",
    "length_path = f\"{base_dir}/cropped_length_100x100x100.npy\"\n",
    "\n",
    "X_test = np.load(X_path)\n",
    "Y_test = np.load(Y_path)\n",
    "length_test = np.load(length_path)"
   ]
  },
  {
   "cell_type": "code",
   "execution_count": 125,
   "metadata": {
    "ExecuteTime": {
     "end_time": "2023-06-30T05:47:24.800904Z",
     "start_time": "2023-06-30T05:46:37.980565Z"
    },
    "collapsed": false,
    "jupyter": {
     "outputs_hidden": false
    }
   },
   "outputs": [],
   "source": [
    "import Functions.MyDataset as MyDataset\n",
    "\n",
    "crop_size = (100, 100, 100)\n",
    "\n",
    "check_id = 16\n",
    "\n",
    "pat_name = \"DM\"\n",
    "pat_aug_id = int(check_id/2 + 1)\n",
    "\n",
    "print(f\"Check name:{pat_name}, aug_id:{pat_aug_id}\")\n",
    "\n",
    "aug_dir = \"/Volumes/Shawn_HDD/PhD/Project/Date/augmentation_from_matlab/original_augmentation_data/\"\n",
    "pt_aug_path = aug_dir + pat_name + \"_aug_\" + str(pat_aug_id) + \".mat\"\n",
    "\n",
    "pixel_space = [0.15, 0.15, 0.15]\n",
    "\n",
    "pat_aug_volume, pat_aug_pts, _ = MyDataset.load_mat_data(pt_aug_path)"
   ]
  },
  {
   "cell_type": "code",
   "execution_count": 23,
   "metadata": {
    "ExecuteTime": {
     "end_time": "2023-08-01T04:20:47.351281Z",
     "start_time": "2023-08-01T04:20:47.317021Z"
    },
    "collapsed": false,
    "jupyter": {
     "outputs_hidden": false
    }
   },
   "outputs": [],
   "source": [
    "import common.MyCrop as MyCrop\n",
    "\n",
    "importlib.reload(MyCrop)\n",
    "\n",
    "crop_size = (100, 100, 100)\n",
    "check_id = 1200\n",
    "\n",
    "left_volume_check = X_test[check_id,:,:,:,0]\n",
    "left_landmarks_check = Y_test[check_id, :, :]\n",
    "left_length_check = length_test[check_id]\n",
    "right_volume_check = X_test[check_id+1,:,:,:,0]\n",
    "right_landmarks_check = Y_test[check_id+1]\n",
    "right_length_check = length_test[check_id+1]\n",
    "\n",
    "right_landmarks_check_flip = MyCrop.flip_volume_shape(crop_size, right_landmarks_check)"
   ]
  },
  {
   "cell_type": "code",
   "execution_count": 122,
   "metadata": {
    "ExecuteTime": {
     "end_time": "2023-06-30T05:44:44.646078Z",
     "start_time": "2023-06-30T05:44:44.609629Z"
    },
    "collapsed": false,
    "jupyter": {
     "outputs_hidden": false
    }
   },
   "outputs": [],
   "source": [
    "print(right_landmarks_check)\n",
    "print(right_landmarks_check_flip)"
   ]
  },
  {
   "cell_type": "code",
   "execution_count": null,
   "metadata": {
    "ExecuteTime": {
     "end_time": "2023-08-01T04:20:57.195881Z",
     "start_time": "2023-08-01T04:20:55.103580Z"
    },
    "collapsed": false,
    "jupyter": {
     "outputs_hidden": false
    }
   },
   "outputs": [],
   "source": [
    "import common.Visualization as Visualization\n",
    "\n",
    "importlib.reload(Visualization)\n",
    "\n",
    "# print(\"Original landmarks: \", pat_aug_pts)\n",
    "# print(\"Check left landmarks: \", left_landmarks_check + left_length_check)\n",
    "# print(\"Check right landmarks: \", right_landmarks_check_flip + right_length_check)\n",
    "\n",
    "pixel_space = [0.15, 0.15, 0.15]\n",
    "\n",
    "Visualization.show_two_landmarks(left_volume_check, left_landmarks_check, right_volume_check, right_landmarks_check, pixel_space)"
   ]
  },
  {
   "cell_type": "code",
   "execution_count": 126,
   "metadata": {
    "ExecuteTime": {
     "end_time": "2023-06-30T05:47:34.570735Z",
     "start_time": "2023-06-30T05:47:30.436911Z"
    },
    "collapsed": false,
    "jupyter": {
     "outputs_hidden": false
    }
   },
   "outputs": [],
   "source": [
    "pixel_space= [0.15, 0.15, 0.15]\n",
    "\n",
    "Visualization.show_pts(pat_aug_volume, pat_aug_pts, pixel_space)"
   ]
  },
  {
   "cell_type": "markdown",
   "metadata": {
    "collapsed": false,
    "jupyter": {
     "outputs_hidden": false
    }
   },
   "source": [
    "## Calculate the cropped_length"
   ]
  },
  {
   "cell_type": "code",
   "execution_count": 45,
   "metadata": {
    "ExecuteTime": {
     "end_time": "2023-05-02T12:31:12.177264Z",
     "start_time": "2023-05-02T12:31:12.160944Z"
    },
    "collapsed": false,
    "jupyter": {
     "outputs_hidden": false
    }
   },
   "outputs": [],
   "source": [
    "import h5py\n",
    "import numpy as np\n",
    "\n",
    "landmarks_path = \"/Volumes/Shawn_HDD/PhD/Project/Date/augmentation_from_matlab/original_augmentation_data/AH_aug_2.mat\"\n",
    "volume_size_path = \"/Volumes/Shawn_HDD/PhD/Project/Date/augmentation_from_matlab/original_augmentation_volume_size/AH_augSize_2.mat\"\n",
    "\n",
    "landmarks_file = h5py.File(landmarks_path, 'r')\n",
    "volume_size_file= h5py.File(volume_size_path, 'r')\n",
    "\n",
    "landmarks_cropped_check = np.load(\"/Volumes/Shawn_HDD/PhD/Project/Date/augmentation_from_matlab/Cropped/cropped_points_x5050y5050z5050.npy\")"
   ]
  },
  {
   "cell_type": "code",
   "execution_count": 46,
   "metadata": {
    "ExecuteTime": {
     "end_time": "2023-05-02T12:31:15.329316Z",
     "start_time": "2023-05-02T12:31:15.319685Z"
    },
    "collapsed": false,
    "jupyter": {
     "outputs_hidden": false
    }
   },
   "outputs": [],
   "source": [
    "landmarks = np.asarray(landmarks_file.get('augPts')).reshape(3, 4).T\n",
    "volume_size = np.asarray(volume_size_file.get('volumeSize'))"
   ]
  },
  {
   "cell_type": "code",
   "execution_count": 53,
   "metadata": {
    "ExecuteTime": {
     "end_time": "2023-05-02T12:39:23.039214Z",
     "start_time": "2023-05-02T12:39:23.026918Z"
    },
    "collapsed": false,
    "jupyter": {
     "outputs_hidden": false
    }
   },
   "outputs": [],
   "source": [
    "import Functions.MyCrop as MyCrop\n",
    "\n",
    "importlib.reload(MyCrop)\n",
    "\n",
    "left_landmarks, left_cropped_length, right_landmarks, right_cropped_length = MyCrop.crop_volume_shape(volume_size, landmarks)\n",
    "\n",
    "right_landmarks_flipped = MyCrop.flip_volume_shape((100, 100, 100), right_landmarks)"
   ]
  },
  {
   "cell_type": "code",
   "execution_count": 54,
   "metadata": {
    "ExecuteTime": {
     "end_time": "2023-05-02T12:39:24.431750Z",
     "start_time": "2023-05-02T12:39:24.415127Z"
    },
    "collapsed": false,
    "jupyter": {
     "outputs_hidden": false
    }
   },
   "outputs": [],
   "source": [
    "\n",
    "left_landmarks_check = landmarks_cropped_check[2]\n",
    "right_landmarks_check = landmarks_cropped_check[3]"
   ]
  },
  {
   "cell_type": "code",
   "execution_count": 56,
   "metadata": {
    "ExecuteTime": {
     "end_time": "2023-05-02T12:39:39.973321Z",
     "start_time": "2023-05-02T12:39:39.961043Z"
    },
    "collapsed": false,
    "jupyter": {
     "outputs_hidden": false
    }
   },
   "outputs": [],
   "source": [
    "print(\"left_landmarks cropped:\", left_landmarks)\n",
    "print(\"left_landmarks check:\", left_landmarks_check)\n",
    "print(\"right_landmarks cropped:\", right_landmarks_flipped)\n",
    "print(\"right_landmarks check:\", right_landmarks_check)"
   ]
  },
  {
   "cell_type": "code",
   "execution_count": 59,
   "metadata": {
    "ExecuteTime": {
     "end_time": "2023-05-02T12:46:32.895494Z",
     "start_time": "2023-05-02T12:46:32.883033Z"
    },
    "collapsed": false,
    "jupyter": {
     "outputs_hidden": false
    }
   },
   "outputs": [],
   "source": [
    "print(landmarks)"
   ]
  },
  {
   "cell_type": "code",
   "execution_count": 67,
   "metadata": {
    "ExecuteTime": {
     "end_time": "2023-05-02T12:49:57.578168Z",
     "start_time": "2023-05-02T12:49:57.552789Z"
    },
    "collapsed": false,
    "jupyter": {
     "outputs_hidden": false
    }
   },
   "outputs": [],
   "source": [
    "print(left_landmarks_check+left_cropped_length-1)\n",
    "\n",
    "right_landmarks_check_flipped = MyCrop.flip_volume_shape((100, 100, 100), right_landmarks_check)\n",
    "print(right_landmarks_check_flipped+right_cropped_length-1)"
   ]
  },
  {
   "cell_type": "code",
   "execution_count": 16,
   "metadata": {
    "ExecuteTime": {
     "end_time": "2023-10-31T01:58:59.127257Z",
     "start_time": "2023-10-31T01:58:59.050318Z"
    },
    "collapsed": false,
    "jupyter": {
     "outputs_hidden": false
    }
   },
   "outputs": [],
   "source": [
    "size_dir = \"/Volumes/Shawn_HDD/PhD/Project/Date/augmentation_from_matlab/original_augmentation_volume_size/\"\n",
    "\n",
    "JM_size_path = f\"{size_dir}JM_augSize_1.mat\"\n",
    "\n",
    "JM_size_file = h5py.File(JM_size_path, 'r')\n",
    "JM_volume_size = np.asarray(JM_size_file.get('volumeSize'))\n"
   ]
  },
  {
   "cell_type": "code",
   "execution_count": 1,
   "metadata": {
    "ExecuteTime": {
     "end_time": "2023-10-31T00:30:55.243082Z",
     "start_time": "2023-10-31T00:30:53.483752Z"
    },
    "collapsed": false,
    "jupyter": {
     "outputs_hidden": false
    }
   },
   "outputs": [],
   "source": [
    "import numpy as np \n",
    "\n",
    "medium_labels = np.load(f\"../Resources/ROI/ROI_CT_Medium.npy\")"
   ]
  },
  {
   "cell_type": "code",
   "execution_count": 19,
   "metadata": {
    "ExecuteTime": {
     "end_time": "2023-10-31T04:24:08.243148Z",
     "start_time": "2023-10-31T04:24:07.966814Z"
    },
    "collapsed": false,
    "jupyter": {
     "outputs_hidden": false
    }
   },
   "outputs": [],
   "source": [
    "print(medium_labels[13])"
   ]
  },
  {
   "cell_type": "code",
   "execution_count": 20,
   "metadata": {
    "ExecuteTime": {
     "end_time": "2023-10-31T04:24:45.406356Z",
     "start_time": "2023-10-31T04:24:45.145270Z"
    },
    "collapsed": false,
    "jupyter": {
     "outputs_hidden": false
    }
   },
   "outputs": [],
   "source": [
    "import Functions.MyDataset as MyDataset\n",
    "import Functions.MyCrop as MyCrop\n",
    "import h5py\n",
    "\n",
    "aug_dir = \"/Volumes/Shawn_HDD/PhD/Project/Date/augmentation_from_matlab/original_augmentation_data/\"\n",
    "size_dir = \"/Volumes/Shawn_HDD/PhD/Project/Date/augmentation_from_matlab/original_augmentation_volume_size/\"\n",
    "\n",
    "pat_names = MyDataset.get_pat_names()\n",
    "\n",
    "cropped_length = None\n",
    "cropped_landmarks = None\n",
    "pat_id = 13\n",
    "\n",
    "for pat_name in ['JM']:\n",
    "    # for aug_id in range(1, 51):\n",
    "    for aug_id in [1]:\n",
    "        # aug_file_path = f\"{aug_dir}{pat_name}_aug_{aug_id}.mat\"\n",
    "        size_file_path = f\"{size_dir}{pat_name}_augSize_{aug_id}.mat\"\n",
    "        # aug_file = h5py.File(aug_file_path, 'r')\n",
    "        size_file = h5py.File(size_file_path, 'r')\n",
    "        # landmarks = np.asarray(aug_file.get('augPts')).reshape(3, 4).T\n",
    "        landmarks = medium_labels[pat_id]\n",
    "        volume_size = np.asarray(size_file.get('volumeSize'))\n",
    "        left_landmarks, left_cropped_length, right_landmarks, right_cropped_length = \\\n",
    "            MyCrop.crop_volume_shape(volume_size, landmarks, crop_size=((100, 100), (100, 100), (80, 80)))\n",
    "        c_length = np.concatenate((left_cropped_length, right_cropped_length), axis=0)\n",
    "        # combine the cropped length\n",
    "        if cropped_length is None:\n",
    "            cropped_length = c_length\n",
    "        else:\n",
    "            cropped_length = np.concatenate((cropped_length, c_length), axis=0)\n",
    "        # get the cropped landmarks\n",
    "        right_landmarks_flipped = MyCrop.flip_volume_shape((200, 200, 160), right_landmarks)\n",
    "        c_landmarks = np.concatenate((left_landmarks, right_landmarks_flipped), axis=0)\n",
    "        if cropped_landmarks is None:\n",
    "            cropped_landmarks = c_landmarks\n",
    "        else:\n",
    "            cropped_landmarks = np.concatenate((cropped_landmarks, c_landmarks), axis=0)\n",
    "    # for convenient\n",
    "    pat_id = pat_id + 1\n"
   ]
  },
  {
   "cell_type": "code",
   "execution_count": 15,
   "metadata": {
    "ExecuteTime": {
     "end_time": "2023-10-31T01:53:09.745010Z",
     "start_time": "2023-10-31T01:53:09.501459Z"
    },
    "collapsed": false,
    "jupyter": {
     "outputs_hidden": false
    }
   },
   "outputs": [],
   "source": [
    "cropped_landmarks = cropped_landmarks.reshape((20, 4, 3))\n",
    "print(cropped_landmarks[13])"
   ]
  },
  {
   "cell_type": "code",
   "execution_count": 14,
   "metadata": {
    "ExecuteTime": {
     "end_time": "2023-10-31T00:53:09.067611Z",
     "start_time": "2023-10-31T00:53:09.037058Z"
    },
    "collapsed": false,
    "jupyter": {
     "outputs_hidden": false
    }
   },
   "outputs": [],
   "source": [
    "np.save(f\"../Resources/ROI/ROI_CT_Medium_200x200x160.npy\", cropped_landmarks)"
   ]
  },
  {
   "cell_type": "code",
   "execution_count": 72,
   "metadata": {
    "ExecuteTime": {
     "end_time": "2023-05-02T13:43:06.879661Z",
     "start_time": "2023-05-02T13:43:06.851278Z"
    },
    "collapsed": false,
    "jupyter": {
     "outputs_hidden": false
    }
   },
   "outputs": [],
   "source": [
    "cropped_length = cropped_length.reshape((2000, 2, 3))"
   ]
  },
  {
   "cell_type": "code",
   "execution_count": 76,
   "metadata": {
    "ExecuteTime": {
     "end_time": "2023-05-02T13:43:53.636604Z",
     "start_time": "2023-05-02T13:43:53.627918Z"
    },
    "collapsed": false,
    "jupyter": {
     "outputs_hidden": false
    }
   },
   "outputs": [],
   "source": [
    "print(left_landmarks_check+cropped_length[2]-1)\n",
    "\n",
    "right_landmarks_check_flipped = MyCrop.flip_volume_shape((100, 100, 100), right_landmarks_check)\n",
    "print(right_landmarks_check_flipped+cropped_length[3]-1)"
   ]
  },
  {
   "cell_type": "code",
   "execution_count": 79,
   "metadata": {
    "ExecuteTime": {
     "end_time": "2023-05-02T13:55:11.243647Z",
     "start_time": "2023-05-02T13:55:11.208314Z"
    },
    "collapsed": false,
    "jupyter": {
     "outputs_hidden": false
    }
   },
   "outputs": [],
   "source": [
    "np.save(\"/Volumes/Shawn_HDD/PhD/Project/Date/augmentation_from_matlab/Cropped/cropped_length_x5050y5050z5050.npy\", cropped_length)"
   ]
  },
  {
   "cell_type": "code",
   "execution_count": 5,
   "metadata": {
    "ExecuteTime": {
     "end_time": "2023-05-15T12:42:24.791299Z",
     "start_time": "2023-05-15T12:42:24.778892Z"
    },
    "collapsed": false,
    "jupyter": {
     "outputs_hidden": false
    }
   },
   "outputs": [],
   "source": [
    "import numpy as np\n",
    "\n",
    "length_array = np.load(\"/Volumes/Shawn_HDD/PhD/Project/Date/augmentation_from_matlab/Cropped/based_on_truth/cropped_length_x5050y5050z5050.npy\")"
   ]
  },
  {
   "cell_type": "code",
   "execution_count": 6,
   "metadata": {
    "ExecuteTime": {
     "end_time": "2023-05-15T12:42:25.417283Z",
     "start_time": "2023-05-15T12:42:25.412327Z"
    },
    "collapsed": false,
    "jupyter": {
     "outputs_hidden": false
    }
   },
   "outputs": [],
   "source": [
    "length_array[0:5]"
   ]
  },
  {
   "cell_type": "code",
   "execution_count": 3,
   "metadata": {
    "ExecuteTime": {
     "end_time": "2023-05-15T12:41:52.165516Z",
     "start_time": "2023-05-15T12:41:52.134907Z"
    },
    "collapsed": false,
    "jupyter": {
     "outputs_hidden": false
    }
   },
   "outputs": [],
   "source": [
    "length_array = length_array - 1\n",
    "length_array[0:5]"
   ]
  },
  {
   "cell_type": "code",
   "execution_count": 4,
   "metadata": {
    "ExecuteTime": {
     "end_time": "2023-05-15T12:42:17.727903Z",
     "start_time": "2023-05-15T12:42:17.698260Z"
    },
    "collapsed": false,
    "jupyter": {
     "outputs_hidden": false
    }
   },
   "outputs": [],
   "source": [
    "np.save(\"/Volumes/Shawn_HDD/PhD/Project/Date/augmentation_from_matlab/Cropped/based_on_truth/cropped_length_x5050y5050z5050.npy\", length_array)"
   ]
  }
 ],
 "metadata": {
  "kernelspec": {
   "display_name": "Python 3 (ipykernel)",
   "language": "python",
   "name": "python3"
  },
  "language_info": {
   "codemirror_mode": {
    "name": "ipython",
    "version": 3
   },
   "file_extension": ".py",
   "mimetype": "text/x-python",
   "name": "python",
   "nbconvert_exporter": "python",
   "pygments_lexer": "ipython3",
   "version": "3.12.3"
  }
 },
 "nbformat": 4,
 "nbformat_minor": 4
}
