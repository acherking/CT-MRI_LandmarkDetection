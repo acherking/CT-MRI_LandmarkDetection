{
 "cells": [
  {
   "cell_type": "markdown",
   "metadata": {
    "collapsed": false,
    "jupyter": {
     "outputs_hidden": false
    }
   },
   "source": [
    "# Cut the Volume in the middle and flip the right side"
   ]
  },
  {
   "cell_type": "markdown",
   "metadata": {
    "collapsed": false,
    "jupyter": {
     "outputs_hidden": false
    }
   },
   "source": [
    "## Cut and Flip"
   ]
  },
  {
   "cell_type": "code",
   "execution_count": 16,
   "metadata": {
    "ExecuteTime": {
     "end_time": "2024-05-09T02:10:09.801384Z",
     "start_time": "2024-05-09T02:10:06.248243Z"
    },
    "collapsed": false,
    "jupyter": {
     "outputs_hidden": false
    }
   },
   "source": [
    "## Check the cropped results\n",
    "import numpy as np\n",
    "import importlib\n",
    "import Functions.MyDataset as MyDataset\n",
    "import Functions.Visualization as Visualization\n",
    "\n",
    "pt_volume_path = \"/Volumes/Shawn_HDD/PhD/Project/Date/augmentation_from_matlab/Rescaled/176_176_48_PD/DM_17617648_VolPts_1.mat\"\n",
    "\n",
    "pixel_space = [0.15, 0.15, 0.15]\n",
    "\n",
    "importlib.reload(Visualization)\n",
    "\n",
    "pat_aug_volume, pat_aug_pts, _ = MyDataset.load_mat_data(pt_volume_path)\n",
    "\n",
    "Visualization.show_pts(pat_aug_volume, pat_aug_pts, pixel_space)"
   ],
   "outputs": []
  },
  {
   "cell_type": "code",
   "execution_count": 10,
   "metadata": {
    "ExecuteTime": {
     "end_time": "2024-05-09T01:59:17.302371Z",
     "start_time": "2024-05-09T01:59:15.750614Z"
    }
   },
   "source": [
    "pat_aug_pts[0, 2] = 0\n",
    "\n",
    "Visualization.show_pts(pat_aug_volume, pat_aug_pts, pixel_space)"
   ],
   "outputs": []
  },
  {
   "cell_type": "code",
   "execution_count": 15,
   "metadata": {
    "ExecuteTime": {
     "end_time": "2024-05-09T02:08:19.451092Z",
     "start_time": "2024-05-09T02:08:19.446359Z"
    }
   },
   "source": [
    "import numpy as np\n",
    "\n",
    "tmp = np.asarray(range(3*3*3)).reshape((3,3,3))\n",
    "\n",
    "print(tmp[:, :, 0])\n",
    "print(tmp[1, 0, 0])"
   ],
   "outputs": []
  },
  {
   "cell_type": "code",
   "execution_count": null,
   "metadata": {
    "collapsed": false,
    "jupyter": {
     "outputs_hidden": false
    }
   },
   "source": [
    "-print(pat_aug_pts)\n",
    "trans_pat_aug_pts = np.copy(pat_aug_pts)\n",
    "trans_pat_aug_pts = trans_pat_aug_pts + 1\n",
    "Visualization.show_pts(pat_aug_volume, trans_pat_aug_pts, pixel_space)"
   ],
   "outputs": []
  },
  {
   "cell_type": "code",
   "execution_count": null,
   "metadata": {
    "collapsed": false,
    "jupyter": {
     "outputs_hidden": false
    }
   },
   "source": [
    "import Functions.MyCrop as MyCrop\n",
    "\n",
    "importlib.reload(MyCrop)\n",
    "\n",
    "left_volume, left_points, right_volume, right_points, left_points_cut = MyCrop.cut_flip_volume(pat_aug_volume, pat_aug_pts)\n",
    "flip_right_volume, flip_right_points = MyCrop.flip_volume(right_volume, right_points)"
   ],
   "outputs": []
  },
  {
   "cell_type": "code",
   "execution_count": null,
   "metadata": {
    "collapsed": false,
    "jupyter": {
     "outputs_hidden": false
    }
   },
   "source": [
    "print(\"volume shape: \", pat_aug_volume.shape)\n",
    "print(\"left volume shape: \", left_volume.shape)\n",
    "print(\"right volume shape: \", right_volume.shape)"
   ],
   "outputs": []
  },
  {
   "cell_type": "code",
   "execution_count": null,
   "metadata": {
    "collapsed": false,
    "jupyter": {
     "outputs_hidden": false
    }
   },
   "source": [
    "left_points_map_back = np.copy(left_points)\n",
    "left_points_map_back[:, 0] = left_points_map_back[:, 0] + left_points_cut\n",
    "\n",
    "print(\"Original Points: \", pat_aug_pts)\n",
    "print(\"Locate back: \", np.append(left_points_map_back, right_points, axis=0))"
   ],
   "outputs": []
  },
  {
   "cell_type": "code",
   "execution_count": null,
   "metadata": {
    "collapsed": false,
    "jupyter": {
     "outputs_hidden": false
    }
   },
   "source": [
    "importlib.reload(Visualization)\n",
    "\n",
    "pixel_space = [0.15, 0.15, 0.15]\n",
    "\n",
    "Visualization.show_two_landmarks(left_volume, left_points, flip_right_volume, flip_right_points, pixel_space)"
   ],
   "outputs": []
  },
  {
   "cell_type": "code",
   "execution_count": null,
   "metadata": {
    "collapsed": false,
    "jupyter": {
     "outputs_hidden": false
    }
   },
   "source": [
    "import numpy as np\n",
    "import Functions.MyDataset as MyDataset\n",
    "\n",
    "pixel_space = [0.15, 0.15, 0.15]\n",
    "size_str = \"17617648\"\n",
    "dir_path = \"F:/Data/rescaled_data/176_176_48_PD/\"\n",
    "save_volumes_dir = \"F:/Data/divided/\" + size_str + \"/volumes/\"\n",
    "save_points_dir = \"F:/Data/divided/\" + size_str + \"/points/\"\n",
    "save_length_dir = \"F:/Data/divided/\" + size_str + \"/length_res/\"\n",
    "pat_names = MyDataset.get_pat_names()"
   ],
   "outputs": []
  },
  {
   "cell_type": "code",
   "execution_count": null,
   "metadata": {
    "collapsed": false,
    "jupyter": {
     "outputs_hidden": false
    }
   },
   "source": [
    "from IPython.display import display, clear_output\n",
    "import importlib\n",
    "import Functions.Visualization as Visualization\n",
    "\n",
    "import Functions.MyCrop as MyCrop\n",
    "\n",
    "importlib.reload(MyCrop)\n",
    "\n",
    "for pat_name in pat_names:\n",
    "    clear_output(wait=True)\n",
    "    for aug_id in range(1, 51):\n",
    "        # such as: \"\"\n",
    "        file_path = dir_path + pat_name + \"_\" + size_str + \"_VolPts_\" + str(aug_id) + \".mat\"\n",
    "        print(\"load file: \", file_path)\n",
    "        zoomed_aug_volume, zoomed_aug_pts, zoomed_res = MyDataset.load_mat_data(file_path, with_res=True)\n",
    "        # print(\"divide volume for: \", file_path)\n",
    "        left_volume, left_points, right_volume, right_points, left_cut_length = MyCrop.cut_flip_volume(zoomed_aug_volume, zoomed_aug_pts)\n",
    "        flip_right_volume, flip_right_points = MyCrop.flip_volume(right_volume, right_points)\n",
    "        # if aug_id%10 == 1:\n",
    "        #     Visualization.show_two_landmarks(left_volume, left_points, flip_right_volume, flip_right_points, pixel_space)\n",
    "        # print(\"save the divided volumes\")\n",
    "        np.save(save_volumes_dir + pat_name + \"_\" + size_str + f\"_volume_divided_left_{aug_id}.npy\", left_volume)\n",
    "        np.save(save_volumes_dir + pat_name + \"_\" + size_str + f\"_volume_divided_right_{aug_id}.npy\", flip_right_volume)\n",
    "        np.save(save_points_dir + pat_name + \"_\" + size_str + f\"_pts_divided_left_{aug_id}.npy\", left_points)\n",
    "        np.save(save_points_dir + pat_name + \"_\" + size_str + f\"_pts_divided_right_{aug_id}.npy\", flip_right_points)\n",
    "        np.save(save_length_dir + pat_name + \"_\" + size_str + f\"_res_{aug_id}.npy\", zoomed_res)\n",
    "        np.save(save_length_dir + pat_name + \"_\" + size_str + f\"_length_divided_left_{aug_id}.npy\", left_cut_length)\n",
    "        #print(\"Finish dividing: \" + file_path)"
   ],
   "outputs": []
  },
  {
   "cell_type": "code",
   "execution_count": null,
   "metadata": {
    "collapsed": false,
    "jupyter": {
     "outputs_hidden": false
    }
   },
   "source": [
    "# Combine cropped volumes\n",
    "divided_volumes = []\n",
    "divided_points = []\n",
    "divided_length = []\n",
    "res_array = []\n",
    "\n",
    "for pat_name in pat_names:\n",
    "    for aug_id in range(1, 51):\n",
    "        # such as: \"\"\n",
    "        #          \"\"\n",
    "        #          \"\"\n",
    "        #          \"\"\n",
    "        print(\"**************\" + pat_name + \"__\" + str(aug_id) + \"***************\")\n",
    "        divided_volume_left_path = save_volumes_dir + pat_name + \"_\" + size_str + f\"_volume_divided_left_{aug_id}.npy\"\n",
    "        divided_volume_right_path = save_volumes_dir + pat_name + \"_\" + size_str + f\"_volume_divided_right_{aug_id}.npy\"\n",
    "        divided_points_left_path = save_points_dir + pat_name + \"_\" + size_str + f\"_pts_divided_left_{aug_id}.npy\"\n",
    "        divided_points_right_path = save_points_dir + pat_name + \"_\" + size_str + f\"_pts_divided_right_{aug_id}.npy\"\n",
    "        divided_length_left_path = save_length_dir + pat_name + \"_\" + size_str + f\"_length_divided_left_{aug_id}.npy\"\n",
    "        res_path = save_length_dir + pat_name + \"_\" + size_str + f\"_res_{aug_id}.npy\"\n",
    "        divided_volume_left = np.load(divided_volume_left_path)\n",
    "        divided_volume_right = np.load(divided_volume_right_path)\n",
    "        divided_points_left = np.load(divided_points_left_path)\n",
    "        divided_length_left = np.load(divided_length_left_path)\n",
    "        divided_points_right = np.load(divided_points_right_path)\n",
    "        res = np.load(res_path)\n",
    "        divided_volumes.append(divided_volume_left)\n",
    "        divided_volumes.append(divided_volume_right)\n",
    "        divided_points.append(divided_points_left)\n",
    "        divided_points.append(divided_points_right)\n",
    "        divided_length.append(divided_length_left)\n",
    "        res_array.append(res)\n",
    "\n",
    "print(len(divided_volumes))\n",
    "print(len(divided_points))\n",
    "print(len(divided_length))\n",
    "print(len(res_array))"
   ],
   "outputs": []
  },
  {
   "cell_type": "code",
   "execution_count": null,
   "metadata": {
    "collapsed": false,
    "jupyter": {
     "outputs_hidden": false
    }
   },
   "source": [
    "print(res_array[0])"
   ],
   "outputs": []
  },
  {
   "cell_type": "code",
   "execution_count": null,
   "metadata": {
    "collapsed": false,
    "jupyter": {
     "outputs_hidden": false
    }
   },
   "source": [
    "divided_volumes = np.asarray(divided_volumes).reshape((2000, 176, 88, 48, 1))\n",
    "divided_points = np.asarray(divided_points).reshape((2000, 2, 3))\n",
    "divided_length = np.asarray(divided_length).reshape((1000, 1))\n",
    "res_array = np.asarray(res_array).reshape((1000, 1, 3))\n",
    "np.save(\"F:/Data/divided/divided_volumes_\" + size_str + \".npy\", divided_volumes)\n",
    "np.save(\"F:/Data/divided/divided_points_\" + size_str + \".npy\", divided_points)\n",
    "np.save(\"F:/Data/divided/divided_length_\" + size_str + \".npy\", divided_length)\n",
    "np.save(\"F:/Data/divided/res_array_\" + size_str + \".npy\", res_array)"
   ],
   "outputs": []
  },
  {
   "cell_type": "markdown",
   "metadata": {
    "collapsed": false,
    "jupyter": {
     "outputs_hidden": false
    }
   },
   "source": [
    "## Centre point"
   ]
  },
  {
   "cell_type": "markdown",
   "metadata": {
    "collapsed": false,
    "jupyter": {
     "outputs_hidden": false
    }
   },
   "source": [
    "## Check the new dataset"
   ]
  },
  {
   "cell_type": "code",
   "execution_count": 13,
   "metadata": {
    "ExecuteTime": {
     "end_time": "2023-08-01T04:13:07.017328Z",
     "start_time": "2023-08-01T04:12:55.370305Z"
    },
    "collapsed": false,
    "jupyter": {
     "outputs_hidden": false
    }
   },
   "source": [
    "# Check dataset and Trained Model results\n",
    "import Spartan.support_modules as supporter\n",
    "\n",
    "rescaled_size = (176, 176, 48)\n",
    "str_size = str(rescaled_size[0]) + \"_\" + str(rescaled_size[1]) + \"_\" + str(rescaled_size[2])\n",
    "dataset_dir = \"/Volumes/Shawn_HDD/PhD/Project/Date/augmentation_from_matlab/divided/\"\n",
    "\n",
    "X_train, Y_train, res_train, length_train, X_val, Y_val, res_val, length_val, X_test, Y_test, res_test, length_test = \\\n",
    "    supporter.load_dataset_divide(dataset_dir, rescaled_size, pat_splits=MyDataset.get_pat_splits(static=True))"
   ],
   "outputs": []
  },
  {
   "cell_type": "code",
   "execution_count": 3,
   "metadata": {
    "ExecuteTime": {
     "end_time": "2023-08-01T04:16:43.058527Z",
     "start_time": "2023-08-01T04:13:40.725140Z"
    },
    "collapsed": false,
    "jupyter": {
     "outputs_hidden": false
    }
   },
   "source": [
    "size_str = f\"{rescaled_size[0]}{rescaled_size[1]}{rescaled_size[2]}\"\n",
    "\n",
    "x_dataset_path = dataset_dir + \"divided_volumes_\" + size_str + \".npy\"\n",
    "y_dataset_path = dataset_dir + \"divided_points_\" + size_str + \".npy\"\n",
    "length_dataset_path = dataset_dir + \"divided_length_\" + size_str + \".npy\"\n",
    "res_dataset_path = dataset_dir + \"res_array_\" + size_str + \".npy\"\n",
    "\n",
    "x_dataset = np.load(x_dataset_path)\n",
    "y_dataset = np.load(y_dataset_path).astype('float32')\n",
    "length_dataset = np.load(length_dataset_path).astype('float32')\n",
    "res_dataset = np.load(res_dataset_path).astype('float32')"
   ],
   "outputs": []
  },
  {
   "cell_type": "code",
   "execution_count": 131,
   "metadata": {
    "ExecuteTime": {
     "end_time": "2023-06-28T07:06:56.138828Z",
     "start_time": "2023-06-28T07:06:56.124757Z"
    },
    "collapsed": false,
    "jupyter": {
     "outputs_hidden": false
    }
   },
   "source": [
    "print(length_dataset[0:10])"
   ],
   "outputs": []
  },
  {
   "cell_type": "code",
   "execution_count": 125,
   "metadata": {
    "ExecuteTime": {
     "end_time": "2023-06-28T05:46:06.070498Z",
     "start_time": "2023-06-28T05:46:06.040758Z"
    },
    "collapsed": false,
    "jupyter": {
     "outputs_hidden": false
    }
   },
   "source": [
    "y_dataset = np.load(y_dataset_path).astype('float32')\n",
    "\n",
    "# y_dataset[list(range(1,2000,2)), :, [0]] = y_dataset[list(range(1,2000,2)), :, [0]] + 2\n",
    "#\n",
    "# np.save(y_dataset_path, y_dataset)"
   ],
   "outputs": []
  },
  {
   "cell_type": "code",
   "execution_count": null,
   "metadata": {
    "collapsed": false,
    "jupyter": {
     "outputs_hidden": false
    }
   },
   "source": [],
   "outputs": []
  },
  {
   "cell_type": "code",
   "execution_count": 7,
   "metadata": {
    "ExecuteTime": {
     "end_time": "2023-08-01T04:25:32.128479Z",
     "start_time": "2023-08-01T04:25:32.116817Z"
    },
    "collapsed": false,
    "jupyter": {
     "outputs_hidden": false
    }
   },
   "source": [
    "import Functions.MyDataset as MyDataset\n",
    "\n",
    "check_idx = MyDataset.get_idx_from_pat('DM', 1, split=True)\n",
    "print(check_idx)\n",
    "\n",
    "left_points = np.copy(y_dataset[check_idx, :, :])\n",
    "right_points = np.copy(y_dataset[check_idx+1, :, :])"
   ],
   "outputs": []
  },
  {
   "cell_type": "code",
   "execution_count": 11,
   "metadata": {
    "ExecuteTime": {
     "end_time": "2023-08-02T04:54:32.808936Z",
     "start_time": "2023-08-02T04:54:31.517694Z"
    },
    "collapsed": false,
    "jupyter": {
     "outputs_hidden": false
    }
   },
   "source": [
    "import Functions.Visualization as Visualization\n",
    "\n",
    "importlib.reload(Visualization)\n",
    "\n",
    "pixel_space = [0.15, 0.15, 0.15]\n",
    "# check_idx = 11\n",
    "print(left_points)\n",
    "print(right_points)\n",
    "\n",
    "Visualization.show_two_landmarks(x_dataset[check_idx, :, :, :, 0], left_points, x_dataset[check_idx+1, :, :, :, 0], right_points, pixel_space)\n",
    "\n",
    "print(left_points)\n",
    "print(right_points)"
   ],
   "outputs": []
  },
  {
   "cell_type": "markdown",
   "metadata": {
    "collapsed": false,
    "jupyter": {
     "outputs_hidden": false
    }
   },
   "source": [
    "## Review new augmentation data"
   ]
  },
  {
   "cell_type": "code",
   "execution_count": 16,
   "metadata": {
    "ExecuteTime": {
     "end_time": "2024-05-20T03:57:42.884659Z",
     "start_time": "2024-05-20T03:57:16.953118Z"
    }
   },
   "source": [
    "import h5py\n",
    "import numpy as np\n",
    "import Functions.Visualization as Visualization\n",
    "\n",
    "pt_name = \"AH\"\n",
    "aug_id = 9\n",
    "\n",
    "base_dir = \"F:/Data/augmentation_exp/original_divided_augmentation\"\n",
    "file_path = f\"{base_dir}/{pt_name}_aug_{aug_id}.mat\"\n",
    "\n",
    "file = h5py.File(file_path, 'r')\n",
    "org_volume = file.get('augVol')\n",
    "org_pts = file.get('augPts')\n",
    "\n",
    "org_volume = np.array(org_volume).T\n",
    "org_pts = np.array(org_pts).reshape(3, 4).T\n",
    "\n",
    "Visualization.show_pts(org_volume, org_pts, [0.15, 0.15, 0.15])"
   ],
   "outputs": []
  },
  {
   "cell_type": "code",
   "execution_count": 12,
   "metadata": {
    "ExecuteTime": {
     "end_time": "2024-05-20T04:27:32.648901Z",
     "start_time": "2024-05-20T04:27:30.374768Z"
    },
    "collapsed": false,
    "jupyter": {
     "outputs_hidden": false
    },
    "pycharm": {
     "is_executing": true
    }
   },
   "source": [
    "import h5py\n",
    "import numpy as np\n",
    "import Functions.Visualization as Visualization\n",
    "\n",
    "pt_name = \"SM\"\n",
    "aug_id = 20\n",
    "\n",
    "base_dir = \"/data/gpfs/projects/punim1836/Data/divided/reduce_size_normalize/176x88x48\"\n",
    "file_path = f\"{base_dir}/{pt_name}_176x88x48_{aug_id}.mat\"\n",
    "\n",
    "file = h5py.File(file_path, 'r')\n",
    "\n",
    "left_volume = file.get('padLeftVolRescaled')\n",
    "left_pts = file.get('padLeftPtsRescaled')\n",
    "left_res = file.get('leftRes')\n",
    "left_volsize = file.get('augLeftVolSize')\n",
    "\n",
    "right_volume = file.get('padRightVolRescaled')\n",
    "right_pts = file.get('padRightPtsRescaled')\n",
    "right_res = file.get('rightRes')\n",
    "right_volsize = file.get('padRightVolSize')\n",
    "\n",
    "left_volume = np.array(left_volume).T\n",
    "left_pts = np.array(left_pts).reshape(3, 2).T\n",
    "left_vol_res = np.array(left_res).T\n",
    "left_vol_size = np.array(left_volsize).T\n",
    "\n",
    "right_volume = np.array(right_volume).T\n",
    "right_pts = np.array(right_pts).reshape(3, 2).T\n",
    "right_vol_res = np.array(right_res).T\n",
    "right_vol_size = np.array(right_volsize).T\n",
    "\n",
    "pixel_space = [0.15, 0.15, 0.15]\n",
    "\n",
    "print(\"left Res: \", left_vol_res, \"right Res: \", right_vol_res)\n",
    "Visualization.show_two_landmarks(left_volume, left_pts, right_volume, right_pts, pixel_space)\n",
    "\n",
    "file.close()\n",
    "\n",
    "# left Res:  [[1.07556818 1.06704545 1.06875   ]] right Res:  [[1.07556818 1.06704545 1.06875   ]]"
   ],
   "outputs": []
  },
  {
   "cell_type": "code",
   "execution_count": 1,
   "metadata": {},
   "source": [
    "import sys\n",
    "\n",
    "#sys.path.insert()\n",
    "sys.path.append('/data/gpfs/projects/punim1836/CT-MRI_LandmarkDetection')\n",
    "sys.path"
   ],
   "outputs": []
  },
  {
   "cell_type": "code",
   "execution_count": 6,
   "metadata": {
    "ExecuteTime": {
     "end_time": "2024-05-20T04:37:55.816289Z",
     "start_time": "2024-05-20T04:35:41.236574Z"
    },
    "collapsed": false,
    "jupyter": {
     "outputs_hidden": false
    },
    "scrolled": true
   },
   "source": [
    "# Combine cropped volumes\n",
    "import h5py\n",
    "import numpy as np\n",
    "\n",
    "divided_volumes = []\n",
    "divided_points = []\n",
    "res_array = []\n",
    "\n",
    "import Functions.MyDataset as MyDataset\n",
    "pat_names = MyDataset.get_pat_names()\n",
    "\n",
    "base_dir = \"/data/gpfs/projects/punim1836/Data/divided/reduce_size_normalize/176x88x96\"\n",
    "\n",
    "for pat_name in pat_names:\n",
    "    for aug_id in range(1, 51):\n",
    "        print(\"**************\" + pat_name + \"__\" + str(aug_id) + \"***************\")\n",
    "\n",
    "        file_path = f\"{base_dir}/{pat_name}_176x88x96_{aug_id}.mat\"\n",
    "        file = h5py.File(file_path, 'r')\n",
    "\n",
    "        # load Left\n",
    "        left_volume = file.get('padLeftVolRescaled')\n",
    "        left_pts = file.get('padLeftPtsRescaled')\n",
    "        left_res = file.get('leftRes')\n",
    "        # load Right\n",
    "        right_volume = file.get('padRightVolRescaled')\n",
    "        right_pts = file.get('padRightPtsRescaled')\n",
    "        right_res = file.get('rightRes')\n",
    "\n",
    "        left_volume = np.array(left_volume).T\n",
    "        left_pts = np.array(left_pts).reshape(3, 2).T\n",
    "        left_vol_res = np.array(left_res).T\n",
    "\n",
    "        right_volume = np.array(right_volume).T\n",
    "        right_pts = np.array(right_pts).reshape(3, 2).T\n",
    "        right_vol_res = np.array(right_res).T\n",
    "\n",
    "        divided_volumes.append(left_volume)\n",
    "        divided_volumes.append(right_volume)\n",
    "        divided_points.append(left_pts)\n",
    "        divided_points.append(right_pts)\n",
    "        res_array.append(left_res) # left_res and right_res are the same\n",
    "\n",
    "print(len(divided_volumes))\n",
    "print(len(divided_points))\n",
    "print(len(res_array))\n",
    "\n",
    "print(res_array[0])"
   ],
   "outputs": []
  },
  {
   "cell_type": "code",
   "execution_count": 7,
   "metadata": {
    "ExecuteTime": {
     "end_time": "2024-05-20T04:42:34.527180Z",
     "start_time": "2024-05-20T04:42:33.247336Z"
    },
    "collapsed": false,
    "jupyter": {
     "outputs_hidden": false
    }
   },
   "source": [
    "size_str = 17617696\n",
    "save_dir = \"/data/gpfs/projects/punim1836/Data/divided/reduce_size_normalize\"\n",
    "\n",
    "divided_volumes = np.asarray(divided_volumes).reshape((2000, 176, 88, 96, 1))\n",
    "divided_points = np.asarray(divided_points).reshape((2000, 2, 3))\n",
    "res_array = np.asarray(res_array).reshape((1000, 1, 3))\n",
    "np.save(f\"{save_dir}/divided_volumes_{size_str}_pad.npy\", divided_volumes)\n",
    "np.save(f\"{save_dir}/divided_points_{size_str}_pad.npy\", divided_points)\n",
    "np.save(f\"{save_dir}/divided_res_{size_str}_pad.npy\", res_array)"
   ],
   "outputs": []
  },
  {
   "cell_type": "code",
   "execution_count": 1,
   "metadata": {},
   "source": [
    "import sys\n",
    "\n",
    "sys.executable"
   ],
   "outputs": []
  },
  {
   "cell_type": "code",
   "execution_count": 2,
   "metadata": {},
   "source": [
    "!conda info"
   ],
   "outputs": []
  },
  {
   "cell_type": "code",
   "execution_count": 3,
   "metadata": {},
   "source": [
    "!jupyter kernelspec  list"
   ],
   "outputs": []
  },
  {
   "cell_type": "code",
   "execution_count": null,
   "metadata": {},
   "source": [],
   "outputs": []
  }
 ],
 "metadata": {
  "kernelspec": {
   "display_name": "Python 3 (ipykernel)",
   "language": "python",
   "name": "python3"
  },
  "language_info": {
   "codemirror_mode": {
    "name": "ipython",
    "version": 3
   },
   "file_extension": ".py",
   "mimetype": "text/x-python",
   "name": "python",
   "nbconvert_exporter": "python",
   "pygments_lexer": "ipython3",
   "version": "3.12.3"
  }
 },
 "nbformat": 4,
 "nbformat_minor": 4
}
