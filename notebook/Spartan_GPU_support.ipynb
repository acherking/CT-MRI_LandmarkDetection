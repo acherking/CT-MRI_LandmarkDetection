{
 "cells": [
  {
   "cell_type": "markdown",
   "source": [
    "# Process the data (combine them together)"
   ],
   "metadata": {
    "collapsed": false
   }
  },
  {
   "cell_type": "markdown",
   "source": [
    "## Check JH's augmentation data"
   ],
   "metadata": {
    "collapsed": false
   }
  },
  {
   "cell_type": "code",
   "execution_count": null,
   "source": [
    "import importlib\n",
    "import Functions.MyDataset as MyDataset\n",
    "import Functions.Visualization as Visualization\n",
    "\n",
    "JH_aug_mat_path = \"/Volumes/Shawn_HDD/PhD/Project/Date/augmentation_from_matlab/original_augmentation_data/AH_aug_6.mat\"\n",
    "# JH_reshape_vol_mat_path = \"/Volumes/Shawn_SSD/PhD/Project/Date/augmentation_from_matlab/Val/Input/FA_17017030_AugVol_2.mat\"\n",
    "# JH_reshape_pts_mat_path = \"/Volumes/Shawn_SSD/PhD/Project/Date/augmentation_from_matlab/Val/Output/FA_17017030_AugPts_2.mat\"\n",
    "\n",
    "pixel_space = [0.15, 0.15, 0.15]\n",
    "\n",
    "importlib.reload(MyDataset)\n",
    "\n",
    "JH_aug_volume, JH_aug_pts, _ = MyDataset.load_mat_data(JH_aug_mat_path)\n",
    "\n",
    "# JH_aug_zoomed_volume, JH_aug_zoomed_pts = MyDataset.load_mat_data(JH_reshape_vol_mat_path, JH_reshape_pts_mat_path)\n",
    "Visualization.show_pts(JH_aug_volume, JH_aug_pts, pixel_space)\n"
   ],
   "metadata": {
    "collapsed": false
   },
   "outputs": []
  },
  {
   "cell_type": "code",
   "execution_count": null,
   "source": [
    "# Try up_sampling method\n",
    "\n",
    "# up_sampling_JH = MyDataset.rescale_3d_volume(JH_aug_zoomed_volume, (512, 512, 90))\n",
    "# Visualization.show_pts(up_sampling_JH, JH_aug_zoomed_pts, pixel_space)"
   ],
   "metadata": {
    "collapsed": false
   },
   "outputs": []
  },
  {
   "cell_type": "markdown",
   "source": [
    "## Check rescaled data"
   ],
   "metadata": {
    "collapsed": false
   }
  },
  {
   "cell_type": "code",
   "execution_count": null,
   "source": [
    "import importlib\n",
    "import Functions\n",
    "\n",
    "# data_path = \"/Volumes/Shawn_SSD/PhD/Project/Date/augmentation_rescaled_data/176_176_48/AH_17617648_VolPts_3.mat\"\n",
    "# data_path = \"/Volumes/Shawn_SSD/PhD/Project/Date/augmentation_rescaled_data/240_240_64/AH_24024064_VolPts_3.mat\"\n",
    "# data_path = \"/Volumes/Shawn_SSD/PhD/Project/Date/augmentation_rescaled_data/320_320_96/AH_32032096_VolPts_3.mat\"\n",
    "# data_path = \"/Volumes/Shawn_SSD/PhD/Project/Date/augmentation_rescaled_data/480_480_128/AH_480480128_VolPts_3.mat\"\n",
    "data_path = \"/Volumes/Shawn_SSD/PhD/Project/Date/augmentation_rescaled_data/560_560_160/AH_560560160_VolPts_3.mat\"\n",
    "\n",
    "aug_rescaled_volume, aug_rescaled_pts = MyDataset.load_mat_data(data_path)\n",
    "\n",
    "pixel_space = [0.15, 0.15, 0.15]\n",
    "Visualization.show_pts(aug_rescaled_volume, aug_rescaled_pts, pixel_space)"
   ],
   "metadata": {
    "collapsed": false
   },
   "outputs": []
  },
  {
   "cell_type": "markdown",
   "source": [
    "## Combination"
   ],
   "metadata": {
    "collapsed": false
   }
  },
  {
   "cell_type": "code",
   "execution_count": null,
   "source": [
    "import numpy as np\n",
    "import importlib\n",
    "import Functions\n",
    "\n",
    "def combine_data(x_base_path, y_base_path, store_base_path, data_tag):\n",
    "    importlib.reload(MyDataset)\n",
    "\n",
    "    # X_val_base_path = \"/Volumes/Shawn_SSD/PhD/Project/Date/augmentation_from_matlab/Val/Input\"\n",
    "    # Y_val_base_path = \"/Volumes/Shawn_SSD/PhD/Project/Date/augmentation_from_matlab/Val/Output\"\n",
    "\n",
    "    x_dataset, y_dataset = MyDataset.load_mat_data_dir(x_base_path, y_base_path)\n",
    "\n",
    "    x_dataset = np.asarray(x_dataset)\n",
    "    y_dataset = np.asarray(y_dataset)\n",
    "\n",
    "    x_dataset_path = store_base_path + \"X_\" + data_tag + \"_data\"\n",
    "    y_dataset_path = store_base_path + \"Y_\" + data_tag + \"_data\"\n",
    "\n",
    "    np.save(x_dataset_path, x_dataset)\n",
    "    np.save(y_dataset_path, y_dataset)\n"
   ],
   "metadata": {
    "collapsed": false
   },
   "outputs": []
  },
  {
   "cell_type": "code",
   "execution_count": null,
   "source": [
    "X_train_base_path = \"/Volumes/Shawn_SSD/PhD/Project/Date/augmentation_from_matlab/Train/Input\"\n",
    "Y_train_base_path = \"/Volumes/Shawn_SSD/PhD/Project/Date/augmentation_from_matlab/Train/Output\"\n",
    "X_val_base_path = \"/Volumes/Shawn_SSD/PhD/Project/Date/augmentation_from_matlab/Val/Input\"\n",
    "Y_val_base_path = \"/Volumes/Shawn_SSD/PhD/Project/Date/augmentation_from_matlab/Val/Output\"\n",
    "X_test_base_path = \"/Volumes/Shawn_SSD/PhD/Project/Date/augmentation_from_matlab/Test/Input\"\n",
    "Y_test_base_path = \"/Volumes/Shawn_SSD/PhD/Project/Date/augmentation_from_matlab/Test/Output\"\n",
    "store_base_path = \"data/\"\n",
    "\n",
    "combine_data(X_train_base_path, Y_train_base_path, store_base_path, \"train\")\n",
    "combine_data(X_val_base_path, Y_val_base_path, store_base_path, \"val\")\n",
    "combine_data(X_test_base_path, Y_test_base_path, store_base_path, \"test\")"
   ],
   "metadata": {
    "collapsed": false
   },
   "outputs": []
  },
  {
   "cell_type": "code",
   "execution_count": null,
   "source": [
    "import numpy as np\n",
    "import Functions\n",
    "\n",
    "# Inspect Loaded Data\n",
    "\n",
    "X_file_path = \"data/X_train_data.npy\"\n",
    "Y_file_path = \"data/Y_train_data.npy\"\n",
    "\n",
    "X_load = np.load(X_file_path, allow_pickle=True)\n",
    "Y_load = np.load(Y_file_path, allow_pickle=True)\n",
    "\n",
    "print(np.shape(X_load), np.shape(Y_load))\n",
    "print(np.shape(X_load[1, :, :, :]), np.shape(Y_load[1, :, :]))\n",
    "\n",
    "# functions.show_pts(X_load[1, :, :, :], Y_load[1, :, :], [0.15, 0.15, 0.15])\n",
    "# functions.show_pts(X_load[2, :, :, :], Y_load[2, :, :], [0.15, 0.15, 0.15])\n",
    "# functions.show_pts(X_load[3, :, :, :], Y_load[3, :, :], [0.15, 0.15, 0.15])\n",
    "# functions.show_pts(X_load[4, :, :, :], Y_load[4, :, :], [0.15, 0.15, 0.15])"
   ],
   "metadata": {
    "collapsed": false
   },
   "outputs": []
  },
  {
   "cell_type": "markdown",
   "source": [
    "## Check slr model"
   ],
   "metadata": {
    "collapsed": false
   }
  },
  {
   "cell_type": "code",
   "execution_count": null,
   "source": [
    "import Spartan.models as models\n",
    "import importlib\n",
    "\n",
    "importlib.reload(models)\n",
    "\n",
    "model = models.spine_lateral_radiograph_model(width=48, height=48, depth=32)\n",
    "model.summary()"
   ],
   "metadata": {
    "collapsed": false
   },
   "outputs": []
  },
  {
   "cell_type": "code",
   "execution_count": null,
   "source": [
    "import numpy as np\n",
    "\n",
    "importlib.reload(models)\n",
    "\n",
    "# check the pre-defined coordinate matrix\n",
    "batch_base_cor_xyz = models.coordinate_3d(2,2,3,4)\n",
    "\n",
    "# test base coordinate matrix\n",
    "print(\"batch_base_cor_xyz shape: \", np.shape(batch_base_cor_xyz))\n",
    "print(batch_base_cor_xyz[0, :, :, 3, 1, 2])"
   ],
   "metadata": {
    "collapsed": false
   },
   "outputs": []
  },
  {
   "cell_type": "code",
   "execution_count": null,
   "source": [
    "from tensorflow import keras\n",
    "\n",
    "# draw a graph for the model's\n",
    "keras.utils.plot_model(model, \"slr_model.png\", show_shapes=True)"
   ],
   "metadata": {
    "collapsed": false
   },
   "outputs": []
  },
  {
   "cell_type": "code",
   "execution_count": null,
   "source": [
    "import tensorflow as tf\n",
    "\n",
    "# check tf.repeat\n",
    "pro_matricx = np.arange(2*3*4*5*4).reshape(2,3,4,5,4)\n",
    "dup_pro_matricx = tf.repeat(pro_matricx, 3, axis=-1)\n",
    "\n",
    "#print(pro_matricx)\n",
    "\n",
    "# print(np.shape(dup_pro_matricx))\n",
    "dup_pro_matricx = np.reshape(dup_pro_matricx, (2,3,4,5,4,3))\n",
    "print(dup_pro_matricx[:,:,:,:,:,2])"
   ],
   "metadata": {
    "collapsed": false
   },
   "outputs": []
  },
  {
   "cell_type": "code",
   "execution_count": null,
   "source": [
    "import numpy as np\n",
    "\n",
    "# check output of the model\n",
    "input = np.arange(2*48*48*32*1).reshape(2,48,48,32,1)\n",
    "base_cor_xyz = models.coordinate_3d(2,48,48,32)\n",
    "\n",
    "[output_s1, output_s2] = model([input, base_cor_xyz])\n",
    "\n",
    "print(np.shape(output_s1))\n",
    "print(np.shape(output_s2))\n"
   ],
   "metadata": {
    "collapsed": false
   },
   "outputs": []
  },
  {
   "cell_type": "code",
   "execution_count": null,
   "source": [
    "importlib.reload(models)\n",
    "\n",
    "# check loss function\n",
    "y_true = np.asarray([[[1,2,3],[2,3,4],[6,7,8],[7,8,9]], [[1.5,2.5,3.5],[2.5,3.5,4.5],[6.5,7.5,8.5],[7.5,8.5,9.5]]])\n",
    "\n",
    "y_pred1 = np.asarray([[[1,2,3],[2,3,4],[6,7,8],[7,8,9]], [[1.5,2.5,3.5],[2.5,3.5,4.5],[6.5,7.5,8.5],[7.5,8.5,9.5]]])\n",
    "y_pred2 = np.asarray([[[1,2,3],[2,3,4],[6,7,8],[7,8,9]], [[1.5,2.5,3.5],[2.5,3.5,4.5],[6.5,7.5,8.5],[7.5,8.5,9.5]]])\n",
    "\n",
    "loss = models.two_stage_wing_loss(y_true, [output_s1, output_s2])\n",
    "\n",
    "print(loss)"
   ],
   "metadata": {
    "collapsed": false
   },
   "outputs": []
  },
  {
   "cell_type": "markdown",
   "source": [
    "## Simple slr model"
   ],
   "metadata": {
    "collapsed": false
   }
  },
  {
   "cell_type": "code",
   "execution_count": null,
   "source": [
    "import os\n",
    "import sys\n",
    "module_path = os.path.abspath(os.path.join('..'))\n",
    "\n",
    "if module_path not in sys.path:\n",
    "    sys.path.append(module_path)"
   ],
   "metadata": {
    "collapsed": false
   },
   "outputs": []
  },
  {
   "cell_type": "code",
   "execution_count": null,
   "source": [
    "import Spartan.models as models\n",
    "import importlib\n",
    "\n",
    "importlib.reload(models)\n",
    "\n",
    "s_slr_model = models.simple_slr_model()\n",
    "s_slr_model.summary()"
   ],
   "metadata": {
    "collapsed": false
   },
   "outputs": []
  },
  {
   "cell_type": "markdown",
   "source": [
    "## Straight 3d CNN"
   ],
   "metadata": {
    "collapsed": false
   }
  },
  {
   "cell_type": "code",
   "execution_count": null,
   "source": [
    "import Spartan.models as models\n",
    "import importlib\n",
    "\n",
    "importlib.reload(models)\n",
    "\n",
    "s_model = models.down_net_model()\n",
    "s_model.summary()"
   ],
   "metadata": {
    "collapsed": false
   },
   "outputs": []
  },
  {
   "cell_type": "markdown",
   "source": [
    "## check MSE with Resolution"
   ],
   "metadata": {
    "collapsed": false
   }
  },
  {
   "cell_type": "code",
   "execution_count": null,
   "source": [
    "import Spartan.models as models\n",
    "import Functions.MyDataset as md\n",
    "\n",
    "volume_path = \"/Volumes/Shawn_HDD/PhD/Project/Date/augmentation_from_matlab/Rescaled/AH_17617648_VolPts_2.mat\"\n",
    "\n",
    "model = models.first_model(width=176, height=176, depth=48)\n",
    "volume, pts, res = md.load_mat_data(volume_path, \"None\", with_res=True)\n",
    "\n",
    "res[:, [0, 1]] = res[:, [1, 0]]\n",
    "res = res.astype(\"float32\")"
   ],
   "metadata": {
    "collapsed": false
   },
   "outputs": []
  },
  {
   "cell_type": "code",
   "execution_count": null,
   "source": [
    "print(\"volume shape: \", volume.shape)\n",
    "print(\"pts shape: \", pts.shape)\n",
    "print(\"res shape: \", res.shape)\n",
    "print(\"res: \", res)"
   ],
   "metadata": {
    "collapsed": false
   },
   "outputs": []
  },
  {
   "cell_type": "code",
   "execution_count": null,
   "source": [
    "volume = volume.reshape((1, 176, 176, 48, 1))\n",
    "one_pts = pts[0, :].reshape((1, 1, 3))\n",
    "res = res.reshape((1, 1, 3))"
   ],
   "metadata": {
    "collapsed": false
   },
   "outputs": []
  },
  {
   "cell_type": "code",
   "execution_count": null,
   "source": [
    "print(\"volume shape: \", volume.shape)\n",
    "print(\"one_pts shape: \", one_pts.shape)\n",
    "print(\"res shape: \", res.shape)"
   ],
   "metadata": {
    "collapsed": false
   },
   "outputs": []
  },
  {
   "cell_type": "code",
   "execution_count": null,
   "source": [
    "import tensorflow as tf\n",
    "\n",
    "rep_res = tf.repeat(res, 4, axis=1)\n",
    "print(rep_res)"
   ],
   "metadata": {
    "collapsed": false
   },
   "outputs": []
  },
  {
   "cell_type": "code",
   "execution_count": null,
   "source": [
    "y = model(volume)\n",
    "print(\"y shape: \", y.shape)"
   ],
   "metadata": {
    "collapsed": false
   },
   "outputs": []
  },
  {
   "cell_type": "code",
   "execution_count": null,
   "source": [
    "import importlib\n",
    "\n",
    "importlib.reload(models)\n",
    "\n",
    "models.mse_with_res(one_pts, y, res)"
   ],
   "metadata": {
    "collapsed": false
   },
   "outputs": []
  },
  {
   "cell_type": "markdown",
   "source": [
    "## Experiment: how to use keras application\n",
    "\n",
    "Can not use it directly, because it not supports 3d images."
   ],
   "metadata": {
    "collapsed": false
   }
  },
  {
   "cell_type": "code",
   "execution_count": null,
   "source": [
    "import tensorflow as tf\n",
    "\n",
    "pretrained_model_for_demo= tf.keras.applications.\\\n",
    "    ResNet50(include_top=False, input_shape=(176,176,48,1), pooling='avg',classes=5, weights='imagenet')\n",
    "\n",
    "pretrained_model_for_demo.summary()"
   ],
   "metadata": {
    "collapsed": false
   },
   "outputs": []
  },
  {
   "cell_type": "markdown",
   "source": [
    "## DSNT model"
   ],
   "metadata": {
    "collapsed": false
   }
  },
  {
   "cell_type": "code",
   "execution_count": null,
   "source": [
    "import Spartan.models as modes\n",
    "import importlib\n",
    "\n",
    "importlib.reload(models)\n",
    "\n",
    "dsnt_model = models.dsnt_model(176, 176, 48)\n",
    "dsnt_model.summary()"
   ],
   "metadata": {
    "collapsed": false
   },
   "outputs": []
  },
  {
   "cell_type": "code",
   "execution_count": null,
   "source": [],
   "metadata": {
    "collapsed": false
   },
   "outputs": []
  }
 ],
 "metadata": {
  "kernelspec": {
   "display_name": "Python 3",
   "language": "python",
   "name": "python3"
  },
  "language_info": {
   "codemirror_mode": {
    "name": "ipython",
    "version": 2
   },
   "file_extension": ".py",
   "mimetype": "text/x-python",
   "name": "python",
   "nbconvert_exporter": "python",
   "pygments_lexer": "ipython2",
   "version": "2.7.6"
  }
 },
 "nbformat": 4,
 "nbformat_minor": 0
}
