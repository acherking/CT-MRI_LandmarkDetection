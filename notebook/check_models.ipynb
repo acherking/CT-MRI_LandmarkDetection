{
 "cells": [
  {
   "cell_type": "markdown",
   "source": [
    "## DSNT"
   ],
   "metadata": {
    "collapsed": false
   }
  },
  {
   "cell_type": "code",
   "source": [
    "import numpy as np\n",
    "import tensorflow as tf\n",
    "import keras\n",
    "import keras.layers as layers\n",
    "\n",
    "import Spartan.models as models"
   ],
   "metadata": {
    "collapsed": false,
    "ExecuteTime": {
     "end_time": "2024-05-10T00:27:40.437122Z",
     "start_time": "2024-05-10T00:27:28.204909Z"
    }
   },
   "execution_count": 1,
   "outputs": []
  },
  {
   "cell_type": "code",
   "metadata": {
    "collapsed": true,
    "ExecuteTime": {
     "end_time": "2024-05-10T00:57:52.633164Z",
     "start_time": "2024-05-10T00:57:52.591056Z"
    }
   },
   "source": [
    "import importlib\n",
    "\n",
    "importlib.reload(models)\n",
    "\n",
    "def slr_s1_model(height=176, width=176, depth=48, points_num=2, batch_size=2):\n",
    "    \"\"\"\n",
    "    This is a simplified slr model used to debug the original one.\n",
    "    \"\"\"\n",
    "    inputs = keras.Input((height, width, depth, 1))\n",
    "    # e.x. batches*170*170*30*4*3, 4 type of coordinates, 3 dimensions\n",
    "    # base_coordinate_xyz = keras.Input((width, height, depth, 4, 3))\n",
    "\n",
    "    base_cor_rcs = models.coordinate_3d(batch_size, points_num, height, width, depth)\n",
    "\n",
    "    # x = layers.BatchNormalization()(inputs)\n",
    "    # x = layers.ReLU()(x)\n",
    "    #\n",
    "    # # Stage 1\n",
    "    # violet_x = models.residual_block(x, downsample=True, filters=4)\n",
    "    #\n",
    "    # x = models.residual_block(violet_x, downsample=False, filters=4)\n",
    "    # violet_x = layers.Add()([x, violet_x])\n",
    "    #\n",
    "    # x = models.residual_block(violet_x, downsample=False, filters=4)\n",
    "    # grey_x_s1 = layers.UpSampling3D(size=2)(x)\n",
    "\n",
    "    # heatmap_s1 = models.residual_block(grey_x_s1, downsample=False, filters=points_num)\n",
    "    heatmap_s1 = inputs\n",
    "\n",
    "    # add dropout?\n",
    "    # heatmap_s1 = layers.Dropout(0.2)(heatmap_s1)\n",
    "\n",
    "    pro_matrix_s1 = layers.Reshape((height, width, depth, points_num, 3)) \\\n",
    "        (tf.repeat(layers.Softmax(axis=[1, 2, 3], name=\"stage1_softmax\")(heatmap_s1), repeats=3, axis=-1))\n",
    "    outputs_s1 = tf.math.reduce_sum(layers.multiply([base_cor_rcs, pro_matrix_s1]), axis=[1, 2, 3])\n",
    "\n",
    "    model_s1 = keras.Model(inputs, [outputs_s1, pro_matrix_s1], name=\"slr_stage1\")\n",
    "\n",
    "\n",
    "    return model_s1"
   ],
   "execution_count": 32,
   "outputs": []
  },
  {
   "metadata": {
    "ExecuteTime": {
     "end_time": "2024-05-10T00:57:53.995723Z",
     "start_time": "2024-05-10T00:57:53.986463Z"
    }
   },
   "cell_type": "code",
   "source": [
    "batch_size = 2\n",
    "points_num = 1\n",
    "height = 5\n",
    "width = 4\n",
    "depth = 3"
   ],
   "execution_count": 33,
   "outputs": []
  },
  {
   "cell_type": "code",
   "source": [
    "model = slr_s1_model(height, width, depth, points_num, batch_size)\n",
    "model.summary()"
   ],
   "metadata": {
    "collapsed": false,
    "ExecuteTime": {
     "end_time": "2024-05-10T00:57:54.269672Z",
     "start_time": "2024-05-10T00:57:54.150040Z"
    }
   },
   "execution_count": 34,
   "outputs": []
  },
  {
   "cell_type": "code",
   "source": [
    "base_cor_rcs = models.coordinate_3d(batch_size, points_num, height, width, depth)\n",
    "print(base_cor_rcs[0, 0,0,0, 0, 1])\n",
    "#print(base_cor_rcs[0, :,:,1, 0, 1])\n",
    "# print(base_cor_rcs[0, :,:,1, 0, :])"
   ],
   "metadata": {
    "collapsed": false,
    "ExecuteTime": {
     "end_time": "2024-05-13T00:28:21.716978Z",
     "start_time": "2024-05-13T00:28:21.703578Z"
    }
   },
   "execution_count": 63,
   "outputs": []
  },
  {
   "cell_type": "code",
   "source": [
    "data_bitch = np.ones((batch_size, height, width, depth, 1)) * -1\n",
    "data_bitch[0, 0, 0, 1, 0] = 10\n",
    "data_bitch[1, 0, 0, 0, 0] = 10"
   ],
   "metadata": {
    "collapsed": false,
    "ExecuteTime": {
     "end_time": "2024-05-10T00:59:33.616466Z",
     "start_time": "2024-05-10T00:59:33.607572Z"
    }
   },
   "execution_count": 38,
   "outputs": []
  },
  {
   "cell_type": "code",
   "source": [
    "print(data_bitch[0, :, :, 1, 0])\n",
    "# print(data_bitch[0, :, :, 1, 0])"
   ],
   "metadata": {
    "collapsed": false,
    "ExecuteTime": {
     "end_time": "2024-05-10T00:59:34.218667Z",
     "start_time": "2024-05-10T00:59:34.210600Z"
    }
   },
   "execution_count": 39,
   "outputs": []
  },
  {
   "cell_type": "code",
   "source": [
    "[output, p] = model(data_bitch)\n",
    "print(output)"
   ],
   "metadata": {
    "collapsed": false,
    "ExecuteTime": {
     "end_time": "2024-05-10T00:59:37.329718Z",
     "start_time": "2024-05-10T00:59:37.311375Z"
    }
   },
   "execution_count": 40,
   "outputs": []
  },
  {
   "cell_type": "code",
   "execution_count": 8,
   "source": [
    "print(p[0, :, :, 0, 0, 0])\n",
    "print(p[0, :, :, 1, 0, 0])"
   ],
   "metadata": {
    "collapsed": false,
    "ExecuteTime": {
     "end_time": "2024-01-23T00:14:53.451653Z",
     "start_time": "2024-01-23T00:14:53.430366Z"
    }
   },
   "outputs": []
  },
  {
   "metadata": {
    "ExecuteTime": {
     "end_time": "2024-05-10T02:20:49.089444Z",
     "start_time": "2024-05-10T02:20:49.077559Z"
    }
   },
   "cell_type": "code",
   "source": [
    "## Heatmap regularization\n",
    "\n",
    "import numpy as np\n",
    "\n",
    "def np_bivariate_normal_pdf(domain, mean, variance):\n",
    "    X = np.arange(-domain+mean, domain+mean, variance)\n",
    "    Y = np.arange(-domain+mean, domain+mean, variance)\n",
    "    X, Y = np.meshgrid(X, Y)\n",
    "    R = np.sqrt(X**2 + Y**2)\n",
    "    Z = ((1. / np.sqrt(2 * np.pi)) * np.exp(-.5*R**2))\n",
    "    return X+mean, Y+mean, Z\n"
   ],
   "execution_count": 46,
   "outputs": []
  },
  {
   "metadata": {
    "ExecuteTime": {
     "end_time": "2024-05-10T02:22:34.370083Z",
     "start_time": "2024-05-10T02:22:34.364705Z"
    }
   },
   "cell_type": "code",
   "source": [
    "import matplotlib.pyplot as plt\n",
    "from matplotlib import cm\n",
    "from mpl_toolkits.mplot3d import Axes3D\n",
    "\n",
    "def plt_plot_bivariate_normal_pdf(x, y, z, name):\n",
    "    fig = plt.figure(figsize=(12, 6))\n",
    "    ax = fig.add_subplot(projection='3d')\n",
    "    ax.plot_surface(x, y, z,\n",
    "                    cmap=cm.coolwarm,\n",
    "                    linewidth=0,\n",
    "                    antialiased=True)\n",
    "    ax.set_xlabel('x')\n",
    "    ax.set_ylabel('y')\n",
    "    ax.set_zlabel('z');\n",
    "    plt.show()"
   ],
   "execution_count": 50,
   "outputs": []
  },
  {
   "metadata": {
    "ExecuteTime": {
     "end_time": "2024-05-10T02:23:39.796753Z",
     "start_time": "2024-05-10T02:23:39.339404Z"
    }
   },
   "cell_type": "code",
   "source": [
    "X, Y, Z = np_bivariate_normal_pdf(10, 1, 0.5)\n",
    "\n",
    "plt_plot_bivariate_normal_pdf(X, Y, Z, \"np_5_1_0.5\")"
   ],
   "execution_count": 52,
   "outputs": []
  },
  {
   "cell_type": "markdown",
   "source": [
    "## SLR"
   ],
   "metadata": {
    "collapsed": false
   }
  },
  {
   "cell_type": "code",
   "execution_count": 20,
   "source": [
    "import tensorflow as tf\n",
    "import Spartan.models as models\n",
    "\n",
    "x = tf.ones((2,27,25,25,3))\n",
    "y = models.residual_block(x, True, 5, 3)"
   ],
   "metadata": {
    "collapsed": false,
    "ExecuteTime": {
     "end_time": "2023-07-19T00:58:21.015882Z",
     "start_time": "2023-07-19T00:58:20.981587Z"
    }
   },
   "outputs": []
  },
  {
   "cell_type": "code",
   "execution_count": 24,
   "source": [
    "import Spartan.models as models\n",
    "import importlib\n",
    "\n",
    "importlib.reload(models)\n",
    "\n",
    "slr_model = models.slr_model(100,100,100,2,2)\n",
    "slr_model.summary()"
   ],
   "metadata": {
    "collapsed": false,
    "ExecuteTime": {
     "end_time": "2023-07-21T03:22:58.806832Z",
     "start_time": "2023-07-21T03:22:55.717890Z"
    }
   },
   "outputs": []
  },
  {
   "cell_type": "code",
   "execution_count": 25,
   "source": [
    "import tensorflow as tf\n",
    "import Spartan.models as models\n",
    "\n",
    "x_input = tf.ones((2,100,100,100,1))\n",
    "[h1, h2] = slr_model(x_input)"
   ],
   "metadata": {
    "collapsed": false,
    "ExecuteTime": {
     "end_time": "2023-07-21T03:25:40.265083Z",
     "start_time": "2023-07-21T03:24:48.455398Z"
    }
   },
   "outputs": []
  },
  {
   "cell_type": "code",
   "execution_count": 26,
   "source": [
    "y_pred_s1 = models.dsnt_transfer(h1, 2, \"stage_1_dsnt\")"
   ],
   "metadata": {
    "collapsed": false,
    "ExecuteTime": {
     "end_time": "2023-07-21T03:26:42.181477Z",
     "start_time": "2023-07-21T03:26:41.816165Z"
    }
   },
   "outputs": []
  },
  {
   "cell_type": "markdown",
   "source": [
    "## U-Net"
   ],
   "metadata": {
    "collapsed": false
   }
  },
  {
   "cell_type": "code",
   "execution_count": 95,
   "source": [
    "import Spartan.models as models\n",
    "import importlib\n",
    "\n",
    "importlib.reload(models)\n",
    "\n",
    "u_net_model = models.u_net_model(100,100,100,1)\n",
    "u_net_model.summary()"
   ],
   "metadata": {
    "collapsed": false,
    "ExecuteTime": {
     "end_time": "2023-07-14T06:42:20.602733Z",
     "start_time": "2023-07-14T06:42:18.605222Z"
    }
   },
   "outputs": []
  },
  {
   "cell_type": "markdown",
   "source": [
    "## SCN model"
   ],
   "metadata": {
    "collapsed": false
   }
  },
  {
   "cell_type": "code",
   "execution_count": 16,
   "source": [
    "import Spartan.models as models\n",
    "import importlib\n",
    "\n",
    "importlib.reload(models)\n",
    "\n",
    "scn_model = models.scn_model(100,100,100,2)\n",
    "scn_model.summary()"
   ],
   "metadata": {
    "collapsed": false,
    "ExecuteTime": {
     "end_time": "2023-07-17T01:49:39.693277Z",
     "start_time": "2023-07-17T01:49:39.427954Z"
    }
   },
   "outputs": []
  },
  {
   "cell_type": "code",
   "execution_count": null,
   "source": [],
   "metadata": {
    "collapsed": false
   },
   "outputs": []
  }
 ],
 "metadata": {
  "kernelspec": {
   "display_name": "Python 3",
   "language": "python",
   "name": "python3"
  },
  "language_info": {
   "codemirror_mode": {
    "name": "ipython",
    "version": 2
   },
   "file_extension": ".py",
   "mimetype": "text/x-python",
   "name": "python",
   "nbconvert_exporter": "python",
   "pygments_lexer": "ipython2",
   "version": "2.7.6"
  }
 },
 "nbformat": 4,
 "nbformat_minor": 0
}
