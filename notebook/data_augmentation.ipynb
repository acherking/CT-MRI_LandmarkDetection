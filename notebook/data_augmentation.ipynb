{
 "cells": [
  {
   "cell_type": "markdown",
   "source": [
    "## Data Augmentation"
   ],
   "metadata": {
    "collapsed": false
   },
   "id": "28cb35649e0b3998"
  },
  {
   "cell_type": "code",
   "execution_count": 1,
   "source": [
    "base_path = \"/Volumes/Shawn_HDD/PhD/Project/Date/augmentation_from_matlab/Cropped/based_on_truth/x100100y100100z8080\"\n",
    "volumes_path = base_path + \"/volumes\"\n",
    "points_path = base_path + \"/points\"\n",
    "length_path = base_path + \"/length\"\n"
   ],
   "metadata": {
    "collapsed": false,
    "ExecuteTime": {
     "end_time": "2023-11-01T03:29:37.798592Z",
     "start_time": "2023-11-01T03:29:37.795160Z"
    }
   },
   "id": "2d29557557ccd19",
   "outputs": []
  },
  {
   "cell_type": "code",
   "execution_count": 2,
   "source": [
    "import numpy as np\n",
    "\n",
    "diff_flip = np.load(\"../Resources/diff_flip.npy\")"
   ],
   "metadata": {
    "collapsed": false,
    "ExecuteTime": {
     "end_time": "2023-11-01T03:29:40.880960Z",
     "start_time": "2023-11-01T03:29:39.776623Z"
    }
   },
   "id": "79c81e5704bbfcc",
   "outputs": []
  },
  {
   "cell_type": "code",
   "execution_count": 3,
   "source": [
    "import numpy as np\n",
    "import Functions.MyDataset as MyDataset\n",
    "\n",
    "pat_id = 13\n",
    "names = MyDataset.get_pat_names()\n",
    "\n",
    "pat_name = names[pat_id]\n",
    "pat_volume_left = np.load(f\"{volumes_path}/{pat_name}_augVolume_1_cropped_left.npy\")\n",
    "pat_volume_right = np.load(f\"{volumes_path}/{pat_name}_augVolume_1_cropped_right.npy\")\n",
    "pat_point_left = np.load(f\"{points_path}/{pat_name}_augPoints_1_cropped_left.npy\")\n",
    "pat_point_right = np.load(f\"{points_path}/{pat_name}_augPoints_1_cropped_right.npy\")\n",
    "pat_length_left = np.load(f\"{length_path}/{pat_name}_augLength_1_cropped_left.npy\")\n",
    "pat_length_right = np.load(f\"{length_path}/{pat_name}_augLength_1_cropped_right.npy\")\n",
    "\n",
    "pat_point_left_new = pat_point_left - diff_flip[pat_id, 0:2, :]\n",
    "pat_point_right_new = pat_point_right - diff_flip[pat_id, 2:4, :]"
   ],
   "metadata": {
    "collapsed": false,
    "ExecuteTime": {
     "end_time": "2023-11-01T03:30:39.839776Z",
     "start_time": "2023-11-01T03:30:37.998232Z"
    }
   },
   "id": "2236fe610e8dc2aa",
   "outputs": []
  },
  {
   "cell_type": "code",
   "execution_count": 3,
   "source": [
    "## load all patients' landmarks to calculate the mean angle\n",
    "import Functions.MyDataset as MyDataset\n",
    "\n",
    "pat_names = MyDataset.get_pat_names()\n",
    "\n",
    "pat_points = []\n",
    "for pt_name in pat_names:\n",
    "    pat_point_left = np.load(f\"{points_path}/{pt_name}_augPoints_1_cropped_left.npy\").reshape((1, 2, 3))\n",
    "    pat_point_right = np.load(f\"{points_path}/{pt_name}_augPoints_1_cropped_right.npy\").reshape((1, 2, 3))\n",
    "    if len(pat_points) == 0:\n",
    "        pat_points = pat_point_left\n",
    "        pat_points = np.concatenate((pat_points, pat_point_right), axis=0)\n",
    "    else:\n",
    "        pat_points = np.concatenate((pat_points, pat_point_left), axis=0)\n",
    "        pat_points = np.concatenate((pat_points, pat_point_right), axis=0)"
   ],
   "metadata": {
    "collapsed": false,
    "ExecuteTime": {
     "end_time": "2023-10-26T03:28:32.524172Z",
     "start_time": "2023-10-26T03:28:32.011302Z"
    }
   },
   "id": "f204c7f9f71748ea",
   "outputs": []
  },
  {
   "cell_type": "code",
   "execution_count": 32,
   "source": [
    "# point_left_diff = np.asarray([[0, 0, 0], [0, 0, 0]])\n",
    "# point_right_diff = np.asarray([[0, 0, 0], [0, 0, 0]])\n",
    "point_left_diff = np.asarray([[0, 0, 0], [0, 0, 0]])\n",
    "point_right_diff = np.asarray([[0, 0, 0], [0, 0, 0]])\n",
    "\n",
    "# pat_point_left_new = pat_point_left - point_left_diff\n",
    "# pat_length_left_new = pat_length_left + point_left_diff\n",
    "# \n",
    "# point_right_diff[:, 0] = - point_right_diff[:, 0]\n",
    "# pat_point_right_new = pat_point_right - point_right_diff\n",
    "# pat_length_right_new = pat_length_right + point_right_diff"
   ],
   "metadata": {
    "collapsed": false,
    "ExecuteTime": {
     "end_time": "2023-10-26T03:59:21.297975Z",
     "start_time": "2023-10-26T03:59:21.234175Z"
    }
   },
   "id": "b4ff595d23b15d62",
   "outputs": []
  },
  {
   "cell_type": "code",
   "execution_count": 6,
   "source": [
    "print(pat_point_left)\n",
    "print(pat_point_left_new)\n",
    "\n",
    "print(pat_point_right)\n",
    "print(pat_point_right_new)"
   ],
   "metadata": {
    "collapsed": false,
    "ExecuteTime": {
     "end_time": "2023-11-01T03:31:30.812364Z",
     "start_time": "2023-11-01T03:31:30.487730Z"
    }
   },
   "id": "94bb32ac725f3cce",
   "outputs": []
  },
  {
   "cell_type": "code",
   "execution_count": 5,
   "source": [
    "import Functions.Visualization as Visualization\n",
    "\n",
    "import importlib\n",
    "importlib.reload(Visualization)\n",
    "\n",
    "Visualization.show_two_landmarks(pat_volume_left, pat_point_left, pat_volume_right, pat_point_right, [0.15, 0.15, 0.15])\n",
    "\n",
    "Visualization.show_two_landmarks(pat_volume_left, pat_point_left_new, pat_volume_right, pat_point_right_new, [0.15, 0.15, 0.15])"
   ],
   "metadata": {
    "collapsed": false,
    "ExecuteTime": {
     "end_time": "2023-11-01T03:31:05.552273Z",
     "start_time": "2023-11-01T03:31:02.977776Z"
    }
   },
   "id": "ae5d3ae8fe0a7359",
   "outputs": []
  },
  {
   "cell_type": "code",
   "execution_count": 9,
   "source": [
    "import math\n",
    "\n",
    "def angle_3D_points(x1, y1, z1,\n",
    "                    x2, y2, z2,\n",
    "                    x3, y3, z3):\n",
    "    # Find direction ratio of line AB\n",
    "    ABx = x1 - x2;\n",
    "    ABy = y1 - y2;\n",
    "    ABz = z1 - z2;\n",
    "\n",
    "    # Find direction ratio of line BC\n",
    "    BCx = x3 - x2;\n",
    "    BCy = y3 - y2;\n",
    "    BCz = z3 - z2;\n",
    "    \n",
    "    v1_mag = math.sqrt(ABx*ABx + ABy*ABy + ABz*ABz)\n",
    "    v1_norm = (ABx/v1_mag, ABy/v1_mag, ABz/v1_mag)\n",
    "\n",
    "    v2_mag = math.sqrt(BCx*BCx + BCy*BCy + BCz*BCz)\n",
    "    v2_norm = (BCx/v2_mag, BCy/v2_mag, BCz/v2_mag)\n",
    "    \n",
    "    dot_products = v1_norm[0] * v2_norm[0] + v1_norm[1] * v2_norm[1] + v1_norm[2] * v2_norm[2]\n",
    "    \n",
    "    angle = (math.acos(dot_products) * 180.0) / math.pi\n",
    "    print(round(angle, 2))\n",
    "    \n",
    "    return round(angle, 2)\n"
   ],
   "metadata": {
    "collapsed": false,
    "ExecuteTime": {
     "end_time": "2023-10-26T03:30:50.826040Z",
     "start_time": "2023-10-26T03:30:50.757739Z"
    }
   },
   "id": "25734b354189bcc",
   "outputs": []
  },
  {
   "cell_type": "code",
   "execution_count": 10,
   "source": [
    "def cal_angles(pt_points, pt_points_new):\n",
    "    (Ax1, Ay1, Az1) = pt_points[0]\n",
    "    (Bx2, By2, Bz2) = np.mean(pt_points, axis=0)\n",
    "    angle_3D_points(Ax1, Ay1, Az1,\n",
    "                   Bx2, By2, Bz2,\n",
    "                   Bx2+1, By2, Bz2)\n",
    "    angle_3D_points(Ax1, Ay1, Az1,\n",
    "                   Bx2, By2, Bz2,\n",
    "                   Bx2, By2+1, Bz2)\n",
    "    angle_3D_points(Ax1, Ay1, Az1,\n",
    "                   Bx2, By2, Bz2,\n",
    "                   Bx2, By2, Bz2+1)\n",
    "\n",
    "    (Ax1_, Ay1_, Az1_) = pt_points_new[0]\n",
    "    (Bx2_, By2_, Bz2_) = np.mean(pt_points_new, axis=0)\n",
    "    angle_3D_points(Ax1_, Ay1_, Az1_,\n",
    "                   Bx2_, By2_, Bz2_,\n",
    "                   Bx2_+1, By2_, Bz2_)\n",
    "    angle_3D_points(Ax1_, Ay1_, Az1_,\n",
    "                   Bx2_, By2_, Bz2_,\n",
    "                   Bx2_, By2_+1, Bz2_)\n",
    "    angle_3D_points(Ax1_, Ay1_, Az1_,\n",
    "                   Bx2_, By2_, Bz2_,\n",
    "                   Bx2_, By2_, Bz2_+1)"
   ],
   "metadata": {
    "collapsed": false,
    "ExecuteTime": {
     "end_time": "2023-10-26T03:30:51.661742Z",
     "start_time": "2023-10-26T03:30:51.589756Z"
    }
   },
   "id": "4ba184580748c4b5",
   "outputs": []
  },
  {
   "cell_type": "code",
   "execution_count": 34,
   "source": [
    "cal_angles(pat_point_left, pat_point_left_new)"
   ],
   "metadata": {
    "collapsed": false,
    "ExecuteTime": {
     "end_time": "2023-10-26T03:59:44.704924Z",
     "start_time": "2023-10-26T03:59:44.640153Z"
    }
   },
   "id": "5e9e043b87c99f8e",
   "outputs": []
  },
  {
   "cell_type": "code",
   "execution_count": 12,
   "source": [
    "def cal_angles_one(pt_points):\n",
    "    (Ax1, Ay1, Az1) = pt_points[0]\n",
    "    (Bx2, By2, Bz2) = np.mean(pt_points, axis=0)\n",
    "    xr = angle_3D_points(Ax1, Ay1, Az1,\n",
    "                    Bx2, By2, Bz2,\n",
    "                    Bx2+1, By2, Bz2)\n",
    "    yr = angle_3D_points(Ax1, Ay1, Az1,\n",
    "                    Bx2, By2, Bz2,\n",
    "                    Bx2, By2+1, Bz2)\n",
    "    zr = angle_3D_points(Ax1, Ay1, Az1,\n",
    "                    Bx2, By2, Bz2,\n",
    "                    Bx2, By2, Bz2+1)\n",
    "    \n",
    "    return [xr, yr, zr]"
   ],
   "metadata": {
    "collapsed": false,
    "ExecuteTime": {
     "end_time": "2023-10-26T03:31:07.180060Z",
     "start_time": "2023-10-26T03:31:07.073887Z"
    }
   },
   "id": "3a44a08c803f16ea",
   "outputs": []
  },
  {
   "cell_type": "code",
   "execution_count": 13,
   "source": [
    "angles = []\n",
    "\n",
    "for i in range(40):\n",
    "    angle = cal_angles_one(pat_points[i])\n",
    "    angles.append(angle)\n",
    "    \n",
    "angles = np.asarray(angles)"
   ],
   "metadata": {
    "collapsed": false,
    "ExecuteTime": {
     "end_time": "2023-10-26T03:31:13.429725Z",
     "start_time": "2023-10-26T03:31:13.351122Z"
    }
   },
   "id": "7133035eb946a330",
   "outputs": []
  },
  {
   "cell_type": "code",
   "execution_count": 42,
   "source": [
    "JM_angle = cal_angles_one(pat_point_left)"
   ],
   "metadata": {
    "collapsed": false,
    "ExecuteTime": {
     "end_time": "2023-10-26T04:04:26.548080Z",
     "start_time": "2023-10-26T04:04:26.464277Z"
    }
   },
   "id": "d8f7681b351d56b2",
   "outputs": []
  },
  {
   "cell_type": "code",
   "execution_count": 15,
   "source": [
    "mean_angle = np.mean(angles, axis=0)"
   ],
   "metadata": {
    "collapsed": false,
    "ExecuteTime": {
     "end_time": "2023-10-26T03:31:26.215416Z",
     "start_time": "2023-10-26T03:31:26.150544Z"
    }
   },
   "id": "19e99627648ed253",
   "outputs": []
  },
  {
   "cell_type": "markdown",
   "source": [
    "## find way to rotate and translate"
   ],
   "metadata": {
    "collapsed": false
   },
   "id": "37bf21bb0d24bfd3"
  },
  {
   "cell_type": "code",
   "execution_count": 35,
   "source": [
    "from scipy import ndimage\n",
    "\n",
    "v_left = np.reshape(pat_volume_left, (200, 200, 160))\n",
    "p_left = np.copy(pat_point_left.reshape((2,3)))"
   ],
   "metadata": {
    "collapsed": false,
    "ExecuteTime": {
     "end_time": "2023-10-26T03:59:50.875640Z",
     "start_time": "2023-10-26T03:59:50.810966Z"
    }
   },
   "id": "eddce6b7537777d7",
   "outputs": []
  },
  {
   "cell_type": "code",
   "execution_count": 154,
   "source": [
    "centre = np.asarray([100, 100, 80]) - 1\n",
    "org = np.mean(pat_point_left, axis=0) - 1\n",
    "shift_value = np.ceil(centre - org)"
   ],
   "metadata": {
    "collapsed": false,
    "ExecuteTime": {
     "end_time": "2023-10-19T03:46:03.569040Z",
     "start_time": "2023-10-19T03:46:03.515427Z"
    }
   },
   "id": "4acace1af835c2e1",
   "outputs": []
  },
  {
   "cell_type": "code",
   "execution_count": 155,
   "source": [
    "v_left_shift = ndimage.shift(v_left, shift_value)\n",
    "p_left_shift = p_left + shift_value"
   ],
   "metadata": {
    "collapsed": false,
    "ExecuteTime": {
     "end_time": "2023-10-19T03:46:08.974148Z",
     "start_time": "2023-10-19T03:46:04.877206Z"
    }
   },
   "id": "d3169d1a39fa5d8e",
   "outputs": []
  },
  {
   "cell_type": "code",
   "execution_count": 156,
   "source": [
    "print(v_left_shift[:, :, 146])"
   ],
   "metadata": {
    "collapsed": false,
    "ExecuteTime": {
     "end_time": "2023-10-19T03:46:10.644372Z",
     "start_time": "2023-10-19T03:46:10.591241Z"
    }
   },
   "id": "4de7f200156a4e0c",
   "outputs": []
  },
  {
   "cell_type": "code",
   "execution_count": 157,
   "source": [
    "Visualization.show_two_landmarks(v_left_shift, p_left_shift, pat_volume_right, pat_point_right, [0.15, 0.15, 0.15])"
   ],
   "metadata": {
    "collapsed": false,
    "ExecuteTime": {
     "end_time": "2023-10-19T03:46:21.751330Z",
     "start_time": "2023-10-19T03:46:19.700007Z"
    }
   },
   "id": "92d0d7528a42b4ff",
   "outputs": []
  },
  {
   "cell_type": "code",
   "execution_count": 43,
   "source": [
    "[x_angle, y_angle, z_angle] = mean_angle - JM_angle\n",
    "z_angle = - z_angle\n",
    "x_angle_r = x_angle * math.pi / 180\n",
    "y_angle_r = y_angle * math.pi / 180\n",
    "z_angle_r = z_angle * math.pi / 180"
   ],
   "metadata": {
    "collapsed": false,
    "ExecuteTime": {
     "end_time": "2023-10-26T04:04:32.478594Z",
     "start_time": "2023-10-26T04:04:32.418655Z"
    }
   },
   "id": "3b69ae963e553671",
   "outputs": []
  },
  {
   "cell_type": "code",
   "execution_count": 27,
   "source": [
    "# max rotation angle: 15 Degrees; change to Radian\n",
    "max_rot_angle = 15\n",
    "# random rotation angle: -max to +max\n",
    "rand_angle = 2 * np.random.rand() * max_rot_angle - max_rot_angle\n",
    "rand_angle_r = rand_angle * math.pi / 180"
   ],
   "metadata": {
    "collapsed": false,
    "ExecuteTime": {
     "end_time": "2023-10-26T03:57:55.483502Z",
     "start_time": "2023-10-26T03:57:55.410543Z"
    }
   },
   "id": "c20dc68b7248d7c5",
   "outputs": []
  },
  {
   "cell_type": "code",
   "execution_count": 63,
   "source": [
    "# v_left_15 = ndimage.rotate(v_left, rand_angle, axes=(0, 1), reshape=False)\n",
    "# v_left_15 = ndimage.rotate(v_left_15, rand_angle, axes=(0, 2), reshape=False)\n",
    "# v_left_15 = ndimage.rotate(v_left_15, rand_angle, axes=(1, 2), reshape=False)\n",
    "\n",
    "v_left_15 = ndimage.rotate(v_left, x_angle, axes=(0, 1), reshape=False)\n",
    "# v_left_15 = ndimage.rotate(v_left_15, y_angle, axes=(0, 2), reshape=False)\n",
    "# v_left_15 = ndimage.rotate(v_left_15, z_angle, axes=(1, 2), reshape=False)"
   ],
   "metadata": {
    "collapsed": false,
    "ExecuteTime": {
     "end_time": "2023-10-26T04:14:37.206866Z",
     "start_time": "2023-10-26T04:14:35.826233Z"
    }
   },
   "id": "581bdf94a0b9472",
   "outputs": []
  },
  {
   "cell_type": "code",
   "execution_count": 64,
   "source": [
    "import numpy as np\n",
    "import math\n",
    "\n",
    "def rotation_matrix(axis, theta):\n",
    "    \"\"\"\n",
    "    Return the rotation matrix associated with counterclockwise rotation about\n",
    "    the given axis by theta radians (Euler-Rodrigues formula).\n",
    "    \"\"\"\n",
    "    axis = np.asarray(axis)\n",
    "    axis = axis / math.sqrt(np.dot(axis, axis))\n",
    "    a = math.cos(theta / 2.0)\n",
    "    b, c, d = -axis * math.sin(theta / 2.0)\n",
    "    aa, bb, cc, dd = a * a, b * b, c * c, d * d\n",
    "    bc, ad, ac, ab, bd, cd = b * c, a * d, a * c, a * b, b * d, c * d\n",
    "    return np.array([[aa + bb - cc - dd, 2 * (bc + ad), 2 * (bd - ac)],\n",
    "                     [2 * (bc - ad), aa + cc - bb - dd, 2 * (cd + ab)],\n",
    "                     [2 * (bd + ac), 2 * (cd - ab), aa + dd - bb - cc]])\n",
    "\n",
    "org_centre = np.asarray([200, 200, 160]) / 2.\n",
    "rot_centre = np.asarray(v_left_15.shape) / 2.\n",
    "\n",
    "v = p_left - org_centre\n",
    "\n",
    "axis_0 = np.asarray([100, 100, 70]) - org_centre\n",
    "p_new = np.dot(rotation_matrix(axis_0, x_angle_r), v.T)\n",
    "\n",
    "# axis_1 = np.asarray([110, 100, 80]) - org_centre\n",
    "# p_new = np.dot(rotation_matrix(axis_1, y_angle_r), p_new)\n",
    "\n",
    "# axis_2 = np.asarray([100, 90, 80]) - org_centre\n",
    "# p_new = np.dot(rotation_matrix(axis_2, z_angle_r), p_new)\n",
    "\n",
    "\n",
    "p_new = p_new.T + rot_centre\n",
    "print(p_new)\n",
    "print(cal_angles_one(p_new))"
   ],
   "metadata": {
    "collapsed": false,
    "ExecuteTime": {
     "end_time": "2023-10-26T04:14:37.953547Z",
     "start_time": "2023-10-26T04:14:37.932005Z"
    }
   },
   "id": "36b6b6f0bdda773e",
   "outputs": []
  },
  {
   "cell_type": "code",
   "execution_count": 65,
   "source": [
    "Visualization.show_two_landmarks(v_left_15, p_new, pat_volume_right, pat_point_right, [0.15, 0.15, 0.15])"
   ],
   "metadata": {
    "collapsed": false,
    "ExecuteTime": {
     "end_time": "2023-10-26T04:14:41.163365Z",
     "start_time": "2023-10-26T04:14:39.376897Z"
    }
   },
   "id": "2d39808207c24eaf",
   "outputs": []
  },
  {
   "cell_type": "code",
   "execution_count": 203,
   "source": [
    "cal_angles(pat_point_left, p_new)"
   ],
   "metadata": {
    "collapsed": false,
    "ExecuteTime": {
     "end_time": "2023-10-19T04:11:34.689504Z",
     "start_time": "2023-10-19T04:11:34.624545Z"
    }
   },
   "id": "65e631d8b1283a87",
   "outputs": []
  },
  {
   "cell_type": "markdown",
   "source": [
    "## Check the relations between the max err and the angles"
   ],
   "metadata": {
    "collapsed": false
   },
   "id": "ee2b871bfc2827ad"
  },
  {
   "cell_type": "code",
   "execution_count": 1,
   "source": [
    "import numpy as np\n",
    "\n",
    "base_dir = \"/Users/achs/PhD/code/CT-MRI_LandmarkDetection/Spartan/trained_models\"\n",
    "\n",
    "Y_test_gt = np.load(f\"{base_dir}/cropped_dataset/straight_model/one_landmark/100x100x100/no_trans_50aug_6medium/y_test_gt.npy\")\n",
    "Y_test_pr = np.load(f\"{base_dir}/cropped_dataset/straight_model/one_landmark/100x100x100/no_trans_50aug_6medium/bestVal_straight_model_cropped_100x100x100_y_test.npy\")"
   ],
   "metadata": {
    "collapsed": false,
    "ExecuteTime": {
     "end_time": "2023-11-06T03:33:31.645028Z",
     "start_time": "2023-11-06T03:33:30.231087Z"
    }
   },
   "id": "6db0fc85bf3c5c13",
   "outputs": []
  },
  {
   "cell_type": "code",
   "execution_count": 3,
   "source": [
    "X_test = np.load(f\"{base_dir}/cropped_dataset/straight_model/one_landmark/100x100x100/no_trans_50aug_6medium/x_test.npy\")"
   ],
   "metadata": {
    "collapsed": false,
    "ExecuteTime": {
     "end_time": "2023-11-06T03:34:23.340260Z",
     "start_time": "2023-11-06T03:34:13.622001Z"
    }
   },
   "id": "43bb62c28778dd96",
   "outputs": []
  },
  {
   "cell_type": "code",
   "execution_count": 4,
   "source": [
    "err_diff = Y_test_pr - Y_test_gt"
   ],
   "metadata": {
    "collapsed": false,
    "ExecuteTime": {
     "end_time": "2023-11-06T03:34:27.228711Z",
     "start_time": "2023-11-06T03:34:27.185077Z"
    }
   },
   "id": "b608f9c0aece40c8",
   "outputs": []
  },
  {
   "cell_type": "code",
   "execution_count": 5,
   "source": [
    "err_diff_p2 = np.power(err_diff, 2)\n",
    "sum_square_err_diff = np.sum(err_diff_p2, axis= (1,2) )\n",
    "err_dis = np.power(sum_square_err_diff, 1/2) * 0.15\n",
    "min_err_idx = np.argmin(err_dis, axis=0)\n",
    "max_err_idx = np.argmax(err_dis, axis=0)\n",
    "print(f\"Min[{min_err_idx}]: {err_dis[min_err_idx]}\")\n",
    "print(f\"Max[{max_err_idx}]: {err_dis[max_err_idx]}\")\n",
    "print(f\"Mean: {np.mean(err_dis)}\")"
   ],
   "metadata": {
    "collapsed": false,
    "ExecuteTime": {
     "end_time": "2023-11-06T03:34:28.435874Z",
     "start_time": "2023-11-06T03:34:28.356314Z"
    }
   },
   "id": "d4a73847d7ae7ae0",
   "outputs": []
  },
  {
   "cell_type": "code",
   "execution_count": 37,
   "source": [
    "err_dis_pat = np.reshape(err_dis, (4, 100))\n",
    "\n",
    "mean_pat = np.mean(err_dis_pat, axis=1)\n",
    "std_pat = np.std(err_dis_pat, axis=1)\n",
    "\n",
    "print(f\"Mean: {mean_pat}\")\n",
    "print(f\"Std: {std_pat}\")\n",
    "\n",
    "for index in range(len(mean_pat)):\n",
    "    print(f\"Test Patient {index}, 95.44%, ({mean_pat[index]-2*std_pat[index]}, {mean_pat[index]+2*std_pat[index]})\")"
   ],
   "metadata": {
    "collapsed": false,
    "ExecuteTime": {
     "end_time": "2023-11-06T05:11:26.300213Z",
     "start_time": "2023-11-06T05:11:26.284749Z"
    }
   },
   "id": "4f62633adfd8daf8",
   "outputs": []
  },
  {
   "cell_type": "code",
   "execution_count": null,
   "source": [],
   "metadata": {
    "collapsed": false
   },
   "id": "90b43626f9c53a37",
   "outputs": []
  },
  {
   "cell_type": "code",
   "execution_count": 9,
   "source": [
    "err_max2min_ids = sorted(range(len(err_dis)), key=lambda k: err_dis[k], reverse=True)"
   ],
   "metadata": {
    "collapsed": false,
    "ExecuteTime": {
     "end_time": "2023-11-06T04:16:34.179867Z",
     "start_time": "2023-11-06T04:16:34.121915Z"
    }
   },
   "id": "4d11dd32a0e57bd2",
   "outputs": []
  },
  {
   "cell_type": "code",
   "execution_count": 10,
   "source": [
    "print(err_max2min_ids[0:100])"
   ],
   "metadata": {
    "collapsed": false,
    "ExecuteTime": {
     "end_time": "2023-11-06T04:16:35.226715Z",
     "start_time": "2023-11-06T04:16:35.170888Z"
    }
   },
   "id": "573eaf790fd958da",
   "outputs": []
  },
  {
   "cell_type": "code",
   "execution_count": 32,
   "source": [
    "import Functions.MyDataset as MyDataset\n",
    "\n",
    "import importlib\n",
    "importlib.reload(MyDataset)\n",
    "\n",
    "ck_id = 300\n",
    "\n",
    "pt_name, pt_aug_id = MyDataset.get_pat_from_test_idx(ck_id, split=True, aug_num=50)"
   ],
   "metadata": {
    "collapsed": false,
    "ExecuteTime": {
     "end_time": "2023-11-06T04:51:00.349113Z",
     "start_time": "2023-11-06T04:50:59.857280Z"
    }
   },
   "id": "c05a3df441d82dad",
   "outputs": []
  },
  {
   "cell_type": "code",
   "execution_count": 33,
   "source": [
    "ck_volume = X_test[ck_id, :, :, :, 0]\n",
    "ck_y_gt = Y_test_gt[ck_id, :, :]\n",
    "ck_y_pr = Y_test_pr[ck_id, :, :]\n",
    "\n",
    "print(err_dis[ck_id])\n",
    "print(ck_y_gt)\n",
    "print(ck_y_pr)"
   ],
   "metadata": {
    "collapsed": false,
    "ExecuteTime": {
     "end_time": "2023-11-06T04:51:00.920732Z",
     "start_time": "2023-11-06T04:51:00.837684Z"
    }
   },
   "id": "78df179756277140",
   "outputs": []
  },
  {
   "cell_type": "code",
   "execution_count": 34,
   "source": [
    "import Functions.Visualization as Visualization\n",
    "\n",
    "import importlib\n",
    "importlib.reload(Visualization)\n",
    "\n",
    "px_d = [0.15, 0.15, 0.15]\n",
    "\n",
    "Visualization.show_one_landmark_half_volume(ck_volume, ck_y_gt, px_d)\n",
    "\n",
    "Visualization.show_one_landmark_half_volume(ck_volume, ck_y_pr, px_d)"
   ],
   "metadata": {
    "collapsed": false,
    "ExecuteTime": {
     "end_time": "2023-11-06T04:51:07.975516Z",
     "start_time": "2023-11-06T04:51:05.502396Z"
    }
   },
   "id": "bb6d8ea49d2b6b5",
   "outputs": []
  },
  {
   "cell_type": "markdown",
   "source": [
    "## check the Augmentation results"
   ],
   "metadata": {
    "collapsed": false
   },
   "id": "ec54c59c8474600f"
  },
  {
   "cell_type": "code",
   "execution_count": 31,
   "source": [
    "import numpy as np\n",
    "import h5py\n",
    "\n",
    "data_file_path = \"F:/Data/augmentation_exp/original_divided_augmentation/JM_aug_2.mat\"\n",
    "\n",
    "data_file = h5py.File(data_file_path, 'r')\n",
    "\n",
    "left_vol = np.array(data_file.get('augLeftVol')).T\n",
    "left_pts = np.array(data_file.get('augLeftPts')).T\n",
    "\n",
    "right_vol = np.array(data_file.get('augRightVol')).T\n",
    "right_pts = np.array(data_file.get('augRightPts')).T\n",
    "\n",
    "data_file.close()"
   ],
   "metadata": {
    "collapsed": false
   },
   "id": "4beab7da9bb8147a",
   "outputs": []
  },
  {
   "cell_type": "code",
   "execution_count": 32,
   "source": [
    "import Functions.Visualization as Visualization\n",
    "\n",
    "import importlib\n",
    "importlib.reload(Visualization)\n",
    "\n",
    "Visualization.show_two_landmarks_half_volume(left_vol, left_pts, [0.15, 0.15, 0.15])\n",
    "Visualization.show_two_landmarks_half_volume(right_vol, right_pts, [0.15, 0.15, 0.15])"
   ],
   "metadata": {
    "collapsed": false
   },
   "id": "d8696a62d42e0a31",
   "outputs": []
  },
  {
   "cell_type": "markdown",
   "source": [
    "check augmentation results from python's patch aug code"
   ],
   "metadata": {
    "collapsed": false
   },
   "id": "2452b697624ff4ab"
  },
  {
   "cell_type": "code",
   "execution_count": 2,
   "source": [
    "import numpy as np\n",
    "\n",
    "base_dir = \"/Volumes/my_HDD/augmentation_exp/patch_augmentation_python\"\n",
    "volume_path = f\"{base_dir}/AH_volume_patch_aug_1.npy\"\n",
    "points_path = f\"{base_dir}/AH_points_aug_1.npy\"\n",
    "\n",
    "aug_volumes = np.load(volume_path)\n",
    "aug_points = np.load(points_path)\n",
    "\n",
    "print(aug_volumes.shape)\n",
    "print(aug_points.shape)"
   ],
   "metadata": {
    "collapsed": false,
    "ExecuteTime": {
     "end_time": "2023-10-23T04:48:44.854221Z",
     "start_time": "2023-10-23T04:48:23.898639Z"
    }
   },
   "id": "7e75b1666061eb68",
   "outputs": []
  },
  {
   "cell_type": "code",
   "execution_count": 17,
   "source": [
    "import Functions.Visualization as Visualization\n",
    "\n",
    "ck_aug_id = 99\n",
    "\n",
    "ck_aug_volume = aug_volumes[ck_aug_id, :, :, :, 0]\n",
    "ck_aug_points = aug_points[ck_aug_id]\n",
    "\n",
    "Visualization.show_two_landmarks_half_volume(ck_aug_volume, ck_aug_points, [0.15, 0.15, 0.15])"
   ],
   "metadata": {
    "collapsed": false,
    "ExecuteTime": {
     "end_time": "2023-10-23T04:51:14.768390Z",
     "start_time": "2023-10-23T04:51:14.244617Z"
    }
   },
   "id": "d161dbef97cafdd",
   "outputs": []
  },
  {
   "cell_type": "code",
   "execution_count": null,
   "source": [],
   "metadata": {
    "collapsed": false
   },
   "id": "a92e15a6e7a6e69",
   "outputs": []
  }
 ],
 "metadata": {
  "kernelspec": {
   "display_name": "Python 3",
   "language": "python",
   "name": "python3"
  },
  "language_info": {
   "codemirror_mode": {
    "name": "ipython",
    "version": 2
   },
   "file_extension": ".py",
   "mimetype": "text/x-python",
   "name": "python",
   "nbconvert_exporter": "python",
   "pygments_lexer": "ipython2",
   "version": "2.7.6"
  }
 },
 "nbformat": 4,
 "nbformat_minor": 5
}
