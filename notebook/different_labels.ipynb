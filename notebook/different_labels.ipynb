{
 "cells": [
  {
   "cell_type": "markdown",
   "source": [
    " ## Try labels from different experts"
   ],
   "metadata": {
    "collapsed": false
   },
   "id": "e7d70d5229611dc1"
  },
  {
   "metadata": {},
   "cell_type": "markdown",
   "source": "## Load and process raw data",
   "id": "86e5b31cbd6c5c0d"
  },
  {
   "cell_type": "code",
   "source": [
    "import pandas as pd\n",
    "import numpy as np\n",
    "\n",
    "base_dir = \"../data/raw/Y/ROI_6\"\n",
    "\n",
    "ROI_path_JM1 = f\"{base_dir}/JM/1.xlsx\"\n",
    "ROI_path_JM2 = f\"{base_dir}/JM/2.xlsx\"\n",
    "\n",
    "ROI_path_Dan1 = f\"{base_dir}/Dan/1.xlsx\"\n",
    "ROI_path_Dan2 = f\"{base_dir}/Dan/2.xlsx\"\n",
    "\n",
    "ROI_path_Bridget1 = f\"{base_dir}/Bridget/1.xlsx\"\n",
    "ROI_path_Bridget2 = f\"{base_dir}/Bridget/2.xlsx\"\n",
    "\n",
    "roi_CT_JM1 = pd.read_excel(ROI_path_JM1, index_col=[0, 1, 2], header=None)\n",
    "roi_CT_JM2 = pd.read_excel(ROI_path_JM2, index_col=[0, 1, 2], header=None)\n",
    "\n",
    "roi_CT_Dan1 = pd.read_excel(ROI_path_Dan1, index_col=[0, 1, 2], header=None)\n",
    "roi_CT_Dan2 = pd.read_excel(ROI_path_Dan2, index_col=[0, 1, 2], header=None)\n",
    "\n",
    "roi_CT_Bridget1 = pd.read_excel(ROI_path_Bridget1, index_col=[0, 1, 2], header=None)\n",
    "roi_CT_Bridget2 = pd.read_excel(ROI_path_Bridget2, index_col=[0, 1, 2], header=None)"
   ],
   "metadata": {
    "collapsed": false,
    "ExecuteTime": {
     "end_time": "2024-06-11T04:02:25.126490Z",
     "start_time": "2024-06-11T04:02:24.852448Z"
    }
   },
   "id": "d0e63ed4a7508deb",
   "outputs": [],
   "execution_count": 12
  },
  {
   "cell_type": "code",
   "source": [
    "index = roi_CT_Bridget1.index"
   ],
   "metadata": {
    "collapsed": false,
    "ExecuteTime": {
     "end_time": "2024-06-11T04:02:25.138173Z",
     "start_time": "2024-06-11T04:02:25.133855Z"
    }
   },
   "id": "e2f5bec8ea5ae483",
   "outputs": [],
   "execution_count": 13
  },
  {
   "cell_type": "code",
   "source": [
    "ck_pt = 'SM'\n",
    "ck_l = 'LLSCC post'\n",
    "\n",
    "print(roi_CT_JM1.loc[(ck_pt, 'CT',  ck_l)].values.reshape(1,3))\n",
    "print(roi_CT_JM2.loc[(ck_pt, 'CT', ck_l)].values.reshape(1,3))\n",
    "print(roi_CT_Dan1.loc[(ck_pt, 'CT',  ck_l)].values.reshape(1,3))\n",
    "print(roi_CT_Dan2.loc[(ck_pt, 'CT', ck_l)].values.reshape(1,3))\n",
    "print(roi_CT_Bridget1.loc[(ck_pt, 'CT',  ck_l)].values.reshape(1,3))\n",
    "print(roi_CT_Bridget2.loc[(ck_pt, 'CT', ck_l)].values.reshape(1,3))"
   ],
   "metadata": {
    "collapsed": false,
    "ExecuteTime": {
     "end_time": "2024-06-11T04:02:25.156846Z",
     "start_time": "2024-06-11T04:02:25.140410Z"
    }
   },
   "id": "4067d9017ff68fb2",
   "outputs": [
    {
     "name": "stdout",
     "output_type": "stream",
     "text": [
      "[[753 582 199]]\n",
      "[[753 582 199]]\n",
      "[[753 582 199]]\n",
      "[[753 582 199]]\n",
      "[[754 584 199]]\n",
      "[[755 583 198]]\n"
     ]
    }
   ],
   "execution_count": 14
  },
  {
   "cell_type": "code",
   "source": [
    "import src.models.common.MyDataset as MyDataset\n",
    "\n",
    "names = MyDataset.get_pat_names()\n",
    "\n",
    "landmarks = ['LLSCC ant', 'LLSCC post', 'RLSCC ant', 'RLSCC post']\n",
    "\n",
    "all_labels = []\n",
    "\n",
    "for pt_name in names:\n",
    "    for landmark in landmarks:\n",
    "        l1 = roi_CT_JM1.loc[(pt_name, 'CT',  landmark)].values.reshape(1,3)\n",
    "        l2 = roi_CT_JM2.loc[(pt_name, 'CT',  landmark)].values.reshape(1,3)\n",
    "        l3 = roi_CT_Dan1.loc[(pt_name, 'CT',  landmark)].values.reshape(1,3)\n",
    "        l4 = roi_CT_Dan2.loc[(pt_name, 'CT',  landmark)].values.reshape(1,3)\n",
    "        l5 = roi_CT_Bridget1.loc[(pt_name, 'CT',  landmark)].values.reshape(1,3)\n",
    "        l6 = roi_CT_Bridget2.loc[(pt_name, 'CT',  landmark)].values.reshape(1,3)\n",
    "        one_landmark = np.concatenate([l1, l2, l3, l4, l5, l6], axis=0)\n",
    "        if len(all_labels) == 0:\n",
    "            all_labels = one_landmark\n",
    "        else:\n",
    "            all_labels = np.concatenate([all_labels, one_landmark], axis=0)"
   ],
   "metadata": {
    "collapsed": false,
    "ExecuteTime": {
     "end_time": "2024-06-11T04:02:25.275330Z",
     "start_time": "2024-06-11T04:02:25.164119Z"
    }
   },
   "id": "5d628311efa0892d",
   "outputs": [],
   "execution_count": 15
  },
  {
   "cell_type": "code",
   "source": [
    "all_labels = all_labels.reshape((20, 4, 6, 3))\n",
    "print(all_labels[13, 1, :, :])\n",
    "print(all_labels[0:4])"
   ],
   "metadata": {
    "collapsed": false,
    "ExecuteTime": {
     "end_time": "2024-06-11T04:02:25.288851Z",
     "start_time": "2024-06-11T04:02:25.279875Z"
    }
   },
   "id": "fb1be5f562a94996",
   "outputs": [
    {
     "name": "stdout",
     "output_type": "stream",
     "text": [
      "[[773 516 243]\n",
      " [772 515 242]\n",
      " [773 516 243]\n",
      " [772 516 242]\n",
      " [774 516 241]\n",
      " [773 515 241]]\n",
      "[[[[757 448 207]\n",
      "   [757 450 206]\n",
      "   [757 449 206]\n",
      "   [756 450 207]\n",
      "   [758 449 207]\n",
      "   [758 450 206]]\n",
      "\n",
      "  [[751 479 207]\n",
      "   [750 478 206]\n",
      "   [751 479 205]\n",
      "   [750 479 206]\n",
      "   [751 478 205]\n",
      "   [749 477 205]]\n",
      "\n",
      "  [[243 473 214]\n",
      "   [243 475 214]\n",
      "   [244 474 213]\n",
      "   [245 475 214]\n",
      "   [243 475 214]\n",
      "   [242 474 213]]\n",
      "\n",
      "  [[256 501 209]\n",
      "   [256 502 209]\n",
      "   [254 502 208]\n",
      "   [256 501 208]\n",
      "   [256 502 208]\n",
      "   [255 502 209]]]\n",
      "\n",
      "\n",
      " [[[795 524 246]\n",
      "   [797 524 247]\n",
      "   [795 524 246]\n",
      "   [795 525 246]\n",
      "   [797 524 247]\n",
      "   [796 525 247]]\n",
      "\n",
      "  [[780 542 231]\n",
      "   [780 543 231]\n",
      "   [781 542 231]\n",
      "   [781 544 231]\n",
      "   [782 542 232]\n",
      "   [781 544 232]]\n",
      "\n",
      "  [[245 485 224]\n",
      "   [246 485 224]\n",
      "   [248 485 224]\n",
      "   [248 485 224]\n",
      "   [246 486 223]\n",
      "   [244 488 223]]\n",
      "\n",
      "  [[256 508 209]\n",
      "   [256 507 209]\n",
      "   [255 507 208]\n",
      "   [256 507 209]\n",
      "   [255 508 210]\n",
      "   [256 507 208]]]\n",
      "\n",
      "\n",
      " [[[809 587 278]\n",
      "   [808 587 278]\n",
      "   [807 587 278]\n",
      "   [807 586 277]\n",
      "   [809 588 278]\n",
      "   [809 586 278]]\n",
      "\n",
      "  [[797 607 261]\n",
      "   [796 607 261]\n",
      "   [799 609 262]\n",
      "   [798 609 261]\n",
      "   [800 610 262]\n",
      "   [798 609 261]]\n",
      "\n",
      "  [[241 522 283]\n",
      "   [240 522 283]\n",
      "   [242 523 282]\n",
      "   [241 522 283]\n",
      "   [240 523 282]\n",
      "   [240 522 283]]\n",
      "\n",
      "  [[245 547 265]\n",
      "   [248 547 264]\n",
      "   [246 548 265]\n",
      "   [248 547 264]\n",
      "   [246 548 264]\n",
      "   [247 548 264]]]\n",
      "\n",
      "\n",
      " [[[798 438 240]\n",
      "   [799 438 241]\n",
      "   [797 437 241]\n",
      "   [796 438 241]\n",
      "   [795 438 240]\n",
      "   [799 439 240]]\n",
      "\n",
      "  [[785 458 225]\n",
      "   [783 456 226]\n",
      "   [785 457 226]\n",
      "   [785 458 226]\n",
      "   [786 459 225]\n",
      "   [786 458 226]]\n",
      "\n",
      "  [[250 364 269]\n",
      "   [248 363 271]\n",
      "   [251 364 269]\n",
      "   [251 364 270]\n",
      "   [248 364 269]\n",
      "   [249 364 270]]\n",
      "\n",
      "  [[256 388 255]\n",
      "   [256 385 254]\n",
      "   [257 387 254]\n",
      "   [256 387 255]\n",
      "   [255 388 254]\n",
      "   [258 385 256]]]]\n"
     ]
    }
   ],
   "execution_count": 16
  },
  {
   "cell_type": "code",
   "source": [
    "medium_labels = np.median(all_labels, axis=2)"
   ],
   "metadata": {
    "collapsed": false,
    "ExecuteTime": {
     "end_time": "2024-06-11T04:02:25.303475Z",
     "start_time": "2024-06-11T04:02:25.292957Z"
    }
   },
   "id": "9634ae97d1f4413b",
   "outputs": [],
   "execution_count": 17
  },
  {
   "cell_type": "code",
   "source": [
    "medium_labels_tmp = np.reshape(medium_labels, (80, 3))\n",
    "print(medium_labels[0:4])"
   ],
   "metadata": {
    "collapsed": false,
    "ExecuteTime": {
     "end_time": "2024-06-11T04:02:25.463247Z",
     "start_time": "2024-06-11T04:02:25.455132Z"
    }
   },
   "id": "73737dcdedd491c2",
   "outputs": [
    {
     "name": "stdout",
     "output_type": "stream",
     "text": [
      "[[[757.  449.5 206.5]\n",
      "  [750.5 478.5 205.5]\n",
      "  [243.  474.5 214. ]\n",
      "  [256.  502.  208.5]]\n",
      "\n",
      " [[795.5 524.  246.5]\n",
      "  [781.  542.5 231. ]\n",
      "  [246.  485.  224. ]\n",
      "  [256.  507.  209. ]]\n",
      "\n",
      " [[808.5 587.  278. ]\n",
      "  [798.  609.  261. ]\n",
      "  [240.5 522.  283. ]\n",
      "  [246.5 547.5 264. ]]\n",
      "\n",
      " [[797.5 438.  240.5]\n",
      "  [785.  458.  226. ]\n",
      "  [249.5 364.  269.5]\n",
      "  [256.  387.  254.5]]]\n"
     ]
    }
   ],
   "execution_count": 18
  },
  {
   "cell_type": "code",
   "source": [
    "all_labels_reshape = all_labels.reshape((80, 18))\n",
    "save_columns = ['x', 'y', 'z', 'x', 'y', 'z', 'x', 'y', 'z', 'x', 'y', 'z', 'x', 'y', 'z', 'x', 'y', 'z']\n",
    "save_index = np.asarray(['LLSCC ant', 'LLSCC post', 'RLSCC ant', 'RLSCC post'])\n",
    "save_index = np.repeat(save_index.reshape(1, 4), 20, axis=0).reshape(80)"
   ],
   "metadata": {
    "collapsed": false,
    "ExecuteTime": {
     "end_time": "2024-06-11T04:02:25.540243Z",
     "start_time": "2024-06-11T04:02:25.531519Z"
    }
   },
   "id": "b43a456b619c2d8",
   "outputs": [],
   "execution_count": 19
  },
  {
   "cell_type": "code",
   "source": [
    "# # save the processed Y\n",
    "# df1 = pd.DataFrame(all_labels_reshape,\n",
    "#                    index=save_index,\n",
    "#                    columns=save_columns)\n",
    "# df1.to_excel(\"../Resources/ROI/ROI_6.xlsx\")"
   ],
   "metadata": {
    "collapsed": false,
    "ExecuteTime": {
     "end_time": "2024-06-11T04:02:25.599959Z",
     "start_time": "2024-06-11T04:02:25.590122Z"
    }
   },
   "id": "a9aac39ef72df76f",
   "outputs": [],
   "execution_count": 20
  },
  {
   "metadata": {},
   "cell_type": "markdown",
   "source": "## Check the experts' div",
   "id": "b92cf59652ede00d"
  },
  {
   "metadata": {
    "ExecuteTime": {
     "end_time": "2024-06-11T04:03:25.856106Z",
     "start_time": "2024-06-11T04:03:25.846101Z"
    }
   },
   "cell_type": "code",
   "source": [
    "medium_labels = medium_labels.reshape((20, 4, 1, 3))\n",
    "medium_labels_rep = np.repeat(medium_labels, 6, axis=2)"
   ],
   "id": "82702bd8cb981065",
   "outputs": [],
   "execution_count": 22
  },
  {
   "cell_type": "code",
   "source": [
    "diff_all_medium = (all_labels - medium_labels_rep) * 0.15\n",
    "\n",
    "diff_p2 = np.power(diff_all_medium, 2)\n",
    "\n",
    "diff_dis = np.power(np.sum(diff_p2, axis=3), 1/2)\n",
    "\n",
    "print(np.mean(diff_dis))\n",
    "print(np.std(diff_dis))"
   ],
   "metadata": {
    "collapsed": false,
    "ExecuteTime": {
     "end_time": "2024-06-11T04:03:25.873480Z",
     "start_time": "2024-06-11T04:03:25.860335Z"
    }
   },
   "id": "b2d6feaecf07ebd8",
   "outputs": [
    {
     "name": "stdout",
     "output_type": "stream",
     "text": [
      "0.21566366925921088\n",
      "0.2438239513699458\n"
     ]
    }
   ],
   "execution_count": 23
  },
  {
   "cell_type": "code",
   "source": [
    "# base_save_dir = \"../data/processed/Y\"\n",
    "# \n",
    "# np.save(f\"{base_save_dir}/ROI_CT_Medium\", medium_labels)"
   ],
   "metadata": {
    "collapsed": false,
    "ExecuteTime": {
     "end_time": "2024-06-11T04:04:15.696122Z",
     "start_time": "2024-06-11T04:04:15.692400Z"
    }
   },
   "id": "db6a3ec89cc71321",
   "outputs": [],
   "execution_count": 26
  },
  {
   "metadata": {
    "ExecuteTime": {
     "end_time": "2024-06-11T04:20:19.320839Z",
     "start_time": "2024-06-11T04:20:19.314492Z"
    }
   },
   "cell_type": "code",
   "source": [
    "# Anterior and Posterior differences from the labels\n",
    "ant_diff_dis = diff_dis[:, [0, 2], :]\n",
    "pos_diff_dis = diff_dis[:, [1, 3], :]\n",
    "\n",
    "ant_diff_dis_mean = np.mean(ant_diff_dis)\n",
    "ant_diff_dis_dev = np.std(ant_diff_dis)\n",
    "pos_diff_dis_mean = np.mean(pos_diff_dis)\n",
    "pos_diff_dis_dev = np.std(pos_diff_dis)\n",
    "\n",
    "print(f\"Anterior mean: [{ant_diff_dis_mean}], dev: [{ant_diff_dis_dev}]\")\n",
    "print(f\"Posterior mean: [{pos_diff_dis_mean}], dev: [{pos_diff_dis_dev}]\")"
   ],
   "id": "e6defceb7fa0dc34",
   "outputs": [
    {
     "name": "stdout",
     "output_type": "stream",
     "text": [
      "Anterior mean: [0.2190666918419096], dev: [0.13593577353089142]\n",
      "Posterior mean: [0.21226064667651212], dev: [0.31685729101989885]\n"
     ]
    }
   ],
   "execution_count": 32
  },
  {
   "metadata": {},
   "cell_type": "markdown",
   "source": "## try to upgrade from ct_medium_3 to ct_medium_6 ...",
   "id": "237ee11f452f2509"
  },
  {
   "cell_type": "code",
   "source": [
    "import numpy as np\n",
    "\n",
    "ct_medium_6 = np.load(\"../data/processed/Y/ROI_CT_Medium.npy\")\n",
    "ct_medium_3 = np.load(\"../data/raw/Y/ROI_3/ROI_CT_Medium.npy\")\n",
    "\n",
    "diff = ct_medium_3 - ct_medium_6"
   ],
   "metadata": {
    "collapsed": false,
    "ExecuteTime": {
     "end_time": "2024-06-11T04:07:00.856498Z",
     "start_time": "2024-06-11T04:07:00.849920Z"
    }
   },
   "id": "b4f462c585a524da",
   "outputs": [],
   "execution_count": 28
  },
  {
   "cell_type": "code",
   "source": [
    "#diff[:, 2:4, 0] = - diff[:, 2:4, 0]\n",
    "print(diff[0:5])"
   ],
   "metadata": {
    "collapsed": false,
    "ExecuteTime": {
     "end_time": "2024-06-11T04:08:00.029955Z",
     "start_time": "2024-06-11T04:08:00.021839Z"
    }
   },
   "id": "2aee51df53889a16",
   "outputs": [
    {
     "name": "stdout",
     "output_type": "stream",
     "text": [
      "[[[ 1.  -0.5  0.5]\n",
      "  [ 0.5 -0.5 -0.5]\n",
      "  [ 0.   0.5  0. ]\n",
      "  [ 0.   0.  -0.5]]\n",
      "\n",
      " [[ 1.5  0.   0.5]\n",
      "  [ 1.  -0.5  1. ]\n",
      "  [ 0.   1.  -1. ]\n",
      "  [-1.   1.   1. ]]\n",
      "\n",
      " [[ 0.5  1.   0. ]\n",
      "  [ 2.   1.   1. ]\n",
      "  [-0.5  1.  -1. ]\n",
      "  [-0.5  0.5  0. ]]\n",
      "\n",
      " [[-2.5  0.  -0.5]\n",
      "  [ 1.   1.  -1. ]\n",
      "  [-1.5  0.  -0.5]\n",
      "  [-1.   1.  -0.5]]\n",
      "\n",
      " [[ 0.  -0.5 -1. ]\n",
      "  [ 1.   1.   0. ]\n",
      "  [-1.   1.  -1. ]\n",
      "  [ 2.  -1.5  0. ]]]\n"
     ]
    }
   ],
   "execution_count": 30
  },
  {
   "cell_type": "code",
   "execution_count": 10,
   "source": [
    "diff_flip = np.copy(diff)\n",
    "diff_flip[:, 2:4, 0] = -diff_flip[:, 2:4, 0]\n",
    "print(diff_flip[0:5])"
   ],
   "metadata": {
    "collapsed": false,
    "ExecuteTime": {
     "end_time": "2023-11-01T03:26:08.023331Z",
     "start_time": "2023-11-01T03:26:07.796935Z"
    }
   },
   "id": "6836d8c7c7494962",
   "outputs": []
  },
  {
   "cell_type": "code",
   "execution_count": 11,
   "source": [
    "np.save(\"../Resources/diff_flip\", diff_flip)"
   ],
   "metadata": {
    "collapsed": false,
    "ExecuteTime": {
     "end_time": "2023-11-01T03:28:16.790593Z",
     "start_time": "2023-11-01T03:28:16.528609Z"
    }
   },
   "id": "8acfe23cd040adfd",
   "outputs": []
  },
  {
   "cell_type": "code",
   "execution_count": 80,
   "source": [
    "import numpy as np\n",
    "import importlib\n",
    "import Functions.MyDataset as MyDataset\n",
    "import Functions.Visualization as Visualization\n",
    "\n",
    "pat_aug_path = \"/Volumes/Shawn_HDD/PhD/Project/Date/augmentation_from_matlab/original_augmentation_data/JM_aug_1.mat\"\n",
    "\n",
    "pixel_space = [0.15, 0.15, 0.15]\n",
    "\n",
    "importlib.reload(Visualization)\n",
    "\n",
    "pat_aug_volume, pat_aug_pts, _ = MyDataset.load_mat_data(pat_aug_path)\n",
    "\n",
    "print(pat_aug_pts)\n",
    "\n",
    "Visualization.show_pts(pat_aug_volume, pat_aug_pts, pixel_space)\n",
    "\n",
    "print(pat_aug_pts)"
   ],
   "metadata": {
    "collapsed": false,
    "ExecuteTime": {
     "end_time": "2023-10-31T01:56:14.199440Z",
     "start_time": "2023-10-31T01:55:44.437100Z"
    }
   },
   "id": "474e05de2f888e45",
   "outputs": []
  },
  {
   "cell_type": "code",
   "execution_count": 83,
   "source": [
    "Visualization.show_pts(pat_aug_volume, medium_labels[13, :, :], pixel_space)"
   ],
   "metadata": {
    "collapsed": false,
    "ExecuteTime": {
     "end_time": "2023-10-31T04:13:49.830940Z",
     "start_time": "2023-10-31T04:13:45.854328Z"
    }
   },
   "id": "318703f1e69798ed",
   "outputs": []
  },
  {
   "cell_type": "code",
   "execution_count": null,
   "source": [],
   "metadata": {
    "collapsed": false
   },
   "id": "81de0e25a2efb96a",
   "outputs": []
  }
 ],
 "metadata": {
  "kernelspec": {
   "display_name": "Python 3",
   "language": "python",
   "name": "python3"
  },
  "language_info": {
   "codemirror_mode": {
    "name": "ipython",
    "version": 2
   },
   "file_extension": ".py",
   "mimetype": "text/x-python",
   "name": "python",
   "nbconvert_exporter": "python",
   "pygments_lexer": "ipython2",
   "version": "2.7.6"
  }
 },
 "nbformat": 4,
 "nbformat_minor": 5
}
