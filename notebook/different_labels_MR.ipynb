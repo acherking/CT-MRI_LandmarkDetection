{
 "cells": [
  {
   "cell_type": "markdown",
   "id": "e7d70d5229611dc1",
   "metadata": {
    "collapsed": false,
    "jupyter": {
     "outputs_hidden": false
    }
   },
   "source": [
    " ## Try labels from different experts"
   ]
  },
  {
   "cell_type": "markdown",
   "id": "86e5b31cbd6c5c0d",
   "metadata": {},
   "source": [
    "## Load and process raw data"
   ]
  },
  {
   "cell_type": "code",
   "execution_count": 1,
   "id": "d0e63ed4a7508deb",
   "metadata": {
    "ExecuteTime": {
     "end_time": "2024-09-05T06:34:51.042343Z",
     "start_time": "2024-09-05T06:34:46.842414Z"
    },
    "collapsed": false,
    "jupyter": {
     "outputs_hidden": false
    }
   },
   "outputs": [],
   "source": [
    "import pandas as pd\n",
    "import numpy as np\n",
    "\n",
    "base_dir = \"../data/raw/Y/ROI_6\"\n",
    "\n",
    "ROI_path_JM1 = f\"{base_dir}/JM/1.xlsx\"\n",
    "ROI_path_JM2 = f\"{base_dir}/JM/2.xlsx\"\n",
    "\n",
    "ROI_path_Dan1 = f\"{base_dir}/Dan/1.xlsx\"\n",
    "ROI_path_Dan2 = f\"{base_dir}/Dan/2.xlsx\"\n",
    "\n",
    "ROI_path_Bridget1 = f\"{base_dir}/Bridget/1.xlsx\"\n",
    "ROI_path_Bridget2 = f\"{base_dir}/Bridget/2.xlsx\"\n",
    "\n",
    "roi_MR_JM1 = pd.read_excel(ROI_path_JM1, index_col=[0, 1, 2], header=None)\n",
    "roi_MR_JM2 = pd.read_excel(ROI_path_JM2, index_col=[0, 1, 2], header=None)\n",
    "\n",
    "roi_MR_Dan1 = pd.read_excel(ROI_path_Dan1, index_col=[0, 1, 2], header=None)\n",
    "roi_MR_Dan2 = pd.read_excel(ROI_path_Dan2, index_col=[0, 1, 2], header=None)\n",
    "\n",
    "roi_MR_Bridget1 = pd.read_excel(ROI_path_Bridget1, index_col=[0, 1, 2], header=None)\n",
    "roi_MR_Bridget2 = pd.read_excel(ROI_path_Bridget2, index_col=[0, 1, 2], header=None)"
   ]
  },
  {
   "cell_type": "code",
   "execution_count": 2,
   "id": "e2f5bec8ea5ae483",
   "metadata": {
    "ExecuteTime": {
     "end_time": "2024-09-05T06:34:53.460603Z",
     "start_time": "2024-09-05T06:34:53.452483Z"
    },
    "collapsed": false,
    "jupyter": {
     "outputs_hidden": false
    }
   },
   "outputs": [],
   "source": [
    "index = roi_MR_Bridget1.index"
   ]
  },
  {
   "cell_type": "code",
   "execution_count": 3,
   "id": "4067d9017ff68fb2",
   "metadata": {
    "ExecuteTime": {
     "end_time": "2024-09-05T06:34:56.022994Z",
     "start_time": "2024-09-05T06:34:55.989996Z"
    },
    "collapsed": false,
    "jupyter": {
     "outputs_hidden": false
    }
   },
   "outputs": [
    {
     "name": "stdout",
     "output_type": "stream",
     "text": [
      "[[535 449  37]]\n",
      "[[534 449  36]]\n",
      "[[534 449  36]]\n",
      "[[534 449  36]]\n",
      "[[535 450  36]]\n",
      "[[534 449  36]]\n"
     ]
    }
   ],
   "source": [
    "ck_pt = 'SM'\n",
    "ck_l = 'LLSCC post'\n",
    "\n",
    "print(roi_MR_JM1.loc[(ck_pt, 'MR',  ck_l)].values.reshape(1,3))\n",
    "print(roi_MR_JM2.loc[(ck_pt, 'MR', ck_l)].values.reshape(1,3))\n",
    "print(roi_MR_Dan1.loc[(ck_pt, 'MR',  ck_l)].values.reshape(1,3))\n",
    "print(roi_MR_Dan2.loc[(ck_pt, 'MR', ck_l)].values.reshape(1,3))\n",
    "print(roi_MR_Bridget1.loc[(ck_pt, 'MR',  ck_l)].values.reshape(1,3))\n",
    "print(roi_MR_Bridget2.loc[(ck_pt, 'MR', ck_l)].values.reshape(1,3))"
   ]
  },
  {
   "cell_type": "code",
   "execution_count": 4,
   "id": "ed4d51ea-a70f-454a-bd2f-7c03226de25f",
   "metadata": {},
   "outputs": [],
   "source": [
    "import os\n",
    "import sys\n",
    "module_path = os.path.abspath(os.path.join('..'))\n",
    "\n",
    "if module_path not in sys.path:\n",
    "    sys.path.append(module_path)"
   ]
  },
  {
   "cell_type": "code",
   "execution_count": 5,
   "id": "5d628311efa0892d",
   "metadata": {
    "ExecuteTime": {
     "end_time": "2024-09-05T06:35:04.047976Z",
     "start_time": "2024-09-05T06:35:03.044550Z"
    },
    "collapsed": false,
    "jupyter": {
     "outputs_hidden": false
    }
   },
   "outputs": [],
   "source": [
    "import src.models.common.MyDataset as MyDataset\n",
    "\n",
    "names = MyDataset.get_pat_names()\n",
    "\n",
    "landmarks = ['LLSCC ant', 'LLSCC post', 'RLSCC ant', 'RLSCC post']\n",
    "\n",
    "all_labels = []\n",
    "\n",
    "for pt_name in names:\n",
    "    for landmark in landmarks:\n",
    "        l1 = roi_MR_JM1.loc[(pt_name, 'MR',  landmark)].values.reshape(1,3)\n",
    "        l2 = roi_MR_JM2.loc[(pt_name, 'MR',  landmark)].values.reshape(1,3)\n",
    "        l3 = roi_MR_Dan1.loc[(pt_name, 'MR',  landmark)].values.reshape(1,3)\n",
    "        l4 = roi_MR_Dan2.loc[(pt_name, 'MR',  landmark)].values.reshape(1,3)\n",
    "        l5 = roi_MR_Bridget1.loc[(pt_name, 'MR',  landmark)].values.reshape(1,3)\n",
    "        l6 = roi_MR_Bridget2.loc[(pt_name, 'MR',  landmark)].values.reshape(1,3)\n",
    "        one_landmark = np.concatenate([l1, l2, l3, l4, l5, l6], axis=0)\n",
    "        if len(all_labels) == 0:\n",
    "            all_labels = one_landmark\n",
    "        else:\n",
    "            all_labels = np.concatenate([all_labels, one_landmark], axis=0)"
   ]
  },
  {
   "cell_type": "code",
   "execution_count": 6,
   "id": "fb1be5f562a94996",
   "metadata": {
    "ExecuteTime": {
     "end_time": "2024-09-05T06:35:08.103471Z",
     "start_time": "2024-09-05T06:35:08.093933Z"
    },
    "collapsed": false,
    "jupyter": {
     "outputs_hidden": false
    },
    "scrolled": true
   },
   "outputs": [
    {
     "name": "stdout",
     "output_type": "stream",
     "text": [
      "[[534 442  38]\n",
      " [532 441  38]\n",
      " [532 441  38]\n",
      " [532 441  38]\n",
      " [534 441  38]\n",
      " [533 441  38]]\n",
      "[[[[540 410  44]\n",
      "   [539 410  44]\n",
      "   [538 411  44]\n",
      "   [537 410  44]\n",
      "   [539 411  44]\n",
      "   [539 411  44]]\n",
      "\n",
      "  [[535 427  42]\n",
      "   [534 426  42]\n",
      "   [535 426  42]\n",
      "   [534 427  42]\n",
      "   [535 426  42]\n",
      "   [533 426  42]]\n",
      "\n",
      "  [[240 421  50]\n",
      "   [240 421  50]\n",
      "   [242 421  50]\n",
      "   [243 421  50]\n",
      "   [241 421  50]\n",
      "   [241 421  50]]\n",
      "\n",
      "  [[248 436  47]\n",
      "   [248 436  47]\n",
      "   [247 436  46]\n",
      "   [248 436  47]\n",
      "   [246 437  47]\n",
      "   [248 435  46]]]\n",
      "\n",
      "\n",
      " [[[532 441  47]\n",
      "   [533 441  47]\n",
      "   [530 441  47]\n",
      "   [530 441  47]\n",
      "   [532 441  47]\n",
      "   [532 441  47]]\n",
      "\n",
      "  [[524 453  42]\n",
      "   [525 454  42]\n",
      "   [524 453  42]\n",
      "   [524 453  42]\n",
      "   [526 454  42]\n",
      "   [525 453  42]]\n",
      "\n",
      "  [[213 446  52]\n",
      "   [213 446  52]\n",
      "   [215 446  51]\n",
      "   [215 446  51]\n",
      "   [213 446  52]\n",
      "   [214 446  52]]\n",
      "\n",
      "  [[218 459  47]\n",
      "   [219 458  46]\n",
      "   [219 458  46]\n",
      "   [220 458  46]\n",
      "   [218 459  46]\n",
      "   [218 458  46]]]\n",
      "\n",
      "\n",
      " [[[557 436  51]\n",
      "   [556 436  51]\n",
      "   [555 436  51]\n",
      "   [555 437  51]\n",
      "   [556 437  51]\n",
      "   [555 437  51]]\n",
      "\n",
      "  [[553 450  45]\n",
      "   [553 451  45]\n",
      "   [552 450  45]\n",
      "   [552 450  45]\n",
      "   [552 449  44]\n",
      "   [552 450  44]]\n",
      "\n",
      "  [[226 435  50]\n",
      "   [228 435  50]\n",
      "   [228 435  49]\n",
      "   [227 435  50]\n",
      "   [226 435  49]\n",
      "   [227 435  49]]\n",
      "\n",
      "  [[232 449  43]\n",
      "   [231 449  43]\n",
      "   [231 448  43]\n",
      "   [231 449  43]\n",
      "   [230 449  43]\n",
      "   [231 449  43]]]\n",
      "\n",
      "\n",
      " [[[554 426  48]\n",
      "   [555 426  48]\n",
      "   [553 426  48]\n",
      "   [553 426  48]\n",
      "   [554 426  48]\n",
      "   [555 426  48]]\n",
      "\n",
      "  [[550 440  45]\n",
      "   [549 439  45]\n",
      "   [549 440  45]\n",
      "   [549 440  45]\n",
      "   [550 440  45]\n",
      "   [549 439  45]]\n",
      "\n",
      "  [[236 433  41]\n",
      "   [235 433  41]\n",
      "   [238 434  41]\n",
      "   [237 433  41]\n",
      "   [236 434  41]\n",
      "   [236 433  41]]\n",
      "\n",
      "  [[241 448  39]\n",
      "   [242 448  39]\n",
      "   [242 448  39]\n",
      "   [242 448  39]\n",
      "   [240 449  39]\n",
      "   [241 448  39]]]]\n"
     ]
    }
   ],
   "source": [
    "all_labels = all_labels.reshape((20, 4, 6, 3))\n",
    "print(all_labels[13, 1, :, :])\n",
    "print(all_labels[0:4])"
   ]
  },
  {
   "cell_type": "code",
   "execution_count": 7,
   "id": "9634ae97d1f4413b",
   "metadata": {
    "ExecuteTime": {
     "end_time": "2024-09-05T06:35:12.664267Z",
     "start_time": "2024-09-05T06:35:12.652999Z"
    },
    "collapsed": false,
    "jupyter": {
     "outputs_hidden": false
    }
   },
   "outputs": [],
   "source": [
    "medium_labels = np.median(all_labels, axis=2)"
   ]
  },
  {
   "cell_type": "code",
   "execution_count": 9,
   "id": "73737dcdedd491c2",
   "metadata": {
    "ExecuteTime": {
     "end_time": "2024-09-05T06:40:01.057111Z",
     "start_time": "2024-09-05T06:40:01.042654Z"
    },
    "collapsed": false,
    "jupyter": {
     "outputs_hidden": false
    }
   },
   "outputs": [
    {
     "name": "stdout",
     "output_type": "stream",
     "text": [
      "[[[539.  410.5  44. ]\n",
      "  [534.5 426.   42. ]\n",
      "  [241.  421.   50. ]\n",
      "  [248.  436.   47. ]]\n",
      "\n",
      " [[532.  441.   47. ]\n",
      "  [524.5 453.   42. ]\n",
      "  [213.5 446.   52. ]\n",
      "  [218.5 458.   46. ]]\n",
      "\n",
      " [[555.5 436.5  51. ]\n",
      "  [552.  450.   45. ]\n",
      "  [227.  435.   49.5]\n",
      "  [231.  449.   43. ]]\n",
      "\n",
      " [[554.  426.   48. ]\n",
      "  [549.  440.   45. ]\n",
      "  [236.  433.   41. ]\n",
      "  [241.5 448.   39. ]]]\n"
     ]
    }
   ],
   "source": [
    "medium_labels_tmp = np.reshape(medium_labels, (80, 3))\n",
    "print(medium_labels[0:4])"
   ]
  },
  {
   "cell_type": "code",
   "execution_count": 7,
   "id": "b43a456b619c2d8",
   "metadata": {
    "ExecuteTime": {
     "end_time": "2024-09-05T06:38:51.129959Z",
     "start_time": "2024-09-05T06:38:51.110586Z"
    },
    "collapsed": false,
    "jupyter": {
     "outputs_hidden": false
    }
   },
   "outputs": [],
   "source": [
    "all_labels_reshape = all_labels.reshape((80, 18))\n",
    "save_columns = ['x', 'y', 'z', 'x', 'y', 'z', 'x', 'y', 'z', 'x', 'y', 'z', 'x', 'y', 'z', 'x', 'y', 'z']\n",
    "save_index = np.asarray(['LLSCC ant', 'LLSCC post', 'RLSCC ant', 'RLSCC post'])\n",
    "save_index = np.repeat(save_index.reshape(1, 4), 20, axis=0).reshape(80)"
   ]
  },
  {
   "cell_type": "code",
   "execution_count": 8,
   "id": "a9aac39ef72df76f",
   "metadata": {
    "ExecuteTime": {
     "end_time": "2024-09-05T06:38:52.277723Z",
     "start_time": "2024-09-05T06:38:52.142308Z"
    },
    "collapsed": false,
    "jupyter": {
     "outputs_hidden": false
    }
   },
   "outputs": [],
   "source": [
    "# save the processed Y\n",
    "df1 = pd.DataFrame(all_labels_reshape,\n",
    "                   index=save_index,\n",
    "                   columns=save_columns)\n",
    "\n",
    "base_save_dir = \"../data/processed/Y\"\n",
    "df1.to_excel(f\"{base_save_dir}/ROI_6.xlsx\")"
   ]
  },
  {
   "cell_type": "markdown",
   "id": "b92cf59652ede00d",
   "metadata": {},
   "source": [
    "## Check the experts' div"
   ]
  },
  {
   "cell_type": "code",
   "execution_count": 8,
   "id": "82702bd8cb981065",
   "metadata": {
    "ExecuteTime": {
     "end_time": "2024-06-11T04:03:25.856106Z",
     "start_time": "2024-06-11T04:03:25.846101Z"
    }
   },
   "outputs": [],
   "source": [
    "medium_labels = medium_labels.reshape((20, 4, 1, 3))\n",
    "medium_labels_rep = np.repeat(medium_labels, 6, axis=2)"
   ]
  },
  {
   "cell_type": "code",
   "execution_count": 10,
   "id": "08282a39-064d-4edc-9f2e-6765ade0bdbb",
   "metadata": {
    "scrolled": true
   },
   "outputs": [
    {
     "name": "stdout",
     "output_type": "stream",
     "text": [
      "Reading DICOM (examining files): 1/80 files (1.2%80/80 files (100.0%)\n",
      "  Found 1 correct series.\n",
      "Reading DICOM (loading data): 80/80  (100.0%)\n",
      "Reading DICOM (examining files): 1/80 files (1.2%80/80 files (100.0%)\n",
      "  Found 1 correct series.\n",
      "Reading DICOM (loading data): 80/80  (100.0%)\n",
      "Reading DICOM (examining files): 1/80 files (1.2%80/80 files (100.0%)\n",
      "  Found 1 correct series.\n",
      "Reading DICOM (loading data): 80/80  (100.0%)\n",
      "Reading DICOM (examining files): 1/80 files (1.2%80/80 files (100.0%)\n",
      "  Found 1 correct series.\n",
      "Reading DICOM (loading data): 80/80  (100.0%)\n",
      "Reading DICOM (examining files): 1/80 files (1.2%80/80 files (100.0%)\n",
      "  Found 1 correct series.\n",
      "Reading DICOM (loading data): 80/80  (100.0%)\n",
      "Reading DICOM (examining files): 1/88 files (1.1%88/88 files (100.0%)\n",
      "  Found 1 correct series.\n",
      "Reading DICOM (loading data): 88/88  (100.0%)\n",
      "Reading DICOM (examining files): 1/80 files (1.2%80/80 files (100.0%)\n",
      "  Found 1 correct series.\n",
      "Reading DICOM (loading data): 77/80  (96.280/80  (100.0%)\n",
      "Reading DICOM (examining files): 1/80 files (1.2%80/80 files (100.0%)\n",
      "  Found 1 correct series.\n",
      "Reading DICOM (loading data): 80/80  (100.0%)\n",
      "Reading DICOM (examining files): 1/80 files (1.2%80/80 files (100.0%)\n",
      "  Found 1 correct series.\n",
      "Reading DICOM (loading data): 80/80  (100.0%)\n",
      "Reading DICOM (examining files): 1/80 files (1.2%80/80 files (100.0%)\n",
      "  Found 1 correct series.\n",
      "Reading DICOM (loading data): 80/80  (100.0%)\n",
      "Reading DICOM (examining files): 1/80 files (1.2%80/80 files (100.0%)\n",
      "  Found 1 correct series.\n",
      "Reading DICOM (loading data): 80/80  (100.0%)\n",
      "Reading DICOM (examining files): 1/80 files (1.2%80/80 files (100.0%)\n",
      "  Found 1 correct series.\n",
      "Reading DICOM (loading data): 80/80  (100.0%)\n",
      "Reading DICOM (examining files): 1/80 files (1.2%80/80 files (100.0%)\n",
      "  Found 1 correct series.\n",
      "Reading DICOM (loading data): 80/80  (100.0%)\n",
      "Reading DICOM (examining files): 1/80 files (1.2%80/80 files (100.0%)\n",
      "  Found 1 correct series.\n",
      "Reading DICOM (loading data): 80/80  (100.0%)\n",
      "Reading DICOM (examining files): 1/80 files (1.2%80/80 files (100.0%)\n",
      "  Found 1 correct series.\n",
      "Reading DICOM (loading data): 80/80  (100.0%)\n",
      "Reading DICOM (examining files): 1/80 files (1.2%80/80 files (100.0%)\n",
      "  Found 1 correct series.\n",
      "Reading DICOM (loading data): 80/80  (100.0%)\n",
      "Reading DICOM (examining files): 1/80 files (1.2%80/80 files (100.0%)\n",
      "  Found 1 correct series.\n",
      "Reading DICOM (loading data): 80/80  (100.0%)\n",
      "Reading DICOM (examining files): 1/80 files (1.2%80/80 files (100.0%)\n",
      "  Found 1 correct series.\n",
      "Reading DICOM (loading data): 80/80  (100.0%)\n",
      "Reading DICOM (examining files): 1/80 files (1.2%80/80 files (100.0%)\n",
      "  Found 1 correct series.\n",
      "Reading DICOM (loading data): 80/80  (100.0%)\n",
      "Reading DICOM (examining files): 1/80 files (1.2%80/80 files (100.0%)\n",
      "  Found 1 correct series.\n",
      "Reading DICOM (loading data): 80/80  (100.0%)\n"
     ]
    }
   ],
   "source": [
    "# Need to load the resolution\n",
    "# 20 patient original volumes, use the names directly\n",
    "import imageio as iio\n",
    "import numpy as np\n",
    "\n",
    "res_list = []\n",
    "for name in names:\n",
    "    dicom_AH_MR_path = f\"/data/gpfs/projects/punim1836/Data/raw/CT_MRI_Pre_Post/{name} MR\"\n",
    "    head_vol = iio.volread(dicom_AH_MR_path, 'DICOM')\n",
    "    sampling = head_vol.meta['sampling']\n",
    "    pixel_space = [sampling[1], sampling[2], sampling[0]]\n",
    "    # print(pixel_space)\n",
    "    res_list.append(pixel_space)"
   ]
  },
  {
   "cell_type": "code",
   "execution_count": 12,
   "id": "fb64a0db-7622-4e23-b417-367366ff5b73",
   "metadata": {},
   "outputs": [
    {
     "name": "stdout",
     "output_type": "stream",
     "text": [
      "[[0.26041665673256, 0.26041665673256, 0.2987430219522432], [0.26041665673256, 0.26041665673256, 0.29817009022265817], [0.26041665673256, 0.26041665673256, 0.2969328656941113], [0.26041665673256, 0.26041665673256, 0.27255245595558986], [0.26041665673256, 0.26041665673256, 0.28929274522812004], [0.26041665673256, 0.26041665673256, 0.29738130884106445], [0.26041665673256, 0.26041665673256, 0.2998405504670239], [0.26041665673256, 0.26041665673256, 0.28449706786892404], [0.26041665673256, 0.26041665673256, 0.29300862016311896], [0.26041665673256, 0.26041665673256, 0.2992256270029999], [0.26041665673256, 0.26041665673256, 0.29885150121826465], [0.26041665673256, 0.26041665673256, 0.2876218587564177], [0.26041665673256, 0.26041665673256, 0.2534111706642785], [0.26041665673256, 0.26041665673256, 0.29713151931678716], [0.26041665673256, 0.26041665673256, 0.2885224048086453], [0.26041665673256, 0.26041665673256, 0.29983506452160763], [0.26041665673256, 0.26041665673256, 0.2988128601117161], [0.26041665673256, 0.26041665673256, 0.2982237789581378], [0.26041665673256, 0.26041665673256, 0.2767201500358606], [0.26041665673256, 0.26041665673256, 0.2899935459777033]]\n"
     ]
    }
   ],
   "source": [
    "print(res_list)\n",
    "res_array = np.asarray(res_list)\n",
    "\n",
    "res_array = np.reshape(res_array, (20, 1, 3))\n",
    "res_array_rep = np.repeat(res_array, 24, axis=1)\n",
    "res_array_rep = np.reshape(res_array_rep, (20, 4, 6, 3))\n",
    "print(res_array_rep[0])"
   ]
  },
  {
   "cell_type": "code",
   "execution_count": 18,
   "id": "b2d6feaecf07ebd8",
   "metadata": {
    "ExecuteTime": {
     "end_time": "2024-06-11T04:03:25.873480Z",
     "start_time": "2024-06-11T04:03:25.860335Z"
    },
    "collapsed": false,
    "jupyter": {
     "outputs_hidden": false
    }
   },
   "outputs": [
    {
     "name": "stdout",
     "output_type": "stream",
     "text": [
      "0.23527327771509685\n",
      "0.1683219007858397\n"
     ]
    }
   ],
   "source": [
    "diff_all_medium = (all_labels - medium_labels_rep) * res_array_rep\n",
    "\n",
    "diff_p2 = np.power(diff_all_medium, 2)\n",
    "\n",
    "diff_dis = np.power(np.sum(diff_p2, axis=3), 1/2)\n",
    "\n",
    "print(np.mean(diff_dis))\n",
    "print(np.std(diff_dis))"
   ]
  },
  {
   "cell_type": "code",
   "execution_count": 13,
   "id": "db6a3ec89cc71321",
   "metadata": {
    "ExecuteTime": {
     "end_time": "2024-06-11T04:04:15.696122Z",
     "start_time": "2024-06-11T04:04:15.692400Z"
    },
    "collapsed": false,
    "jupyter": {
     "outputs_hidden": false
    }
   },
   "outputs": [],
   "source": [
    "# base_save_dir = \"../data/processed/Y\"\n",
    "\n",
    "# np.save(f\"{base_save_dir}/ROI_MR_Medium\", medium_labels)"
   ]
  },
  {
   "cell_type": "code",
   "execution_count": 19,
   "id": "e6defceb7fa0dc34",
   "metadata": {
    "ExecuteTime": {
     "end_time": "2024-06-11T04:20:19.320839Z",
     "start_time": "2024-06-11T04:20:19.314492Z"
    }
   },
   "outputs": [
    {
     "name": "stdout",
     "output_type": "stream",
     "text": [
      "Anterior mean: [0.2591520408805253], dev: [0.1747931946198986]\n",
      "Posterior mean: [0.21139451454966843], dev: [0.15802364703507238]\n"
     ]
    }
   ],
   "source": [
    "# Anterior and Posterior differences from the labels\n",
    "ant_diff_dis = diff_dis[:, [0, 2], :]\n",
    "pos_diff_dis = diff_dis[:, [1, 3], :]\n",
    "\n",
    "ant_diff_dis_mean = np.mean(ant_diff_dis)\n",
    "ant_diff_dis_dev = np.std(ant_diff_dis)\n",
    "pos_diff_dis_mean = np.mean(pos_diff_dis)\n",
    "pos_diff_dis_dev = np.std(pos_diff_dis)\n",
    "\n",
    "print(f\"Anterior mean: [{ant_diff_dis_mean}], dev: [{ant_diff_dis_dev}]\")\n",
    "print(f\"Posterior mean: [{pos_diff_dis_mean}], dev: [{pos_diff_dis_dev}]\")"
   ]
  },
  {
   "cell_type": "markdown",
   "id": "237ee11f452f2509",
   "metadata": {},
   "source": [
    "## try to upgrade from MR_medium_3 to MR_medium_6 ..."
   ]
  },
  {
   "cell_type": "code",
   "execution_count": 28,
   "id": "b4f462c585a524da",
   "metadata": {
    "ExecuteTime": {
     "end_time": "2024-06-11T04:07:00.856498Z",
     "start_time": "2024-06-11T04:07:00.849920Z"
    },
    "collapsed": false,
    "jupyter": {
     "outputs_hidden": false
    }
   },
   "outputs": [],
   "source": [
    "import numpy as np\n",
    "\n",
    "MR_medium_6 = np.load(\"../data/processed/Y/ROI_MR_Medium.npy\")\n",
    "MR_medium_3 = np.load(\"../data/raw/Y/ROI_3/ROI_MR_Medium.npy\")\n",
    "\n",
    "diff = MR_medium_3 - MR_medium_6"
   ]
  },
  {
   "cell_type": "code",
   "execution_count": 30,
   "id": "2aee51df53889a16",
   "metadata": {
    "ExecuteTime": {
     "end_time": "2024-06-11T04:08:00.029955Z",
     "start_time": "2024-06-11T04:08:00.021839Z"
    },
    "collapsed": false,
    "jupyter": {
     "outputs_hidden": false
    }
   },
   "outputs": [
    {
     "name": "stdout",
     "output_type": "stream",
     "text": [
      "[[[ 1.  -0.5  0.5]\n",
      "  [ 0.5 -0.5 -0.5]\n",
      "  [ 0.   0.5  0. ]\n",
      "  [ 0.   0.  -0.5]]\n",
      "\n",
      " [[ 1.5  0.   0.5]\n",
      "  [ 1.  -0.5  1. ]\n",
      "  [ 0.   1.  -1. ]\n",
      "  [-1.   1.   1. ]]\n",
      "\n",
      " [[ 0.5  1.   0. ]\n",
      "  [ 2.   1.   1. ]\n",
      "  [-0.5  1.  -1. ]\n",
      "  [-0.5  0.5  0. ]]\n",
      "\n",
      " [[-2.5  0.  -0.5]\n",
      "  [ 1.   1.  -1. ]\n",
      "  [-1.5  0.  -0.5]\n",
      "  [-1.   1.  -0.5]]\n",
      "\n",
      " [[ 0.  -0.5 -1. ]\n",
      "  [ 1.   1.   0. ]\n",
      "  [-1.   1.  -1. ]\n",
      "  [ 2.  -1.5  0. ]]]\n"
     ]
    }
   ],
   "source": [
    "#diff[:, 2:4, 0] = - diff[:, 2:4, 0]\n",
    "print(diff[0:5])"
   ]
  },
  {
   "cell_type": "code",
   "execution_count": 10,
   "id": "6836d8c7c7494962",
   "metadata": {
    "ExecuteTime": {
     "end_time": "2023-11-01T03:26:08.023331Z",
     "start_time": "2023-11-01T03:26:07.796935Z"
    },
    "collapsed": false,
    "jupyter": {
     "outputs_hidden": false
    }
   },
   "outputs": [],
   "source": [
    "diff_flip = np.copy(diff)\n",
    "diff_flip[:, 2:4, 0] = -diff_flip[:, 2:4, 0]\n",
    "print(diff_flip[0:5])"
   ]
  },
  {
   "cell_type": "code",
   "execution_count": 11,
   "id": "8acfe23cd040adfd",
   "metadata": {
    "ExecuteTime": {
     "end_time": "2023-11-01T03:28:16.790593Z",
     "start_time": "2023-11-01T03:28:16.528609Z"
    },
    "collapsed": false,
    "jupyter": {
     "outputs_hidden": false
    }
   },
   "outputs": [],
   "source": [
    "np.save(\"../Resources/diff_flip\", diff_flip)"
   ]
  },
  {
   "cell_type": "code",
   "execution_count": 80,
   "id": "474e05de2f888e45",
   "metadata": {
    "ExecuteTime": {
     "end_time": "2023-10-31T01:56:14.199440Z",
     "start_time": "2023-10-31T01:55:44.437100Z"
    },
    "collapsed": false,
    "jupyter": {
     "outputs_hidden": false
    }
   },
   "outputs": [],
   "source": [
    "import numpy as np\n",
    "import importlib\n",
    "import FunMRions.MyDataset as MyDataset\n",
    "import FunMRions.Visualization as Visualization\n",
    "\n",
    "pat_aug_path = \"/Volumes/Shawn_HDD/PhD/ProjeMR/Date/augmentation_from_matlab/original_augmentation_data/JM_aug_1.mat\"\n",
    "\n",
    "pixel_space = [0.15, 0.15, 0.15]\n",
    "\n",
    "importlib.reload(Visualization)\n",
    "\n",
    "pat_aug_volume, pat_aug_pts, _ = MyDataset.load_mat_data(pat_aug_path)\n",
    "\n",
    "print(pat_aug_pts)\n",
    "\n",
    "Visualization.show_pts(pat_aug_volume, pat_aug_pts, pixel_space)\n",
    "\n",
    "print(pat_aug_pts)"
   ]
  },
  {
   "cell_type": "code",
   "execution_count": 83,
   "id": "318703f1e69798ed",
   "metadata": {
    "ExecuteTime": {
     "end_time": "2023-10-31T04:13:49.830940Z",
     "start_time": "2023-10-31T04:13:45.854328Z"
    },
    "collapsed": false,
    "jupyter": {
     "outputs_hidden": false
    }
   },
   "outputs": [],
   "source": [
    "Visualization.show_pts(pat_aug_volume, medium_labels[13, :, :], pixel_space)"
   ]
  },
  {
   "cell_type": "code",
   "execution_count": null,
   "id": "81de0e25a2efb96a",
   "metadata": {
    "collapsed": false,
    "jupyter": {
     "outputs_hidden": false
    }
   },
   "outputs": [],
   "source": []
  }
 ],
 "metadata": {
  "kernelspec": {
   "display_name": "Python 3 (ipykernel)",
   "language": "python",
   "name": "python3"
  },
  "language_info": {
   "codemirror_mode": {
    "name": "ipython",
    "version": 3
   },
   "file_extension": ".py",
   "mimetype": "text/x-python",
   "name": "python",
   "nbconvert_exporter": "python",
   "pygments_lexer": "ipython3",
   "version": "3.12.3"
  }
 },
 "nbformat": 4,
 "nbformat_minor": 5
}
