{
 "cells": [
  {
   "cell_type": "markdown",
   "metadata": {
    "collapsed": false,
    "jupyter": {
     "outputs_hidden": false
    }
   },
   "source": [
    "## Translation Noises"
   ]
  },
  {
   "cell_type": "code",
   "execution_count": 1,
   "metadata": {},
   "outputs": [],
   "source": [
    "import os\n",
    "import sys\n",
    "module_path = os.path.abspath(os.path.join('..'))\n",
    "\n",
    "if module_path not in sys.path:\n",
    "    sys.path.append(module_path)"
   ]
  },
  {
   "cell_type": "code",
   "execution_count": 2,
   "metadata": {
    "ExecuteTime": {
     "end_time": "2024-06-14T05:56:14.371591Z",
     "start_time": "2024-06-14T05:56:14.348169Z"
    },
    "collapsed": false,
    "jupyter": {
     "outputs_hidden": false
    }
   },
   "outputs": [],
   "source": [
    "# The noises from --> Training Dataset's predictions in Step1's Model\n",
    "\n",
    "import numpy as np\n",
    "import src.models.common.MyDataset as MyDataset\n",
    "\n",
    "Y_pred_dir = \"/data/gpfs/projects/punim1836/CT-MRI_LandmarkDetection/models_MR/divided_MR/176x88x48/variable_voxel_distance/mean_two_landmarks/straight_model/learning_rate/0.0001/13Sep2024-10:42:13-trainID-2\"\n",
    "\n",
    "Y_gt_file = \"Y_test_true.npy\"\n",
    "Y_pre_file = \"best_val_Y_test_pred.npy\"\n",
    "\n",
    "Y_gt = np.load(f\"{Y_pred_dir}/{Y_gt_file}\")\n",
    "Y_pre = np.load(f\"{Y_pred_dir}/{Y_pre_file}\")"
   ]
  },
  {
   "cell_type": "code",
   "execution_count": 3,
   "metadata": {},
   "outputs": [],
   "source": [
    "# MR resolution\n",
    "\n",
    "res_file_path = \"/data/gpfs/projects/punim1836/CT-MRI_LandmarkDetection/models_MR/divided_MR/176x88x48/variable_voxel_distance/mean_two_landmarks/straight_model/learning_rate/0.0001/13Sep2024-10:42:13-trainID-2/res_test.npy\"\n",
    "res = np.load(res_file_path)"
   ]
  },
  {
   "cell_type": "code",
   "execution_count": 4,
   "metadata": {
    "ExecuteTime": {
     "end_time": "2024-06-14T05:56:14.424044Z",
     "start_time": "2024-06-14T05:56:14.413569Z"
    },
    "collapsed": false,
    "jupyter": {
     "outputs_hidden": false
    }
   },
   "outputs": [
    {
     "name": "stdout",
     "output_type": "stream",
     "text": [
      "Min[32]: 0.06671085953712463\n",
      "Max[118]: 2.350708246231079\n",
      "Mean: 0.8235194683074951\n"
     ]
    }
   ],
   "source": [
    "# distance in Voxel\n",
    "Y_err_dis = Y_gt - Y_pre\n",
    "sum_square_err_diff = np.sum(np.power(Y_err_dis, 2), axis= (1,2))\n",
    "err_dis = np.sqrt(sum_square_err_diff)\n",
    "\n",
    "min_err_idx = np.argmin(err_dis, axis=0)\n",
    "max_err_idx = np.argmax(err_dis, axis=0)\n",
    "print(f\"Min[{min_err_idx}]: {err_dis[min_err_idx]}\")\n",
    "print(f\"Max[{max_err_idx}]: {err_dis[max_err_idx]}\")\n",
    "print(f\"Mean: {np.mean(err_dis)}\")"
   ]
  },
  {
   "cell_type": "code",
   "execution_count": 5,
   "metadata": {},
   "outputs": [
    {
     "name": "stdout",
     "output_type": "stream",
     "text": [
      "Min[32]: 0.08258695900440216\n",
      "Max[156]: 3.4544596672058105\n",
      "Mean: 0.9229074716567993\n"
     ]
    }
   ],
   "source": [
    "# distance in MM\n",
    "Y_err_dis = (Y_gt - Y_pre) * res\n",
    "sum_square_err_diff = np.sum(np.power(Y_err_dis, 2), axis= (1,2))\n",
    "err_dis = np.sqrt(sum_square_err_diff)\n",
    "\n",
    "min_err_idx = np.argmin(err_dis, axis=0)\n",
    "max_err_idx = np.argmax(err_dis, axis=0)\n",
    "print(f\"Min[{min_err_idx}]: {err_dis[min_err_idx]}\")\n",
    "print(f\"Max[{max_err_idx}]: {err_dis[max_err_idx]}\")\n",
    "print(f\"Mean: {np.mean(err_dis)}\")"
   ]
  },
  {
   "cell_type": "markdown",
   "metadata": {
    "collapsed": false,
    "jupyter": {
     "outputs_hidden": false
    }
   },
   "source": [
    "## find a distribution for noises"
   ]
  },
  {
   "cell_type": "code",
   "execution_count": 6,
   "metadata": {
    "ExecuteTime": {
     "end_time": "2024-06-14T05:56:14.587202Z",
     "start_time": "2024-06-14T05:56:14.575580Z"
    },
    "collapsed": false,
    "jupyter": {
     "outputs_hidden": false
    }
   },
   "outputs": [],
   "source": [
    "## Test dataset noises Distribution\n",
    "## Skew Normal Distribution\n",
    "\n",
    "from scipy import stats\n",
    "import matplotlib.pyplot as plt\n",
    "import numpy as np\n",
    "\n",
    "a, loc, scale = 1.3, -0.1, 2.2\n",
    "sample = stats.skewnorm(a, loc, scale).rvs(1000)"
   ]
  },
  {
   "cell_type": "code",
   "execution_count": 7,
   "metadata": {
    "ExecuteTime": {
     "end_time": "2024-06-14T05:56:14.862739Z",
     "start_time": "2024-06-14T05:56:14.711445Z"
    },
    "collapsed": false,
    "jupyter": {
     "outputs_hidden": false
    }
   },
   "outputs": [],
   "source": [
    "a_x, loc_x, scale_x = stats.skewnorm.fit(Y_err_dis[:, 0, 0])\n",
    "\n",
    "a_y, loc_y, scale_y = stats.skewnorm.fit(Y_err_dis[:, 0, 1])\n",
    "\n",
    "a_z, loc_z, scale_z = stats.skewnorm.fit(Y_err_dis[:, 0, 2])"
   ]
  },
  {
   "cell_type": "code",
   "execution_count": 8,
   "metadata": {
    "ExecuteTime": {
     "end_time": "2024-06-14T05:56:14.877571Z",
     "start_time": "2024-06-14T05:56:14.870019Z"
    },
    "collapsed": false,
    "jupyter": {
     "outputs_hidden": false
    }
   },
   "outputs": [
    {
     "name": "stdout",
     "output_type": "stream",
     "text": [
      "a_x:  2.779407324663132\n",
      "loc_x:  -0.7855089385055054\n",
      "scale-x:  0.693392546940967\n",
      "a_y:  -3.328285908044798\n",
      "loc_y:  0.26377208018030707\n",
      "scale-y:  0.716596938494875\n",
      "a_z:  -1.6418829339781293\n",
      "loc_z:  0.17727861570484815\n",
      "scale-z:  0.8390552770788883\n"
     ]
    }
   ],
   "source": [
    "print(\"a_x: \", a_x)\n",
    "print(\"loc_x: \", loc_x)\n",
    "print(\"scale-x: \", scale_x)\n",
    "\n",
    "print(\"a_y: \", a_y)\n",
    "print(\"loc_y: \", loc_y)\n",
    "print(\"scale-y: \", scale_y)\n",
    "\n",
    "print(\"a_z: \", a_z)\n",
    "print(\"loc_z: \", loc_z)\n",
    "print(\"scale-z: \", scale_z)"
   ]
  },
  {
   "cell_type": "code",
   "execution_count": 9,
   "metadata": {
    "ExecuteTime": {
     "end_time": "2024-06-14T05:56:15.022153Z",
     "start_time": "2024-06-14T05:56:14.881130Z"
    },
    "collapsed": false,
    "jupyter": {
     "outputs_hidden": false
    }
   },
   "outputs": [],
   "source": [
    "sn_x = stats.skewnorm(a_x, loc_x, scale_x)\n",
    "x = np.linspace(sn_x.ppf(0.01), sn_x.ppf(0.99), 400)\n",
    "\n",
    "sn_y = stats.skewnorm(a_y, loc_y, scale_y)\n",
    "y = np.linspace(sn_y.ppf(0.01), sn_y.ppf(0.99), 400)\n",
    "\n",
    "sn_z = stats.skewnorm(a_z, loc_z, scale_z)\n",
    "z = np.linspace(sn_z.ppf(0.01), sn_z.ppf(0.99), 400)"
   ]
  },
  {
   "cell_type": "code",
   "execution_count": 10,
   "metadata": {
    "ExecuteTime": {
     "end_time": "2024-06-14T05:56:16.509831Z",
     "start_time": "2024-06-14T05:56:15.027917Z"
    },
    "collapsed": false,
    "jupyter": {
     "outputs_hidden": false
    }
   },
   "outputs": [
    {
     "data": {
      "image/png": "[encoded data removed]",
      "text/plain": [
       "<Figure size 640x480 with 4 Axes>"
      ]
     },
     "metadata": {},
     "output_type": "display_data"
    }
   ],
   "source": [
    "from matplotlib import pyplot\n",
    "\n",
    "fig, axs = pyplot.subplots(2, 2, sharex=True, sharey=True, constrained_layout=True)\n",
    "\n",
    "# axs[0][0].hist(sum_square_err_diff, 20)\n",
    "# axs[0][0].set_xlabel(\"sum square err diff\")\n",
    "\n",
    "axs[0][1].hist(Y_err_dis[:, 0, 0], 20)\n",
    "axs[0][1].set_xlabel(\"x: square err diff\")\n",
    "axs[0][1].plot(x, sn_x.pdf(x)*200, 'r-', lw=5, alpha=0.6)\n",
    "\n",
    "axs[1][0].hist(Y_err_dis[:, 0, 1], 20)\n",
    "axs[1][0].set_xlabel(\"y: square err diff\")\n",
    "axs[1][0].plot(y, sn_y.pdf(y)*100, 'r-', lw=5, alpha=0.6)\n",
    "\n",
    "axs[1][1].hist(Y_err_dis[:, 0, 2], 20)\n",
    "axs[1][1].set_xlabel(\"z: square err diff\")\n",
    "axs[1][1].plot(z, sn_z.pdf(z)*100, 'r-', lw=5, alpha=0.6)\n",
    "\n",
    "pyplot.show()\n"
   ]
  },
  {
   "cell_type": "code",
   "execution_count": 11,
   "metadata": {
    "ExecuteTime": {
     "end_time": "2024-06-14T05:56:33.695394Z",
     "start_time": "2024-06-14T05:56:33.685822Z"
    },
    "collapsed": false,
    "jupyter": {
     "outputs_hidden": false
    }
   },
   "outputs": [],
   "source": [
    "s1_pred_test_dis_array = np.zeros((2000, 1, 3))\n",
    "s1_pred_test_dis_array[:, 0, 0] = sn_x.rvs(size=2000)\n",
    "s1_pred_test_dis_array[:, 0, 1] = sn_y.rvs(size=2000)\n",
    "s1_pred_test_dis_array[:, 0, 2] = sn_z.rvs(size=2000)"
   ]
  },
  {
   "cell_type": "code",
   "execution_count": 26,
   "metadata": {
    "ExecuteTime": {
     "end_time": "2024-06-14T05:57:23.392419Z",
     "start_time": "2024-06-14T05:57:23.388279Z"
    }
   },
   "outputs": [],
   "source": [
    "# convert to distance in mm\n",
    "# s1_pred_test_dis_array = s1_pred_test_dis_array * 0.15"
   ]
  },
  {
   "cell_type": "code",
   "execution_count": 12,
   "metadata": {
    "ExecuteTime": {
     "end_time": "2024-06-14T06:00:19.476688Z",
     "start_time": "2024-06-14T06:00:19.471193Z"
    }
   },
   "outputs": [
    {
     "name": "stdout",
     "output_type": "stream",
     "text": [
      "0.9591546598808613\n"
     ]
    }
   ],
   "source": [
    "check_r_p2 = np.sum(np.power(s1_pred_test_dis_array, 2), axis= (1,2))\n",
    "check_r = np.sqrt(check_r_p2)\n",
    "\n",
    "print(np.mean(check_r, axis=0))"
   ]
  },
  {
   "cell_type": "code",
   "execution_count": 13,
   "metadata": {
    "ExecuteTime": {
     "end_time": "2024-06-14T06:01:31.492625Z",
     "start_time": "2024-06-14T06:01:31.487965Z"
    },
    "collapsed": false,
    "jupyter": {
     "outputs_hidden": false
    }
   },
   "outputs": [],
   "source": [
    "file_name = \"noises_s1.5_test_dis\"\n",
    "np.save(f\"{Y_pred_dir}/{file_name}\", s1_pred_test_dis_array)"
   ]
  },
  {
   "cell_type": "code",
   "execution_count": null,
   "metadata": {},
   "outputs": [],
   "source": []
  }
 ],
 "metadata": {
  "kernelspec": {
   "display_name": "Python 3 (ipykernel)",
   "language": "python",
   "name": "python3"
  },
  "language_info": {
   "codemirror_mode": {
    "name": "ipython",
    "version": 3
   },
   "file_extension": ".py",
   "mimetype": "text/x-python",
   "name": "python",
   "nbconvert_exporter": "python",
   "pygments_lexer": "ipython3",
   "version": "3.12.3"
  }
 },
 "nbformat": 4,
 "nbformat_minor": 4
}
