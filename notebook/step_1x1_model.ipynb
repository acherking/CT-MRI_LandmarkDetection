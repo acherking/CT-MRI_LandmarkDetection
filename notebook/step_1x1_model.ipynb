{
 "cells": [
  {
   "cell_type": "markdown",
   "source": [
    "## Translation Noises"
   ],
   "metadata": {
    "collapsed": false
   }
  },
  {
   "cell_type": "code",
   "execution_count": 2,
   "source": [
    "# The noises from --> Training Dataset's predictions in Step1's Model\n",
    "\n",
    "import numpy as np\n",
    "import Functions.MyDataset as MyDataset\n",
    "\n",
    "Y_pred_dir = \"/Users/achs/PhD/code/CT-MRI_LandmarkDetection/Spartan/trained_models/divided_dataset/straight_model/mean_two_landmarks/\"\n",
    "\n",
    "Y_eva_pred_file = \"bestVal_straight_model_divided_176_88_48_mean_two_landmarks_all_p.npy\"\n",
    "Y_eva_gt_file = \"straight_model_divided_176_88_48_mean_two_landmarks_all_gt.npy\"\n",
    "Y_eva_err_dis_file = \"bestVal_straight_model_divided_176_88_48_mean_two_landmarks_all_err_dis.npy\"\n",
    "\n",
    "Y_eva_pred_path = Y_pred_dir + Y_eva_pred_file\n",
    "Y_eva_pred = np.load(Y_eva_pred_path)\n",
    "\n",
    "Y_eva_gt_path = Y_pred_dir + Y_eva_gt_file\n",
    "Y_eva_gt_read = np.load(Y_eva_gt_path)\n",
    "\n",
    "Y_eva_err_dis_path = Y_pred_dir + Y_eva_err_dis_file\n",
    "Y_eva_err_dis = np.load(Y_eva_err_dis_path)"
   ],
   "metadata": {
    "collapsed": false,
    "ExecuteTime": {
     "end_time": "2023-06-20T06:01:42.879097Z",
     "start_time": "2023-06-20T06:01:42.868407Z"
    }
   },
   "outputs": []
  },
  {
   "cell_type": "code",
   "execution_count": 3,
   "source": [
    "data_splits = MyDataset.get_data_splits(True, True)\n",
    "\n",
    "Y_eva_err_dis_train = Y_eva_err_dis[data_splits[0]]\n",
    "Y_eva_err_dis_val = Y_eva_err_dis[data_splits[1]]\n",
    "Y_eva_err_dis_test = Y_eva_err_dis[data_splits[2]]"
   ],
   "metadata": {
    "collapsed": false,
    "ExecuteTime": {
     "end_time": "2023-06-20T06:04:00.039438Z",
     "start_time": "2023-06-20T06:04:00.032948Z"
    }
   },
   "outputs": []
  },
  {
   "cell_type": "code",
   "execution_count": 4,
   "source": [
    "print(Y_eva_err_dis_val)"
   ],
   "metadata": {
    "collapsed": false,
    "ExecuteTime": {
     "end_time": "2023-06-20T06:41:25.410199Z",
     "start_time": "2023-06-20T06:41:25.381100Z"
    }
   },
   "outputs": []
  },
  {
   "cell_type": "code",
   "execution_count": 8,
   "source": [
    "square_err_diff = np.power(Y_eva_err_dis_val, 2)\n",
    "sum_square_err_diff = np.sum(square_err_diff, axis= (1,2) )\n",
    "\n",
    "min_err_idx = np.argmin(sum_square_err_diff, axis=0)\n",
    "max_err_idx = np.argmax(sum_square_err_diff, axis=0)\n",
    "print(f\"Min[{min_err_idx}]: {sum_square_err_diff[min_err_idx]}\")\n",
    "print(f\"Max[{max_err_idx}]: {sum_square_err_diff[max_err_idx]}\")\n",
    "print(f\"Mean: {np.mean(sum_square_err_diff)}\")"
   ],
   "metadata": {
    "collapsed": false,
    "ExecuteTime": {
     "end_time": "2023-06-20T06:48:43.954615Z",
     "start_time": "2023-06-20T06:48:43.938340Z"
    }
   },
   "outputs": []
  },
  {
   "cell_type": "markdown",
   "source": [
    "## find a distribution for noises"
   ],
   "metadata": {
    "collapsed": false
   }
  },
  {
   "cell_type": "code",
   "execution_count": 10,
   "source": [
    "## Test dataset noises Distribution\n",
    "## Skew Normal Distribution\n",
    "\n",
    "from scipy import stats\n",
    "import matplotlib.pyplot as plt\n",
    "import numpy as np\n",
    "\n",
    "a, loc, scale = 1.3, -0.1, 2.2\n",
    "sample = stats.skewnorm(a, loc, scale).rvs(1000)"
   ],
   "metadata": {
    "collapsed": false,
    "ExecuteTime": {
     "end_time": "2023-06-21T06:02:23.133367Z",
     "start_time": "2023-06-21T06:02:19.283985Z"
    }
   },
   "outputs": []
  },
  {
   "cell_type": "code",
   "execution_count": 18,
   "source": [
    "a_x, loc_x, scale_x = stats.skewnorm.fit(Y_eva_err_dis_test[:, 0, 0])\n",
    "\n",
    "a_y, loc_y, scale_y = stats.skewnorm.fit(Y_eva_err_dis_test[:, 0, 1])\n",
    "\n",
    "a_z, loc_z, scale_z = stats.skewnorm.fit(Y_eva_err_dis_test[:, 0, 2])"
   ],
   "metadata": {
    "collapsed": false,
    "ExecuteTime": {
     "end_time": "2023-06-21T06:09:05.279347Z",
     "start_time": "2023-06-21T06:09:05.193042Z"
    }
   },
   "outputs": []
  },
  {
   "cell_type": "code",
   "execution_count": 19,
   "source": [
    "print(\"a_x: \", a_x)\n",
    "print(\"loc_x: \", loc_x)\n",
    "print(\"scale-x: \", scale_x)\n",
    "\n",
    "print(\"a_y: \", a_y)\n",
    "print(\"loc_y: \", loc_y)\n",
    "print(\"scale-y: \", scale_y)\n",
    "\n",
    "print(\"a_z: \", a_z)\n",
    "print(\"loc_z: \", loc_z)\n",
    "print(\"scale-z: \", scale_z)"
   ],
   "metadata": {
    "collapsed": false,
    "ExecuteTime": {
     "end_time": "2023-06-21T06:09:05.928609Z",
     "start_time": "2023-06-21T06:09:05.918846Z"
    }
   },
   "outputs": []
  },
  {
   "cell_type": "code",
   "execution_count": 37,
   "source": [
    "sn_x = stats.skewnorm(a_x, loc_x, scale_x)\n",
    "x = np.linspace(sn_x.ppf(0.01), sn_x.ppf(0.99), 400)\n",
    "\n",
    "sn_y = stats.skewnorm(a_y, loc_y, scale_y)\n",
    "y = np.linspace(sn_y.ppf(0.01), sn_y.ppf(0.99), 400)\n",
    "\n",
    "sn_z = stats.skewnorm(a_z, loc_z, scale_z)\n",
    "z = np.linspace(sn_z.ppf(0.01), sn_z.ppf(0.99), 400)"
   ],
   "metadata": {
    "collapsed": false,
    "ExecuteTime": {
     "end_time": "2023-06-21T06:58:44.271921Z",
     "start_time": "2023-06-21T06:58:44.243849Z"
    }
   },
   "outputs": []
  },
  {
   "cell_type": "code",
   "execution_count": 40,
   "source": [
    "from matplotlib import pyplot\n",
    "\n",
    "fig, axs = pyplot.subplots(2, 2, sharex=True, sharey=True, constrained_layout=True)\n",
    "\n",
    "# axs[0][0].hist(sum_square_err_diff, 20)\n",
    "# axs[0][0].set_xlabel(\"sum square err diff\")\n",
    "\n",
    "axs[0][1].hist(Y_eva_err_dis_test[:, 0, 0], 20)\n",
    "axs[0][1].set_xlabel(\"x: square err diff\")\n",
    "axs[0][1].plot(x, sn_x.pdf(x)*200, 'r-', lw=5, alpha=0.6)\n",
    "\n",
    "axs[1][0].hist(Y_eva_err_dis_test[:, 0, 1], 20)\n",
    "axs[1][0].set_xlabel(\"y: square err diff\")\n",
    "axs[1][0].plot(y, sn_y.pdf(y)*100, 'r-', lw=5, alpha=0.6)\n",
    "\n",
    "axs[1][1].hist(Y_eva_err_dis_test[:, 0, 2], 20)\n",
    "axs[1][1].set_xlabel(\"z: square err diff\")\n",
    "axs[1][1].plot(z, sn_z.pdf(z)*100, 'r-', lw=5, alpha=0.6)\n",
    "\n",
    "pyplot.show()\n"
   ],
   "metadata": {
    "collapsed": false,
    "ExecuteTime": {
     "end_time": "2023-06-21T07:00:34.510411Z",
     "start_time": "2023-06-21T07:00:33.647354Z"
    }
   },
   "outputs": []
  },
  {
   "cell_type": "code",
   "execution_count": 46,
   "source": [
    "s1_pred_test_dis_array = np.zeros((2000, 1, 3))\n",
    "s1_pred_test_dis_array[:, 0, 0] = sn_x.rvs(size=2000)\n",
    "s1_pred_test_dis_array[:, 0, 1] = sn_y.rvs(size=2000)\n",
    "s1_pred_test_dis_array[:, 0, 2] = sn_z.rvs(size=2000)"
   ],
   "metadata": {
    "collapsed": false,
    "ExecuteTime": {
     "end_time": "2023-06-22T04:50:18.589592Z",
     "start_time": "2023-06-22T04:50:18.578509Z"
    }
   },
   "outputs": []
  },
  {
   "cell_type": "code",
   "execution_count": 47,
   "source": [
    "file_name = \"noises_s1_pred_test_dis\"\n",
    "np.save(f\"../Spartan/res/{file_name}\", s1_pred_test_dis_array)"
   ],
   "metadata": {
    "collapsed": false,
    "ExecuteTime": {
     "end_time": "2023-06-22T04:50:22.738214Z",
     "start_time": "2023-06-22T04:50:22.730090Z"
    }
   },
   "outputs": []
  }
 ],
 "metadata": {
  "kernelspec": {
   "display_name": "Python 3",
   "language": "python",
   "name": "python3"
  },
  "language_info": {
   "codemirror_mode": {
    "name": "ipython",
    "version": 2
   },
   "file_extension": ".py",
   "mimetype": "text/x-python",
   "name": "python",
   "nbconvert_exporter": "python",
   "pygments_lexer": "ipython2",
   "version": "2.7.6"
  }
 },
 "nbformat": 4,
 "nbformat_minor": 0
}
