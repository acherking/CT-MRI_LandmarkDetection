{
 "cells": [
  {
   "cell_type": "markdown",
   "source": [
    "## Visualize the Results"
   ],
   "metadata": {
    "collapsed": false
   }
  },
  {
   "metadata": {},
   "cell_type": "code",
   "outputs": [],
   "execution_count": null,
   "source": [
    "## straight model\n",
    "# /data/gpfs/projects/punim1836/CT-MRI_LandmarkDetection/models/cropped/100x100x100/noises_s1_test_dis/two_landmarks/straight_model/learning_rate/0.0001/corrode_asym_rcs_50x4_best_val_test_dataset\n",
    "\n",
    "## u-net-dsnt (need to be simplified)\n",
    "# /data/gpfs/projects/punim1836/CT-MRI_LandmarkDetection/models/cropped/100x100x100/noises_s1_test_dis/two_landmarks/u_net_dsnt/learning_rate/0.00005/corrode_asym_rcs_50x4_best_val_test_dataset\n",
    "\n",
    "## scn-dsnt\n",
    "# /data/gpfs/projects/punim1836/CT-MRI_LandmarkDetection/models/cropped/100x100x100/noises_s1_test_dis/two_landmarks/scn_dsnt/learning_rate/0.0001/corrode_asym_rcs_50x4_best_val_test_dataset\n",
    "# maybe not use it, because even remove one layer, the precision dropped deeply...\n"
   ]
  },
  {
   "cell_type": "code",
   "source": [
    "import numpy as np\n",
    "\n",
    "base_dir = \"/Users/achs/PhD/code/CT-MRI_LandmarkDetection\"\n",
    "# the models' dir\n",
    "model_dir = f\"{base_dir}/models/cropped/100x100x100/noises_s1_test_dis/two_landmarks/straight_model/learning_rate/0.0001/07Jun20241742\"\n",
    "\n",
    "corrode_asym_rcs_file = \"corrode_asym_rcs_50x4_best_val_test_dataset.npy\"\n",
    "\n",
    "corrode_asym_rcs_error = np.load(f\"{model_dir}/{corrode_asym_rcs_file}\")"
   ],
   "metadata": {
    "collapsed": false,
    "ExecuteTime": {
     "end_time": "2024-06-11T06:20:47.458190Z",
     "start_time": "2024-06-11T06:20:45.941546Z"
    }
   },
   "outputs": [],
   "execution_count": 1
  },
  {
   "cell_type": "code",
   "execution_count": 26,
   "source": [
    "import matplotlib.pyplot as plt\n",
    "\n",
    "err_dis = np.power(err_array, 0.5)\n",
    "corroded_layers = np.arange(0, 50)\n",
    "\n",
    "plt.plot(corroded_layers, err_dis, 'r--')\n",
    "\n",
    "plt.xlabel('Corroded Layers(row&column&slice corroded num)')\n",
    "plt.ylabel('Error Distance per Landmarks (mm)')\n",
    "plt.show()"
   ],
   "metadata": {
    "collapsed": false,
    "ExecuteTime": {
     "start_time": "2023-05-09T15:48:25.420613Z",
     "end_time": "2023-05-09T15:48:25.539600Z"
    }
   },
   "outputs": []
  },
  {
   "cell_type": "code",
   "execution_count": 32,
   "source": [
    "# find the indexes of the minimum value (the best precision)\n",
    "min_value = np.min(err_array_15x15x15)\n",
    "min_value_idx = np.argwhere(err_array_15x15x15==min_value)\n",
    "\n",
    "print(\"min value: \", min_value)\n",
    "print(\"index    : \", min_value_idx)"
   ],
   "metadata": {
    "collapsed": false,
    "ExecuteTime": {
     "start_time": "2023-05-10T12:04:18.226095Z",
     "end_time": "2023-05-10T12:04:18.231019Z"
    }
   },
   "outputs": []
  },
  {
   "cell_type": "code",
   "execution_count": 30,
   "source": [
    "import matplotlib.pyplot as plt\n",
    "\n",
    "err_dis = np.power(err_array_15x15x15, 0.5)\n",
    "corroded_layers = np.arange(0, 15)\n",
    "\n",
    "corroded_column_num = 3\n",
    "corroded_slice_num = 13\n",
    "\n",
    "plt.plot(corroded_layers, err_dis[:, corroded_column_num, corroded_slice_num], 'r--')\n",
    "\n",
    "plt.xlabel(f'Corroded Layers(row num, column={corroded_column_num}, slice={corroded_slice_num})')\n",
    "plt.ylabel('Error Distance per Landmarks (mm)')\n",
    "plt.show()"
   ],
   "metadata": {
    "collapsed": false,
    "ExecuteTime": {
     "start_time": "2023-05-10T11:45:28.310652Z",
     "end_time": "2023-05-10T11:45:28.468786Z"
    }
   },
   "outputs": []
  },
  {
   "cell_type": "code",
   "execution_count": 71,
   "source": [
    "# s = 0 # slice\n",
    "\n",
    "def f(r, c, s=0):\n",
    "    return err_array_15x15x15[r, c, s]"
   ],
   "metadata": {
    "collapsed": false,
    "ExecuteTime": {
     "start_time": "2023-05-10T13:10:40.071963Z",
     "end_time": "2023-05-10T13:10:40.083633Z"
    }
   },
   "outputs": []
  },
  {
   "cell_type": "code",
   "execution_count": 76,
   "source": [
    "slice_num = 14\n",
    "\n",
    "row = np.linspace(0, 13, 15).astype(int)\n",
    "column = np.linspace(0, 14, 15).astype(int)\n",
    "\n",
    "R, C = np.meshgrid(row, column)\n",
    "E = f(R, C, s=slice_num)\n",
    "\n",
    "fig = plt.figure()\n",
    "ax = plt.axes(projection='3d')\n",
    "ax.plot_wireframe(R, C, E, linewidths=0.8)\n",
    "ax.set_title(f\"corroded slice num: {slice_num}\")\n",
    "plt.xlabel(\"Corroded Row num\")\n",
    "plt.ylabel(\"Corroded Column num\")\n",
    "plt.show()"
   ],
   "metadata": {
    "collapsed": false,
    "ExecuteTime": {
     "start_time": "2023-05-10T13:15:51.147694Z",
     "end_time": "2023-05-10T13:15:51.283942Z"
    }
   },
   "outputs": []
  },
  {
   "cell_type": "code",
   "execution_count": 73,
   "source": [
    "import matplotlib.pyplot as plt\n",
    "from matplotlib import cm\n",
    "import numpy as np\n",
    "\n",
    "from mpl_toolkits.mplot3d.axes3d import get_test_data\n",
    "\n",
    "\n",
    "# set up a figure twice as wide as it is tall\n",
    "fig = plt.figure(figsize=plt.figaspect(0.5))\n",
    "\n",
    "row = np.linspace(0, 13, 15).astype(int)\n",
    "column = np.linspace(0, 14, 15).astype(int)\n",
    "\n",
    "R, C = np.meshgrid(row, column)\n",
    "E1 = f(R, C, s=0)\n",
    "E2 = f(R, C, s=14)\n",
    "\n",
    "# =============\n",
    "# First subplot\n",
    "# =============\n",
    "# set up the axes for the first plot\n",
    "ax = fig.add_subplot(1, 2, 1, projection='3d')\n",
    "\n",
    "# plot a 3D surface like in the example mplot3d/surface3d_demo\n",
    "\n",
    "ax.plot_wireframe(R, C, E1)\n",
    "\n",
    "# ==============\n",
    "# Second subplot\n",
    "# ==============\n",
    "# set up the axes for the second plot\n",
    "ax = fig.add_subplot(1, 2, 2, projection='3d')\n",
    "\n",
    "# plot a 3D wireframe like in the example mplot3d/wire3d_demo\n",
    "ax.plot_wireframe(R, C, E2)\n",
    "\n",
    "plt.show()"
   ],
   "metadata": {
    "collapsed": false,
    "ExecuteTime": {
     "start_time": "2023-05-10T13:11:02.312366Z",
     "end_time": "2023-05-10T13:11:02.570824Z"
    }
   },
   "outputs": []
  },
  {
   "cell_type": "markdown",
   "source": [
    "## Corrode 6 surfaces separately"
   ],
   "metadata": {
    "collapsed": false
   }
  },
  {
   "cell_type": "code",
   "execution_count": 128,
   "source": [
    "print(err_array_50x6[0])"
   ],
   "metadata": {
    "collapsed": false,
    "ExecuteTime": {
     "start_time": "2023-05-23T13:13:45.377418Z",
     "end_time": "2023-05-23T13:13:45.390156Z"
    }
   },
   "outputs": []
  },
  {
   "cell_type": "code",
   "execution_count": 105,
   "source": [
    "\n",
    "from matplotlib import pyplot\n",
    "\n",
    "fig, axs = pyplot.subplots(3, 2, sharex=True, sharey=True, constrained_layout=True)\n",
    "\n",
    "err_dis = np.power(err_array_50x6, 0.5)\n",
    "corroded_layers = np.arange(0, 50)\n",
    "\n",
    "# based on the Volume array\n",
    "# Cut from start to Row ascending order\n",
    "axs[0][0].plot(corroded_layers, err_dis[0], 'r--')\n",
    "axs[0][0].set_xlabel(\"row: ascending\")\n",
    "# Cut from end to Row descending order\n",
    "axs[0][1].plot(corroded_layers, err_dis[1], 'r--')\n",
    "axs[0][1].set_xlabel(\"row: descending\")\n",
    "fig.suptitle(\"Corrode outside layers, volume size (100x100x100), one landmark\", fontsize=16)\n",
    "# Cut from start to Column ascending order\n",
    "axs[1][0].plot(corroded_layers, err_dis[2], 'r--')\n",
    "axs[1][0].set_xlabel(\"column: ascending\")\n",
    "# Cut from end to Column descending order\n",
    "axs[1][1].plot(corroded_layers, err_dis[3], 'r--')\n",
    "axs[1][1].set_xlabel(\"column: descending\")\n",
    "# Cut from start to Slice ascending order\n",
    "axs[2][0].plot(corroded_layers, err_dis[4], 'r--')\n",
    "axs[2][0].set_xlabel(\"slice: ascending\")\n",
    "# Cut from end to Slice descending order\n",
    "axs[2][1].plot(corroded_layers, err_dis[5], 'r--')\n",
    "axs[2][1].set_xlabel(\"slice: descending\")\n",
    "\n",
    "# pyplot.setp(axs[-1, :], xlabel='corrode num')\n",
    "pyplot.setp(axs[:, 0], ylabel='(mm)')\n",
    "\n",
    "pyplot.show()\n"
   ],
   "metadata": {
    "collapsed": false,
    "ExecuteTime": {
     "start_time": "2023-05-23T11:34:42.046999Z",
     "end_time": "2023-05-23T11:34:43.020063Z"
    }
   },
   "outputs": []
  },
  {
   "cell_type": "code",
   "execution_count": 25,
   "source": [
    "print(err_dis[1, 0:49])"
   ],
   "metadata": {
    "collapsed": false,
    "ExecuteTime": {
     "end_time": "2023-07-27T04:16:53.782076Z",
     "start_time": "2023-07-27T04:16:53.747730Z"
    }
   },
   "outputs": []
  },
  {
   "cell_type": "code",
   "execution_count": 26,
   "source": [
    "tmp = (err_dis[0, 1] - err_dis[0, 0]) / 1 / 0.004672\n",
    "print(tmp)"
   ],
   "metadata": {
    "collapsed": false,
    "ExecuteTime": {
     "end_time": "2023-07-27T04:21:15.457209Z",
     "start_time": "2023-07-27T04:21:15.435797Z"
    }
   },
   "outputs": []
  },
  {
   "cell_type": "code",
   "execution_count": 27,
   "source": [
    "## try to find the maximum cut layers' num\n",
    "# like 10% of the whole slope, from the start point to the half cutting num\n",
    "\n",
    "rate_diff = 0.5\n",
    "\n",
    "err_dis = err_array_50x6 ** (1/2)\n",
    "\n",
    "# row\n",
    "row_a_slope_base = (err_dis[0, 49] - err_dis[0, 0]) / 50\n",
    "row_d_slope_base = (err_dis[1, 49] - err_dis[1, 0]) / 50\n",
    "\n",
    "row_a_cut_num = []\n",
    "row_d_cut_num = []\n",
    "for cut_num in range(1, 49):\n",
    "    s = (err_dis[0, cut_num] - err_dis[0, 0]) / cut_num\n",
    "    if s > row_a_slope_base * rate_diff:\n",
    "        row_a_cut_num.append(cut_num)\n",
    "for cut_num in range(1, 49):\n",
    "    s = (err_dis[1, cut_num] - err_dis[1, 0]) / cut_num\n",
    "    if s > row_d_slope_base * rate_diff:\n",
    "        row_d_cut_num.append(cut_num)\n",
    "# column\n",
    "column_a_slope_base = (err_dis[2, 49] - err_dis[2, 0]) / 50\n",
    "column_d_slope_base = (err_dis[3, 49] - err_dis[3, 0]) / 50\n",
    "\n",
    "column_a_cut_num = []\n",
    "column_d_cut_num = []\n",
    "for cut_num in range(1, 49):\n",
    "    s = (err_dis[2, cut_num] - err_dis[2, 0]) / cut_num\n",
    "    if s > column_a_slope_base * rate_diff:\n",
    "        column_a_cut_num.append(cut_num)\n",
    "for cut_num in range(1, 49):\n",
    "    s = (err_dis[3, cut_num] - err_dis[3, 0]) / cut_num\n",
    "    if s > column_d_slope_base * rate_diff:\n",
    "        column_d_cut_num.append(cut_num)\n",
    "# slice\n",
    "slice_a_slope_base = (err_dis[4, 49] - err_dis[4, 0]) / 50\n",
    "slice_d_slope_base = (err_dis[5, 49] - err_dis[5, 0]) / 50\n",
    "\n",
    "slice_a_cut_num = []\n",
    "slice_d_cut_num = []\n",
    "for cut_num in range(1, 49):\n",
    "    s = (err_dis[4, cut_num] - err_dis[4, 0]) / cut_num\n",
    "    if s > slice_a_slope_base * rate_diff:\n",
    "        slice_a_cut_num.append(cut_num)\n",
    "for cut_num in range(1, 49):\n",
    "    s = (err_dis[5, cut_num] - err_dis[5, 0]) / cut_num\n",
    "    if s > slice_d_slope_base * rate_diff:\n",
    "        slice_d_cut_num.append(cut_num)\n",
    "\n",
    "print(\"row_a_cut_num: \", row_a_cut_num)\n",
    "print(\"row_d_cut_num: \", row_d_cut_num)\n",
    "print(\"column_a_cut_num: \", column_a_cut_num)\n",
    "print(\"column_d_cut_num: \", column_d_cut_num)\n",
    "print(\"slice_a_cut_num: \", slice_a_cut_num)\n",
    "print(\"slice_d_cut_num: \", slice_d_cut_num)"
   ],
   "metadata": {
    "collapsed": false,
    "ExecuteTime": {
     "end_time": "2023-07-27T04:21:36.341585Z",
     "start_time": "2023-07-27T04:21:36.321813Z"
    }
   },
   "outputs": []
  },
  {
   "cell_type": "code",
   "execution_count": 130,
   "source": [
    "print(err_array_100x4and50x2[0, 0:101])"
   ],
   "metadata": {
    "collapsed": false,
    "ExecuteTime": {
     "start_time": "2023-05-23T13:32:19.318312Z",
     "end_time": "2023-05-23T13:32:19.329735Z"
    }
   },
   "outputs": []
  },
  {
   "cell_type": "code",
   "execution_count": 117,
   "source": [
    "from matplotlib import pyplot\n",
    "\n",
    "fig, axs = pyplot.subplots(3, 2, sharex=True, sharey=True, constrained_layout=True)\n",
    "\n",
    "# err_dis = np.power(err_array_100x4and50x2, 0.5)\n",
    "# err_dis = np.where(err_array_100x4and50x2>0, err_array_100x4and50x2**(1/2), err_array_100x4and50x2)\n",
    "err_dis = (err_array_100x4and50x2 ** 2) ** (1/2)\n",
    "corroded_layers_100 = np.arange(0, 101)\n",
    "corroded_layers_50 = np.arange(0, 51)\n",
    "\n",
    "# based on the Volume array\n",
    "# Cut from start to Row ascending order\n",
    "axs[0][0].plot(corroded_layers_100, err_dis[0], 'r--')\n",
    "axs[0][0].set_xlabel(\"row: ascending\")\n",
    "# Cut from end to Row descending order\n",
    "axs[0][1].plot(corroded_layers_100, err_dis[1], 'r--')\n",
    "axs[0][1].set_xlabel(\"row: descending\")\n",
    "fig.suptitle(\"Corrode outside layers, volume size (200x200x100), one landmark\", fontsize=16)\n",
    "# Cut from start to Column ascending order\n",
    "axs[1][0].plot(corroded_layers_100, err_dis[2], 'r--')\n",
    "axs[1][0].set_xlabel(\"column: ascending\")\n",
    "# Cut from end to Column descending order\n",
    "axs[1][1].plot(corroded_layers_100, err_dis[3], 'r--')\n",
    "axs[1][1].set_xlabel(\"column: descending\")\n",
    "# Cut from start to Slice ascending order\n",
    "axs[2][0].plot(corroded_layers_50, err_dis[4, 0:51], 'r--')\n",
    "axs[2][0].set_xlabel(\"slice: ascending\")\n",
    "# Cut from end to Slice descending order\n",
    "axs[2][1].plot(corroded_layers_50, err_dis[5, 0:51], 'r--')\n",
    "axs[2][1].set_xlabel(\"slice: descending\")\n",
    "\n",
    "# pyplot.setp(axs[-1, :], xlabel='corrode num')\n",
    "pyplot.setp(axs[:, 0], ylabel='(mm)')\n",
    "\n",
    "pyplot.show()"
   ],
   "metadata": {
    "collapsed": false,
    "ExecuteTime": {
     "start_time": "2023-05-23T12:07:29.923179Z",
     "end_time": "2023-05-23T12:07:30.894833Z"
    }
   },
   "outputs": []
  },
  {
   "cell_type": "code",
   "execution_count": 10,
   "source": [
    "# cropped size 150x150x100\n",
    "import numpy as np\n",
    "\n",
    "base_dir    = \"/Users/achs/PhD/code/CT-MRI_LandmarkDetection/Spartan/trained_models_history\"\n",
    "err_array_120x4and80x2_path = f\"{base_dir}/cropped_dataset/straight_model/one_landmark_res/150x150x100/corroding_test/err_corrode100x4and50x2_bestVal.npy\"\n",
    "\n",
    "err_array_120x4and80x2 = np.load(err_array_120x4and80x2_path)"
   ],
   "metadata": {
    "collapsed": false,
    "ExecuteTime": {
     "end_time": "2023-07-27T04:04:22.823807Z",
     "start_time": "2023-07-27T04:04:22.806789Z"
    }
   },
   "outputs": []
  },
  {
   "cell_type": "code",
   "execution_count": 11,
   "source": [
    "from matplotlib import pyplot\n",
    "\n",
    "fig, axs = pyplot.subplots(3, 2, sharex=True, sharey=True, constrained_layout=True)\n",
    "\n",
    "# err_dis = np.power(err_array_100x4and50x2, 0.5)\n",
    "# err_dis = np.where(err_array_100x4and50x2>0, err_array_100x4and50x2**(1/2), err_array_100x4and50x2)\n",
    "err_dis = (err_array_120x4and80x2 ** 2) ** (1/2)\n",
    "corroded_layers_100 = np.arange(0, 76)\n",
    "corroded_layers_50 = np.arange(0, 51)\n",
    "\n",
    "# based on the Volume array\n",
    "# Cut from start to Row ascending order\n",
    "axs[0][0].plot(corroded_layers_100, err_dis[0, 0:76], 'r--')\n",
    "axs[0][0].set_xlabel(\"row: ascending\")\n",
    "# Cut from end to Row descending order\n",
    "axs[0][1].plot(corroded_layers_100, err_dis[1, 0:76], 'r--')\n",
    "axs[0][1].set_xlabel(\"row: descending\")\n",
    "fig.suptitle(\"Corrode outside layers, volume size (150x150x100), one landmark\", fontsize=16)\n",
    "# Cut from start to Column ascending order\n",
    "axs[1][0].plot(corroded_layers_100, err_dis[2, 0:76], 'r--')\n",
    "axs[1][0].set_xlabel(\"column: ascending\")\n",
    "# Cut from end to Column descending order\n",
    "axs[1][1].plot(corroded_layers_100, err_dis[3, 0:76], 'r--')\n",
    "axs[1][1].set_xlabel(\"column: descending\")\n",
    "# Cut from start to Slice ascending order\n",
    "axs[2][0].plot(corroded_layers_50, err_dis[4, 0:51], 'r--')\n",
    "axs[2][0].set_xlabel(\"slice: ascending\")\n",
    "# Cut from end to Slice descending order\n",
    "axs[2][1].plot(corroded_layers_50, err_dis[5, 0:51], 'r--')\n",
    "axs[2][1].set_xlabel(\"slice: descending\")\n",
    "\n",
    "# pyplot.setp(axs[-1, :], xlabel='corrode num')\n",
    "pyplot.setp(axs[:, 0], ylabel='(mm)')\n",
    "\n",
    "pyplot.show()"
   ],
   "metadata": {
    "collapsed": false,
    "ExecuteTime": {
     "end_time": "2023-07-27T04:05:00.813386Z",
     "start_time": "2023-07-27T04:04:58.641338Z"
    }
   },
   "outputs": []
  },
  {
   "cell_type": "code",
   "execution_count": 28,
   "source": [
    "## try to find the maximum cut layers' num\n",
    "# like 10% of the whole slope, from the start point to the half cutting num\n",
    "\n",
    "rate_diff = 0.5\n",
    "\n",
    "err_dis = (err_array_120x4and80x2 ** 2) ** (1/2)\n",
    "\n",
    "# row\n",
    "row_a_slope_base = (err_dis[0, 75] - err_dis[0, 0]) / 75\n",
    "row_d_slope_base = (err_dis[1, 75] - err_dis[1, 0]) / 75\n",
    "\n",
    "row_a_cut_num = []\n",
    "row_d_cut_num = []\n",
    "for cut_num in range(1, 76):\n",
    "    s = (err_dis[0, cut_num] - err_dis[0, 0]) / cut_num\n",
    "    if s > row_a_slope_base * rate_diff:\n",
    "        row_a_cut_num.append(cut_num)\n",
    "for cut_num in range(1, 76):\n",
    "    s = (err_dis[1, cut_num] - err_dis[1, 0]) / cut_num\n",
    "    if s > row_d_slope_base * rate_diff:\n",
    "        row_d_cut_num.append(cut_num)\n",
    "# column\n",
    "column_a_slope_base = (err_dis[2, 75] - err_dis[2, 0]) / 75\n",
    "column_d_slope_base = (err_dis[3, 75] - err_dis[3, 0]) / 75\n",
    "\n",
    "column_a_cut_num = []\n",
    "column_d_cut_num = []\n",
    "for cut_num in range(1, 76):\n",
    "    s = (err_dis[2, cut_num] - err_dis[2, 0]) / cut_num\n",
    "    if s > column_a_slope_base * rate_diff:\n",
    "        column_a_cut_num.append(cut_num)\n",
    "for cut_num in range(1, 76):\n",
    "    s = (err_dis[3, cut_num] - err_dis[3, 0]) / cut_num\n",
    "    if s > column_d_slope_base * rate_diff:\n",
    "        column_d_cut_num.append(cut_num)\n",
    "# slice\n",
    "slice_a_slope_base = (err_dis[4, 50] - err_dis[4, 0]) / 75\n",
    "slice_d_slope_base = (err_dis[5, 50] - err_dis[5, 0]) / 75\n",
    "\n",
    "slice_a_cut_num = []\n",
    "slice_d_cut_num = []\n",
    "for cut_num in range(1, 51):\n",
    "    s = (err_dis[4, cut_num] - err_dis[4, 0]) / cut_num\n",
    "    if s > slice_a_slope_base * rate_diff:\n",
    "        slice_a_cut_num.append(cut_num)\n",
    "for cut_num in range(1, 51):\n",
    "    s = (err_dis[5, cut_num] - err_dis[5, 0]) / cut_num\n",
    "    if s > slice_d_slope_base * rate_diff:\n",
    "        slice_d_cut_num.append(cut_num)\n",
    "\n",
    "print(\"row_a_cut_num: \", row_a_cut_num)\n",
    "print(\"row_d_cut_num: \", row_d_cut_num)\n",
    "print(\"column_a_cut_num: \", column_a_cut_num)\n",
    "print(\"column_d_cut_num: \", column_d_cut_num)\n",
    "print(\"slice_a_cut_num: \", slice_a_cut_num)\n",
    "print(\"slice_d_cut_num: \", slice_d_cut_num)"
   ],
   "metadata": {
    "collapsed": false,
    "ExecuteTime": {
     "end_time": "2023-07-27T04:30:23.272696Z",
     "start_time": "2023-07-27T04:30:23.225998Z"
    }
   },
   "outputs": []
  },
  {
   "cell_type": "markdown",
   "source": [
    "## Meaning of the values in Volumes"
   ],
   "metadata": {
    "collapsed": false
   }
  },
  {
   "cell_type": "code",
   "execution_count": 120,
   "source": [
    "import Functions.Visualization as Visualization\n",
    "\n",
    "import importlib\n",
    "\n",
    "importlib.reload(Visualization)\n",
    "\n",
    "data_base_dir = \"/Volumes/Shawn_HDD/PhD/Project/Date/augmentation_from_matlab/Cropped/based_on_truth/x100100y100100z5050\"\n",
    "pat_name = \"AH\"\n",
    "aug_id = 10\n",
    "\n",
    "left_volume_path = f\"{data_base_dir}/volumes/{pat_name}_augVolume_{aug_id}_cropped_left.npy\"\n",
    "right_volume_path = f\"{data_base_dir}/volumes/{pat_name}_augVolume_{aug_id}_cropped_right.npy\"\n",
    "left_landmarks_path = f\"{data_base_dir}/points/{pat_name}_augPoints_{aug_id}_cropped_left.npy\"\n",
    "right_landmarks_path = f\"{data_base_dir}/points/{pat_name}_augPoints_{aug_id}_cropped_right.npy\"\n",
    "left_length_path = f\"{data_base_dir}/length/{pat_name}_augLength_{aug_id}_cropped_left.npy\"\n",
    "right_length_path = f\"{data_base_dir}/length/{pat_name}_augLength_{aug_id}_cropped_right.npy\"\n",
    "\n",
    "left_volume = np.load(left_volume_path)\n",
    "right_volume = np.load(right_volume_path)\n",
    "left_landmarks = np.load(left_landmarks_path)\n",
    "right_landmarks = np.load(right_landmarks_path)\n",
    "\n",
    "pixel_space = [0.15, 0.15, 0.15]\n",
    "\n",
    "Visualization.show_two_landmarks(left_volume, left_landmarks, right_volume, right_landmarks, pixel_space)\n",
    "\n"
   ],
   "metadata": {
    "collapsed": false,
    "ExecuteTime": {
     "start_time": "2023-05-23T12:58:59.357695Z",
     "end_time": "2023-05-23T12:59:02.171187Z"
    }
   },
   "outputs": []
  },
  {
   "cell_type": "markdown",
   "source": [
    "## Meaning of the values in trained models' filters"
   ],
   "metadata": {
    "collapsed": false
   }
  },
  {
   "cell_type": "code",
   "execution_count": null,
   "source": [],
   "metadata": {
    "collapsed": false
   },
   "outputs": []
  }
 ],
 "metadata": {
  "kernelspec": {
   "display_name": "Python 3",
   "language": "python",
   "name": "python3"
  },
  "language_info": {
   "codemirror_mode": {
    "name": "ipython",
    "version": 2
   },
   "file_extension": ".py",
   "mimetype": "text/x-python",
   "name": "python",
   "nbconvert_exporter": "python",
   "pygments_lexer": "ipython2",
   "version": "2.7.6"
  }
 },
 "nbformat": 4,
 "nbformat_minor": 0
}
