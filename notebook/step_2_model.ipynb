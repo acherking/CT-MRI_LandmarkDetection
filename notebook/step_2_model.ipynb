{
 "cells": [
  {
   "cell_type": "markdown",
   "source": [
    "## Visualize the Results"
   ],
   "metadata": {
    "collapsed": false
   }
  },
  {
   "cell_type": "code",
   "source": [
    "## straight model\n",
    "# /data/gpfs/projects/punim1836/CT-MRI_LandmarkDetection/models/cropped/100x100x100/noises_s1_test_dis/two_landmarks/straight_model/learning_rate/0.0001/corrode_asym_rcs_50x4_best_val_test_dataset\n",
    "\n",
    "## u-net-dsnt (need to be simplified)\n",
    "# /data/gpfs/projects/punim1836/CT-MRI_LandmarkDetection/models/cropped/100x100x100/noises_s1_test_dis/two_landmarks/u_net_dsnt/learning_rate/0.00005/corrode_asym_rcs_50x4_best_val_test_dataset\n",
    "\n",
    "## scn-dsnt\n",
    "# /data/gpfs/projects/punim1836/CT-MRI_LandmarkDetection/models/cropped/100x100x100/noises_s1_test_dis/two_landmarks/scn_dsnt/learning_rate/0.0001/corrode_asym_rcs_50x4_best_val_test_dataset\n",
    "# maybe not use it, because even remove one layer, the precision dropped deeply...\n",
    "\n",
    "import numpy as np\n",
    "\n",
    "base_dir = \"/Users/achs/PhD/code/CT-MRI_LandmarkDetection\"\n",
    "# the models' dir\n",
    "model_dir = f\"{base_dir}/models/cropped/100x100x100/noises_s1_test_dis/two_landmarks/straight_model/learning_rate/0.0001/07Jun20241742\"\n",
    "\n",
    "corrode_asym_rcs_file = \"corrode_asym_rcs_50x4_best_val_test_dataset.npy\"\n",
    "\n",
    "corrode_asym_rcs_error = np.load(f\"{model_dir}/{corrode_asym_rcs_file}\")"
   ],
   "metadata": {
    "collapsed": false,
    "ExecuteTime": {
     "end_time": "2024-06-11T06:20:47.458190Z",
     "start_time": "2024-06-11T06:20:45.941546Z"
    }
   },
   "outputs": [],
   "execution_count": 1
  },
  {
   "cell_type": "code",
   "execution_count": 26,
   "source": [
    "import matplotlib.pyplot as plt\n",
    "\n",
    "# errs_d: error distance (corroded_layers_num)\n",
    "def sym_rcs(errs_d):\n",
    "    # identify\n",
    "    min_value = np.min(errs_d)\n",
    "    min_value_idx = np.argwhere(errs_d==min_value)\n",
    "    print(\"min value: \", min_value)\n",
    "    print(\"index    : \", min_value_idx)\n",
    "    # plot\n",
    "    corroded_ls = np.arange(0, 50)\n",
    "    plt.plot(corroded_ls, errs_d, 'r--')\n",
    "    plt.xlabel('Corroded Layers(row&column&slice corroded num)')\n",
    "    plt.ylabel('Error Distance per Landmarks (mm)')\n",
    "    plt.show()"
   ],
   "metadata": {
    "collapsed": false,
    "ExecuteTime": {
     "start_time": "2023-05-09T15:48:25.420613Z",
     "end_time": "2023-05-09T15:48:25.539600Z"
    }
   },
   "outputs": []
  },
  {
   "cell_type": "code",
   "execution_count": 30,
   "source": [
    "import matplotlib.pyplot as plt\n",
    "\n",
    "# err_array_15x15x15\n",
    "def sym_rcs(errs_d):\n",
    "    corroded_ls = np.arange(0, 15)\n",
    "    \n",
    "    corroded_column_num = 3\n",
    "    corroded_slice_num = 13\n",
    "    \n",
    "    plt.plot(corroded_ls, errs_d[:, corroded_column_num, corroded_slice_num], 'r--')\n",
    "    \n",
    "    plt.xlabel(f'Corroded Layers(row num, column={corroded_column_num}, slice={corroded_slice_num})')\n",
    "    plt.ylabel('Error Distance per Landmarks (mm)')\n",
    "    plt.show()"
   ],
   "metadata": {
    "collapsed": false,
    "ExecuteTime": {
     "start_time": "2023-05-10T11:45:28.310652Z",
     "end_time": "2023-05-10T11:45:28.468786Z"
    }
   },
   "outputs": []
  },
  {
   "cell_type": "code",
   "execution_count": 71,
   "source": [
    "# s = 0 # slice\n",
    "def f(errs_d, r, c, s=0):\n",
    "    return errs_d[r, c, s]"
   ],
   "metadata": {
    "collapsed": false,
    "ExecuteTime": {
     "start_time": "2023-05-10T13:10:40.071963Z",
     "end_time": "2023-05-10T13:10:40.083633Z"
    }
   },
   "outputs": []
  },
  {
   "cell_type": "code",
   "source": [
    "error_dis = \n",
    "slice_num = 14\n",
    "\n",
    "row = np.linspace(0, 13, 15).astype(int)\n",
    "column = np.linspace(0, 14, 15).astype(int)\n",
    "\n",
    "R, C = np.meshgrid(row, column)\n",
    "E = f(error_dis, R, C, s=slice_num)\n",
    "\n",
    "fig = plt.figure()\n",
    "ax = plt.axes(projection='3d')\n",
    "ax.plot_wireframe(R, C, E, linewidths=0.8)\n",
    "ax.set_title(f\"corroded slice num: {slice_num}\")\n",
    "plt.xlabel(\"Corroded Row num\")\n",
    "plt.ylabel(\"Corroded Column num\")\n",
    "plt.show()"
   ],
   "metadata": {
    "collapsed": false,
    "ExecuteTime": {
     "end_time": "2024-06-12T06:01:44.564888Z",
     "start_time": "2024-06-12T06:01:44.472796Z"
    }
   },
   "outputs": [
    {
     "ename": "NameError",
     "evalue": "name 'f' is not defined",
     "output_type": "error",
     "traceback": [
      "\u001B[0;31m---------------------------------------------------------------------------\u001B[0m",
      "\u001B[0;31mNameError\u001B[0m                                 Traceback (most recent call last)",
      "Cell \u001B[0;32mIn[2], line 7\u001B[0m\n\u001B[1;32m      4\u001B[0m column \u001B[38;5;241m=\u001B[39m np\u001B[38;5;241m.\u001B[39mlinspace(\u001B[38;5;241m0\u001B[39m, \u001B[38;5;241m14\u001B[39m, \u001B[38;5;241m15\u001B[39m)\u001B[38;5;241m.\u001B[39mastype(\u001B[38;5;28mint\u001B[39m)\n\u001B[1;32m      6\u001B[0m R, C \u001B[38;5;241m=\u001B[39m np\u001B[38;5;241m.\u001B[39mmeshgrid(row, column)\n\u001B[0;32m----> 7\u001B[0m E \u001B[38;5;241m=\u001B[39m \u001B[43mf\u001B[49m(R, C, s\u001B[38;5;241m=\u001B[39mslice_num)\n\u001B[1;32m      9\u001B[0m fig \u001B[38;5;241m=\u001B[39m plt\u001B[38;5;241m.\u001B[39mfigure()\n\u001B[1;32m     10\u001B[0m ax \u001B[38;5;241m=\u001B[39m plt\u001B[38;5;241m.\u001B[39maxes(projection\u001B[38;5;241m=\u001B[39m\u001B[38;5;124m'\u001B[39m\u001B[38;5;124m3d\u001B[39m\u001B[38;5;124m'\u001B[39m)\n",
      "\u001B[0;31mNameError\u001B[0m: name 'f' is not defined"
     ]
    }
   ],
   "execution_count": 2
  },
  {
   "cell_type": "code",
   "execution_count": 73,
   "source": [
    "import matplotlib.pyplot as plt\n",
    "from matplotlib import cm\n",
    "import numpy as np\n",
    "\n",
    "from mpl_toolkits.mplot3d.axes3d import get_test_data\n",
    "\n",
    "\n",
    "# set up a figure twice as wide as it is tall\n",
    "fig = plt.figure(figsize=plt.figaspect(0.5))\n",
    "\n",
    "row = np.linspace(0, 13, 15).astype(int)\n",
    "column = np.linspace(0, 14, 15).astype(int)\n",
    "\n",
    "R, C = np.meshgrid(row, column)\n",
    "E1 = f(R, C, s=0)\n",
    "E2 = f(R, C, s=14)\n",
    "\n",
    "# =============\n",
    "# First subplot\n",
    "# =============\n",
    "# set up the axes for the first plot\n",
    "ax = fig.add_subplot(1, 2, 1, projection='3d')\n",
    "\n",
    "# plot a 3D surface like in the example mplot3d/surface3d_demo\n",
    "\n",
    "ax.plot_wireframe(R, C, E1)\n",
    "\n",
    "# ==============\n",
    "# Second subplot\n",
    "# ==============\n",
    "# set up the axes for the second plot\n",
    "ax = fig.add_subplot(1, 2, 2, projection='3d')\n",
    "\n",
    "# plot a 3D wireframe like in the example mplot3d/wire3d_demo\n",
    "ax.plot_wireframe(R, C, E2)\n",
    "\n",
    "plt.show()"
   ],
   "metadata": {
    "collapsed": false,
    "ExecuteTime": {
     "start_time": "2023-05-10T13:11:02.312366Z",
     "end_time": "2023-05-10T13:11:02.570824Z"
    }
   },
   "outputs": []
  },
  {
   "cell_type": "markdown",
   "source": [
    "## Corrode 6 surfaces separately"
   ],
   "metadata": {
    "collapsed": false
   }
  },
  {
   "metadata": {
    "ExecuteTime": {
     "end_time": "2024-06-12T06:31:24.782884Z",
     "start_time": "2024-06-12T06:31:24.774781Z"
    }
   },
   "cell_type": "code",
   "source": [
    "## straight model\n",
    "# /data/gpfs/projects/punim1836/CT-MRI_LandmarkDetection/models/cropped/100x100x100/noises_s1_test_dis/two_landmarks/straight_model/learning_rate/0.0001/07Jun20241742/corrode_asym_rcs_50x4_best_val_test_dataset\n",
    "\n",
    "## u-net-dsnt (need to be simplified)\n",
    "# /data/gpfs/projects/punim1836/CT-MRI_LandmarkDetection/models/cropped/100x100x100/noises_s1_test_dis/two_landmarks/u_net_dsnt/learning_rate/0.00005/09Jun20242158/corrode_asym_rcs_50x4_best_val_test_dataset\n",
    "\n",
    "## scn-dsnt\n",
    "# /data/gpfs/projects/punim1836/CT-MRI_LandmarkDetection/models/cropped/100x100x100/noises_s1_test_dis/two_landmarks/scn_dsnt/learning_rate/0.0001/07Jun20241709/corrode_asym_rcs_50x4_best_val_test_dataset\n",
    "# maybe not use it, because even remove one layer, the precision dropped deeply...\n",
    "\n",
    "import numpy as np\n",
    "\n",
    "base_dir = \"/Users/achs/PhD/code/CT-MRI_LandmarkDetection\"\n",
    "# the models' dir\n",
    "straight_model_dir = f\"{base_dir}/models/cropped/100x100x100/noises_s1_test_dis/two_landmarks/straight_model/learning_rate/0.0001/07Jun20241742\"\n",
    "unet_model_dir = f\"{base_dir}/models/cropped/100x100x100/noises_s1_test_dis/two_landmarks/u_net_dsnt/learning_rate/0.00005/09Jun20242158\"\n",
    "snc_model_dir = f\"{base_dir}/models/cropped/100x100x100/noises_s1_test_dis/two_landmarks/scn_dsnt/learning_rate/0.0001/07Jun20241709\"\n",
    "\n",
    "corrode_asym_rcs_file = \"corrode_asym_rcs_50x4_best_val_test_dataset.npy\"\n",
    "\n",
    "straight_model_corrode_asym_rcs_error = np.load(f\"{straight_model_dir}/{corrode_asym_rcs_file}\")\n",
    "unet_corrode_asym_rcs_error = np.load(f\"{unet_model_dir}/{corrode_asym_rcs_file}\")\n",
    "scn_corrode_asym_rcs_error = np.load(f\"{snc_model_dir}/{corrode_asym_rcs_file}\")"
   ],
   "outputs": [],
   "execution_count": 12
  },
  {
   "metadata": {
    "ExecuteTime": {
     "end_time": "2024-06-12T07:21:45.977373Z",
     "start_time": "2024-06-12T07:21:45.967547Z"
    }
   },
   "cell_type": "code",
   "source": "print(scn_corrode_asym_rcs_error[:, :, 0])",
   "outputs": [
    {
     "name": "stdout",
     "output_type": "stream",
     "text": [
      "[[  0.673   0.984  12.049 116.894  16.107   5.783   5.787   8.654  12.746\n",
      "    6.794   7.195   9.984  14.375   8.831   9.889  12.821  18.551  11.494\n",
      "   13.131  15.642  24.408  12.194  13.339  16.483  27.144  10.989  11.15\n",
      "   16.183  28.352   9.013   9.304  16.045  22.878   7.418   7.707  13.555\n",
      "   21.772   6.942   7.073   8.389  14.894   6.254   6.991   7.232  16.745\n",
      "    6.633   7.28    7.387  17.91    7.441   7.882]\n",
      " [  0.673   1.571   5.056 411.731 144.168  11.517   3.002   4.037  19.119\n",
      "   12.425   2.841   3.635  19.809  13.677   3.292   4.398  24.794  18.898\n",
      "    4.062   6.728  37.151  29.719   6.567  11.776  55.205  41.57    8.823\n",
      "   12.857  55.015  41.145   9.162  12.664  53.474  41.3     9.558  12.659\n",
      "   54.066  42.592   9.653  12.55   53.951  42.755   9.534  12.332  50.699\n",
      "   39.728   9.176  11.565  45.473  33.941   8.479]\n",
      " [  0.673   4.207  13.711  25.433   3.563   2.145   2.284   5.846   2.943\n",
      "    2.204   2.382   6.335   4.023   2.943   2.89    5.55    4.892   5.956\n",
      "    6.041   6.47    3.914   2.936   2.778   6.647   4.285   2.81    2.698\n",
      "    5.906   3.879   2.968   3.06    5.072   3.576   3.404   3.633   4.516\n",
      "    3.701   4.131   4.367   4.711   4.524   4.951   5.068   5.626   5.5\n",
      "    5.712   5.725   6.867   6.459   6.354   6.262]\n",
      " [  0.673 450.664 463.752 477.082 431.274 440.689 450.262 424.113 401.403\n",
      "  405.109 408.853 390.982 370.598 364.655 367.559 357.681 333.018 324.87\n",
      "  325.221 321.514 297.446 286.645 288.553 285.954 262.168 254.177 259.199\n",
      "  258.325 231.29  222.784 231.311 228.371 197.68  192.894 205.254 206.334\n",
      "  174.432 174.568 187.796 188.367 154.954 160.027 176.561 179.597 146.347\n",
      "  148.684 173.965 176.046 148.076 145.305 169.131]\n",
      " [  0.673 446.506 409.397 178.281 210.085 337.716 320.254 179.836 204.824\n",
      "  311.909 286.873 164.016 191.893 291.804 257.949 135.586 154.957 253.405\n",
      "  221.363 113.095 123.202 219.715 192.987  89.719  94.504 189.478 170.157\n",
      "   69.355  73.226 168.324 149.895  56.763  62.831 151.188 127.392  46.66\n",
      "   55.834 141.188 113.838  43.946  55.582 140.32  112.413  42.421  63.634\n",
      "  157.82  119.504  43.556  74.329 175.697 136.312]\n",
      " [  0.673   4.383   1.53   31.402  62.209  45.135  31.906   9.35   53.424\n",
      "   40.561  28.152   4.872  13.367   9.145   5.158  12.144  34.978  28.539\n",
      "   16.631  13.534  37.216  30.424  17.948  15.035  39.75   32.478  19.309\n",
      "   16.284  40.291  32.842  19.907  16.585  38.405  31.646  19.438  15.529\n",
      "   34.201  28.55   17.61   13.378  28.273  22.623  13.553  10.166  22.316\n",
      "   17.364  10.661   7.78   17.287  13.06    8.285]]\n"
     ]
    }
   ],
   "execution_count": 18
  },
  {
   "cell_type": "code",
   "source": [
    "from matplotlib import pyplot\n",
    "\n",
    "def show_asym_rcs(errs_d):\n",
    "    corroded_layers = np.arange(0, 51)\n",
    "    figure, axis = pyplot.subplots(3, 2, sharex=True, sharey=True, constrained_layout=True)\n",
    "    \n",
    "    # based on the Volume array\n",
    "    # Cut from start to Row ascending order\n",
    "    axis[0][0].plot(corroded_layers, errs_d[0], 'r--')\n",
    "    axis[0][0].set_xlabel(\"row: ascending\")\n",
    "    # Cut from end to Row descending order\n",
    "    axis[0][1].plot(corroded_layers, errs_d[1], 'r--')\n",
    "    axis[0][1].set_xlabel(\"row: descending\")\n",
    "    figure.suptitle(\"Corrode outside layers, volume size (100x100x100), two landmark\", fontsize=16)\n",
    "    # Cut from start to Column ascending order\n",
    "    axis[1][0].plot(corroded_layers, errs_d[2], 'r--')\n",
    "    axis[1][0].set_xlabel(\"column: ascending\")\n",
    "    # Cut from end to Column descending order\n",
    "    axis[1][1].plot(corroded_layers, errs_d[3], 'r--')\n",
    "    axis[1][1].set_xlabel(\"column: descending\")\n",
    "    # Cut from start to Slice ascending order\n",
    "    axis[2][0].plot(corroded_layers, errs_d[4], 'r--')\n",
    "    axis[2][0].set_xlabel(\"slice: ascending\")\n",
    "    # Cut from end to Slice descending order\n",
    "    axis[2][1].plot(corroded_layers, errs_d[5], 'r--')\n",
    "    axis[2][1].set_xlabel(\"slice: descending\")\n",
    "    \n",
    "    # pyplot.setp(axs[-1, :], xlabel='corrode num')\n",
    "    pyplot.setp(axis[:, 0], ylabel='(mm)')\n",
    "    \n",
    "    pyplot.show()\n"
   ],
   "metadata": {
    "collapsed": false,
    "ExecuteTime": {
     "end_time": "2024-06-12T06:23:25.594859Z",
     "start_time": "2024-06-12T06:23:25.581591Z"
    }
   },
   "outputs": [],
   "execution_count": 5
  },
  {
   "metadata": {
    "ExecuteTime": {
     "end_time": "2024-06-12T06:37:08.590502Z",
     "start_time": "2024-06-12T06:37:07.017552Z"
    }
   },
   "cell_type": "code",
   "source": "show_asym_rcs(unet_corrode_asym_rcs_error[:, :, 0])",
   "outputs": [
    {
     "data": {
      "text/plain": [
       "<Figure size 640x480 with 6 Axes>"
      ],
      "image/png": "[encoded data removed]"
     },
     "metadata": {},
     "output_type": "display_data"
    }
   ],
   "execution_count": 17
  },
  {
   "cell_type": "code",
   "execution_count": 25,
   "source": [
    "print(err_dis[1, 0:49])"
   ],
   "metadata": {
    "collapsed": false,
    "ExecuteTime": {
     "end_time": "2023-07-27T04:16:53.782076Z",
     "start_time": "2023-07-27T04:16:53.747730Z"
    }
   },
   "outputs": []
  },
  {
   "cell_type": "code",
   "execution_count": 26,
   "source": [
    "tmp = (err_dis[0, 1] - err_dis[0, 0]) / 1 / 0.004672\n",
    "print(tmp)"
   ],
   "metadata": {
    "collapsed": false,
    "ExecuteTime": {
     "end_time": "2023-07-27T04:21:15.457209Z",
     "start_time": "2023-07-27T04:21:15.435797Z"
    }
   },
   "outputs": []
  },
  {
   "cell_type": "code",
   "execution_count": 27,
   "source": [
    "## try to find the maximum cut layers' num\n",
    "# like 10% of the whole slope, from the start point to the half cutting num\n",
    "\n",
    "rate_diff = 0.5\n",
    "\n",
    "err_dis = err_array_50x6 ** (1/2)\n",
    "\n",
    "# row\n",
    "row_a_slope_base = (err_dis[0, 49] - err_dis[0, 0]) / 50\n",
    "row_d_slope_base = (err_dis[1, 49] - err_dis[1, 0]) / 50\n",
    "\n",
    "row_a_cut_num = []\n",
    "row_d_cut_num = []\n",
    "for cut_num in range(1, 49):\n",
    "    s = (err_dis[0, cut_num] - err_dis[0, 0]) / cut_num\n",
    "    if s > row_a_slope_base * rate_diff:\n",
    "        row_a_cut_num.append(cut_num)\n",
    "for cut_num in range(1, 49):\n",
    "    s = (err_dis[1, cut_num] - err_dis[1, 0]) / cut_num\n",
    "    if s > row_d_slope_base * rate_diff:\n",
    "        row_d_cut_num.append(cut_num)\n",
    "# column\n",
    "column_a_slope_base = (err_dis[2, 49] - err_dis[2, 0]) / 50\n",
    "column_d_slope_base = (err_dis[3, 49] - err_dis[3, 0]) / 50\n",
    "\n",
    "column_a_cut_num = []\n",
    "column_d_cut_num = []\n",
    "for cut_num in range(1, 49):\n",
    "    s = (err_dis[2, cut_num] - err_dis[2, 0]) / cut_num\n",
    "    if s > column_a_slope_base * rate_diff:\n",
    "        column_a_cut_num.append(cut_num)\n",
    "for cut_num in range(1, 49):\n",
    "    s = (err_dis[3, cut_num] - err_dis[3, 0]) / cut_num\n",
    "    if s > column_d_slope_base * rate_diff:\n",
    "        column_d_cut_num.append(cut_num)\n",
    "# slice\n",
    "slice_a_slope_base = (err_dis[4, 49] - err_dis[4, 0]) / 50\n",
    "slice_d_slope_base = (err_dis[5, 49] - err_dis[5, 0]) / 50\n",
    "\n",
    "slice_a_cut_num = []\n",
    "slice_d_cut_num = []\n",
    "for cut_num in range(1, 49):\n",
    "    s = (err_dis[4, cut_num] - err_dis[4, 0]) / cut_num\n",
    "    if s > slice_a_slope_base * rate_diff:\n",
    "        slice_a_cut_num.append(cut_num)\n",
    "for cut_num in range(1, 49):\n",
    "    s = (err_dis[5, cut_num] - err_dis[5, 0]) / cut_num\n",
    "    if s > slice_d_slope_base * rate_diff:\n",
    "        slice_d_cut_num.append(cut_num)\n",
    "\n",
    "print(\"row_a_cut_num: \", row_a_cut_num)\n",
    "print(\"row_d_cut_num: \", row_d_cut_num)\n",
    "print(\"column_a_cut_num: \", column_a_cut_num)\n",
    "print(\"column_d_cut_num: \", column_d_cut_num)\n",
    "print(\"slice_a_cut_num: \", slice_a_cut_num)\n",
    "print(\"slice_d_cut_num: \", slice_d_cut_num)"
   ],
   "metadata": {
    "collapsed": false,
    "ExecuteTime": {
     "end_time": "2023-07-27T04:21:36.341585Z",
     "start_time": "2023-07-27T04:21:36.321813Z"
    }
   },
   "outputs": []
  },
  {
   "cell_type": "code",
   "execution_count": 130,
   "source": [
    "print(err_array_100x4and50x2[0, 0:101])"
   ],
   "metadata": {
    "collapsed": false,
    "ExecuteTime": {
     "start_time": "2023-05-23T13:32:19.318312Z",
     "end_time": "2023-05-23T13:32:19.329735Z"
    }
   },
   "outputs": []
  },
  {
   "cell_type": "code",
   "execution_count": 117,
   "source": [
    "from matplotlib import pyplot\n",
    "\n",
    "fig, axs = pyplot.subplots(3, 2, sharex=True, sharey=True, constrained_layout=True)\n",
    "\n",
    "# err_dis = np.power(err_array_100x4and50x2, 0.5)\n",
    "# err_dis = np.where(err_array_100x4and50x2>0, err_array_100x4and50x2**(1/2), err_array_100x4and50x2)\n",
    "err_dis = (err_array_100x4and50x2 ** 2) ** (1/2)\n",
    "corroded_layers_100 = np.arange(0, 101)\n",
    "corroded_layers_50 = np.arange(0, 51)\n",
    "\n",
    "# based on the Volume array\n",
    "# Cut from start to Row ascending order\n",
    "axs[0][0].plot(corroded_layers_100, err_dis[0], 'r--')\n",
    "axs[0][0].set_xlabel(\"row: ascending\")\n",
    "# Cut from end to Row descending order\n",
    "axs[0][1].plot(corroded_layers_100, err_dis[1], 'r--')\n",
    "axs[0][1].set_xlabel(\"row: descending\")\n",
    "fig.suptitle(\"Corrode outside layers, volume size (200x200x100), one landmark\", fontsize=16)\n",
    "# Cut from start to Column ascending order\n",
    "axs[1][0].plot(corroded_layers_100, err_dis[2], 'r--')\n",
    "axs[1][0].set_xlabel(\"column: ascending\")\n",
    "# Cut from end to Column descending order\n",
    "axs[1][1].plot(corroded_layers_100, err_dis[3], 'r--')\n",
    "axs[1][1].set_xlabel(\"column: descending\")\n",
    "# Cut from start to Slice ascending order\n",
    "axs[2][0].plot(corroded_layers_50, err_dis[4, 0:51], 'r--')\n",
    "axs[2][0].set_xlabel(\"slice: ascending\")\n",
    "# Cut from end to Slice descending order\n",
    "axs[2][1].plot(corroded_layers_50, err_dis[5, 0:51], 'r--')\n",
    "axs[2][1].set_xlabel(\"slice: descending\")\n",
    "\n",
    "# pyplot.setp(axs[-1, :], xlabel='corrode num')\n",
    "pyplot.setp(axs[:, 0], ylabel='(mm)')\n",
    "\n",
    "pyplot.show()"
   ],
   "metadata": {
    "collapsed": false,
    "ExecuteTime": {
     "start_time": "2023-05-23T12:07:29.923179Z",
     "end_time": "2023-05-23T12:07:30.894833Z"
    }
   },
   "outputs": []
  },
  {
   "cell_type": "code",
   "execution_count": 10,
   "source": [
    "# cropped size 150x150x100\n",
    "import numpy as np\n",
    "\n",
    "base_dir    = \"/Users/achs/PhD/code/CT-MRI_LandmarkDetection/Spartan/trained_models_history\"\n",
    "err_array_120x4and80x2_path = f\"{base_dir}/cropped_dataset/straight_model/one_landmark_res/150x150x100/corroding_test/err_corrode100x4and50x2_bestVal.npy\"\n",
    "\n",
    "err_array_120x4and80x2 = np.load(err_array_120x4and80x2_path)"
   ],
   "metadata": {
    "collapsed": false,
    "ExecuteTime": {
     "end_time": "2023-07-27T04:04:22.823807Z",
     "start_time": "2023-07-27T04:04:22.806789Z"
    }
   },
   "outputs": []
  },
  {
   "cell_type": "code",
   "execution_count": 11,
   "source": [
    "from matplotlib import pyplot\n",
    "\n",
    "fig, axs = pyplot.subplots(3, 2, sharex=True, sharey=True, constrained_layout=True)\n",
    "\n",
    "# err_dis = np.power(err_array_100x4and50x2, 0.5)\n",
    "# err_dis = np.where(err_array_100x4and50x2>0, err_array_100x4and50x2**(1/2), err_array_100x4and50x2)\n",
    "err_dis = (err_array_120x4and80x2 ** 2) ** (1/2)\n",
    "corroded_layers_100 = np.arange(0, 76)\n",
    "corroded_layers_50 = np.arange(0, 51)\n",
    "\n",
    "# based on the Volume array\n",
    "# Cut from start to Row ascending order\n",
    "axs[0][0].plot(corroded_layers_100, err_dis[0, 0:76], 'r--')\n",
    "axs[0][0].set_xlabel(\"row: ascending\")\n",
    "# Cut from end to Row descending order\n",
    "axs[0][1].plot(corroded_layers_100, err_dis[1, 0:76], 'r--')\n",
    "axs[0][1].set_xlabel(\"row: descending\")\n",
    "fig.suptitle(\"Corrode outside layers, volume size (150x150x100), one landmark\", fontsize=16)\n",
    "# Cut from start to Column ascending order\n",
    "axs[1][0].plot(corroded_layers_100, err_dis[2, 0:76], 'r--')\n",
    "axs[1][0].set_xlabel(\"column: ascending\")\n",
    "# Cut from end to Column descending order\n",
    "axs[1][1].plot(corroded_layers_100, err_dis[3, 0:76], 'r--')\n",
    "axs[1][1].set_xlabel(\"column: descending\")\n",
    "# Cut from start to Slice ascending order\n",
    "axs[2][0].plot(corroded_layers_50, err_dis[4, 0:51], 'r--')\n",
    "axs[2][0].set_xlabel(\"slice: ascending\")\n",
    "# Cut from end to Slice descending order\n",
    "axs[2][1].plot(corroded_layers_50, err_dis[5, 0:51], 'r--')\n",
    "axs[2][1].set_xlabel(\"slice: descending\")\n",
    "\n",
    "# pyplot.setp(axs[-1, :], xlabel='corrode num')\n",
    "pyplot.setp(axs[:, 0], ylabel='(mm)')\n",
    "\n",
    "pyplot.show()"
   ],
   "metadata": {
    "collapsed": false,
    "ExecuteTime": {
     "end_time": "2023-07-27T04:05:00.813386Z",
     "start_time": "2023-07-27T04:04:58.641338Z"
    }
   },
   "outputs": []
  },
  {
   "cell_type": "code",
   "execution_count": 28,
   "source": [
    "## try to find the maximum cut layers' num\n",
    "# like 10% of the whole slope, from the start point to the half cutting num\n",
    "\n",
    "rate_diff = 0.5\n",
    "\n",
    "err_dis = (err_array_120x4and80x2 ** 2) ** (1/2)\n",
    "\n",
    "# row\n",
    "row_a_slope_base = (err_dis[0, 75] - err_dis[0, 0]) / 75\n",
    "row_d_slope_base = (err_dis[1, 75] - err_dis[1, 0]) / 75\n",
    "\n",
    "row_a_cut_num = []\n",
    "row_d_cut_num = []\n",
    "for cut_num in range(1, 76):\n",
    "    s = (err_dis[0, cut_num] - err_dis[0, 0]) / cut_num\n",
    "    if s > row_a_slope_base * rate_diff:\n",
    "        row_a_cut_num.append(cut_num)\n",
    "for cut_num in range(1, 76):\n",
    "    s = (err_dis[1, cut_num] - err_dis[1, 0]) / cut_num\n",
    "    if s > row_d_slope_base * rate_diff:\n",
    "        row_d_cut_num.append(cut_num)\n",
    "# column\n",
    "column_a_slope_base = (err_dis[2, 75] - err_dis[2, 0]) / 75\n",
    "column_d_slope_base = (err_dis[3, 75] - err_dis[3, 0]) / 75\n",
    "\n",
    "column_a_cut_num = []\n",
    "column_d_cut_num = []\n",
    "for cut_num in range(1, 76):\n",
    "    s = (err_dis[2, cut_num] - err_dis[2, 0]) / cut_num\n",
    "    if s > column_a_slope_base * rate_diff:\n",
    "        column_a_cut_num.append(cut_num)\n",
    "for cut_num in range(1, 76):\n",
    "    s = (err_dis[3, cut_num] - err_dis[3, 0]) / cut_num\n",
    "    if s > column_d_slope_base * rate_diff:\n",
    "        column_d_cut_num.append(cut_num)\n",
    "# slice\n",
    "slice_a_slope_base = (err_dis[4, 50] - err_dis[4, 0]) / 75\n",
    "slice_d_slope_base = (err_dis[5, 50] - err_dis[5, 0]) / 75\n",
    "\n",
    "slice_a_cut_num = []\n",
    "slice_d_cut_num = []\n",
    "for cut_num in range(1, 51):\n",
    "    s = (err_dis[4, cut_num] - err_dis[4, 0]) / cut_num\n",
    "    if s > slice_a_slope_base * rate_diff:\n",
    "        slice_a_cut_num.append(cut_num)\n",
    "for cut_num in range(1, 51):\n",
    "    s = (err_dis[5, cut_num] - err_dis[5, 0]) / cut_num\n",
    "    if s > slice_d_slope_base * rate_diff:\n",
    "        slice_d_cut_num.append(cut_num)\n",
    "\n",
    "print(\"row_a_cut_num: \", row_a_cut_num)\n",
    "print(\"row_d_cut_num: \", row_d_cut_num)\n",
    "print(\"column_a_cut_num: \", column_a_cut_num)\n",
    "print(\"column_d_cut_num: \", column_d_cut_num)\n",
    "print(\"slice_a_cut_num: \", slice_a_cut_num)\n",
    "print(\"slice_d_cut_num: \", slice_d_cut_num)"
   ],
   "metadata": {
    "collapsed": false,
    "ExecuteTime": {
     "end_time": "2023-07-27T04:30:23.272696Z",
     "start_time": "2023-07-27T04:30:23.225998Z"
    }
   },
   "outputs": []
  },
  {
   "cell_type": "markdown",
   "source": [
    "## Meaning of the values in Volumes"
   ],
   "metadata": {
    "collapsed": false
   }
  },
  {
   "cell_type": "code",
   "execution_count": 120,
   "source": [
    "import Functions.Visualization as Visualization\n",
    "\n",
    "import importlib\n",
    "\n",
    "importlib.reload(Visualization)\n",
    "\n",
    "data_base_dir = \"/Volumes/Shawn_HDD/PhD/Project/Date/augmentation_from_matlab/Cropped/based_on_truth/x100100y100100z5050\"\n",
    "pat_name = \"AH\"\n",
    "aug_id = 10\n",
    "\n",
    "left_volume_path = f\"{data_base_dir}/volumes/{pat_name}_augVolume_{aug_id}_cropped_left.npy\"\n",
    "right_volume_path = f\"{data_base_dir}/volumes/{pat_name}_augVolume_{aug_id}_cropped_right.npy\"\n",
    "left_landmarks_path = f\"{data_base_dir}/points/{pat_name}_augPoints_{aug_id}_cropped_left.npy\"\n",
    "right_landmarks_path = f\"{data_base_dir}/points/{pat_name}_augPoints_{aug_id}_cropped_right.npy\"\n",
    "left_length_path = f\"{data_base_dir}/length/{pat_name}_augLength_{aug_id}_cropped_left.npy\"\n",
    "right_length_path = f\"{data_base_dir}/length/{pat_name}_augLength_{aug_id}_cropped_right.npy\"\n",
    "\n",
    "left_volume = np.load(left_volume_path)\n",
    "right_volume = np.load(right_volume_path)\n",
    "left_landmarks = np.load(left_landmarks_path)\n",
    "right_landmarks = np.load(right_landmarks_path)\n",
    "\n",
    "pixel_space = [0.15, 0.15, 0.15]\n",
    "\n",
    "Visualization.show_two_landmarks(left_volume, left_landmarks, right_volume, right_landmarks, pixel_space)\n",
    "\n"
   ],
   "metadata": {
    "collapsed": false,
    "ExecuteTime": {
     "start_time": "2023-05-23T12:58:59.357695Z",
     "end_time": "2023-05-23T12:59:02.171187Z"
    }
   },
   "outputs": []
  },
  {
   "cell_type": "markdown",
   "source": [
    "## Meaning of the values in trained models' filters"
   ],
   "metadata": {
    "collapsed": false
   }
  },
  {
   "cell_type": "code",
   "execution_count": null,
   "source": [],
   "metadata": {
    "collapsed": false
   },
   "outputs": []
  }
 ],
 "metadata": {
  "kernelspec": {
   "display_name": "Python 3",
   "language": "python",
   "name": "python3"
  },
  "language_info": {
   "codemirror_mode": {
    "name": "ipython",
    "version": 2
   },
   "file_extension": ".py",
   "mimetype": "text/x-python",
   "name": "python",
   "nbconvert_exporter": "python",
   "pygments_lexer": "ipython2",
   "version": "2.7.6"
  }
 },
 "nbformat": 4,
 "nbformat_minor": 0
}
