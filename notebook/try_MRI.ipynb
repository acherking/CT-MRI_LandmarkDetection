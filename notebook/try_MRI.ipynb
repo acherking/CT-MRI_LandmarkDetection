{
 "cells": [
  {
   "cell_type": "markdown",
   "id": "5af2a4bd-db93-4e86-b704-d8f651d8f72a",
   "metadata": {},
   "source": [
    "# Review MRI"
   ]
  },
  {
   "cell_type": "code",
   "execution_count": null,
   "id": "24a5029a-f71e-43ca-a572-e7aec79784a3",
   "metadata": {},
   "outputs": [],
   "source": [
    "# import visualization functions\n",
    "import os\n",
    "import sys\n",
    "module_path = os.path.abspath(os.path.join('..'))\n",
    "\n",
    "if module_path not in sys.path:\n",
    "    sys.path.append(module_path)\n",
    "\n",
    "sys.path.append(\"/data/gpfs/projects/punim1836/CT-MRI_LandmarkDetection/src/models\")\n",
    "sys.path"
   ]
  },
  {
   "cell_type": "code",
   "execution_count": null,
   "id": "c304fee2-101c-429f-8eaa-5a23d5b66368",
   "metadata": {
    "scrolled": true
   },
   "outputs": [],
   "source": [
    "import imageio as iio\n",
    "import scipy.ndimage as ndi\n",
    "import numpy as np\n",
    "import matplotlib.pyplot as plt\n",
    "\n",
    "dicom_AH_MR_path = '/data/gpfs/projects/punim1836/Data/raw/CT_MRI_Pre_Post/GP MR'\n",
    "head_vol = iio.volread(dicom_AH_MR_path, 'DICOM')\n",
    "\n",
    "head_vol.shape\n",
    "\n",
    "# [[[539.  410.5  44. ]\n",
    "#   [534.5 426.   42. ]\n",
    "#   [241.  421.   50. ]\n",
    "#   [248.  436.   47. ]]\n",
    "\n",
    "plt.imshow(head_vol[44], cmap='grey')\n",
    "plt.axis('off')\n",
    "plt.show()"
   ]
  },
  {
   "cell_type": "code",
   "execution_count": null,
   "id": "0d0a298a-0597-45d8-a9eb-e3452151bfe8",
   "metadata": {},
   "outputs": [],
   "source": [
    "sampling = head_vol.meta['sampling']\n",
    "pixel_space = [sampling[1], sampling[2], sampling[0]]\n",
    "print(pixel_space)"
   ]
  },
  {
   "cell_type": "code",
   "execution_count": null,
   "id": "4ea60e38-3122-45cd-85ef-185c489c1956",
   "metadata": {
    "jupyter": {
     "source_hidden": true
    }
   },
   "outputs": [],
   "source": [
    "head_vol_array = np.moveaxis(np.asarray(head_vol), 0 ,2)"
   ]
  },
  {
   "cell_type": "code",
   "execution_count": null,
   "id": "8c773e52-b653-4866-a37c-b8ba061a7e0b",
   "metadata": {},
   "outputs": [],
   "source": [
    "base_save_dir = \"../data/processed/Y\"\n",
    "\n",
    "roi_MR_medium = np.load(f\"{base_save_dir}/ROI_MR_Medium.npy\")"
   ]
  },
  {
   "cell_type": "code",
   "execution_count": null,
   "id": "619e66cb-14f2-44db-8c5b-a49af16a0e5a",
   "metadata": {
    "scrolled": true
   },
   "outputs": [],
   "source": [
    "import numpy as np\n",
    "import importlib\n",
    "import common.MyDataset as MyDataset\n",
    "import common.Visualization as Visualization\n",
    "\n",
    "importlib.reload(Visualization)\n",
    "\n",
    "print(\"roi: \", roi_MR_medium[0])\n",
    "\n",
    "Visualization.show_pts(head_vol_array, roi_MR_medium[0], pixel_space)"
   ]
  },
  {
   "cell_type": "markdown",
   "id": "da7d562a-0db1-4d31-ac8d-856d993b50fc",
   "metadata": {},
   "source": [
    "## original MRI"
   ]
  },
  {
   "cell_type": "code",
   "execution_count": null,
   "id": "5519a296-d1ec-4679-9bb4-320d87690766",
   "metadata": {},
   "outputs": [],
   "source": [
    "import h5py\n",
    "import numpy as np\n",
    "\n",
    "file_path = \"/data/gpfs/projects/punim1836/Data/raw/aug/original_divided_augmentation\"\n",
    "file = h5py.File(f\"{file_path}/SM_aug_1.mat\", 'r')\n",
    "\n",
    "load_mat_vol = file.get(\"augVol\")\n",
    "load_mat_pts = file.get(\"augPts\")\n",
    "\n",
    "volume = np.array(load_mat_vol).T\n",
    "pts = np.array(load_mat_pts).reshape(3, 4).T"
   ]
  },
  {
   "cell_type": "code",
   "execution_count": null,
   "id": "f27729cb-45ab-414b-b762-72385a6054b5",
   "metadata": {},
   "outputs": [],
   "source": [
    "import importlib\n",
    "import common.MyDataset as MyDataset\n",
    "import common.Visualization as Visualization\n",
    "\n",
    "importlib.reload(Visualization)\n",
    "\n",
    "pixel_space = [0.2604, 0.2604, 0.2604]\n",
    "print(\"roi: \", pts)\n",
    "\n",
    "Visualization.show_pts(volume, pts, pixel_space)"
   ]
  },
  {
   "cell_type": "markdown",
   "id": "0062cd13-29fe-4a45-9345-738c7cf1e6a8",
   "metadata": {},
   "source": [
    "## augmented MRI"
   ]
  },
  {
   "cell_type": "code",
   "execution_count": null,
   "id": "249a6726-8f2f-4f6a-94da-56f69c7549a7",
   "metadata": {},
   "outputs": [],
   "source": [
    "import h5py\n",
    "import numpy as np\n",
    "\n",
    "file_path = \"/data/gpfs/projects/punim1836/Data/raw/aug/reduce_size/176x88x48\"\n",
    "file = h5py.File(f\"{file_path}/SM_176x88x48_3.mat\", 'r')\n",
    "\n",
    "load_mat_vol_left = file.get(\"augLeftVolRescaled\")\n",
    "load_mat_pts_left = file.get(\"augLeftPtsRescaled\")\n",
    "load_mat_res_left = file.get(\"leftRes\")\n",
    "\n",
    "volume_left = np.array(load_mat_vol_left).T\n",
    "pts_left = np.array(load_mat_pts_left).reshape(3, 2).T\n",
    "res_left = np.array(load_mat_res_left).T\n",
    "\n",
    "load_mat_vol_right = file.get(\"augRightVolRescaled\")\n",
    "load_mat_pts_right = file.get(\"augRightPtsRescaled\")\n",
    "load_mat_res_right = file.get(\"rightRes\")\n",
    "\n",
    "volume_right = np.array(load_mat_vol_right).T\n",
    "pts_right = np.array(load_mat_pts_right).reshape(3, 2).T\n",
    "res_right = np.array(load_mat_res_right).T"
   ]
  },
  {
   "cell_type": "code",
   "execution_count": null,
   "id": "97d26374-4ed2-411d-8433-bfee276c5862",
   "metadata": {},
   "outputs": [],
   "source": [
    "print(pts_left)\n",
    "print(pts_right)"
   ]
  },
  {
   "cell_type": "code",
   "execution_count": null,
   "id": "0567544b-2b92-42a2-b654-6189e2dcc1b9",
   "metadata": {},
   "outputs": [],
   "source": [
    "import importlib\n",
    "import common.MyDataset as MyDataset\n",
    "import common.Visualization as Visualization\n",
    "\n",
    "importlib.reload(Visualization)\n",
    "\n",
    "pixel_space = res_left[0]\n",
    "\n",
    "Visualization.show_two_landmarks(volume_left, pts_left, volume_right, pts_right, pixel_space)"
   ]
  },
  {
   "cell_type": "code",
   "execution_count": null,
   "id": "998d3c3c-9f76-4c5f-9ed4-160415cf5f93",
   "metadata": {},
   "outputs": [],
   "source": [
    "print(res_left.shape)\n",
    "print(res_left)"
   ]
  },
  {
   "cell_type": "markdown",
   "id": "1b3ab810-bddb-4c67-ac4a-d9199d5e7302",
   "metadata": {},
   "source": [
    "# Pre-Process MRI"
   ]
  },
  {
   "cell_type": "markdown",
   "id": "41cf67d9-7f96-4fb5-9338-e0de286d57f5",
   "metadata": {},
   "source": [
    "## rescale and divide? (Down)\n",
    "\n",
    "Just used the original augmentation code of CT."
   ]
  },
  {
   "cell_type": "markdown",
   "id": "9819c7cf-1d97-4cd6-8f15-0cd3b492e1ce",
   "metadata": {},
   "source": [
    "# Prepare Registration"
   ]
  },
  {
   "cell_type": "markdown",
   "id": "7facd44c-25f5-4749-8aa6-15d5e114feb1",
   "metadata": {},
   "source": [
    "## combine divided images (CT and MRI)"
   ]
  },
  {
   "cell_type": "code",
   "execution_count": 3,
   "id": "f804a542-abe6-4996-a5c9-7d7d684373d2",
   "metadata": {},
   "outputs": [
    {
     "name": "stdout",
     "output_type": "stream",
     "text": [
      "[[[-0.17109299  1.159277   -0.17753983]\n",
      "  [ 1.3277473  -2.6857376   0.27730942]]\n",
      "\n",
      " [[-0.16573906  1.7073612  -1.0718613 ]\n",
      "  [ 0.6180935  -1.1416245   0.5216465 ]]]\n",
      "***\n",
      "[[[-0.17109299  1.159277   -0.17753983]\n",
      "  [ 1.3277473  -2.6857376   0.27730942]\n",
      "  [ 0.16573906  1.7073612  -1.0718613 ]\n",
      "  [-0.6180935  -1.1416245   0.5216465 ]]]\n"
     ]
    }
   ],
   "source": [
    "import numpy as np\n",
    "# diff of Ground Truth and Prediction (Test dataset)\n",
    "base_dir = \"/data/gpfs/projects/punim1836/CT-MRI_LandmarkDetection/models/cropped/63x50x61/noises_s1_test_dis/two_landmarks/straight_model/turner-results/training-process/09Jul2024-12:12:48-trainID-33.3\"\n",
    "Y_test_true = np.load(f\"{base_dir}/Y_test_true.npy\")\n",
    "Y_test_pred = np.load(f\"{base_dir}/best_val_Y_test_pred.npy\")\n",
    "\n",
    "diff_CT_cropped = Y_test_true - Y_test_pred\n",
    "\n",
    "# voxel distance, resolution is [0.2604, 0.2604, 0.2604]\n",
    "diff_CT = np.copy(diff_CT_cropped)\n",
    "for idx in range(200):\n",
    "    diff_CT[2*idx+1, :, 0] = - diff_CT[2*idx+1, :, 0]\n",
    "\n",
    "# reshape\n",
    "diff_CT = np.reshape(diff_CT, (200, 4, 3))\n",
    "\n",
    "print(diff_CT_cropped[0:2])\n",
    "print(\"***\")\n",
    "print(diff_CT[0:1])"
   ]
  },
  {
   "cell_type": "code",
   "execution_count": 6,
   "id": "129a1c15-d7ea-4adf-9bcb-e39e65afa222",
   "metadata": {
    "scrolled": true
   },
   "outputs": [
    {
     "name": "stdout",
     "output_type": "stream",
     "text": [
      "[[[-0.00392151 -0.43639755  0.31114578]\n",
      "  [-0.32333374 -1.9399071   0.55685043]]\n",
      "\n",
      " [[ 0.582592   -0.13200569  0.61296844]\n",
      "  [-0.541008   -2.949215    1.6897984 ]]]\n",
      "***\n",
      "[[[-0.00392151 -0.43639755  0.31114578]\n",
      "  [-0.32333374 -1.9399071   0.55685043]\n",
      "  [-0.582592   -0.13200569  0.61296844]\n",
      "  [ 0.541008   -2.949215    1.6897984 ]]]\n"
     ]
    }
   ],
   "source": [
    "import numpy as np\n",
    "# diff of Ground Truth and Prediction (Test dataset)\n",
    "base_dir = \"/data/gpfs/projects/punim1836/CT-MRI_LandmarkDetection/models_MR/cropped_MR/72x72x72/noises_s1_test_dis/two_landmarks/straight_model/learning_rate/0.0001/16Sep2024-11:46:21-trainID-7.1\"\n",
    "Y_test_true = np.load(f\"{base_dir}/Y_test_true.npy\")\n",
    "Y_test_pred = np.load(f\"{base_dir}/best_val_Y_test_pred.npy\")\n",
    "\n",
    "diff_MR_cropped = Y_test_true - Y_test_pred\n",
    "\n",
    "# voxel distance, resolution is [0.2604, 0.2604, 0.2604]\n",
    "diff_MR = np.copy(diff_MR_cropped)\n",
    "for idx in range(200):\n",
    "    diff_MR[2*idx+1, :, 0] = - diff_MR[2*idx+1, :, 0]\n",
    "\n",
    "# reshape\n",
    "diff_MR = np.reshape(diff_MR, (200, 4, 3))\n",
    "\n",
    "print(diff_MR_cropped[0:2])\n",
    "print(\"***\")\n",
    "print(diff_MR[0:1])"
   ]
  },
  {
   "cell_type": "code",
   "execution_count": 7,
   "id": "dcbf1193-56c1-4bd0-9fd5-cc50401efe08",
   "metadata": {},
   "outputs": [],
   "source": [
    "from scipy.io import savemat\n",
    "\n",
    "mdic_MR = {\"diff_MR\": diff_MR}\n",
    "savemat(\"/data/gpfs/projects/punim1836/CT-MRI_Registration/src/matlab/for_Shawn/Data/MR/org/diff_MR.mat\", mdic_MR)\n",
    "\n",
    "mdic_CT = {\"diff_CT\": diff_CT}\n",
    "savemat(\"/data/gpfs/projects/punim1836/CT-MRI_Registration/src/matlab/for_Shawn/Data/CT/org/diff_CT.mat\", mdic_CT)"
   ]
  },
  {
   "cell_type": "code",
   "execution_count": null,
   "id": "a47a70e5-fc8d-45ae-8958-546acf25b903",
   "metadata": {},
   "outputs": [],
   "source": []
  }
 ],
 "metadata": {
  "kernelspec": {
   "display_name": "Python 3 (ipykernel)",
   "language": "python",
   "name": "python3"
  },
  "language_info": {
   "codemirror_mode": {
    "name": "ipython",
    "version": 3
   },
   "file_extension": ".py",
   "mimetype": "text/x-python",
   "name": "python",
   "nbconvert_exporter": "python",
   "pygments_lexer": "ipython3",
   "version": "3.12.3"
  }
 },
 "nbformat": 4,
 "nbformat_minor": 5
}
