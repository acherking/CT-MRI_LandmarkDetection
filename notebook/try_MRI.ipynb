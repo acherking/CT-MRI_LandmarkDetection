{
 "cells": [
  {
   "cell_type": "markdown",
   "id": "5af2a4bd-db93-4e86-b704-d8f651d8f72a",
   "metadata": {},
   "source": [
    "# Review MRI"
   ]
  },
  {
   "cell_type": "code",
   "execution_count": null,
   "id": "4a5c45cd-b52a-4738-9c4b-39de60fe0944",
   "metadata": {},
   "outputs": [],
   "source": [
    "# import visualization functions\n",
    "import os\n",
    "import sys\n",
    "module_path = os.path.abspath(os.path.join('..'))\n",
    "\n",
    "if module_path not in sys.path:\n",
    "    sys.path.append(module_path)"
   ]
  },
  {
   "cell_type": "code",
   "execution_count": null,
   "id": "0e12a4e4-faf0-4d92-b1ab-62e2965b8572",
   "metadata": {},
   "outputs": [],
   "source": [
    "sys.path.append(\"/data/gpfs/projects/punim1836/CT-MRI_LandmarkDetection/src/models\")\n",
    "sys.path"
   ]
  },
  {
   "cell_type": "code",
   "execution_count": null,
   "id": "c304fee2-101c-429f-8eaa-5a23d5b66368",
   "metadata": {
    "scrolled": true
   },
   "outputs": [],
   "source": [
    "import imageio as iio\n",
    "import scipy.ndimage as ndi\n",
    "import numpy as np\n",
    "import matplotlib.pyplot as plt\n",
    "\n",
    "dicom_AH_MR_path = '/data/gpfs/projects/punim1836/Data/raw/CT_MRI_Pre_Post/AH MR'\n",
    "head_vol = iio.volread(dicom_AH_MR_path, 'DICOM')\n",
    "\n",
    "head_vol.shape\n",
    "\n",
    "# [[[539.  410.5  44. ]\n",
    "#   [534.5 426.   42. ]\n",
    "#   [241.  421.   50. ]\n",
    "#   [248.  436.   47. ]]\n",
    "\n",
    "plt.imshow(head_vol[44], cmap='grey')\n",
    "plt.axis('off')\n",
    "plt.show()"
   ]
  },
  {
   "cell_type": "code",
   "execution_count": null,
   "id": "0d0a298a-0597-45d8-a9eb-e3452151bfe8",
   "metadata": {},
   "outputs": [],
   "source": [
    "sampling = head_vol.meta['sampling']\n",
    "pixel_space = [sampling[1], sampling[2], sampling[0]]"
   ]
  },
  {
   "cell_type": "code",
   "execution_count": null,
   "id": "4ea60e38-3122-45cd-85ef-185c489c1956",
   "metadata": {},
   "outputs": [],
   "source": [
    "head_vol_array = np.moveaxis(np.asarray(head_vol), 0 ,2)"
   ]
  },
  {
   "cell_type": "code",
   "execution_count": null,
   "id": "8c773e52-b653-4866-a37c-b8ba061a7e0b",
   "metadata": {},
   "outputs": [],
   "source": [
    "base_save_dir = \"../data/processed/Y\"\n",
    "\n",
    "roi_MR_medium = np.load(f\"{base_save_dir}/ROI_MR_Medium.npy\")"
   ]
  },
  {
   "cell_type": "code",
   "execution_count": null,
   "id": "619e66cb-14f2-44db-8c5b-a49af16a0e5a",
   "metadata": {
    "scrolled": true
   },
   "outputs": [],
   "source": [
    "import numpy as np\n",
    "import importlib\n",
    "import common.MyDataset as MyDataset\n",
    "import common.Visualization as Visualization\n",
    "\n",
    "importlib.reload(Visualization)\n",
    "\n",
    "print(\"roi: \", roi_MR_medium[0])\n",
    "\n",
    "Visualization.show_pts(head_vol_array, roi_MR_medium[0], pixel_space)"
   ]
  },
  {
   "cell_type": "markdown",
   "id": "da7d562a-0db1-4d31-ac8d-856d993b50fc",
   "metadata": {},
   "source": [
    "## original MRI"
   ]
  },
  {
   "cell_type": "code",
   "execution_count": null,
   "id": "5519a296-d1ec-4679-9bb4-320d87690766",
   "metadata": {},
   "outputs": [],
   "source": [
    "import h5py\n",
    "import numpy as np\n",
    "\n",
    "file_path = \"/data/gpfs/projects/punim1836/Data/raw/aug/original_divided_augmentation\"\n",
    "file = h5py.File(f\"{file_path}/AH_aug_3.mat\", 'r')\n",
    "\n",
    "load_mat_vol = file.get(\"augVol\")\n",
    "load_mat_pts = file.get(\"augPts\")\n",
    "\n",
    "volume = np.array(load_mat_vol).T\n",
    "pts = np.array(load_mat_pts).reshape(3, 4).T"
   ]
  },
  {
   "cell_type": "code",
   "execution_count": null,
   "id": "f27729cb-45ab-414b-b762-72385a6054b5",
   "metadata": {},
   "outputs": [],
   "source": [
    "import importlib\n",
    "import common.MyDataset as MyDataset\n",
    "import common.Visualization as Visualization\n",
    "\n",
    "importlib.reload(Visualization)\n",
    "\n",
    "pixel_space = [0.26, 0.26, 0.3]\n",
    "print(\"roi: \", pts)\n",
    "\n",
    "Visualization.show_pts(volume, pts, pixel_space)"
   ]
  },
  {
   "cell_type": "markdown",
   "id": "0062cd13-29fe-4a45-9345-738c7cf1e6a8",
   "metadata": {},
   "source": [
    "## augmented MRI"
   ]
  },
  {
   "cell_type": "code",
   "execution_count": null,
   "id": "249a6726-8f2f-4f6a-94da-56f69c7549a7",
   "metadata": {},
   "outputs": [],
   "source": [
    "import h5py\n",
    "import numpy as np\n",
    "\n",
    "file_path = \"/data/gpfs/projects/punim1836/Data/raw/aug/reduce_size/176x88x48\"\n",
    "file = h5py.File(f\"{file_path}/AH_176x88x48_3.mat\", 'r')\n",
    "\n",
    "load_mat_vol_left = file.get(\"augLeftVolRescaled\")\n",
    "load_mat_pts_left = file.get(\"augLeftPtsRescaled\")\n",
    "load_mat_res_left = file.get(\"leftRes\")\n",
    "\n",
    "volume_left = np.array(load_mat_vol_left).T\n",
    "pts_left = np.array(load_mat_pts_left).reshape(3, 2).T\n",
    "res_left = np.array(load_mat_res_left).T\n",
    "\n",
    "load_mat_vol_right = file.get(\"augRightVolRescaled\")\n",
    "load_mat_pts_right = file.get(\"augRightPtsRescaled\")\n",
    "load_mat_res_right = file.get(\"rightRes\")\n",
    "\n",
    "volume_right = np.array(load_mat_vol_right).T\n",
    "pts_right = np.array(load_mat_pts_right).reshape(3, 2).T\n",
    "res_right = np.array(load_mat_res_right).T"
   ]
  },
  {
   "cell_type": "code",
   "execution_count": null,
   "id": "97d26374-4ed2-411d-8433-bfee276c5862",
   "metadata": {},
   "outputs": [],
   "source": [
    "print(pts_left)\n",
    "print(pts_right)"
   ]
  },
  {
   "cell_type": "code",
   "execution_count": null,
   "id": "0567544b-2b92-42a2-b654-6189e2dcc1b9",
   "metadata": {},
   "outputs": [],
   "source": [
    "import importlib\n",
    "import common.MyDataset as MyDataset\n",
    "import common.Visualization as Visualization\n",
    "\n",
    "importlib.reload(Visualization)\n",
    "\n",
    "pixel_space = res_left[0]\n",
    "\n",
    "Visualization.show_two_landmarks(volume_left, pts_left, volume_right, pts_right, pixel_space)"
   ]
  },
  {
   "cell_type": "code",
   "execution_count": null,
   "id": "998d3c3c-9f76-4c5f-9ed4-160415cf5f93",
   "metadata": {},
   "outputs": [],
   "source": [
    "print(res_left.shape)\n",
    "print(res_left)"
   ]
  },
  {
   "cell_type": "markdown",
   "id": "1b3ab810-bddb-4c67-ac4a-d9199d5e7302",
   "metadata": {},
   "source": [
    "# Pre-Process MRI"
   ]
  },
  {
   "cell_type": "markdown",
   "id": "41cf67d9-7f96-4fb5-9338-e0de286d57f5",
   "metadata": {},
   "source": [
    "## rescale and divide?"
   ]
  },
  {
   "cell_type": "markdown",
   "id": "9819c7cf-1d97-4cd6-8f15-0cd3b492e1ce",
   "metadata": {},
   "source": [
    "# Prepare Registration"
   ]
  },
  {
   "cell_type": "markdown",
   "id": "7facd44c-25f5-4749-8aa6-15d5e114feb1",
   "metadata": {},
   "source": [
    "## combine divided images (CT and MRI)"
   ]
  },
  {
   "cell_type": "markdown",
   "id": "1d34b164-4625-437d-9d6a-f74fb00712cc",
   "metadata": {},
   "source": [
    "## predict the landmarks and transfer to pair with full images (CT and MRI)"
   ]
  },
  {
   "cell_type": "code",
   "execution_count": null,
   "id": "dcbf1193-56c1-4bd0-9fd5-cc50401efe08",
   "metadata": {},
   "outputs": [],
   "source": []
  }
 ],
 "metadata": {
  "kernelspec": {
   "display_name": "Python 3 (ipykernel)",
   "language": "python",
   "name": "python3"
  },
  "language_info": {
   "codemirror_mode": {
    "name": "ipython",
    "version": 3
   },
   "file_extension": ".py",
   "mimetype": "text/x-python",
   "name": "python",
   "nbconvert_exporter": "python",
   "pygments_lexer": "ipython3",
   "version": "3.12.3"
  }
 },
 "nbformat": 4,
 "nbformat_minor": 5
}
